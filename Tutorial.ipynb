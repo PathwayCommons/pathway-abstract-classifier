{
  "cells": [
    {
      "cell_type": "code",
      "execution_count": null,
      "id": "f1c07719",
      "metadata": {
        "_cell_guid": "b1076dfc-b9ad-4769-8c92-a6c4dae69d19",
        "_uuid": "8f2839f25d086af736a60e9eeb907d3b93b6e0e5",
        "execution": {
          "iopub.execute_input": "2022-04-19T18:33:39.143510Z",
          "iopub.status.busy": "2022-04-19T18:33:39.142867Z",
          "iopub.status.idle": "2022-04-19T18:33:39.156182Z",
          "shell.execute_reply": "2022-04-19T18:33:39.156624Z",
          "shell.execute_reply.started": "2022-04-19T18:00:10.944304Z"
        },
        "papermill": {
          "duration": 0.038249,
          "end_time": "2022-04-19T18:33:39.156837",
          "exception": false,
          "start_time": "2022-04-19T18:33:39.118588",
          "status": "completed"
        },
        "tags": [],
        "id": "f1c07719",
        "outputId": "4ade7a8e-4b3a-48e9-a003-a51f621934ad"
      },
      "outputs": [
        {
          "name": "stdout",
          "output_type": "stream",
          "text": [
            "/kaggle/input/bf-model-dev-copy/config.json\n",
            "/kaggle/input/bf-model-dev-copy/tokenizer.json\n",
            "/kaggle/input/bf-model-dev-copy/tf_model.h5\n",
            "/kaggle/input/bf-model-dev-copy/tokenizer_config.json\n",
            "/kaggle/input/bf-model-dev-copy/tf_model.preproc\n",
            "/kaggle/input/bf-model-dev-copy/special_tokens_map.json\n",
            "/kaggle/input/bf-model-dev-copy/vocab.txt\n",
            "/kaggle/input/test-val/test_data.tsv\n",
            "/kaggle/input/test-val/val_data.tsv\n"
          ]
        }
      ],
      "source": [
        "# This Python 3 environment comes with many helpful analytics libraries installed\n",
        "# It is defined by the kaggle/python Docker image: https://github.com/kaggle/docker-python\n",
        "# For example, here's several helpful packages to load\n",
        "\n",
        "import numpy as np # linear algebra\n",
        "import pandas as pd # data processing, CSV file I/O (e.g. pd.read_csv)\n",
        "\n",
        "# Input data files are available in the read-only \"../input/\" directory\n",
        "# For example, running this (by clicking run or pressing Shift+Enter) will list all files under the input directory\n",
        "\n",
        "import os\n",
        "for dirname, _, filenames in os.walk('/kaggle/input'):\n",
        "    for filename in filenames:\n",
        "        print(os.path.join(dirname, filename))\n",
        "\n",
        "# You can write up to 20GB to the current directory (/kaggle/working/) that gets preserved as output when you create a version using \"Save & Run All\" \n",
        "# You can also write temporary files to /kaggle/temp/, but they won't be saved outside of the current session"
      ]
    },
    {
      "cell_type": "markdown",
      "id": "4e2cc07a",
      "metadata": {
        "papermill": {
          "duration": 0.012293,
          "end_time": "2022-04-19T18:33:39.183711",
          "exception": false,
          "start_time": "2022-04-19T18:33:39.171418",
          "status": "completed"
        },
        "tags": [],
        "id": "4e2cc07a"
      },
      "source": [
        "<h1> Using PubMed Article Classifier - Tutorial </h1>"
      ]
    },
    {
      "cell_type": "code",
      "execution_count": null,
      "id": "8781f9db",
      "metadata": {
        "execution": {
          "iopub.execute_input": "2022-04-19T18:33:39.212671Z",
          "iopub.status.busy": "2022-04-19T18:33:39.211977Z",
          "iopub.status.idle": "2022-04-19T18:34:32.231073Z",
          "shell.execute_reply": "2022-04-19T18:34:32.230272Z",
          "shell.execute_reply.started": "2022-04-19T18:00:10.984993Z"
        },
        "papermill": {
          "duration": 53.035103,
          "end_time": "2022-04-19T18:34:32.231243",
          "exception": false,
          "start_time": "2022-04-19T18:33:39.196140",
          "status": "completed"
        },
        "tags": [],
        "id": "8781f9db",
        "outputId": "519f1fa0-502a-41ff-aa60-68d1dc37d07a"
      },
      "outputs": [
        {
          "name": "stdout",
          "output_type": "stream",
          "text": [
            "\u001b[31mERROR: pip's dependency resolver does not currently take into account all the packages that are installed. This behaviour is the source of the following dependency conflicts.\r\n",
            "yellowbrick 1.4 requires scikit-learn>=1.0.0, but you have scikit-learn 0.24.2 which is incompatible.\r\n",
            "pdpbox 0.2.1 requires matplotlib==3.1.1, but you have matplotlib 3.5.1 which is incompatible.\r\n",
            "imbalanced-learn 0.9.0 requires scikit-learn>=1.0.1, but you have scikit-learn 0.24.2 which is incompatible.\r\n",
            "featuretools 1.6.0 requires numpy>=1.21.0, but you have numpy 1.20.3 which is incompatible.\u001b[0m\r\n",
            "\u001b[33mWARNING: Running pip as the 'root' user can result in broken permissions and conflicting behaviour with the system package manager. It is recommended to use a virtual environment instead: https://pip.pypa.io/warnings/venv\u001b[0m\r\n",
            "\u001b[33mWARNING: Running pip as the 'root' user can result in broken permissions and conflicting behaviour with the system package manager. It is recommended to use a virtual environment instead: https://pip.pypa.io/warnings/venv\u001b[0m\r\n"
          ]
        }
      ],
      "source": [
        "!pip install -q ktrain\n",
        "!pip install -q cached-path"
      ]
    },
    {
      "cell_type": "markdown",
      "id": "c0ad5e77",
      "metadata": {
        "papermill": {
          "duration": 0.014972,
          "end_time": "2022-04-19T18:34:32.262236",
          "exception": false,
          "start_time": "2022-04-19T18:34:32.247264",
          "status": "completed"
        },
        "tags": [],
        "id": "c0ad5e77"
      },
      "source": [
        "<h3> Below we import necessary libraries, turn on AMP (optional) and show two ways to load our model </h3>"
      ]
    },
    {
      "cell_type": "code",
      "execution_count": null,
      "id": "e8ac548a",
      "metadata": {
        "execution": {
          "iopub.execute_input": "2022-04-19T18:34:32.295249Z",
          "iopub.status.busy": "2022-04-19T18:34:32.294420Z",
          "iopub.status.idle": "2022-04-19T18:36:42.050097Z",
          "shell.execute_reply": "2022-04-19T18:36:42.050587Z",
          "shell.execute_reply.started": "2022-04-19T18:01:00.142256Z"
        },
        "papermill": {
          "duration": 129.775642,
          "end_time": "2022-04-19T18:36:42.050769",
          "exception": false,
          "start_time": "2022-04-19T18:34:32.275127",
          "status": "completed"
        },
        "tags": [],
        "id": "e8ac548a",
        "outputId": "3c5119d6-1398-4b10-ee20-95697481134a",
        "colab": {
          "referenced_widgets": [
            "63547e731045466c83fd941d8411c562"
          ]
        }
      },
      "outputs": [
        {
          "data": {
            "application/vnd.jupyter.widget-view+json": {
              "model_id": "63547e731045466c83fd941d8411c562",
              "version_major": 2,
              "version_minor": 0
            },
            "text/plain": [
              "downloading:   0%|          | 0.00/389M [00:00<?, ?iB/s]"
            ]
          },
          "metadata": {},
          "output_type": "display_data"
        }
      ],
      "source": [
        "import tensorflow as tf\n",
        "import ktrain \n",
        "from cached_path import cached_path\n",
        "\n",
        "\n",
        "# Activate AMP - This is optional and may improve performance\n",
        "from tensorflow.keras.mixed_precision import experimental as mixed_precision\n",
        "policy = mixed_precision.Policy('mixed_float16')\n",
        "mixed_precision.set_policy(policy)\n",
        "\n",
        "# Load model (method 1 - from local directory)\n",
        "#predictor=ktrain.load_predictor('../input/bf-model-dev-copy')\n",
        "\n",
        "# Load model (method 2 - from github release)\n",
        "model_path = cached_path(\"https://github.com/PathwayCommons/pathway-abstract-classifier/releases/download/pretrained-models/title_abstract_model.zip\", extract_archive=True)\n",
        "predictor = ktrain.load_predictor(model_path)"
      ]
    },
    {
      "cell_type": "markdown",
      "id": "bc55499c",
      "metadata": {
        "papermill": {
          "duration": 0.013285,
          "end_time": "2022-04-19T18:36:42.078043",
          "exception": false,
          "start_time": "2022-04-19T18:36:42.064758",
          "status": "completed"
        },
        "tags": [],
        "id": "bc55499c"
      },
      "source": [
        "<h3> Here we read in our validation data, then pre-process our input data and make predictions (showing two different ways to do this). Finally, we pre-process our existing labels to be able to calculate perfomrance metrics </h3>"
      ]
    },
    {
      "cell_type": "code",
      "execution_count": null,
      "id": "1918321c",
      "metadata": {
        "execution": {
          "iopub.execute_input": "2022-04-19T18:36:42.113188Z",
          "iopub.status.busy": "2022-04-19T18:36:42.112530Z",
          "iopub.status.idle": "2022-04-19T18:37:32.618319Z",
          "shell.execute_reply": "2022-04-19T18:37:32.618926Z",
          "shell.execute_reply.started": "2022-04-19T18:03:18.943346Z"
        },
        "papermill": {
          "duration": 50.527638,
          "end_time": "2022-04-19T18:37:32.619132",
          "exception": false,
          "start_time": "2022-04-19T18:36:42.091494",
          "status": "completed"
        },
        "tags": [],
        "id": "1918321c"
      },
      "outputs": [],
      "source": [
        "# Read in validation data\n",
        "df=pd.read_csv('../input/test-val/val_data.tsv', delimiter=\"\\t\")\n",
        "\n",
        "#pre-process input data and make predictions (method 1 - using lists)\n",
        "titles=df['title'].tolist()\n",
        "abstracts=df['abstract'].tolist()\n",
        "sep_token = predictor.preproc.get_tokenizer().sep_token\n",
        "texts = [\" \".join([title, sep_token, abstract]) for title, abstract in zip(titles, abstracts)] \n",
        "# Make predictions, checking how long they take to make (note- there are 1042 examples here this is using a (likely NVIDIA P100) GPU)\n",
        "%time predictions=predictor.predict((texts))\n",
        "\n",
        "#pre-process input data and make predictions (method 2 - using dataframes, hard coded SEP token)\n",
        "#texts=(df['title'].str.strip() + ' [SEP] ' + df['abstract'].str.strip()).to_numpy()\n",
        "#predictions2=predictor.predict((texts))\n",
        "\n",
        "# pre process existing labels \n",
        "df['class']=df['class'].astype('bool')\n",
        "y_val=df['class'].to_numpy()"
      ]
    },
    {
      "cell_type": "markdown",
      "id": "14bbc95d",
      "metadata": {
        "papermill": {
          "duration": 0.015171,
          "end_time": "2022-04-19T18:37:32.649613",
          "exception": false,
          "start_time": "2022-04-19T18:37:32.634442",
          "status": "completed"
        },
        "tags": [],
        "id": "14bbc95d"
      },
      "source": [
        "<h3> Checking performance now </h3>"
      ]
    },
    {
      "cell_type": "code",
      "execution_count": null,
      "id": "7aa222a1",
      "metadata": {
        "execution": {
          "iopub.execute_input": "2022-04-19T18:37:32.682789Z",
          "iopub.status.busy": "2022-04-19T18:37:32.681943Z",
          "iopub.status.idle": "2022-04-19T18:37:32.704675Z",
          "shell.execute_reply": "2022-04-19T18:37:32.704198Z",
          "shell.execute_reply.started": "2022-04-19T18:06:29.666948Z"
        },
        "papermill": {
          "duration": 0.040272,
          "end_time": "2022-04-19T18:37:32.704797",
          "exception": false,
          "start_time": "2022-04-19T18:37:32.664525",
          "status": "completed"
        },
        "tags": [],
        "id": "7aa222a1",
        "outputId": "f8fbddcd-e84c-45eb-e1dc-9ecf3605e07e"
      },
      "outputs": [
        {
          "name": "stdout",
          "output_type": "stream",
          "text": [
            "[[797  45]\n",
            " [ 47 153]]\n",
            "              precision    recall  f1-score   support\n",
            "\n",
            "       False       0.94      0.95      0.95       842\n",
            "        True       0.77      0.77      0.77       200\n",
            "\n",
            "    accuracy                           0.91      1042\n",
            "   macro avg       0.86      0.86      0.86      1042\n",
            "weighted avg       0.91      0.91      0.91      1042\n",
            "\n",
            "0.7142926808037249\n"
          ]
        }
      ],
      "source": [
        "# Check performance on validation set\n",
        "from sklearn.metrics import accuracy_score\n",
        "from sklearn.metrics import classification_report\n",
        "from sklearn.metrics import matthews_corrcoef\n",
        "from sklearn.metrics import confusion_matrix\n",
        "\n",
        "print(confusion_matrix((y_val),predictions))\n",
        "print(classification_report((y_val), predictions))\n",
        "print(matthews_corrcoef((y_val), predictions))"
      ]
    },
    {
      "cell_type": "markdown",
      "id": "6a9840cb",
      "metadata": {
        "papermill": {
          "duration": 0.015137,
          "end_time": "2022-04-19T18:37:32.735337",
          "exception": false,
          "start_time": "2022-04-19T18:37:32.720200",
          "status": "completed"
        },
        "tags": [],
        "id": "6a9840cb"
      },
      "source": [
        "<h3> Let's try altering confidence threshold now (this will make our classifier more conservative) </h3>"
      ]
    },
    {
      "cell_type": "code",
      "execution_count": null,
      "id": "ec9d9d2c",
      "metadata": {
        "execution": {
          "iopub.execute_input": "2022-04-19T18:37:32.773822Z",
          "iopub.status.busy": "2022-04-19T18:37:32.772988Z",
          "iopub.status.idle": "2022-04-19T18:37:56.676974Z",
          "shell.execute_reply": "2022-04-19T18:37:56.677404Z",
          "shell.execute_reply.started": "2022-04-19T18:06:33.620454Z"
        },
        "papermill": {
          "duration": 23.926811,
          "end_time": "2022-04-19T18:37:56.677586",
          "exception": false,
          "start_time": "2022-04-19T18:37:32.750775",
          "status": "completed"
        },
        "tags": [],
        "id": "ec9d9d2c",
        "outputId": "d6028e9a-4482-4ef9-f8e0-913baf91d219"
      },
      "outputs": [
        {
          "name": "stdout",
          "output_type": "stream",
          "text": [
            "[[838   4]\n",
            " [121  79]]\n",
            "              precision    recall  f1-score   support\n",
            "\n",
            "       False       0.87      1.00      0.93       842\n",
            "        True       0.95      0.40      0.56       200\n",
            "\n",
            "    accuracy                           0.88      1042\n",
            "   macro avg       0.91      0.70      0.74      1042\n",
            "weighted avg       0.89      0.88      0.86      1042\n",
            "\n",
            "0.5676294827683775\n"
          ]
        }
      ],
      "source": [
        "# Default threshold is 0.5. I've found you need to go over 0.9 to start really seeing an effect\n",
        "threshold=0.994\n",
        "conf_predictions=(predictor.predict_proba(texts)[:,1] >= threshold).astype(bool)\n",
        "\n",
        "print(confusion_matrix((y_val),conf_predictions))\n",
        "print(classification_report((y_val), conf_predictions))\n",
        "print(matthews_corrcoef((y_val), conf_predictions))"
      ]
    },
    {
      "cell_type": "markdown",
      "id": "1f3d7866",
      "metadata": {
        "papermill": {
          "duration": 0.014828,
          "end_time": "2022-04-19T18:37:56.707253",
          "exception": false,
          "start_time": "2022-04-19T18:37:56.692425",
          "status": "completed"
        },
        "tags": [],
        "id": "1f3d7866"
      },
      "source": [
        "<h3> Now let's try a single example (with an explanation) </h3>"
      ]
    },
    {
      "cell_type": "code",
      "execution_count": null,
      "id": "1f181454",
      "metadata": {
        "execution": {
          "iopub.execute_input": "2022-04-19T18:37:56.772020Z",
          "iopub.status.busy": "2022-04-19T18:37:56.739702Z",
          "iopub.status.idle": "2022-04-19T18:38:09.734668Z",
          "shell.execute_reply": "2022-04-19T18:38:09.733752Z",
          "shell.execute_reply.started": "2022-04-19T18:07:44.545360Z"
        },
        "papermill": {
          "duration": 13.013098,
          "end_time": "2022-04-19T18:38:09.734814",
          "exception": false,
          "start_time": "2022-04-19T18:37:56.721716",
          "status": "completed"
        },
        "tags": [],
        "id": "1f181454",
        "outputId": "3e88eec4-de9d-4959-9a79-e8eb9589deeb"
      },
      "outputs": [
        {
          "name": "stdout",
          "output_type": "stream",
          "text": [
            "huggingface/tokenizers: The current process just got forked, after parallelism has already been used. Disabling parallelism to avoid deadlocks...\n",
            "To disable this warning, you can either:\n",
            "\t- Avoid using `tokenizers` before the fork if possible\n",
            "\t- Explicitly set the environment variable TOKENIZERS_PARALLELISM=(true | false)\n",
            "\u001b[33mWARNING: Running pip as the 'root' user can result in broken permissions and conflicting behaviour with the system package manager. It is recommended to use a virtual environment instead: https://pip.pypa.io/warnings/venv\u001b[0m\r\n"
          ]
        }
      ],
      "source": [
        "!pip install -q https://github.com/amaiya/eli5/archive/refs/heads/tfkeras_0_10_1.zip"
      ]
    },
    {
      "cell_type": "code",
      "execution_count": null,
      "id": "555cdb35",
      "metadata": {
        "execution": {
          "iopub.execute_input": "2022-04-19T18:38:09.768863Z",
          "iopub.status.busy": "2022-04-19T18:38:09.768100Z",
          "iopub.status.idle": "2022-04-19T18:38:09.894385Z",
          "shell.execute_reply": "2022-04-19T18:38:09.894845Z",
          "shell.execute_reply.started": "2022-04-19T18:07:55.522470Z"
        },
        "papermill": {
          "duration": 0.144765,
          "end_time": "2022-04-19T18:38:09.894987",
          "exception": false,
          "start_time": "2022-04-19T18:38:09.750222",
          "status": "completed"
        },
        "tags": [],
        "id": "555cdb35",
        "outputId": "f7adbd44-a092-44c1-d76e-9d8239d75fa7"
      },
      "outputs": [
        {
          "name": "stdout",
          "output_type": "stream",
          "text": [
            "1\n"
          ]
        }
      ],
      "source": [
        "title = \"YTHDC1-mediated augmentation of miR-30d in repressing pancreatic tumorigenesis via attenuation of RUNX1-induced transcriptional activation of Warburg effect\"\n",
        "abstract = \"Pancreatic ductal adenocarcinoma (PDAC) is one of the most lethal human cancers. It thrives in a malnourished environment; however, little is known about the mechanisms by which PDAC cells actively promote aerobic glycolysis to maintain their metabolic needs. Gene Expression Omnibus (GEO) was used to identify differentially expressed miRNAs. The expression pattern of miR-30d in normal and PDAC tissues was studied by in situ hybridization. The role of miR-30d/RUNX1 in vitro and in vivo was evaluated by CCK8 assay and clonogenic formation as well as transwell experiment, subcutaneous xenograft model and liver metastasis model, respectively. Glucose uptake, ATP and lactate production were tested to study the regulatory effect of miR-30d/RUNX1 on aerobic glycolysis in PDAC cells. Quantitative real-time PCR, western blot, Chip assay, promoter luciferase activity, RIP, MeRIP, and RNA stability assay were used to explore the molecular mechanism of YTHDC1/miR-30d/RUNX1 in PDAC. Here, we discover that miR-30d expression was remarkably decreased in PDAC tissues and associated with good prognosis, contributed to the suppression of tumor growth and metastasis, and attenuation of Warburg effect. Mechanistically, the m6A reader YTHDC1 facilitated the biogenesis of mature miR-30d via m6A-mediated regulation of mRNA stability. Then, miR-30d inhibited aerobic glycolysis through regulating SLC2A1 and HK1 expression by directly targeting the transcription factor RUNX1, which bound to the promoters of the SLC2A1 and HK1 genes. Moreover, miR-30d was clinically inversely correlated with RUNX1, SLC2A1 and HK1, which function as adverse prognosis factors for overall survival in PDAC tissues. Overall, we demonstrated that miR-30d is a functional and clinical tumor-suppressive gene in PDAC. Our findings further uncover that miR-30d is a novel target for YTHDC1 through m6A modification, and miR-30d represses pancreatic tumorigenesis via suppressing aerobic glycolysis.\"\n",
        "print(predictor.predict(title + \" [SEP] \" + abstract))"
      ]
    },
    {
      "cell_type": "code",
      "execution_count": null,
      "id": "c658e3f7",
      "metadata": {
        "execution": {
          "iopub.execute_input": "2022-04-19T18:38:09.930575Z",
          "iopub.status.busy": "2022-04-19T18:38:09.929818Z",
          "iopub.status.idle": "2022-04-19T18:39:44.413831Z",
          "shell.execute_reply": "2022-04-19T18:39:44.414259Z",
          "shell.execute_reply.started": "2022-04-19T18:07:55.657823Z"
        },
        "papermill": {
          "duration": 94.504226,
          "end_time": "2022-04-19T18:39:44.414416",
          "exception": false,
          "start_time": "2022-04-19T18:38:09.910190",
          "status": "completed"
        },
        "tags": [],
        "id": "c658e3f7",
        "outputId": "5ca9e096-1bbe-43bc-e387-5595c67617e2"
      },
      "outputs": [
        {
          "data": {
            "text/html": [
              "<style type='text/css'>\n",
              ".datatable table.frame { margin-bottom: 0; }\n",
              ".datatable table.frame thead { border-bottom: none; }\n",
              ".datatable table.frame tr.coltypes td {  color: #FFFFFF;  line-height: 6px;  padding: 0 0.5em;}\n",
              ".datatable .bool    { background: #DDDD99; }\n",
              ".datatable .object  { background: #565656; }\n",
              ".datatable .int     { background: #5D9E5D; }\n",
              ".datatable .float   { background: #4040CC; }\n",
              ".datatable .str     { background: #CC4040; }\n",
              ".datatable .time    { background: #40CC40; }\n",
              ".datatable .row_index {  background: var(--jp-border-color3);  border-right: 1px solid var(--jp-border-color0);  color: var(--jp-ui-font-color3);  font-size: 9px;}\n",
              ".datatable .frame tbody td { text-align: left; }\n",
              ".datatable .frame tr.coltypes .row_index {  background: var(--jp-border-color0);}\n",
              ".datatable th:nth-child(2) { padding-left: 12px; }\n",
              ".datatable .hellipsis {  color: var(--jp-cell-editor-border-color);}\n",
              ".datatable .vellipsis {  background: var(--jp-layout-color0);  color: var(--jp-cell-editor-border-color);}\n",
              ".datatable .na {  color: var(--jp-cell-editor-border-color);  font-size: 80%;}\n",
              ".datatable .sp {  opacity: 0.25;}\n",
              ".datatable .footer { font-size: 9px; }\n",
              ".datatable .frame_dimensions {  background: var(--jp-border-color3);  border-top: 1px solid var(--jp-border-color0);  color: var(--jp-ui-font-color3);  display: inline-block;  opacity: 0.6;  padding: 1px 10px 1px 5px;}\n",
              "</style>\n"
            ],
            "text/plain": [
              "<IPython.core.display.HTML object>"
            ]
          },
          "metadata": {},
          "output_type": "display_data"
        },
        {
          "data": {
            "text/html": [
              "\n",
              "    <style>\n",
              "    table.eli5-weights tr:hover {\n",
              "        filter: brightness(85%);\n",
              "    }\n",
              "</style>\n",
              "\n",
              "\n",
              "\n",
              "    \n",
              "\n",
              "    \n",
              "\n",
              "    \n",
              "\n",
              "    \n",
              "\n",
              "    \n",
              "\n",
              "    \n",
              "\n",
              "\n",
              "    \n",
              "\n",
              "    \n",
              "\n",
              "    \n",
              "\n",
              "    \n",
              "        \n",
              "\n",
              "    \n",
              "\n",
              "        \n",
              "\n",
              "        \n",
              "    \n",
              "        \n",
              "        \n",
              "    \n",
              "        <p style=\"margin-bottom: 0.5em; margin-top: 0em\">\n",
              "            <b>\n",
              "    \n",
              "        y=1\n",
              "    \n",
              "</b>\n",
              "\n",
              "    \n",
              "    (probability <b>1.000</b>, score <b>18.602</b>)\n",
              "\n",
              "top features\n",
              "        </p>\n",
              "    \n",
              "    <table class=\"eli5-weights\"\n",
              "           style=\"border-collapse: collapse; border: none; margin-top: 0em; table-layout: auto; margin-bottom: 2em;\">\n",
              "        <thead>\n",
              "        <tr style=\"border: none;\">\n",
              "            \n",
              "                <th style=\"padding: 0 1em 0 0.5em; text-align: right; border: none;\" title=\"Feature contribution already accounts for the feature value (for linear models, contribution = weight * feature value), and the sum of feature contributions is equal to the score or, for some classifiers, to the probability. Feature values are shown if &quot;show_feature_values&quot; is True.\">\n",
              "                    Contribution<sup>?</sup>\n",
              "                </th>\n",
              "            \n",
              "            <th style=\"padding: 0 0.5em 0 0.5em; text-align: left; border: none;\">Feature</th>\n",
              "            \n",
              "        </tr>\n",
              "        </thead>\n",
              "        <tbody>\n",
              "        \n",
              "            <tr style=\"background-color: hsl(120, 100.00%, 80.00%); border: none;\">\n",
              "    <td style=\"padding: 0 1em 0 0.5em; text-align: right; border: none;\">\n",
              "        +19.582\n",
              "    </td>\n",
              "    <td style=\"padding: 0 0.5em 0 0.5em; text-align: left; border: none;\">\n",
              "        Highlighted in text (sum)\n",
              "    </td>\n",
              "    \n",
              "</tr>\n",
              "        \n",
              "        \n",
              "\n",
              "        \n",
              "        \n",
              "            <tr style=\"background-color: hsl(0, 100.00%, 97.54%); border: none;\">\n",
              "    <td style=\"padding: 0 1em 0 0.5em; text-align: right; border: none;\">\n",
              "        -0.981\n",
              "    </td>\n",
              "    <td style=\"padding: 0 0.5em 0 0.5em; text-align: left; border: none;\">\n",
              "        &lt;BIAS&gt;\n",
              "    </td>\n",
              "    \n",
              "</tr>\n",
              "        \n",
              "\n",
              "        </tbody>\n",
              "    </table>\n",
              "\n",
              "    \n",
              "\n",
              "\n",
              "\n",
              "    <p style=\"margin-bottom: 2.5em; margin-top:-0.5em;\">\n",
              "        <span style=\"background-color: hsl(120, 100.00%, 79.84%); opacity: 0.88\" title=\"0.270\">ythdc1</span><span style=\"opacity: 0.80\">-</span><span style=\"background-color: hsl(120, 100.00%, 89.28%); opacity: 0.83\" title=\"0.110\">mediated</span><span style=\"opacity: 0.80\"> augmentation </span><span style=\"background-color: hsl(120, 100.00%, 75.94%); opacity: 0.90\" title=\"0.348\">of</span><span style=\"opacity: 0.80\"> </span><span style=\"background-color: hsl(120, 100.00%, 60.46%); opacity: 1.00\" title=\"0.707\">mir</span><span style=\"opacity: 0.80\">-</span><span style=\"background-color: hsl(120, 100.00%, 85.14%); opacity: 0.85\" title=\"0.175\">30d</span><span style=\"opacity: 0.80\"> </span><span style=\"background-color: hsl(120, 100.00%, 98.98%); opacity: 0.80\" title=\"0.004\">in</span><span style=\"opacity: 0.80\"> </span><span style=\"background-color: hsl(120, 100.00%, 95.14%); opacity: 0.81\" title=\"0.035\">repressing</span><span style=\"opacity: 0.80\"> </span><span style=\"background-color: hsl(120, 100.00%, 93.25%); opacity: 0.82\" title=\"0.057\">pancreatic</span><span style=\"opacity: 0.80\"> </span><span style=\"background-color: hsl(120, 100.00%, 86.36%); opacity: 0.84\" title=\"0.155\">tumorigenesis</span><span style=\"opacity: 0.80\"> </span><span style=\"background-color: hsl(120, 100.00%, 89.48%); opacity: 0.83\" title=\"0.107\">via</span><span style=\"opacity: 0.80\"> </span><span style=\"background-color: hsl(0, 100.00%, 88.48%); opacity: 0.83\" title=\"-0.122\">attenuation</span><span style=\"opacity: 0.80\"> </span><span style=\"background-color: hsl(120, 100.00%, 94.46%); opacity: 0.81\" title=\"0.043\">of</span><span style=\"opacity: 0.80\"> </span><span style=\"background-color: hsl(120, 100.00%, 71.92%); opacity: 0.92\" title=\"0.434\">runx1</span><span style=\"opacity: 0.80\">-</span><span style=\"background-color: hsl(120, 100.00%, 83.72%); opacity: 0.86\" title=\"0.199\">induced</span><span style=\"opacity: 0.80\"> </span><span style=\"background-color: hsl(120, 100.00%, 90.44%); opacity: 0.83\" title=\"0.093\">transcriptional</span><span style=\"opacity: 0.80\"> </span><span style=\"background-color: hsl(120, 100.00%, 91.96%); opacity: 0.82\" title=\"0.073\">activation</span><span style=\"opacity: 0.80\"> </span><span style=\"background-color: hsl(0, 100.00%, 94.19%); opacity: 0.81\" title=\"-0.046\">of</span><span style=\"opacity: 0.80\"> </span><span style=\"background-color: hsl(120, 100.00%, 88.65%); opacity: 0.83\" title=\"0.119\">warburg</span><span style=\"opacity: 0.80\"> </span><span style=\"background-color: hsl(120, 100.00%, 92.66%); opacity: 0.82\" title=\"0.064\">effect</span><span style=\"opacity: 0.80\"> [</span><span style=\"background-color: hsl(120, 100.00%, 80.32%); opacity: 0.87\" title=\"0.261\">sep</span><span style=\"opacity: 0.80\">] </span><span style=\"background-color: hsl(120, 100.00%, 80.76%); opacity: 0.87\" title=\"0.253\">pancreatic</span><span style=\"opacity: 0.80\"> </span><span style=\"background-color: hsl(120, 100.00%, 78.74%); opacity: 0.88\" title=\"0.291\">ductal</span><span style=\"opacity: 0.80\"> </span><span style=\"background-color: hsl(120, 100.00%, 89.38%); opacity: 0.83\" title=\"0.108\">adenocarcinoma</span><span style=\"opacity: 0.80\"> (</span><span style=\"background-color: hsl(0, 100.00%, 85.14%); opacity: 0.85\" title=\"-0.175\">pdac</span><span style=\"opacity: 0.80\">) </span><span style=\"background-color: hsl(0, 100.00%, 96.47%); opacity: 0.81\" title=\"-0.022\">is</span><span style=\"opacity: 0.80\"> </span><span style=\"background-color: hsl(0, 100.00%, 93.32%); opacity: 0.82\" title=\"-0.056\">one</span><span style=\"opacity: 0.80\"> </span><span style=\"background-color: hsl(120, 100.00%, 88.43%); opacity: 0.83\" title=\"0.122\">of</span><span style=\"opacity: 0.80\"> </span><span style=\"background-color: hsl(0, 100.00%, 78.14%); opacity: 0.88\" title=\"-0.303\">the</span><span style=\"opacity: 0.80\"> </span><span style=\"background-color: hsl(0, 100.00%, 84.78%); opacity: 0.85\" title=\"-0.181\">most</span><span style=\"opacity: 0.80\"> </span><span style=\"background-color: hsl(120, 100.00%, 87.06%); opacity: 0.84\" title=\"0.143\">lethal</span><span style=\"opacity: 0.80\"> </span><span style=\"background-color: hsl(0, 100.00%, 95.66%); opacity: 0.81\" title=\"-0.030\">human</span><span style=\"opacity: 0.80\"> </span><span style=\"background-color: hsl(0, 100.00%, 98.09%); opacity: 0.80\" title=\"-0.009\">cancers</span><span style=\"opacity: 0.80\">. </span><span style=\"background-color: hsl(0, 100.00%, 90.89%); opacity: 0.82\" title=\"-0.087\">it</span><span style=\"opacity: 0.80\"> </span><span style=\"background-color: hsl(0, 100.00%, 88.30%); opacity: 0.83\" title=\"-0.124\">thrives</span><span style=\"opacity: 0.80\"> </span><span style=\"background-color: hsl(0, 100.00%, 86.33%); opacity: 0.84\" title=\"-0.155\">in</span><span style=\"opacity: 0.80\"> a malnourished </span><span style=\"background-color: hsl(0, 100.00%, 85.78%); opacity: 0.85\" title=\"-0.164\">environment</span><span style=\"opacity: 0.80\">; </span><span style=\"background-color: hsl(0, 100.00%, 83.94%); opacity: 0.85\" title=\"-0.195\">however</span><span style=\"opacity: 0.80\">, </span><span style=\"background-color: hsl(120, 100.00%, 95.95%); opacity: 0.81\" title=\"0.027\">little</span><span style=\"opacity: 0.80\"> </span><span style=\"background-color: hsl(120, 100.00%, 86.53%); opacity: 0.84\" title=\"0.152\">is</span><span style=\"opacity: 0.80\"> </span><span style=\"background-color: hsl(0, 100.00%, 96.67%); opacity: 0.81\" title=\"-0.021\">known</span><span style=\"opacity: 0.80\"> </span><span style=\"background-color: hsl(120, 100.00%, 76.18%); opacity: 0.90\" title=\"0.343\">about</span><span style=\"opacity: 0.80\"> </span><span style=\"background-color: hsl(120, 100.00%, 84.10%); opacity: 0.85\" title=\"0.193\">the</span><span style=\"opacity: 0.80\"> </span><span style=\"background-color: hsl(0, 100.00%, 79.58%); opacity: 0.88\" title=\"-0.275\">mechanisms</span><span style=\"opacity: 0.80\"> </span><span style=\"background-color: hsl(0, 100.00%, 85.74%); opacity: 0.85\" title=\"-0.165\">by</span><span style=\"opacity: 0.80\"> </span><span style=\"background-color: hsl(0, 100.00%, 96.06%); opacity: 0.81\" title=\"-0.026\">which</span><span style=\"opacity: 0.80\"> </span><span style=\"background-color: hsl(120, 100.00%, 93.67%); opacity: 0.81\" title=\"0.052\">pdac</span><span style=\"opacity: 0.80\"> </span><span style=\"background-color: hsl(0, 100.00%, 97.30%); opacity: 0.80\" title=\"-0.015\">cells</span><span style=\"opacity: 0.80\"> </span><span style=\"background-color: hsl(120, 100.00%, 98.29%); opacity: 0.80\" title=\"0.008\">actively</span><span style=\"opacity: 0.80\"> </span><span style=\"background-color: hsl(120, 100.00%, 87.77%); opacity: 0.84\" title=\"0.132\">promote</span><span style=\"opacity: 0.80\"> </span><span style=\"background-color: hsl(120, 100.00%, 79.89%); opacity: 0.87\" title=\"0.269\">aerobic</span><span style=\"opacity: 0.80\"> </span><span style=\"background-color: hsl(120, 100.00%, 86.59%); opacity: 0.84\" title=\"0.151\">glycolysis</span><span style=\"opacity: 0.80\"> to maintain </span><span style=\"background-color: hsl(0, 100.00%, 80.99%); opacity: 0.87\" title=\"-0.248\">their</span><span style=\"opacity: 0.80\"> </span><span style=\"background-color: hsl(0, 100.00%, 90.43%); opacity: 0.83\" title=\"-0.093\">metabolic</span><span style=\"opacity: 0.80\"> </span><span style=\"background-color: hsl(120, 100.00%, 85.02%); opacity: 0.85\" title=\"0.177\">needs</span><span style=\"opacity: 0.80\">. </span><span style=\"background-color: hsl(0, 100.00%, 87.92%); opacity: 0.84\" title=\"-0.130\">gene</span><span style=\"opacity: 0.80\"> </span><span style=\"background-color: hsl(0, 100.00%, 97.75%); opacity: 0.80\" title=\"-0.012\">expression</span><span style=\"opacity: 0.80\"> omnibus (</span><span style=\"background-color: hsl(120, 100.00%, 87.20%); opacity: 0.84\" title=\"0.141\">geo</span><span style=\"opacity: 0.80\">) </span><span style=\"background-color: hsl(0, 100.00%, 93.90%); opacity: 0.81\" title=\"-0.049\">was</span><span style=\"opacity: 0.80\"> </span><span style=\"background-color: hsl(0, 100.00%, 91.65%); opacity: 0.82\" title=\"-0.077\">used</span><span style=\"opacity: 0.80\"> </span><span style=\"background-color: hsl(120, 100.00%, 90.20%); opacity: 0.83\" title=\"0.096\">to</span><span style=\"opacity: 0.80\"> </span><span style=\"background-color: hsl(120, 100.00%, 90.20%); opacity: 0.83\" title=\"0.096\">identify</span><span style=\"opacity: 0.80\"> </span><span style=\"background-color: hsl(120, 100.00%, 90.53%); opacity: 0.83\" title=\"0.092\">differentially</span><span style=\"opacity: 0.80\"> </span><span style=\"background-color: hsl(120, 100.00%, 76.35%); opacity: 0.89\" title=\"0.339\">expressed</span><span style=\"opacity: 0.80\"> </span><span style=\"background-color: hsl(120, 100.00%, 61.24%); opacity: 0.99\" title=\"0.688\">mirnas</span><span style=\"opacity: 0.80\">. </span><span style=\"background-color: hsl(120, 100.00%, 87.44%); opacity: 0.84\" title=\"0.137\">the</span><span style=\"opacity: 0.80\"> </span><span style=\"background-color: hsl(120, 100.00%, 83.17%); opacity: 0.86\" title=\"0.209\">expression</span><span style=\"opacity: 0.80\"> </span><span style=\"background-color: hsl(120, 100.00%, 90.46%); opacity: 0.83\" title=\"0.093\">pattern</span><span style=\"opacity: 0.80\"> </span><span style=\"background-color: hsl(120, 100.00%, 75.94%); opacity: 0.90\" title=\"0.348\">of</span><span style=\"opacity: 0.80\"> </span><span style=\"background-color: hsl(120, 100.00%, 60.46%); opacity: 1.00\" title=\"0.707\">mir</span><span style=\"opacity: 0.80\">-</span><span style=\"background-color: hsl(120, 100.00%, 85.14%); opacity: 0.85\" title=\"0.175\">30d</span><span style=\"opacity: 0.80\"> </span><span style=\"background-color: hsl(120, 100.00%, 94.70%); opacity: 0.81\" title=\"0.040\">in</span><span style=\"opacity: 0.80\"> </span><span style=\"background-color: hsl(120, 100.00%, 92.04%); opacity: 0.82\" title=\"0.072\">normal</span><span style=\"opacity: 0.80\"> </span><span style=\"background-color: hsl(0, 100.00%, 84.29%); opacity: 0.85\" title=\"-0.189\">and</span><span style=\"opacity: 0.80\"> </span><span style=\"background-color: hsl(0, 100.00%, 87.25%); opacity: 0.84\" title=\"-0.140\">pdac</span><span style=\"opacity: 0.80\"> </span><span style=\"background-color: hsl(120, 100.00%, 93.18%); opacity: 0.82\" title=\"0.057\">tissues</span><span style=\"opacity: 0.80\"> </span><span style=\"background-color: hsl(0, 100.00%, 93.90%); opacity: 0.81\" title=\"-0.049\">was</span><span style=\"opacity: 0.80\"> </span><span style=\"background-color: hsl(0, 100.00%, 97.49%); opacity: 0.80\" title=\"-0.014\">studied</span><span style=\"opacity: 0.80\"> </span><span style=\"background-color: hsl(120, 100.00%, 84.83%); opacity: 0.85\" title=\"0.180\">by</span><span style=\"opacity: 0.80\"> </span><span style=\"background-color: hsl(0, 100.00%, 97.94%); opacity: 0.80\" title=\"-0.010\">in</span><span style=\"opacity: 0.80\"> </span><span style=\"background-color: hsl(0, 100.00%, 91.14%); opacity: 0.82\" title=\"-0.083\">situ</span><span style=\"opacity: 0.80\"> </span><span style=\"background-color: hsl(0, 100.00%, 91.14%); opacity: 0.82\" title=\"-0.083\">hybridization</span><span style=\"opacity: 0.80\">. </span><span style=\"background-color: hsl(0, 100.00%, 88.41%); opacity: 0.83\" title=\"-0.123\">the</span><span style=\"opacity: 0.80\"> </span><span style=\"background-color: hsl(0, 100.00%, 92.48%); opacity: 0.82\" title=\"-0.066\">role</span><span style=\"opacity: 0.80\"> </span><span style=\"background-color: hsl(120, 100.00%, 75.94%); opacity: 0.90\" title=\"0.348\">of</span><span style=\"opacity: 0.80\"> </span><span style=\"background-color: hsl(120, 100.00%, 60.46%); opacity: 1.00\" title=\"0.707\">mir</span><span style=\"opacity: 0.80\">-</span><span style=\"background-color: hsl(0, 100.00%, 92.99%); opacity: 0.82\" title=\"-0.060\">30d</span><span style=\"opacity: 0.80\">/</span><span style=\"background-color: hsl(120, 100.00%, 90.93%); opacity: 0.82\" title=\"0.086\">runx1</span><span style=\"opacity: 0.80\"> </span><span style=\"background-color: hsl(0, 100.00%, 92.51%); opacity: 0.82\" title=\"-0.066\">in</span><span style=\"opacity: 0.80\"> vitro </span><span style=\"background-color: hsl(120, 100.00%, 93.14%); opacity: 0.82\" title=\"0.058\">and</span><span style=\"opacity: 0.80\"> </span><span style=\"background-color: hsl(120, 100.00%, 93.50%); opacity: 0.81\" title=\"0.054\">in</span><span style=\"opacity: 0.80\"> </span><span style=\"background-color: hsl(120, 100.00%, 94.78%); opacity: 0.81\" title=\"0.039\">vivo</span><span style=\"opacity: 0.80\"> </span><span style=\"background-color: hsl(0, 100.00%, 93.90%); opacity: 0.81\" title=\"-0.049\">was</span><span style=\"opacity: 0.80\"> </span><span style=\"background-color: hsl(0, 100.00%, 91.51%); opacity: 0.82\" title=\"-0.079\">evaluated</span><span style=\"opacity: 0.80\"> </span><span style=\"background-color: hsl(120, 100.00%, 73.10%); opacity: 0.91\" title=\"0.408\">by</span><span style=\"opacity: 0.80\"> </span><span style=\"background-color: hsl(120, 100.00%, 85.46%); opacity: 0.85\" title=\"0.169\">cck8</span><span style=\"opacity: 0.80\"> </span><span style=\"background-color: hsl(0, 100.00%, 89.04%); opacity: 0.83\" title=\"-0.113\">assay</span><span style=\"opacity: 0.80\"> </span><span style=\"background-color: hsl(0, 100.00%, 96.50%); opacity: 0.81\" title=\"-0.022\">and</span><span style=\"opacity: 0.80\"> </span><span style=\"background-color: hsl(120, 100.00%, 86.80%); opacity: 0.84\" title=\"0.148\">clonogenic</span><span style=\"opacity: 0.80\"> </span><span style=\"background-color: hsl(120, 100.00%, 80.74%); opacity: 0.87\" title=\"0.253\">formation</span><span style=\"opacity: 0.80\"> </span><span style=\"background-color: hsl(120, 100.00%, 75.56%); opacity: 0.90\" title=\"0.356\">as</span><span style=\"opacity: 0.80\"> </span><span style=\"background-color: hsl(120, 100.00%, 88.26%); opacity: 0.83\" title=\"0.125\">well</span><span style=\"opacity: 0.80\"> </span><span style=\"background-color: hsl(120, 100.00%, 74.84%); opacity: 0.90\" title=\"0.371\">as</span><span style=\"opacity: 0.80\"> </span><span style=\"background-color: hsl(120, 100.00%, 73.75%); opacity: 0.91\" title=\"0.394\">transwell</span><span style=\"opacity: 0.80\"> </span><span style=\"background-color: hsl(120, 100.00%, 77.50%); opacity: 0.89\" title=\"0.316\">experiment</span><span style=\"opacity: 0.80\">, </span><span style=\"background-color: hsl(120, 100.00%, 87.99%); opacity: 0.84\" title=\"0.129\">subcutaneous</span><span style=\"opacity: 0.80\"> </span><span style=\"background-color: hsl(120, 100.00%, 92.97%); opacity: 0.82\" title=\"0.060\">xenograft</span><span style=\"opacity: 0.80\"> </span><span style=\"background-color: hsl(0, 100.00%, 84.05%); opacity: 0.85\" title=\"-0.193\">model</span><span style=\"opacity: 0.80\"> </span><span style=\"background-color: hsl(0, 100.00%, 84.28%); opacity: 0.85\" title=\"-0.189\">and</span><span style=\"opacity: 0.80\"> </span><span style=\"background-color: hsl(0, 100.00%, 88.66%); opacity: 0.83\" title=\"-0.119\">liver</span><span style=\"opacity: 0.80\"> </span><span style=\"background-color: hsl(0, 100.00%, 96.82%); opacity: 0.81\" title=\"-0.019\">metastasis</span><span style=\"opacity: 0.80\"> </span><span style=\"background-color: hsl(0, 100.00%, 96.82%); opacity: 0.81\" title=\"-0.019\">model</span><span style=\"opacity: 0.80\">, </span><span style=\"background-color: hsl(120, 100.00%, 78.52%); opacity: 0.88\" title=\"0.296\">respectively</span><span style=\"opacity: 0.80\">. </span><span style=\"background-color: hsl(0, 100.00%, 82.97%); opacity: 0.86\" title=\"-0.212\">glucose</span><span style=\"opacity: 0.80\"> </span><span style=\"background-color: hsl(120, 100.00%, 95.83%); opacity: 0.81\" title=\"0.028\">uptake</span><span style=\"opacity: 0.80\">, </span><span style=\"background-color: hsl(120, 100.00%, 78.44%); opacity: 0.88\" title=\"0.298\">atp</span><span style=\"opacity: 0.80\"> </span><span style=\"background-color: hsl(120, 100.00%, 87.48%); opacity: 0.84\" title=\"0.137\">and</span><span style=\"opacity: 0.80\"> lactate </span><span style=\"background-color: hsl(0, 100.00%, 92.01%); opacity: 0.82\" title=\"-0.072\">production</span><span style=\"opacity: 0.80\"> </span><span style=\"background-color: hsl(0, 100.00%, 95.43%); opacity: 0.81\" title=\"-0.032\">were</span><span style=\"opacity: 0.80\"> </span><span style=\"background-color: hsl(0, 100.00%, 93.53%); opacity: 0.81\" title=\"-0.053\">tested</span><span style=\"opacity: 0.80\"> </span><span style=\"background-color: hsl(120, 100.00%, 87.90%); opacity: 0.84\" title=\"0.130\">to</span><span style=\"opacity: 0.80\"> </span><span style=\"background-color: hsl(120, 100.00%, 95.01%); opacity: 0.81\" title=\"0.037\">study</span><span style=\"opacity: 0.80\"> </span><span style=\"background-color: hsl(0, 100.00%, 99.52%); opacity: 0.80\" title=\"-0.001\">the</span><span style=\"opacity: 0.80\"> </span><span style=\"background-color: hsl(120, 100.00%, 98.19%); opacity: 0.80\" title=\"0.009\">regulatory</span><span style=\"opacity: 0.80\"> </span><span style=\"background-color: hsl(120, 100.00%, 85.93%); opacity: 0.84\" title=\"0.162\">effect</span><span style=\"opacity: 0.80\"> </span><span style=\"background-color: hsl(120, 100.00%, 75.94%); opacity: 0.90\" title=\"0.348\">of</span><span style=\"opacity: 0.80\"> </span><span style=\"background-color: hsl(120, 100.00%, 60.46%); opacity: 1.00\" title=\"0.707\">mir</span><span style=\"opacity: 0.80\">-</span><span style=\"background-color: hsl(0, 100.00%, 92.99%); opacity: 0.82\" title=\"-0.060\">30d</span><span style=\"opacity: 0.80\">/</span><span style=\"background-color: hsl(120, 100.00%, 80.93%); opacity: 0.87\" title=\"0.250\">runx1</span><span style=\"opacity: 0.80\"> </span><span style=\"background-color: hsl(120, 100.00%, 78.11%); opacity: 0.88\" title=\"0.304\">on</span><span style=\"opacity: 0.80\"> </span><span style=\"background-color: hsl(120, 100.00%, 73.01%); opacity: 0.91\" title=\"0.410\">aerobic</span><span style=\"opacity: 0.80\"> </span><span style=\"background-color: hsl(120, 100.00%, 86.59%); opacity: 0.84\" title=\"0.151\">glycolysis</span><span style=\"opacity: 0.80\"> </span><span style=\"background-color: hsl(120, 100.00%, 94.55%); opacity: 0.81\" title=\"0.042\">in</span><span style=\"opacity: 0.80\"> </span><span style=\"background-color: hsl(120, 100.00%, 91.93%); opacity: 0.82\" title=\"0.073\">pdac</span><span style=\"opacity: 0.80\"> </span><span style=\"background-color: hsl(0, 100.00%, 96.38%); opacity: 0.81\" title=\"-0.023\">cells</span><span style=\"opacity: 0.80\">. </span><span style=\"background-color: hsl(0, 100.00%, 89.02%); opacity: 0.83\" title=\"-0.113\">quantitative</span><span style=\"opacity: 0.80\"> </span><span style=\"background-color: hsl(0, 100.00%, 90.91%); opacity: 0.82\" title=\"-0.087\">real</span><span style=\"opacity: 0.80\">-</span><span style=\"background-color: hsl(120, 100.00%, 80.10%); opacity: 0.87\" title=\"0.265\">time</span><span style=\"opacity: 0.80\"> </span><span style=\"background-color: hsl(120, 100.00%, 80.32%); opacity: 0.87\" title=\"0.261\">pcr</span><span style=\"opacity: 0.80\">, </span><span style=\"background-color: hsl(0, 100.00%, 91.55%); opacity: 0.82\" title=\"-0.078\">western</span><span style=\"opacity: 0.80\"> </span><span style=\"background-color: hsl(0, 100.00%, 93.52%); opacity: 0.81\" title=\"-0.053\">blot</span><span style=\"opacity: 0.80\">, </span><span style=\"background-color: hsl(120, 100.00%, 84.04%); opacity: 0.85\" title=\"0.194\">chip</span><span style=\"opacity: 0.80\"> </span><span style=\"background-color: hsl(0, 100.00%, 97.53%); opacity: 0.80\" title=\"-0.013\">assay</span><span style=\"opacity: 0.80\">, </span><span style=\"background-color: hsl(120, 100.00%, 90.81%); opacity: 0.82\" title=\"0.088\">promoter</span><span style=\"opacity: 0.80\"> </span><span style=\"background-color: hsl(120, 100.00%, 67.59%); opacity: 0.95\" title=\"0.532\">luciferase</span><span style=\"opacity: 0.80\"> </span><span style=\"background-color: hsl(120, 100.00%, 86.30%); opacity: 0.84\" title=\"0.156\">activity</span><span style=\"opacity: 0.80\">, </span><span style=\"background-color: hsl(0, 100.00%, 90.94%); opacity: 0.82\" title=\"-0.086\">rip</span><span style=\"opacity: 0.80\">, </span><span style=\"background-color: hsl(0, 100.00%, 73.27%); opacity: 0.91\" title=\"-0.404\">merip</span><span style=\"opacity: 0.80\">, </span><span style=\"background-color: hsl(0, 100.00%, 84.82%); opacity: 0.85\" title=\"-0.180\">and</span><span style=\"opacity: 0.80\"> </span><span style=\"background-color: hsl(120, 100.00%, 91.36%); opacity: 0.82\" title=\"0.081\">rna</span><span style=\"opacity: 0.80\"> </span><span style=\"background-color: hsl(120, 100.00%, 83.85%); opacity: 0.85\" title=\"0.197\">stability</span><span style=\"opacity: 0.80\"> </span><span style=\"background-color: hsl(120, 100.00%, 85.28%); opacity: 0.85\" title=\"0.172\">assay</span><span style=\"opacity: 0.80\"> </span><span style=\"background-color: hsl(120, 100.00%, 80.36%); opacity: 0.87\" title=\"0.260\">were</span><span style=\"opacity: 0.80\"> </span><span style=\"background-color: hsl(120, 100.00%, 97.40%); opacity: 0.80\" title=\"0.014\">used</span><span style=\"opacity: 0.80\"> </span><span style=\"background-color: hsl(120, 100.00%, 83.85%); opacity: 0.85\" title=\"0.197\">to</span><span style=\"opacity: 0.80\"> </span><span style=\"background-color: hsl(120, 100.00%, 74.15%); opacity: 0.91\" title=\"0.385\">explore</span><span style=\"opacity: 0.80\"> </span><span style=\"background-color: hsl(0, 100.00%, 98.95%); opacity: 0.80\" title=\"-0.004\">the</span><span style=\"opacity: 0.80\"> </span><span style=\"background-color: hsl(120, 100.00%, 91.08%); opacity: 0.82\" title=\"0.084\">molecular</span><span style=\"opacity: 0.80\"> </span><span style=\"background-color: hsl(0, 100.00%, 82.24%); opacity: 0.86\" title=\"-0.226\">mechanism</span><span style=\"opacity: 0.80\"> </span><span style=\"background-color: hsl(0, 100.00%, 97.74%); opacity: 0.80\" title=\"-0.012\">of</span><span style=\"opacity: 0.80\"> </span><span style=\"background-color: hsl(120, 100.00%, 76.06%); opacity: 0.90\" title=\"0.345\">ythdc1</span><span style=\"opacity: 0.80\">/</span><span style=\"background-color: hsl(120, 100.00%, 62.96%); opacity: 0.98\" title=\"0.644\">mir</span><span style=\"opacity: 0.80\">-</span><span style=\"background-color: hsl(0, 100.00%, 92.99%); opacity: 0.82\" title=\"-0.060\">30d</span><span style=\"opacity: 0.80\">/</span><span style=\"background-color: hsl(120, 100.00%, 90.93%); opacity: 0.82\" title=\"0.086\">runx1</span><span style=\"opacity: 0.80\"> </span><span style=\"background-color: hsl(120, 100.00%, 94.55%); opacity: 0.81\" title=\"0.042\">in</span><span style=\"opacity: 0.80\"> </span><span style=\"background-color: hsl(0, 100.00%, 97.50%); opacity: 0.80\" title=\"-0.014\">pdac</span><span style=\"opacity: 0.80\">. here, </span><span style=\"background-color: hsl(120, 100.00%, 91.62%); opacity: 0.82\" title=\"0.077\">we</span><span style=\"opacity: 0.80\"> discover </span><span style=\"background-color: hsl(120, 100.00%, 81.72%); opacity: 0.87\" title=\"0.235\">that</span><span style=\"opacity: 0.80\"> </span><span style=\"background-color: hsl(120, 100.00%, 60.00%); opacity: 1.00\" title=\"0.719\">mir</span><span style=\"opacity: 0.80\">-</span><span style=\"background-color: hsl(120, 100.00%, 89.49%); opacity: 0.83\" title=\"0.107\">30d</span><span style=\"opacity: 0.80\"> </span><span style=\"background-color: hsl(0, 100.00%, 97.75%); opacity: 0.80\" title=\"-0.012\">expression</span><span style=\"opacity: 0.80\"> </span><span style=\"background-color: hsl(0, 100.00%, 93.90%); opacity: 0.81\" title=\"-0.049\">was</span><span style=\"opacity: 0.80\"> </span><span style=\"background-color: hsl(0, 100.00%, 97.38%); opacity: 0.80\" title=\"-0.015\">remarkably</span><span style=\"opacity: 0.80\"> </span><span style=\"background-color: hsl(120, 100.00%, 93.81%); opacity: 0.81\" title=\"0.050\">decreased</span><span style=\"opacity: 0.80\"> </span><span style=\"background-color: hsl(120, 100.00%, 94.55%); opacity: 0.81\" title=\"0.042\">in</span><span style=\"opacity: 0.80\"> </span><span style=\"background-color: hsl(120, 100.00%, 93.97%); opacity: 0.81\" title=\"0.048\">pdac</span><span style=\"opacity: 0.80\"> </span><span style=\"background-color: hsl(120, 100.00%, 92.71%); opacity: 0.82\" title=\"0.063\">tissues</span><span style=\"opacity: 0.80\"> </span><span style=\"background-color: hsl(0, 100.00%, 97.16%); opacity: 0.80\" title=\"-0.016\">and</span><span style=\"opacity: 0.80\"> associated </span><span style=\"background-color: hsl(0, 100.00%, 80.46%); opacity: 0.87\" title=\"-0.258\">with</span><span style=\"opacity: 0.80\"> </span><span style=\"background-color: hsl(0, 100.00%, 84.87%); opacity: 0.85\" title=\"-0.179\">good</span><span style=\"opacity: 0.80\"> </span><span style=\"background-color: hsl(0, 100.00%, 72.66%); opacity: 0.92\" title=\"-0.418\">prognosis</span><span style=\"opacity: 0.80\">, </span><span style=\"background-color: hsl(120, 100.00%, 90.14%); opacity: 0.83\" title=\"0.097\">contributed</span><span style=\"opacity: 0.80\"> </span><span style=\"background-color: hsl(120, 100.00%, 75.35%); opacity: 0.90\" title=\"0.360\">to</span><span style=\"opacity: 0.80\"> </span><span style=\"background-color: hsl(120, 100.00%, 93.98%); opacity: 0.81\" title=\"0.048\">the</span><span style=\"opacity: 0.80\"> </span><span style=\"background-color: hsl(120, 100.00%, 93.69%); opacity: 0.81\" title=\"0.051\">suppression</span><span style=\"opacity: 0.80\"> </span><span style=\"background-color: hsl(120, 100.00%, 92.06%); opacity: 0.82\" title=\"0.071\">of</span><span style=\"opacity: 0.80\"> </span><span style=\"background-color: hsl(0, 100.00%, 81.51%); opacity: 0.87\" title=\"-0.239\">tumor</span><span style=\"opacity: 0.80\"> </span><span style=\"background-color: hsl(0, 100.00%, 86.24%); opacity: 0.84\" title=\"-0.157\">growth</span><span style=\"opacity: 0.80\"> </span><span style=\"background-color: hsl(0, 100.00%, 96.50%); opacity: 0.81\" title=\"-0.022\">and</span><span style=\"opacity: 0.80\"> </span><span style=\"background-color: hsl(0, 100.00%, 98.86%); opacity: 0.80\" title=\"-0.004\">metastasis</span><span style=\"opacity: 0.80\">, </span><span style=\"background-color: hsl(0, 100.00%, 96.50%); opacity: 0.81\" title=\"-0.022\">and</span><span style=\"opacity: 0.80\"> </span><span style=\"background-color: hsl(0, 100.00%, 83.74%); opacity: 0.86\" title=\"-0.199\">attenuation</span><span style=\"opacity: 0.80\"> </span><span style=\"background-color: hsl(0, 100.00%, 93.78%); opacity: 0.81\" title=\"-0.050\">of</span><span style=\"opacity: 0.80\"> </span><span style=\"background-color: hsl(120, 100.00%, 88.65%); opacity: 0.83\" title=\"0.119\">warburg</span><span style=\"opacity: 0.80\"> </span><span style=\"background-color: hsl(120, 100.00%, 78.92%); opacity: 0.88\" title=\"0.288\">effect</span><span style=\"opacity: 0.80\">. </span><span style=\"background-color: hsl(120, 100.00%, 70.86%); opacity: 0.93\" title=\"0.457\">mechanistically</span><span style=\"opacity: 0.80\">, </span><span style=\"background-color: hsl(0, 100.00%, 91.90%); opacity: 0.82\" title=\"-0.073\">the</span><span style=\"opacity: 0.80\"> </span><span style=\"background-color: hsl(0, 100.00%, 90.75%); opacity: 0.82\" title=\"-0.089\">m6a</span><span style=\"opacity: 0.80\"> </span><span style=\"background-color: hsl(120, 100.00%, 90.61%); opacity: 0.83\" title=\"0.091\">reader</span><span style=\"opacity: 0.80\"> </span><span style=\"background-color: hsl(120, 100.00%, 79.84%); opacity: 0.88\" title=\"0.270\">ythdc1</span><span style=\"opacity: 0.80\"> facilitated </span><span style=\"background-color: hsl(0, 100.00%, 88.41%); opacity: 0.83\" title=\"-0.123\">the</span><span style=\"opacity: 0.80\"> biogenesis </span><span style=\"background-color: hsl(0, 100.00%, 93.78%); opacity: 0.81\" title=\"-0.050\">of</span><span style=\"opacity: 0.80\"> </span><span style=\"background-color: hsl(120, 100.00%, 84.95%); opacity: 0.85\" title=\"0.178\">mature</span><span style=\"opacity: 0.80\"> </span><span style=\"background-color: hsl(120, 100.00%, 61.42%); opacity: 0.99\" title=\"0.683\">mir</span><span style=\"opacity: 0.80\">-</span><span style=\"background-color: hsl(120, 100.00%, 85.34%); opacity: 0.85\" title=\"0.171\">30d</span><span style=\"opacity: 0.80\"> </span><span style=\"background-color: hsl(120, 100.00%, 90.35%); opacity: 0.83\" title=\"0.094\">via</span><span style=\"opacity: 0.80\"> </span><span style=\"background-color: hsl(120, 100.00%, 94.94%); opacity: 0.81\" title=\"0.038\">m6a</span><span style=\"opacity: 0.80\">-</span><span style=\"background-color: hsl(120, 100.00%, 70.96%); opacity: 0.93\" title=\"0.455\">mediated</span><span style=\"opacity: 0.80\"> </span><span style=\"background-color: hsl(120, 100.00%, 77.36%); opacity: 0.89\" title=\"0.319\">regulation</span><span style=\"opacity: 0.80\"> </span><span style=\"background-color: hsl(120, 100.00%, 93.86%); opacity: 0.81\" title=\"0.049\">of</span><span style=\"opacity: 0.80\"> </span><span style=\"background-color: hsl(120, 100.00%, 92.59%); opacity: 0.82\" title=\"0.065\">mrna</span><span style=\"opacity: 0.80\"> </span><span style=\"background-color: hsl(120, 100.00%, 86.46%); opacity: 0.84\" title=\"0.153\">stability</span><span style=\"opacity: 0.80\">. </span><span style=\"background-color: hsl(120, 100.00%, 81.44%); opacity: 0.87\" title=\"0.240\">then</span><span style=\"opacity: 0.80\">, </span><span style=\"background-color: hsl(120, 100.00%, 64.44%); opacity: 0.97\" title=\"0.608\">mir</span><span style=\"opacity: 0.80\">-</span><span style=\"background-color: hsl(120, 100.00%, 89.49%); opacity: 0.83\" title=\"0.107\">30d</span><span style=\"opacity: 0.80\"> inhibited </span><span style=\"background-color: hsl(120, 100.00%, 79.89%); opacity: 0.87\" title=\"0.269\">aerobic</span><span style=\"opacity: 0.80\"> </span><span style=\"background-color: hsl(120, 100.00%, 86.59%); opacity: 0.84\" title=\"0.151\">glycolysis</span><span style=\"opacity: 0.80\"> </span><span style=\"background-color: hsl(120, 100.00%, 92.29%); opacity: 0.82\" title=\"0.068\">through</span><span style=\"opacity: 0.80\"> </span><span style=\"background-color: hsl(120, 100.00%, 86.05%); opacity: 0.84\" title=\"0.160\">regulating</span><span style=\"opacity: 0.80\"> </span><span style=\"background-color: hsl(120, 100.00%, 83.84%); opacity: 0.85\" title=\"0.197\">slc2a1</span><span style=\"opacity: 0.80\"> </span><span style=\"background-color: hsl(0, 100.00%, 81.92%); opacity: 0.86\" title=\"-0.231\">and</span><span style=\"opacity: 0.80\"> </span><span style=\"background-color: hsl(120, 100.00%, 85.48%); opacity: 0.85\" title=\"0.169\">hk1</span><span style=\"opacity: 0.80\"> </span><span style=\"background-color: hsl(120, 100.00%, 89.99%); opacity: 0.83\" title=\"0.099\">expression</span><span style=\"opacity: 0.80\"> </span><span style=\"background-color: hsl(120, 100.00%, 71.84%); opacity: 0.92\" title=\"0.436\">by</span><span style=\"opacity: 0.80\"> </span><span style=\"background-color: hsl(120, 100.00%, 63.52%); opacity: 0.98\" title=\"0.631\">directly</span><span style=\"opacity: 0.80\"> </span><span style=\"background-color: hsl(120, 100.00%, 61.14%); opacity: 0.99\" title=\"0.690\">targeting</span><span style=\"opacity: 0.80\"> </span><span style=\"background-color: hsl(120, 100.00%, 78.06%); opacity: 0.88\" title=\"0.305\">the</span><span style=\"opacity: 0.80\"> transcription </span><span style=\"background-color: hsl(120, 100.00%, 79.52%); opacity: 0.88\" title=\"0.276\">factor</span><span style=\"opacity: 0.80\"> </span><span style=\"background-color: hsl(120, 100.00%, 87.14%); opacity: 0.84\" title=\"0.142\">runx1</span><span style=\"opacity: 0.80\">, </span><span style=\"background-color: hsl(0, 100.00%, 96.11%); opacity: 0.81\" title=\"-0.026\">which</span><span style=\"opacity: 0.80\"> </span><span style=\"background-color: hsl(120, 100.00%, 79.36%); opacity: 0.88\" title=\"0.280\">bound</span><span style=\"opacity: 0.80\"> </span><span style=\"background-color: hsl(120, 100.00%, 77.35%); opacity: 0.89\" title=\"0.319\">to</span><span style=\"opacity: 0.80\"> </span><span style=\"background-color: hsl(120, 100.00%, 99.30%); opacity: 0.80\" title=\"0.002\">the</span><span style=\"opacity: 0.80\"> promoters </span><span style=\"background-color: hsl(0, 100.00%, 93.78%); opacity: 0.81\" title=\"-0.050\">of</span><span style=\"opacity: 0.80\"> </span><span style=\"background-color: hsl(0, 100.00%, 88.41%); opacity: 0.83\" title=\"-0.123\">the</span><span style=\"opacity: 0.80\"> </span><span style=\"background-color: hsl(120, 100.00%, 83.84%); opacity: 0.85\" title=\"0.197\">slc2a1</span><span style=\"opacity: 0.80\"> </span><span style=\"background-color: hsl(0, 100.00%, 81.92%); opacity: 0.86\" title=\"-0.231\">and</span><span style=\"opacity: 0.80\"> </span><span style=\"background-color: hsl(120, 100.00%, 85.48%); opacity: 0.85\" title=\"0.169\">hk1</span><span style=\"opacity: 0.80\"> </span><span style=\"background-color: hsl(0, 100.00%, 95.41%); opacity: 0.81\" title=\"-0.033\">genes</span><span style=\"opacity: 0.80\">. </span><span style=\"background-color: hsl(120, 100.00%, 83.04%); opacity: 0.86\" title=\"0.211\">moreover</span><span style=\"opacity: 0.80\">, </span><span style=\"background-color: hsl(120, 100.00%, 63.63%); opacity: 0.97\" title=\"0.628\">mir</span><span style=\"opacity: 0.80\">-</span><span style=\"background-color: hsl(120, 100.00%, 89.49%); opacity: 0.83\" title=\"0.107\">30d</span><span style=\"opacity: 0.80\"> </span><span style=\"background-color: hsl(120, 100.00%, 91.97%); opacity: 0.82\" title=\"0.073\">was</span><span style=\"opacity: 0.80\"> </span><span style=\"background-color: hsl(0, 100.00%, 95.75%); opacity: 0.81\" title=\"-0.029\">clinically</span><span style=\"opacity: 0.80\"> </span><span style=\"background-color: hsl(0, 100.00%, 95.73%); opacity: 0.81\" title=\"-0.029\">inversely</span><span style=\"opacity: 0.80\"> </span><span style=\"background-color: hsl(120, 100.00%, 96.76%); opacity: 0.81\" title=\"0.020\">correlated</span><span style=\"opacity: 0.80\"> </span><span style=\"background-color: hsl(0, 100.00%, 81.08%); opacity: 0.87\" title=\"-0.247\">with</span><span style=\"opacity: 0.80\"> </span><span style=\"background-color: hsl(120, 100.00%, 87.17%); opacity: 0.84\" title=\"0.142\">runx1</span><span style=\"opacity: 0.80\">, </span><span style=\"background-color: hsl(120, 100.00%, 83.84%); opacity: 0.85\" title=\"0.197\">slc2a1</span><span style=\"opacity: 0.80\"> </span><span style=\"background-color: hsl(0, 100.00%, 81.92%); opacity: 0.86\" title=\"-0.231\">and</span><span style=\"opacity: 0.80\"> </span><span style=\"background-color: hsl(120, 100.00%, 83.44%); opacity: 0.86\" title=\"0.204\">hk1</span><span style=\"opacity: 0.80\">, </span><span style=\"background-color: hsl(0, 100.00%, 88.83%); opacity: 0.83\" title=\"-0.116\">which</span><span style=\"opacity: 0.80\"> </span><span style=\"background-color: hsl(0, 100.00%, 84.80%); opacity: 0.85\" title=\"-0.181\">function</span><span style=\"opacity: 0.80\"> </span><span style=\"background-color: hsl(120, 100.00%, 88.94%); opacity: 0.83\" title=\"0.115\">as</span><span style=\"opacity: 0.80\"> </span><span style=\"background-color: hsl(120, 100.00%, 89.15%); opacity: 0.83\" title=\"0.112\">adverse</span><span style=\"opacity: 0.80\"> </span><span style=\"background-color: hsl(0, 100.00%, 94.17%); opacity: 0.81\" title=\"-0.046\">prognosis</span><span style=\"opacity: 0.80\"> factors </span><span style=\"background-color: hsl(0, 100.00%, 91.49%); opacity: 0.82\" title=\"-0.079\">for</span><span style=\"opacity: 0.80\"> </span><span style=\"background-color: hsl(0, 100.00%, 70.29%); opacity: 0.93\" title=\"-0.470\">overall</span><span style=\"opacity: 0.80\"> </span><span style=\"background-color: hsl(0, 100.00%, 91.28%); opacity: 0.82\" title=\"-0.082\">survival</span><span style=\"opacity: 0.80\"> </span><span style=\"background-color: hsl(120, 100.00%, 84.04%); opacity: 0.85\" title=\"0.193\">in</span><span style=\"opacity: 0.80\"> </span><span style=\"background-color: hsl(120, 100.00%, 93.97%); opacity: 0.81\" title=\"0.048\">pdac</span><span style=\"opacity: 0.80\"> </span><span style=\"background-color: hsl(120, 100.00%, 90.81%); opacity: 0.82\" title=\"0.088\">tissues</span><span style=\"opacity: 0.80\">. </span><span style=\"background-color: hsl(120, 100.00%, 97.35%); opacity: 0.80\" title=\"0.015\">overall</span><span style=\"opacity: 0.80\">, </span><span style=\"background-color: hsl(120, 100.00%, 81.23%); opacity: 0.87\" title=\"0.244\">we</span><span style=\"opacity: 0.80\"> </span><span style=\"background-color: hsl(120, 100.00%, 93.67%); opacity: 0.81\" title=\"0.052\">demonstrated</span><span style=\"opacity: 0.80\"> </span><span style=\"background-color: hsl(120, 100.00%, 73.79%); opacity: 0.91\" title=\"0.393\">that</span><span style=\"opacity: 0.80\"> </span><span style=\"background-color: hsl(120, 100.00%, 60.00%); opacity: 1.00\" title=\"0.719\">mir</span><span style=\"opacity: 0.80\">-</span><span style=\"background-color: hsl(120, 100.00%, 85.98%); opacity: 0.84\" title=\"0.161\">30d</span><span style=\"opacity: 0.80\"> </span><span style=\"background-color: hsl(120, 100.00%, 86.71%); opacity: 0.84\" title=\"0.149\">is</span><span style=\"opacity: 0.80\"> </span><span style=\"background-color: hsl(120, 100.00%, 99.28%); opacity: 0.80\" title=\"0.002\">a</span><span style=\"opacity: 0.80\"> </span><span style=\"background-color: hsl(120, 100.00%, 89.92%); opacity: 0.83\" title=\"0.100\">functional</span><span style=\"opacity: 0.80\"> </span><span style=\"background-color: hsl(120, 100.00%, 82.76%); opacity: 0.86\" title=\"0.216\">and</span><span style=\"opacity: 0.80\"> </span><span style=\"background-color: hsl(0, 100.00%, 88.21%); opacity: 0.83\" title=\"-0.126\">clinical</span><span style=\"opacity: 0.80\"> </span><span style=\"background-color: hsl(0, 100.00%, 87.57%); opacity: 0.84\" title=\"-0.135\">tumor</span><span style=\"opacity: 0.80\">-</span><span style=\"background-color: hsl(120, 100.00%, 93.67%); opacity: 0.81\" title=\"0.052\">suppressive</span><span style=\"opacity: 0.80\"> </span><span style=\"background-color: hsl(0, 100.00%, 96.05%); opacity: 0.81\" title=\"-0.026\">gene</span><span style=\"opacity: 0.80\"> </span><span style=\"background-color: hsl(120, 100.00%, 90.40%); opacity: 0.83\" title=\"0.094\">in</span><span style=\"opacity: 0.80\"> </span><span style=\"background-color: hsl(0, 100.00%, 97.50%); opacity: 0.80\" title=\"-0.014\">pdac</span><span style=\"opacity: 0.80\">. </span><span style=\"background-color: hsl(120, 100.00%, 82.44%); opacity: 0.86\" title=\"0.222\">our</span><span style=\"opacity: 0.80\"> </span><span style=\"background-color: hsl(120, 100.00%, 84.21%); opacity: 0.85\" title=\"0.191\">findings</span><span style=\"opacity: 0.80\"> </span><span style=\"background-color: hsl(0, 100.00%, 98.46%); opacity: 0.80\" title=\"-0.007\">further</span><span style=\"opacity: 0.80\"> uncover </span><span style=\"background-color: hsl(120, 100.00%, 81.72%); opacity: 0.87\" title=\"0.235\">that</span><span style=\"opacity: 0.80\"> </span><span style=\"background-color: hsl(120, 100.00%, 60.00%); opacity: 1.00\" title=\"0.719\">mir</span><span style=\"opacity: 0.80\">-</span><span style=\"background-color: hsl(120, 100.00%, 85.98%); opacity: 0.84\" title=\"0.161\">30d</span><span style=\"opacity: 0.80\"> </span><span style=\"background-color: hsl(120, 100.00%, 86.71%); opacity: 0.84\" title=\"0.149\">is</span><span style=\"opacity: 0.80\"> </span><span style=\"background-color: hsl(120, 100.00%, 99.28%); opacity: 0.80\" title=\"0.002\">a</span><span style=\"opacity: 0.80\"> </span><span style=\"background-color: hsl(120, 100.00%, 85.01%); opacity: 0.85\" title=\"0.177\">novel</span><span style=\"opacity: 0.80\"> </span><span style=\"background-color: hsl(120, 100.00%, 85.01%); opacity: 0.85\" title=\"0.177\">target</span><span style=\"opacity: 0.80\"> </span><span style=\"background-color: hsl(120, 100.00%, 91.52%); opacity: 0.82\" title=\"0.078\">for</span><span style=\"opacity: 0.80\"> </span><span style=\"background-color: hsl(120, 100.00%, 79.84%); opacity: 0.88\" title=\"0.270\">ythdc1</span><span style=\"opacity: 0.80\"> </span><span style=\"background-color: hsl(120, 100.00%, 92.29%); opacity: 0.82\" title=\"0.068\">through</span><span style=\"opacity: 0.80\"> </span><span style=\"background-color: hsl(0, 100.00%, 90.75%); opacity: 0.82\" title=\"-0.089\">m6a</span><span style=\"opacity: 0.80\"> </span><span style=\"background-color: hsl(120, 100.00%, 86.71%); opacity: 0.84\" title=\"0.149\">modification</span><span style=\"opacity: 0.80\">, </span><span style=\"background-color: hsl(120, 100.00%, 93.38%); opacity: 0.82\" title=\"0.055\">and</span><span style=\"opacity: 0.80\"> </span><span style=\"background-color: hsl(120, 100.00%, 64.44%); opacity: 0.97\" title=\"0.608\">mir</span><span style=\"opacity: 0.80\">-</span><span style=\"background-color: hsl(120, 100.00%, 78.06%); opacity: 0.88\" title=\"0.305\">30d</span><span style=\"opacity: 0.80\"> </span><span style=\"background-color: hsl(120, 100.00%, 74.66%); opacity: 0.90\" title=\"0.375\">represses</span><span style=\"opacity: 0.80\"> </span><span style=\"background-color: hsl(120, 100.00%, 90.09%); opacity: 0.83\" title=\"0.098\">pancreatic</span><span style=\"opacity: 0.80\"> </span><span style=\"background-color: hsl(120, 100.00%, 86.36%); opacity: 0.84\" title=\"0.155\">tumorigenesis</span><span style=\"opacity: 0.80\"> </span><span style=\"background-color: hsl(120, 100.00%, 95.73%); opacity: 0.81\" title=\"0.029\">via</span><span style=\"opacity: 0.80\"> suppressing </span><span style=\"background-color: hsl(120, 100.00%, 79.89%); opacity: 0.87\" title=\"0.269\">aerobic</span><span style=\"opacity: 0.80\"> </span><span style=\"background-color: hsl(120, 100.00%, 86.59%); opacity: 0.84\" title=\"0.151\">glycolysis</span><span style=\"opacity: 0.80\">.</span>\n",
              "    </p>\n",
              "\n",
              "\n",
              "    \n",
              "\n",
              "    \n",
              "\n",
              "    \n",
              "\n",
              "    \n",
              "\n",
              "\n",
              "    \n",
              "\n",
              "    \n",
              "\n",
              "    \n",
              "\n",
              "    \n",
              "\n",
              "    \n",
              "\n",
              "    \n",
              "\n",
              "\n",
              "    \n",
              "\n",
              "    \n",
              "\n",
              "    \n",
              "\n",
              "    \n",
              "\n",
              "    \n",
              "\n",
              "    \n",
              "\n",
              "\n",
              "\n"
            ],
            "text/plain": [
              "<IPython.core.display.HTML object>"
            ]
          },
          "execution_count": 9,
          "metadata": {},
          "output_type": "execute_result"
        }
      ],
      "source": [
        "predictor.explain(title + \" [SEP] \" + abstract)"
      ]
    },
    {
      "cell_type": "markdown",
      "id": "ed902689",
      "metadata": {
        "papermill": {
          "duration": 0.016751,
          "end_time": "2022-04-19T18:39:44.448046",
          "exception": false,
          "start_time": "2022-04-19T18:39:44.431295",
          "status": "completed"
        },
        "tags": [],
        "id": "ed902689"
      },
      "source": [
        "<h3> https://github.com/amaiya/ktrain/issues/234 suggests above may be finnicky with Kaggle notebooks (sometimes may not display output). Should work in other environments more consistently though </h3>"
      ]
    }
  ],
  "metadata": {
    "kernelspec": {
      "display_name": "Python 3",
      "language": "python",
      "name": "python3"
    },
    "language_info": {
      "codemirror_mode": {
        "name": "ipython",
        "version": 3
      },
      "file_extension": ".py",
      "mimetype": "text/x-python",
      "name": "python",
      "nbconvert_exporter": "python",
      "pygments_lexer": "ipython3",
      "version": "3.7.12"
    },
    "papermill": {
      "default_parameters": {},
      "duration": 376.260807,
      "end_time": "2022-04-19T18:39:47.744800",
      "environment_variables": {},
      "exception": null,
      "input_path": "__notebook__.ipynb",
      "output_path": "__notebook__.ipynb",
      "parameters": {},
      "start_time": "2022-04-19T18:33:31.483993",
      "version": "2.3.3"
    },
    "widgets": {
      "application/vnd.jupyter.widget-state+json": {}
    },
    "colab": {
      "name": "Tutorial.ipynb",
      "provenance": []
    }
  },
  "nbformat": 4,
  "nbformat_minor": 5
}