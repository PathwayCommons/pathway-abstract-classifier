{
 "cells": [
  {
   "cell_type": "code",
   "execution_count": 1,
   "id": "50dba21d",
   "metadata": {
    "_cell_guid": "b1076dfc-b9ad-4769-8c92-a6c4dae69d19",
    "_uuid": "8f2839f25d086af736a60e9eeb907d3b93b6e0e5",
    "execution": {
     "iopub.execute_input": "2022-04-19T23:47:35.963974Z",
     "iopub.status.busy": "2022-04-19T23:47:35.956253Z",
     "iopub.status.idle": "2022-04-19T23:47:36.015157Z",
     "shell.execute_reply": "2022-04-19T23:47:36.015584Z",
     "shell.execute_reply.started": "2022-04-13T17:50:52.21823Z"
    },
    "papermill": {
     "duration": 0.076566,
     "end_time": "2022-04-19T23:47:36.015812",
     "exception": false,
     "start_time": "2022-04-19T23:47:35.939246",
     "status": "completed"
    },
    "tags": []
   },
   "outputs": [
    {
     "name": "stdout",
     "output_type": "stream",
     "text": [
      "/kaggle/input/test-val/test_data.tsv\n",
      "/kaggle/input/test-val/val_data.tsv\n",
      "/kaggle/input/ultimate-test-manual-check/test_ult.tsv\n",
      "/kaggle/input/bf-model-dev-copy/config.json\n",
      "/kaggle/input/bf-model-dev-copy/tokenizer.json\n",
      "/kaggle/input/bf-model-dev-copy/tf_model.h5\n",
      "/kaggle/input/bf-model-dev-copy/tokenizer_config.json\n",
      "/kaggle/input/bf-model-dev-copy/tf_model.preproc\n",
      "/kaggle/input/bf-model-dev-copy/special_tokens_map.json\n",
      "/kaggle/input/bf-model-dev-copy/vocab.txt\n"
     ]
    }
   ],
   "source": [
    "# This Python 3 environment comes with many helpful analytics libraries installed\n",
    "# It is defined by the kaggle/python Docker image: https://github.com/kaggle/docker-python\n",
    "# For example, here's several helpful packages to load\n",
    "\n",
    "import numpy as np # linear algebra\n",
    "import pandas as pd # data processing, CSV file I/O (e.g. pd.read_csv)\n",
    "\n",
    "# Input data files are available in the read-only \"../input/\" directory\n",
    "# For example, running this (by clicking run or pressing Shift+Enter) will list all files under the input directory\n",
    "\n",
    "import os\n",
    "for dirname, _, filenames in os.walk('/kaggle/input'):\n",
    "    for filename in filenames:\n",
    "        print(os.path.join(dirname, filename))\n",
    "\n",
    "# You can write up to 20GB to the current directory (/kaggle/working/) that gets preserved as output when you create a version using \"Save & Run All\" \n",
    "# You can also write temporary files to /kaggle/temp/, but they won't be saved outside of the current session"
   ]
  },
  {
   "cell_type": "code",
   "execution_count": 2,
   "id": "14f8625c",
   "metadata": {
    "execution": {
     "iopub.execute_input": "2022-04-19T23:47:36.047591Z",
     "iopub.status.busy": "2022-04-19T23:47:36.046809Z",
     "iopub.status.idle": "2022-04-19T23:48:30.040666Z",
     "shell.execute_reply": "2022-04-19T23:48:30.040135Z"
    },
    "papermill": {
     "duration": 54.0114,
     "end_time": "2022-04-19T23:48:30.040797",
     "exception": false,
     "start_time": "2022-04-19T23:47:36.029397",
     "status": "completed"
    },
    "tags": []
   },
   "outputs": [
    {
     "name": "stdout",
     "output_type": "stream",
     "text": [
      "\u001b[31mERROR: pip's dependency resolver does not currently take into account all the packages that are installed. This behaviour is the source of the following dependency conflicts.\r\n",
      "yellowbrick 1.4 requires scikit-learn>=1.0.0, but you have scikit-learn 0.24.2 which is incompatible.\r\n",
      "pdpbox 0.2.1 requires matplotlib==3.1.1, but you have matplotlib 3.5.1 which is incompatible.\r\n",
      "imbalanced-learn 0.9.0 requires scikit-learn>=1.0.1, but you have scikit-learn 0.24.2 which is incompatible.\r\n",
      "featuretools 1.6.0 requires numpy>=1.21.0, but you have numpy 1.20.3 which is incompatible.\u001b[0m\r\n",
      "\u001b[33mWARNING: Running pip as the 'root' user can result in broken permissions and conflicting behaviour with the system package manager. It is recommended to use a virtual environment instead: https://pip.pypa.io/warnings/venv\u001b[0m\r\n",
      "\u001b[33mWARNING: Running pip as the 'root' user can result in broken permissions and conflicting behaviour with the system package manager. It is recommended to use a virtual environment instead: https://pip.pypa.io/warnings/venv\u001b[0m\r\n"
     ]
    }
   ],
   "source": [
    "!pip install -q ktrain\n",
    "!pip install -q cached-path"
   ]
  },
  {
   "cell_type": "code",
   "execution_count": 3,
   "id": "be2e1477",
   "metadata": {
    "execution": {
     "iopub.execute_input": "2022-04-19T23:48:30.073848Z",
     "iopub.status.busy": "2022-04-19T23:48:30.073086Z",
     "iopub.status.idle": "2022-04-19T23:49:16.787158Z",
     "shell.execute_reply": "2022-04-19T23:49:16.787598Z",
     "shell.execute_reply.started": "2022-04-13T17:51:12.734821Z"
    },
    "papermill": {
     "duration": 46.733348,
     "end_time": "2022-04-19T23:49:16.787772",
     "exception": false,
     "start_time": "2022-04-19T23:48:30.054424",
     "status": "completed"
    },
    "tags": []
   },
   "outputs": [
    {
     "data": {
      "application/vnd.jupyter.widget-view+json": {
       "model_id": "da60078a264948e9bd61a4e6d7d2a67b",
       "version_major": 2,
       "version_minor": 0
      },
      "text/plain": [
       "downloading:   0%|          | 0.00/389M [00:00<?, ?iB/s]"
      ]
     },
     "metadata": {},
     "output_type": "display_data"
    }
   ],
   "source": [
    "import tensorflow as tf\n",
    "import ktrain \n",
    "from cached_path import cached_path\n",
    "\n",
    "\n",
    "# Activate AMP\n",
    "from tensorflow.keras.mixed_precision import experimental as mixed_precision\n",
    "policy = mixed_precision.Policy('mixed_float16')\n",
    "mixed_precision.set_policy(policy)\n",
    "\n",
    "# Load model (method 1)\n",
    "#predictor=ktrain.load_predictor('../input/bf-model-dev-copy')\n",
    "\n",
    "# Load model (method 2)\n",
    "model_path = cached_path(\"https://github.com/PathwayCommons/pathway-abstract-classifier/releases/download/pretrained-models/title_abstract_model.zip\", extract_archive=True)\n",
    "predictor = ktrain.load_predictor(model_path)"
   ]
  },
  {
   "cell_type": "code",
   "execution_count": 4,
   "id": "5c1c180e",
   "metadata": {
    "execution": {
     "iopub.execute_input": "2022-04-19T23:49:16.819966Z",
     "iopub.status.busy": "2022-04-19T23:49:16.819418Z",
     "iopub.status.idle": "2022-04-19T23:49:16.921183Z",
     "shell.execute_reply": "2022-04-19T23:49:16.921806Z",
     "shell.execute_reply.started": "2022-04-13T17:51:14.918031Z"
    },
    "papermill": {
     "duration": 0.120008,
     "end_time": "2022-04-19T23:49:16.921997",
     "exception": false,
     "start_time": "2022-04-19T23:49:16.801989",
     "status": "completed"
    },
    "tags": []
   },
   "outputs": [],
   "source": [
    "# Read in validation data\n",
    "df=pd.read_csv('../input/test-val/val_data.tsv', delimiter=\"\\t\")"
   ]
  },
  {
   "cell_type": "code",
   "execution_count": 5,
   "id": "b8dbc708",
   "metadata": {
    "execution": {
     "iopub.execute_input": "2022-04-19T23:49:16.965953Z",
     "iopub.status.busy": "2022-04-19T23:49:16.958398Z",
     "iopub.status.idle": "2022-04-19T23:49:16.968230Z",
     "shell.execute_reply": "2022-04-19T23:49:16.968798Z",
     "shell.execute_reply.started": "2022-04-13T17:51:14.955182Z"
    },
    "papermill": {
     "duration": 0.029837,
     "end_time": "2022-04-19T23:49:16.968959",
     "exception": false,
     "start_time": "2022-04-19T23:49:16.939122",
     "status": "completed"
    },
    "tags": []
   },
   "outputs": [],
   "source": [
    "#pre-process data \n",
    "df['class']=df['class'].astype('bool')\n",
    "titles=df['title'].tolist()\n",
    "abstracts=df['abstract'].tolist()\n",
    "texts = [title + \" [SEP] \" + abstract for title, abstract in zip(titles, abstracts)]\n",
    "y_val=df['class'].to_numpy()"
   ]
  },
  {
   "cell_type": "code",
   "execution_count": 6,
   "id": "1414b56e",
   "metadata": {
    "execution": {
     "iopub.execute_input": "2022-04-19T23:49:17.003748Z",
     "iopub.status.busy": "2022-04-19T23:49:17.003124Z",
     "iopub.status.idle": "2022-04-19T23:49:48.898053Z",
     "shell.execute_reply": "2022-04-19T23:49:48.898493Z",
     "shell.execute_reply.started": "2022-04-13T17:51:14.971202Z"
    },
    "papermill": {
     "duration": 31.914804,
     "end_time": "2022-04-19T23:49:48.898639",
     "exception": false,
     "start_time": "2022-04-19T23:49:16.983835",
     "status": "completed"
    },
    "tags": []
   },
   "outputs": [
    {
     "name": "stdout",
     "output_type": "stream",
     "text": [
      "              precision    recall  f1-score   support\n",
      "\n",
      "       False       0.94      0.95      0.95       842\n",
      "        True       0.77      0.77      0.77       200\n",
      "\n",
      "    accuracy                           0.91      1042\n",
      "   macro avg       0.86      0.86      0.86      1042\n",
      "weighted avg       0.91      0.91      0.91      1042\n",
      "\n",
      "0.7142926808037249\n"
     ]
    }
   ],
   "source": [
    "# Check performance on validation set\n",
    "from sklearn.metrics import accuracy_score\n",
    "from sklearn.metrics import classification_report\n",
    "from sklearn.metrics import matthews_corrcoef\n",
    "\n",
    "\n",
    "predictions=predictor.predict((texts))\n",
    "print(classification_report((y_val), predictions))\n",
    "print(matthews_corrcoef((y_val), predictions))"
   ]
  },
  {
   "cell_type": "code",
   "execution_count": 7,
   "id": "d6db9b88",
   "metadata": {
    "execution": {
     "iopub.execute_input": "2022-04-19T23:49:48.931207Z",
     "iopub.status.busy": "2022-04-19T23:49:48.930537Z",
     "iopub.status.idle": "2022-04-19T23:49:48.962484Z",
     "shell.execute_reply": "2022-04-19T23:49:48.962040Z",
     "shell.execute_reply.started": "2022-04-13T17:51:43.422579Z"
    },
    "papermill": {
     "duration": 0.049908,
     "end_time": "2022-04-19T23:49:48.962596",
     "exception": false,
     "start_time": "2022-04-19T23:49:48.912688",
     "status": "completed"
    },
    "tags": []
   },
   "outputs": [],
   "source": [
    "# Read in test data \n",
    "df_test=pd.read_csv('../input/test-val/test_data.tsv', delimiter=\"\\t\")"
   ]
  },
  {
   "cell_type": "code",
   "execution_count": 8,
   "id": "9d13c9b9",
   "metadata": {
    "execution": {
     "iopub.execute_input": "2022-04-19T23:49:48.993400Z",
     "iopub.status.busy": "2022-04-19T23:49:48.992619Z",
     "iopub.status.idle": "2022-04-19T23:49:48.999127Z",
     "shell.execute_reply": "2022-04-19T23:49:48.999519Z",
     "shell.execute_reply.started": "2022-04-13T17:51:43.449187Z"
    },
    "papermill": {
     "duration": 0.02306,
     "end_time": "2022-04-19T23:49:48.999642",
     "exception": false,
     "start_time": "2022-04-19T23:49:48.976582",
     "status": "completed"
    },
    "tags": []
   },
   "outputs": [],
   "source": [
    "#pre-process data \n",
    "df_test['class']=df_test['class'].astype('bool')\n",
    "titles=df_test['title'].tolist()\n",
    "abstracts=df_test['abstract'].tolist()\n",
    "texts = [title + \" [SEP] \" + abstract for title, abstract in zip(titles, abstracts)]\n",
    "y_test=df_test['class'].to_numpy()"
   ]
  },
  {
   "cell_type": "code",
   "execution_count": 9,
   "id": "ca599204",
   "metadata": {
    "execution": {
     "iopub.execute_input": "2022-04-19T23:49:49.032957Z",
     "iopub.status.busy": "2022-04-19T23:49:49.032208Z",
     "iopub.status.idle": "2022-04-19T23:50:02.254398Z",
     "shell.execute_reply": "2022-04-19T23:50:02.255399Z",
     "shell.execute_reply.started": "2022-04-13T17:51:43.463247Z"
    },
    "papermill": {
     "duration": 13.242115,
     "end_time": "2022-04-19T23:50:02.255618",
     "exception": false,
     "start_time": "2022-04-19T23:49:49.013503",
     "status": "completed"
    },
    "tags": []
   },
   "outputs": [
    {
     "name": "stdout",
     "output_type": "stream",
     "text": [
      "              precision    recall  f1-score   support\n",
      "\n",
      "       False       0.93      0.95      0.94       485\n",
      "        True       0.79      0.71      0.75       115\n",
      "\n",
      "    accuracy                           0.91       600\n",
      "   macro avg       0.86      0.83      0.85       600\n",
      "weighted avg       0.91      0.91      0.91       600\n",
      "\n",
      "0.6942763553429271\n"
     ]
    }
   ],
   "source": [
    "# Check performance on test set\n",
    "predictions=predictor.predict((texts))\n",
    "print(classification_report((y_test), predictions))\n",
    "print(matthews_corrcoef((y_test), predictions))"
   ]
  },
  {
   "cell_type": "code",
   "execution_count": 10,
   "id": "c8341f46",
   "metadata": {
    "execution": {
     "iopub.execute_input": "2022-04-19T23:50:02.310004Z",
     "iopub.status.busy": "2022-04-19T23:50:02.309262Z",
     "iopub.status.idle": "2022-04-19T23:50:02.384703Z",
     "shell.execute_reply": "2022-04-19T23:50:02.385258Z",
     "shell.execute_reply.started": "2022-04-13T17:51:57.150642Z"
    },
    "papermill": {
     "duration": 0.103933,
     "end_time": "2022-04-19T23:50:02.385452",
     "exception": false,
     "start_time": "2022-04-19T23:50:02.281519",
     "status": "completed"
    },
    "tags": []
   },
   "outputs": [
    {
     "name": "stdout",
     "output_type": "stream",
     "text": [
      "           uid                                           abstract  \\\n",
      "0     30509971                                                      \n",
      "1     30509970                                                      \n",
      "2     30509969                                                      \n",
      "3     30478191  Meiotic resumption-coupled degradation of mate...   \n",
      "4     30470721                                                      \n",
      "...        ...                                                ...   \n",
      "1004  25388951  Transposable elements (TEs) generate mutations...   \n",
      "1005  25385835  Formation of a new centriole adjacent to a pre...   \n",
      "1006  25378477  The Bcl-2 proteins Bax and Bak can permeabiliz...   \n",
      "1007  25371407  The final event of the eukaryotic cell cycle i...   \n",
      "1008  25361606  The Unfolded Protein Response (UPR) indirectly...   \n",
      "\n",
      "                                                  title           journal  \n",
      "0                          Open Access-or Open Science?  The EMBO journal  \n",
      "1     More than just an IkappaB kinase: the IKK comp...  The EMBO journal  \n",
      "2     Optimized Chronos sets the clock for optogenet...  The EMBO journal  \n",
      "3     CNOT6L couples the selective degradation of ma...  The EMBO journal  \n",
      "4     More is not always better: hyperglutamylation ...  The EMBO journal  \n",
      "...                                                 ...               ...  \n",
      "1004  ARGONAUTE 6 bridges transposable element mRNA-...  The EMBO journal  \n",
      "1005  RBM14 prevents assembly of centriolar protein ...  The EMBO journal  \n",
      "1006  Differential retrotranslocation of mitochondri...  The EMBO journal  \n",
      "1007  Identification of Cdk targets that control cyt...  The EMBO journal  \n",
      "1008  Unfolded protein response-induced ERdj3 secret...  The EMBO journal  \n",
      "\n",
      "[1009 rows x 4 columns]\n"
     ]
    }
   ],
   "source": [
    "# Read in test data to be manually checked\n",
    "df_ultest=pd.read_csv('../input/ultimate-test-manual-check/test_ult.tsv', delimiter =\"\\t\")\n",
    "df_ultest.replace(np.nan, '', regex=True, inplace=True)\n",
    "print(df_ultest)"
   ]
  },
  {
   "cell_type": "code",
   "execution_count": 11,
   "id": "940db24f",
   "metadata": {
    "execution": {
     "iopub.execute_input": "2022-04-19T23:50:02.436036Z",
     "iopub.status.busy": "2022-04-19T23:50:02.434478Z",
     "iopub.status.idle": "2022-04-19T23:50:02.436702Z",
     "shell.execute_reply": "2022-04-19T23:50:02.437171Z",
     "shell.execute_reply.started": "2022-04-13T17:51:57.19331Z"
    },
    "papermill": {
     "duration": 0.025993,
     "end_time": "2022-04-19T23:50:02.437295",
     "exception": false,
     "start_time": "2022-04-19T23:50:02.411302",
     "status": "completed"
    },
    "tags": []
   },
   "outputs": [],
   "source": [
    "#Pre-Process input\n",
    "titles=df_ultest['title'].tolist()\n",
    "abstracts=df_ultest['abstract'].tolist()\n",
    "texts = [title + \" [SEP] \" + abstract for title, abstract in zip(titles, abstracts)]"
   ]
  },
  {
   "cell_type": "code",
   "execution_count": 12,
   "id": "28589843",
   "metadata": {
    "execution": {
     "iopub.execute_input": "2022-04-19T23:50:02.478330Z",
     "iopub.status.busy": "2022-04-19T23:50:02.474567Z",
     "iopub.status.idle": "2022-04-19T23:50:40.337206Z",
     "shell.execute_reply": "2022-04-19T23:50:40.336733Z",
     "shell.execute_reply.started": "2022-04-13T17:51:57.204551Z"
    },
    "papermill": {
     "duration": 37.883932,
     "end_time": "2022-04-19T23:50:40.337333",
     "exception": false,
     "start_time": "2022-04-19T23:50:02.453401",
     "status": "completed"
    },
    "tags": []
   },
   "outputs": [],
   "source": [
    "# Make predictions (with probs) on input and add to dataframe\n",
    "predictions=predictor.predict((texts))\n",
    "probs= predictor.predict_proba((texts))\n",
    "df_ultest['Predictions']=predictions\n",
    "df_ultest['Probs']=probs[:,1]"
   ]
  },
  {
   "cell_type": "code",
   "execution_count": 13,
   "id": "2d6b6f6c",
   "metadata": {
    "execution": {
     "iopub.execute_input": "2022-04-19T23:50:40.373258Z",
     "iopub.status.busy": "2022-04-19T23:50:40.372522Z",
     "iopub.status.idle": "2022-04-19T23:50:40.414979Z",
     "shell.execute_reply": "2022-04-19T23:50:40.414577Z",
     "shell.execute_reply.started": "2022-04-13T17:52:36.434726Z"
    },
    "papermill": {
     "duration": 0.061536,
     "end_time": "2022-04-19T23:50:40.415089",
     "exception": false,
     "start_time": "2022-04-19T23:50:40.353553",
     "status": "completed"
    },
    "tags": []
   },
   "outputs": [],
   "source": [
    "df_ultest.to_csv('manual_test.tsv', sep=\"\\t\", index= False)"
   ]
  },
  {
   "cell_type": "code",
   "execution_count": null,
   "id": "b78885fc",
   "metadata": {
    "papermill": {
     "duration": 0.01446,
     "end_time": "2022-04-19T23:50:40.444340",
     "exception": false,
     "start_time": "2022-04-19T23:50:40.429880",
     "status": "completed"
    },
    "tags": []
   },
   "outputs": [],
   "source": []
  }
 ],
 "metadata": {
  "kernelspec": {
   "display_name": "Python 3",
   "language": "python",
   "name": "python3"
  },
  "language_info": {
   "codemirror_mode": {
    "name": "ipython",
    "version": 3
   },
   "file_extension": ".py",
   "mimetype": "text/x-python",
   "name": "python",
   "nbconvert_exporter": "python",
   "pygments_lexer": "ipython3",
   "version": "3.7.12"
  },
  "papermill": {
   "default_parameters": {},
   "duration": 195.412738,
   "end_time": "2022-04-19T23:50:43.531079",
   "environment_variables": {},
   "exception": null,
   "input_path": "__notebook__.ipynb",
   "output_path": "__notebook__.ipynb",
   "parameters": {},
   "start_time": "2022-04-19T23:47:28.118341",
   "version": "2.3.3"
  },
  "widgets": {
   "application/vnd.jupyter.widget-state+json": {
    "state": {
     "12af32ef132049e084771a0ea3afb447": {
      "model_module": "@jupyter-widgets/controls",
      "model_module_version": "1.5.0",
      "model_name": "ProgressStyleModel",
      "state": {
       "_model_module": "@jupyter-widgets/controls",
       "_model_module_version": "1.5.0",
       "_model_name": "ProgressStyleModel",
       "_view_count": null,
       "_view_module": "@jupyter-widgets/base",
       "_view_module_version": "1.2.0",
       "_view_name": "StyleView",
       "bar_color": null,
       "description_width": ""
      }
     },
     "14812305dd0e467db567df4d2fab0871": {
      "model_module": "@jupyter-widgets/base",
      "model_module_version": "1.2.0",
      "model_name": "LayoutModel",
      "state": {
       "_model_module": "@jupyter-widgets/base",
       "_model_module_version": "1.2.0",
       "_model_name": "LayoutModel",
       "_view_count": null,
       "_view_module": "@jupyter-widgets/base",
       "_view_module_version": "1.2.0",
       "_view_name": "LayoutView",
       "align_content": null,
       "align_items": null,
       "align_self": null,
       "border": null,
       "bottom": null,
       "display": null,
       "flex": null,
       "flex_flow": null,
       "grid_area": null,
       "grid_auto_columns": null,
       "grid_auto_flow": null,
       "grid_auto_rows": null,
       "grid_column": null,
       "grid_gap": null,
       "grid_row": null,
       "grid_template_areas": null,
       "grid_template_columns": null,
       "grid_template_rows": null,
       "height": null,
       "justify_content": null,
       "justify_items": null,
       "left": null,
       "margin": null,
       "max_height": null,
       "max_width": null,
       "min_height": null,
       "min_width": null,
       "object_fit": null,
       "object_position": null,
       "order": null,
       "overflow": null,
       "overflow_x": null,
       "overflow_y": null,
       "padding": null,
       "right": null,
       "top": null,
       "visibility": null,
       "width": null
      }
     },
     "3f80a8027cee487d969d08868e42c43c": {
      "model_module": "@jupyter-widgets/base",
      "model_module_version": "1.2.0",
      "model_name": "LayoutModel",
      "state": {
       "_model_module": "@jupyter-widgets/base",
       "_model_module_version": "1.2.0",
       "_model_name": "LayoutModel",
       "_view_count": null,
       "_view_module": "@jupyter-widgets/base",
       "_view_module_version": "1.2.0",
       "_view_name": "LayoutView",
       "align_content": null,
       "align_items": null,
       "align_self": null,
       "border": null,
       "bottom": null,
       "display": null,
       "flex": null,
       "flex_flow": null,
       "grid_area": null,
       "grid_auto_columns": null,
       "grid_auto_flow": null,
       "grid_auto_rows": null,
       "grid_column": null,
       "grid_gap": null,
       "grid_row": null,
       "grid_template_areas": null,
       "grid_template_columns": null,
       "grid_template_rows": null,
       "height": null,
       "justify_content": null,
       "justify_items": null,
       "left": null,
       "margin": null,
       "max_height": null,
       "max_width": null,
       "min_height": null,
       "min_width": null,
       "object_fit": null,
       "object_position": null,
       "order": null,
       "overflow": null,
       "overflow_x": null,
       "overflow_y": null,
       "padding": null,
       "right": null,
       "top": null,
       "visibility": null,
       "width": null
      }
     },
     "537dda7b8de441c6b66159c66ba65967": {
      "model_module": "@jupyter-widgets/controls",
      "model_module_version": "1.5.0",
      "model_name": "FloatProgressModel",
      "state": {
       "_dom_classes": [],
       "_model_module": "@jupyter-widgets/controls",
       "_model_module_version": "1.5.0",
       "_model_name": "FloatProgressModel",
       "_view_count": null,
       "_view_module": "@jupyter-widgets/controls",
       "_view_module_version": "1.5.0",
       "_view_name": "ProgressView",
       "bar_style": "success",
       "description": "",
       "description_tooltip": null,
       "layout": "IPY_MODEL_bde21e84f15042e1a5983840b5baa809",
       "max": 408087330.0,
       "min": 0.0,
       "orientation": "horizontal",
       "style": "IPY_MODEL_12af32ef132049e084771a0ea3afb447",
       "value": 408087330.0
      }
     },
     "5b6684ab75264833a8bfc247ac6cbfbd": {
      "model_module": "@jupyter-widgets/controls",
      "model_module_version": "1.5.0",
      "model_name": "DescriptionStyleModel",
      "state": {
       "_model_module": "@jupyter-widgets/controls",
       "_model_module_version": "1.5.0",
       "_model_name": "DescriptionStyleModel",
       "_view_count": null,
       "_view_module": "@jupyter-widgets/base",
       "_view_module_version": "1.2.0",
       "_view_name": "StyleView",
       "description_width": ""
      }
     },
     "6fe046420bd649b399e3a355b83cc2d6": {
      "model_module": "@jupyter-widgets/controls",
      "model_module_version": "1.5.0",
      "model_name": "DescriptionStyleModel",
      "state": {
       "_model_module": "@jupyter-widgets/controls",
       "_model_module_version": "1.5.0",
       "_model_name": "DescriptionStyleModel",
       "_view_count": null,
       "_view_module": "@jupyter-widgets/base",
       "_view_module_version": "1.2.0",
       "_view_name": "StyleView",
       "description_width": ""
      }
     },
     "8235f3fda0594c3489f3bdd991ff546a": {
      "model_module": "@jupyter-widgets/base",
      "model_module_version": "1.2.0",
      "model_name": "LayoutModel",
      "state": {
       "_model_module": "@jupyter-widgets/base",
       "_model_module_version": "1.2.0",
       "_model_name": "LayoutModel",
       "_view_count": null,
       "_view_module": "@jupyter-widgets/base",
       "_view_module_version": "1.2.0",
       "_view_name": "LayoutView",
       "align_content": null,
       "align_items": null,
       "align_self": null,
       "border": null,
       "bottom": null,
       "display": null,
       "flex": null,
       "flex_flow": null,
       "grid_area": null,
       "grid_auto_columns": null,
       "grid_auto_flow": null,
       "grid_auto_rows": null,
       "grid_column": null,
       "grid_gap": null,
       "grid_row": null,
       "grid_template_areas": null,
       "grid_template_columns": null,
       "grid_template_rows": null,
       "height": null,
       "justify_content": null,
       "justify_items": null,
       "left": null,
       "margin": null,
       "max_height": null,
       "max_width": null,
       "min_height": null,
       "min_width": null,
       "object_fit": null,
       "object_position": null,
       "order": null,
       "overflow": null,
       "overflow_x": null,
       "overflow_y": null,
       "padding": null,
       "right": null,
       "top": null,
       "visibility": null,
       "width": null
      }
     },
     "a975f05f8a6b4d65a565ccfbecf13acc": {
      "model_module": "@jupyter-widgets/controls",
      "model_module_version": "1.5.0",
      "model_name": "HTMLModel",
      "state": {
       "_dom_classes": [],
       "_model_module": "@jupyter-widgets/controls",
       "_model_module_version": "1.5.0",
       "_model_name": "HTMLModel",
       "_view_count": null,
       "_view_module": "@jupyter-widgets/controls",
       "_view_module_version": "1.5.0",
       "_view_name": "HTMLView",
       "description": "",
       "description_tooltip": null,
       "layout": "IPY_MODEL_8235f3fda0594c3489f3bdd991ff546a",
       "placeholder": "​",
       "style": "IPY_MODEL_5b6684ab75264833a8bfc247ac6cbfbd",
       "value": "downloading: 100%"
      }
     },
     "bde21e84f15042e1a5983840b5baa809": {
      "model_module": "@jupyter-widgets/base",
      "model_module_version": "1.2.0",
      "model_name": "LayoutModel",
      "state": {
       "_model_module": "@jupyter-widgets/base",
       "_model_module_version": "1.2.0",
       "_model_name": "LayoutModel",
       "_view_count": null,
       "_view_module": "@jupyter-widgets/base",
       "_view_module_version": "1.2.0",
       "_view_name": "LayoutView",
       "align_content": null,
       "align_items": null,
       "align_self": null,
       "border": null,
       "bottom": null,
       "display": null,
       "flex": null,
       "flex_flow": null,
       "grid_area": null,
       "grid_auto_columns": null,
       "grid_auto_flow": null,
       "grid_auto_rows": null,
       "grid_column": null,
       "grid_gap": null,
       "grid_row": null,
       "grid_template_areas": null,
       "grid_template_columns": null,
       "grid_template_rows": null,
       "height": null,
       "justify_content": null,
       "justify_items": null,
       "left": null,
       "margin": null,
       "max_height": null,
       "max_width": null,
       "min_height": null,
       "min_width": null,
       "object_fit": null,
       "object_position": null,
       "order": null,
       "overflow": null,
       "overflow_x": null,
       "overflow_y": null,
       "padding": null,
       "right": null,
       "top": null,
       "visibility": null,
       "width": null
      }
     },
     "da60078a264948e9bd61a4e6d7d2a67b": {
      "model_module": "@jupyter-widgets/controls",
      "model_module_version": "1.5.0",
      "model_name": "HBoxModel",
      "state": {
       "_dom_classes": [],
       "_model_module": "@jupyter-widgets/controls",
       "_model_module_version": "1.5.0",
       "_model_name": "HBoxModel",
       "_view_count": null,
       "_view_module": "@jupyter-widgets/controls",
       "_view_module_version": "1.5.0",
       "_view_name": "HBoxView",
       "box_style": "",
       "children": [
        "IPY_MODEL_a975f05f8a6b4d65a565ccfbecf13acc",
        "IPY_MODEL_537dda7b8de441c6b66159c66ba65967",
        "IPY_MODEL_dcb0877eeddf47438456964e494f253c"
       ],
       "layout": "IPY_MODEL_14812305dd0e467db567df4d2fab0871"
      }
     },
     "dcb0877eeddf47438456964e494f253c": {
      "model_module": "@jupyter-widgets/controls",
      "model_module_version": "1.5.0",
      "model_name": "HTMLModel",
      "state": {
       "_dom_classes": [],
       "_model_module": "@jupyter-widgets/controls",
       "_model_module_version": "1.5.0",
       "_model_name": "HTMLModel",
       "_view_count": null,
       "_view_module": "@jupyter-widgets/controls",
       "_view_module_version": "1.5.0",
       "_view_name": "HTMLView",
       "description": "",
       "description_tooltip": null,
       "layout": "IPY_MODEL_3f80a8027cee487d969d08868e42c43c",
       "placeholder": "​",
       "style": "IPY_MODEL_6fe046420bd649b399e3a355b83cc2d6",
       "value": " 389M/389M [00:26&lt;00:00, 16.4MiB/s]"
      }
     }
    },
    "version_major": 2,
    "version_minor": 0
   }
  }
 },
 "nbformat": 4,
 "nbformat_minor": 5
}
