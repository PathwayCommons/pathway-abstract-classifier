{
 "cells": [
  {
   "cell_type": "code",
   "execution_count": 1,
   "id": "adc8533a",
   "metadata": {
    "_cell_guid": "b1076dfc-b9ad-4769-8c92-a6c4dae69d19",
    "_uuid": "8f2839f25d086af736a60e9eeb907d3b93b6e0e5",
    "execution": {
     "iopub.execute_input": "2022-03-25T17:40:14.647424Z",
     "iopub.status.busy": "2022-03-25T17:40:14.646779Z",
     "iopub.status.idle": "2022-03-25T17:40:14.674382Z",
     "shell.execute_reply": "2022-03-25T17:40:14.674915Z",
     "shell.execute_reply.started": "2022-03-14T21:43:36.467652Z"
    },
    "papermill": {
     "duration": 0.057029,
     "end_time": "2022-03-25T17:40:14.675257",
     "exception": false,
     "start_time": "2022-03-25T17:40:14.618228",
     "status": "completed"
    },
    "tags": []
   },
   "outputs": [
    {
     "name": "stdout",
     "output_type": "stream",
     "text": [
      "/kaggle/input/top-losses-cl/top_losses_cl.tsv\n",
      "/kaggle/input/test-val/test_data.tsv\n",
      "/kaggle/input/test-val/val_data.tsv\n",
      "/kaggle/input/all-labelled/all_labelled.tsv\n"
     ]
    }
   ],
   "source": [
    "# This Python 3 environment comes with many helpful analytics libraries installed\n",
    "# It is defined by the kaggle/python Docker image: https://github.com/kaggle/docker-python\n",
    "# For example, here's several helpful packages to load\n",
    "\n",
    "import numpy as np # linear algebra\n",
    "import pandas as pd # data processing, CSV file I/O (e.g. pd.read_csv)\n",
    "\n",
    "# Input data files are available in the read-only \"../input/\" directory\n",
    "# For example, running this (by clicking run or pressing Shift+Enter) will list all files under the input directory\n",
    "\n",
    "import os\n",
    "for dirname, _, filenames in os.walk('/kaggle/input'):\n",
    "    for filename in filenames:\n",
    "        print(os.path.join(dirname, filename))\n",
    "\n",
    "# You can write up to 20GB to the current directory (/kaggle/working/) that gets preserved as output when you create a version using \"Save & Run All\" \n",
    "# You can also write temporary files to /kaggle/temp/, but they won't be saved outside of the current session"
   ]
  },
  {
   "cell_type": "code",
   "execution_count": 2,
   "id": "e57947f9",
   "metadata": {
    "execution": {
     "iopub.execute_input": "2022-03-25T17:40:14.739456Z",
     "iopub.status.busy": "2022-03-25T17:40:14.738623Z",
     "iopub.status.idle": "2022-03-25T17:40:15.068191Z",
     "shell.execute_reply": "2022-03-25T17:40:15.067709Z",
     "shell.execute_reply.started": "2022-03-14T21:43:36.483425Z"
    },
    "papermill": {
     "duration": 0.36329,
     "end_time": "2022-03-25T17:40:15.068341",
     "exception": false,
     "start_time": "2022-03-25T17:40:14.705051",
     "status": "completed"
    },
    "tags": []
   },
   "outputs": [],
   "source": [
    "train=pd.read_csv(\"../input/all-labelled/all_labelled.tsv\", delimiter=\"\\t\")\n",
    "validation=pd.read_csv(\"../input/test-val/val_data.tsv\", delimiter=\"\\t\")\n",
    "cl=pd.read_csv(\"../input/top-losses-cl/top_losses_cl.tsv\", delimiter= \"\\t\")"
   ]
  },
  {
   "cell_type": "code",
   "execution_count": 3,
   "id": "e3fc7783",
   "metadata": {
    "execution": {
     "iopub.execute_input": "2022-03-25T17:40:15.111432Z",
     "iopub.status.busy": "2022-03-25T17:40:15.109234Z",
     "iopub.status.idle": "2022-03-25T17:40:15.113815Z",
     "shell.execute_reply": "2022-03-25T17:40:15.114368Z",
     "shell.execute_reply.started": "2022-03-14T21:43:36.629446Z"
    },
    "papermill": {
     "duration": 0.029857,
     "end_time": "2022-03-25T17:40:15.114500",
     "exception": false,
     "start_time": "2022-03-25T17:40:15.084643",
     "status": "completed"
    },
    "tags": []
   },
   "outputs": [],
   "source": [
    "train['class']=train['class'].astype('bool')\n",
    "validation['class']=validation['class'].astype('bool')\n",
    "cl['class']=cl['class'].astype('bool')"
   ]
  },
  {
   "cell_type": "code",
   "execution_count": 4,
   "id": "bc61b220",
   "metadata": {
    "execution": {
     "iopub.execute_input": "2022-03-25T17:40:15.152634Z",
     "iopub.status.busy": "2022-03-25T17:40:15.150050Z",
     "iopub.status.idle": "2022-03-25T17:40:15.165264Z",
     "shell.execute_reply": "2022-03-25T17:40:15.165632Z",
     "shell.execute_reply.started": "2022-03-14T21:43:36.642465Z"
    },
    "papermill": {
     "duration": 0.035227,
     "end_time": "2022-03-25T17:40:15.165765",
     "exception": false,
     "start_time": "2022-03-25T17:40:15.130538",
     "status": "completed"
    },
    "tags": []
   },
   "outputs": [
    {
     "name": "stdout",
     "output_type": "stream",
     "text": [
      "           uid                                           abstract  \\\n",
      "7     31969690  Neonatal mammalian heart maintains a transient...   \n",
      "10    31959915  The identification of viability-associated lon...   \n",
      "20    32127658  Autophagy is a cellular catabolic process that...   \n",
      "33    32447347  Senescence is accompanied with histones level ...   \n",
      "50    32376875  We have previously reported that Monoglyceride...   \n",
      "...        ...                                                ...   \n",
      "8491  33555257  The Hippo (Hpo) pathway regulates tissue growt...   \n",
      "8613  33459596  Germline mutations in the Folliculin (FLCN) tu...   \n",
      "8643  33438577  The microphthalmia-associated transcription fa...   \n",
      "8648  33432928  Skeletal muscle possesses an outstanding capac...   \n",
      "8669  33416496  The oncoprotein transcription factor MYC is a ...   \n",
      "\n",
      "                                                  title  \\\n",
      "7     Targeting LncDACH1 promotes cardiac repair and...   \n",
      "10    LINC00662 promotes hepatocellular carcinoma pr...   \n",
      "20    Deleting key autophagy elongation proteins ind...   \n",
      "33    Arginine hypomethylation-mediated proteasomal ...   \n",
      "50    Monoglyceride lipase mediates tumor-suppressiv...   \n",
      "...                                                 ...   \n",
      "8491  Negative feedback couples Hippo pathway activa...   \n",
      "8613  Loss of FLCN-FNIP1/2 induces a non-canonical i...   \n",
      "8643  MITF reprograms the extracellular matrix and f...   \n",
      "8648  Epigenetic regulation of Wnt7b expression by t...   \n",
      "8669  MYC regulates ribosome biogenesis and mitochon...   \n",
      "\n",
      "                             journal  class  \n",
      "7     Cell death and differentiation  False  \n",
      "10    Cell death and differentiation   True  \n",
      "20    Cell death and differentiation  False  \n",
      "33    Cell death and differentiation  False  \n",
      "50    Cell death and differentiation  False  \n",
      "...                              ...    ...  \n",
      "8491                           eLife   True  \n",
      "8613                           eLife  False  \n",
      "8643                           eLife  False  \n",
      "8648                           eLife  False  \n",
      "8669                           eLife  False  \n",
      "\n",
      "[557 rows x 5 columns]\n"
     ]
    }
   ],
   "source": [
    "print(train[train['uid'].isin(cl['uid'])])"
   ]
  },
  {
   "cell_type": "code",
   "execution_count": 5,
   "id": "fa2999f8",
   "metadata": {
    "execution": {
     "iopub.execute_input": "2022-03-25T17:40:15.203135Z",
     "iopub.status.busy": "2022-03-25T17:40:15.202250Z",
     "iopub.status.idle": "2022-03-25T17:40:15.206640Z",
     "shell.execute_reply": "2022-03-25T17:40:15.206248Z",
     "shell.execute_reply.started": "2022-03-14T21:43:36.657638Z"
    },
    "papermill": {
     "duration": 0.024589,
     "end_time": "2022-03-25T17:40:15.206752",
     "exception": false,
     "start_time": "2022-03-25T17:40:15.182163",
     "status": "completed"
    },
    "tags": []
   },
   "outputs": [],
   "source": [
    "train.loc[train['uid'].isin(cl['uid']), 'class'] = ~(train.loc[train['uid'].isin(cl['uid']), 'class'] )"
   ]
  },
  {
   "cell_type": "code",
   "execution_count": 6,
   "id": "f0db1c6a",
   "metadata": {
    "execution": {
     "iopub.execute_input": "2022-03-25T17:40:15.243072Z",
     "iopub.status.busy": "2022-03-25T17:40:15.242537Z",
     "iopub.status.idle": "2022-03-25T17:40:15.251122Z",
     "shell.execute_reply": "2022-03-25T17:40:15.250686Z",
     "shell.execute_reply.started": "2022-03-14T21:43:36.666617Z"
    },
    "papermill": {
     "duration": 0.028159,
     "end_time": "2022-03-25T17:40:15.251235",
     "exception": false,
     "start_time": "2022-03-25T17:40:15.223076",
     "status": "completed"
    },
    "tags": []
   },
   "outputs": [
    {
     "name": "stdout",
     "output_type": "stream",
     "text": [
      "           uid                                           abstract  \\\n",
      "7     31969690  Neonatal mammalian heart maintains a transient...   \n",
      "10    31959915  The identification of viability-associated lon...   \n",
      "20    32127658  Autophagy is a cellular catabolic process that...   \n",
      "33    32447347  Senescence is accompanied with histones level ...   \n",
      "50    32376875  We have previously reported that Monoglyceride...   \n",
      "...        ...                                                ...   \n",
      "8491  33555257  The Hippo (Hpo) pathway regulates tissue growt...   \n",
      "8613  33459596  Germline mutations in the Folliculin (FLCN) tu...   \n",
      "8643  33438577  The microphthalmia-associated transcription fa...   \n",
      "8648  33432928  Skeletal muscle possesses an outstanding capac...   \n",
      "8669  33416496  The oncoprotein transcription factor MYC is a ...   \n",
      "\n",
      "                                                  title  \\\n",
      "7     Targeting LncDACH1 promotes cardiac repair and...   \n",
      "10    LINC00662 promotes hepatocellular carcinoma pr...   \n",
      "20    Deleting key autophagy elongation proteins ind...   \n",
      "33    Arginine hypomethylation-mediated proteasomal ...   \n",
      "50    Monoglyceride lipase mediates tumor-suppressiv...   \n",
      "...                                                 ...   \n",
      "8491  Negative feedback couples Hippo pathway activa...   \n",
      "8613  Loss of FLCN-FNIP1/2 induces a non-canonical i...   \n",
      "8643  MITF reprograms the extracellular matrix and f...   \n",
      "8648  Epigenetic regulation of Wnt7b expression by t...   \n",
      "8669  MYC regulates ribosome biogenesis and mitochon...   \n",
      "\n",
      "                             journal  class  \n",
      "7     Cell death and differentiation   True  \n",
      "10    Cell death and differentiation  False  \n",
      "20    Cell death and differentiation   True  \n",
      "33    Cell death and differentiation   True  \n",
      "50    Cell death and differentiation   True  \n",
      "...                              ...    ...  \n",
      "8491                           eLife  False  \n",
      "8613                           eLife   True  \n",
      "8643                           eLife   True  \n",
      "8648                           eLife   True  \n",
      "8669                           eLife   True  \n",
      "\n",
      "[557 rows x 5 columns]\n"
     ]
    }
   ],
   "source": [
    "print(train[train['uid'].isin(cl['uid'])])"
   ]
  },
  {
   "cell_type": "code",
   "execution_count": 7,
   "id": "c3cfcdd5",
   "metadata": {
    "execution": {
     "iopub.execute_input": "2022-03-25T17:40:15.293607Z",
     "iopub.status.busy": "2022-03-25T17:40:15.292817Z",
     "iopub.status.idle": "2022-03-25T17:40:15.327524Z",
     "shell.execute_reply": "2022-03-25T17:40:15.327093Z",
     "shell.execute_reply.started": "2022-03-14T21:43:36.680557Z"
    },
    "papermill": {
     "duration": 0.059611,
     "end_time": "2022-03-25T17:40:15.327624",
     "exception": false,
     "start_time": "2022-03-25T17:40:15.268013",
     "status": "completed"
    },
    "tags": []
   },
   "outputs": [],
   "source": [
    "# Pre-process train data \n",
    "train.dropna(inplace=True)\n",
    "train=train.drop_duplicates()"
   ]
  },
  {
   "cell_type": "code",
   "execution_count": 8,
   "id": "34d56642",
   "metadata": {
    "execution": {
     "iopub.execute_input": "2022-03-25T17:40:15.368467Z",
     "iopub.status.busy": "2022-03-25T17:40:15.367699Z",
     "iopub.status.idle": "2022-03-25T17:40:56.446823Z",
     "shell.execute_reply": "2022-03-25T17:40:56.446378Z",
     "shell.execute_reply.started": "2022-03-14T21:43:36.725113Z"
    },
    "papermill": {
     "duration": 41.099694,
     "end_time": "2022-03-25T17:40:56.446973",
     "exception": false,
     "start_time": "2022-03-25T17:40:15.347279",
     "status": "completed"
    },
    "tags": []
   },
   "outputs": [
    {
     "name": "stdout",
     "output_type": "stream",
     "text": [
      "\u001b[31mERROR: pip's dependency resolver does not currently take into account all the packages that are installed. This behaviour is the source of the following dependency conflicts.\r\n",
      "yellowbrick 1.4 requires scikit-learn>=1.0.0, but you have scikit-learn 0.24.2 which is incompatible.\r\n",
      "pdpbox 0.2.1 requires matplotlib==3.1.1, but you have matplotlib 3.5.1 which is incompatible.\r\n",
      "imbalanced-learn 0.9.0 requires scikit-learn>=1.0.1, but you have scikit-learn 0.24.2 which is incompatible.\r\n",
      "featuretools 1.6.0 requires numpy>=1.21.0, but you have numpy 1.20.3 which is incompatible.\u001b[0m\r\n",
      "\u001b[33mWARNING: Running pip as the 'root' user can result in broken permissions and conflicting behaviour with the system package manager. It is recommended to use a virtual environment instead: https://pip.pypa.io/warnings/venv\u001b[0m\r\n"
     ]
    }
   ],
   "source": [
    "!pip install -q ktrain "
   ]
  },
  {
   "cell_type": "code",
   "execution_count": 9,
   "id": "0ab50c43",
   "metadata": {
    "execution": {
     "iopub.execute_input": "2022-03-25T17:40:56.487099Z",
     "iopub.status.busy": "2022-03-25T17:40:56.486475Z",
     "iopub.status.idle": "2022-03-25T17:41:16.349465Z",
     "shell.execute_reply": "2022-03-25T17:41:16.347830Z",
     "shell.execute_reply.started": "2022-03-14T21:43:44.56648Z"
    },
    "papermill": {
     "duration": 19.885357,
     "end_time": "2022-03-25T17:41:16.349698",
     "exception": false,
     "start_time": "2022-03-25T17:40:56.464341",
     "status": "completed"
    },
    "tags": []
   },
   "outputs": [],
   "source": [
    "# Import required libraries \n",
    "import tensorflow as tf \n",
    "import ktrain \n",
    "from ktrain import text \n",
    "from sklearn.model_selection import train_test_split\n",
    "# Enable AMP\n",
    "from tensorflow.keras.mixed_precision import experimental as mixed_precision\n",
    "policy = mixed_precision.Policy('mixed_float16')\n",
    "mixed_precision.set_policy(policy)"
   ]
  },
  {
   "cell_type": "code",
   "execution_count": 10,
   "id": "6f1b0e98",
   "metadata": {
    "execution": {
     "iopub.execute_input": "2022-03-25T17:41:16.422065Z",
     "iopub.status.busy": "2022-03-25T17:41:16.421092Z",
     "iopub.status.idle": "2022-03-25T17:41:16.423594Z",
     "shell.execute_reply": "2022-03-25T17:41:16.422881Z",
     "shell.execute_reply.started": "2022-03-14T21:43:44.579848Z"
    },
    "papermill": {
     "duration": 0.042641,
     "end_time": "2022-03-25T17:41:16.423761",
     "exception": false,
     "start_time": "2022-03-25T17:41:16.381120",
     "status": "completed"
    },
    "tags": []
   },
   "outputs": [],
   "source": [
    "# Set random seed\n",
    "import os\n",
    "import random\n",
    "def reset_random_seeds(seed=3):\n",
    "    os.environ['PYTHONHASHSEED']=str(seed)\n",
    "    tf.random.set_seed(seed)\n",
    "    np.random.seed(seed)\n",
    "    random.seed(seed)\n",
    "reset_random_seeds() "
   ]
  },
  {
   "cell_type": "code",
   "execution_count": 11,
   "id": "3aca02f5",
   "metadata": {
    "execution": {
     "iopub.execute_input": "2022-03-25T17:41:16.498663Z",
     "iopub.status.busy": "2022-03-25T17:41:16.497049Z",
     "iopub.status.idle": "2022-03-25T17:41:16.501539Z",
     "shell.execute_reply": "2022-03-25T17:41:16.501045Z",
     "shell.execute_reply.started": "2022-03-14T21:43:44.588571Z"
    },
    "papermill": {
     "duration": 0.046697,
     "end_time": "2022-03-25T17:41:16.501667",
     "exception": false,
     "start_time": "2022-03-25T17:41:16.454970",
     "status": "completed"
    },
    "tags": []
   },
   "outputs": [],
   "source": [
    "X_train=train['abstract'].to_numpy()\n",
    "y_train=train['class'].to_numpy()"
   ]
  },
  {
   "cell_type": "code",
   "execution_count": 12,
   "id": "0fcef82d",
   "metadata": {
    "execution": {
     "iopub.execute_input": "2022-03-25T17:41:16.568238Z",
     "iopub.status.busy": "2022-03-25T17:41:16.565696Z",
     "iopub.status.idle": "2022-03-25T17:41:16.569149Z",
     "shell.execute_reply": "2022-03-25T17:41:16.569915Z",
     "shell.execute_reply.started": "2022-03-14T21:43:44.601136Z"
    },
    "papermill": {
     "duration": 0.039992,
     "end_time": "2022-03-25T17:41:16.570108",
     "exception": false,
     "start_time": "2022-03-25T17:41:16.530116",
     "status": "completed"
    },
    "tags": []
   },
   "outputs": [],
   "source": [
    "X_val=validation['abstract'].to_numpy()\n",
    "y_val=validation['class'].to_numpy()"
   ]
  },
  {
   "cell_type": "code",
   "execution_count": 13,
   "id": "a5847336",
   "metadata": {
    "execution": {
     "iopub.execute_input": "2022-03-25T17:41:16.639812Z",
     "iopub.status.busy": "2022-03-25T17:41:16.639015Z",
     "iopub.status.idle": "2022-03-25T17:41:16.926587Z",
     "shell.execute_reply": "2022-03-25T17:41:16.927575Z",
     "shell.execute_reply.started": "2022-03-14T21:43:44.612598Z"
    },
    "papermill": {
     "duration": 0.32769,
     "end_time": "2022-03-25T17:41:16.927776",
     "exception": false,
     "start_time": "2022-03-25T17:41:16.600086",
     "status": "completed"
    },
    "tags": []
   },
   "outputs": [
    {
     "data": {
      "application/vnd.jupyter.widget-view+json": {
       "model_id": "255f3be5f97b422d8f3c734b79f52e39",
       "version_major": 2,
       "version_minor": 0
      },
      "text/plain": [
       "Downloading:   0%|          | 0.00/385 [00:00<?, ?B/s]"
      ]
     },
     "metadata": {},
     "output_type": "display_data"
    }
   ],
   "source": [
    "t_mod = text.Transformer('microsoft/BiomedNLP-PubMedBERT-base-uncased-abstract-fulltext', maxlen=500, class_names = [0,1])"
   ]
  },
  {
   "cell_type": "code",
   "execution_count": 14,
   "id": "a5d13ca8",
   "metadata": {
    "execution": {
     "iopub.execute_input": "2022-03-25T17:41:16.992574Z",
     "iopub.status.busy": "2022-03-25T17:41:16.991726Z",
     "iopub.status.idle": "2022-03-25T17:41:16.993909Z",
     "shell.execute_reply": "2022-03-25T17:41:16.993276Z",
     "shell.execute_reply.started": "2022-03-14T21:43:44.7527Z"
    },
    "papermill": {
     "duration": 0.036826,
     "end_time": "2022-03-25T17:41:16.994056",
     "exception": false,
     "start_time": "2022-03-25T17:41:16.957230",
     "status": "completed"
    },
    "tags": []
   },
   "outputs": [],
   "source": [
    "from sklearn.metrics import accuracy_score\n",
    "from sklearn.metrics import classification_report\n",
    "from sklearn.metrics import matthews_corrcoef"
   ]
  },
  {
   "cell_type": "code",
   "execution_count": 15,
   "id": "0648da65",
   "metadata": {
    "execution": {
     "iopub.execute_input": "2022-03-25T17:41:17.062414Z",
     "iopub.status.busy": "2022-03-25T17:41:17.061646Z",
     "iopub.status.idle": "2022-03-25T17:41:43.798322Z",
     "shell.execute_reply": "2022-03-25T17:41:43.797757Z",
     "shell.execute_reply.started": "2022-03-14T21:43:44.758623Z"
    },
    "papermill": {
     "duration": 26.775702,
     "end_time": "2022-03-25T17:41:43.798463",
     "exception": false,
     "start_time": "2022-03-25T17:41:17.022761",
     "status": "completed"
    },
    "tags": []
   },
   "outputs": [
    {
     "name": "stdout",
     "output_type": "stream",
     "text": [
      "preprocessing train...\n",
      "language: en\n",
      "train sequence lengths:\n",
      "\tmean : 170\n",
      "\t95percentile : 249\n",
      "\t99percentile : 268\n"
     ]
    },
    {
     "data": {
      "application/vnd.jupyter.widget-view+json": {
       "model_id": "70babc69a0174cec941d3efacb233410",
       "version_major": 2,
       "version_minor": 0
      },
      "text/plain": [
       "Downloading:   0%|          | 0.00/28.0 [00:00<?, ?B/s]"
      ]
     },
     "metadata": {},
     "output_type": "display_data"
    },
    {
     "data": {
      "application/vnd.jupyter.widget-view+json": {
       "model_id": "9021ac647ec24fe081cecae2cec9a323",
       "version_major": 2,
       "version_minor": 0
      },
      "text/plain": [
       "Downloading:   0%|          | 0.00/226k [00:00<?, ?B/s]"
      ]
     },
     "metadata": {},
     "output_type": "display_data"
    },
    {
     "data": {
      "text/html": [
       "\n",
       "<style>\n",
       "    /* Turns off some styling */\n",
       "    progress {\n",
       "        /* gets rid of default border in Firefox and Opera. */\n",
       "        border: none;\n",
       "        /* Needs to be in here for Safari polyfill so background images work as expected. */\n",
       "        background-size: auto;\n",
       "    }\n",
       "    .progress-bar-interrupted, .progress-bar-interrupted::-webkit-progress-bar {\n",
       "        background: #F44336;\n",
       "    }\n",
       "</style>\n"
      ],
      "text/plain": [
       "<IPython.core.display.HTML object>"
      ]
     },
     "metadata": {},
     "output_type": "display_data"
    },
    {
     "data": {
      "text/html": [],
      "text/plain": [
       "<IPython.core.display.HTML object>"
      ]
     },
     "metadata": {},
     "output_type": "display_data"
    },
    {
     "name": "stdout",
     "output_type": "stream",
     "text": [
      "Is Multi-Label? False\n",
      "preprocessing test...\n",
      "language: en\n",
      "test sequence lengths:\n",
      "\tmean : 167\n",
      "\t95percentile : 250\n",
      "\t99percentile : 262\n"
     ]
    },
    {
     "data": {
      "text/html": [
       "\n",
       "<style>\n",
       "    /* Turns off some styling */\n",
       "    progress {\n",
       "        /* gets rid of default border in Firefox and Opera. */\n",
       "        border: none;\n",
       "        /* Needs to be in here for Safari polyfill so background images work as expected. */\n",
       "        background-size: auto;\n",
       "    }\n",
       "    .progress-bar-interrupted, .progress-bar-interrupted::-webkit-progress-bar {\n",
       "        background: #F44336;\n",
       "    }\n",
       "</style>\n"
      ],
      "text/plain": [
       "<IPython.core.display.HTML object>"
      ]
     },
     "metadata": {},
     "output_type": "display_data"
    },
    {
     "data": {
      "text/html": [],
      "text/plain": [
       "<IPython.core.display.HTML object>"
      ]
     },
     "metadata": {},
     "output_type": "display_data"
    },
    {
     "name": "stderr",
     "output_type": "stream",
     "text": [
      "404 Client Error: Not Found for url: https://huggingface.co/microsoft/BiomedNLP-PubMedBERT-base-uncased-abstract-fulltext/resolve/main/tf_model.h5\n",
      "/opt/conda/lib/python3.7/site-packages/ktrain/text/preprocessor.py:1069: UserWarning: Could not find Tensorflow version of model.  Attempting to download/load PyTorch version as TensorFlow model using from_pt=True. You will need PyTorch installed for this.\n",
      "  warnings.warn('Could not find Tensorflow version of model.  Attempting to download/load PyTorch version as TensorFlow model using from_pt=True. ' +\\\n"
     ]
    },
    {
     "data": {
      "application/vnd.jupyter.widget-view+json": {
       "model_id": "b300fcddd1d8434b80a1b0e01b2d7ff4",
       "version_major": 2,
       "version_minor": 0
      },
      "text/plain": [
       "Downloading:   0%|          | 0.00/440M [00:00<?, ?B/s]"
      ]
     },
     "metadata": {},
     "output_type": "display_data"
    }
   ],
   "source": [
    "trn=t_mod.preprocess_train(X_train, y_train)\n",
    "val = t_mod.preprocess_test(X_val, y_val)\n",
    "model=t_mod.get_classifier()\n",
    "learner=ktrain.get_learner(model,train_data=trn, val_data=val, batch_size=16)"
   ]
  },
  {
   "cell_type": "code",
   "execution_count": 16,
   "id": "10aaabbf",
   "metadata": {
    "execution": {
     "iopub.execute_input": "2022-03-25T17:41:43.851722Z",
     "iopub.status.busy": "2022-03-25T17:41:43.850828Z",
     "iopub.status.idle": "2022-03-25T18:11:30.793332Z",
     "shell.execute_reply": "2022-03-25T18:11:30.794197Z",
     "shell.execute_reply.started": "2022-03-14T21:44:00.584298Z"
    },
    "papermill": {
     "duration": 1786.971548,
     "end_time": "2022-03-25T18:11:30.794453",
     "exception": false,
     "start_time": "2022-03-25T17:41:43.822905",
     "status": "completed"
    },
    "tags": []
   },
   "outputs": [
    {
     "name": "stdout",
     "output_type": "stream",
     "text": [
      "\n",
      "\n",
      "begin training using onecycle policy with max lr of 2e-05...\n",
      "Epoch 1/3\n",
      "541/541 [==============================] - 587s 1s/step - loss: 0.2211 - accuracy: 0.9115 - val_loss: 0.3297 - val_accuracy: 0.8637\n",
      "Epoch 2/3\n",
      "541/541 [==============================] - 561s 1s/step - loss: 0.1038 - accuracy: 0.9571 - val_loss: 0.2875 - val_accuracy: 0.8906\n",
      "Epoch 3/3\n",
      "541/541 [==============================] - 579s 1s/step - loss: 0.0308 - accuracy: 0.9895 - val_loss: 0.3964 - val_accuracy: 0.8992\n"
     ]
    },
    {
     "data": {
      "text/plain": [
       "<keras.callbacks.History at 0x7f4ae7795c90>"
      ]
     },
     "execution_count": 16,
     "metadata": {},
     "output_type": "execute_result"
    }
   ],
   "source": [
    "learning_rate= 2e-5 \n",
    "epochs=3 \n",
    "learner.fit_onecycle(learning_rate,epochs)"
   ]
  },
  {
   "cell_type": "code",
   "execution_count": 17,
   "id": "c13b07e7",
   "metadata": {
    "execution": {
     "iopub.execute_input": "2022-03-25T18:11:32.188186Z",
     "iopub.status.busy": "2022-03-25T18:11:32.186498Z",
     "iopub.status.idle": "2022-03-25T18:12:08.684287Z",
     "shell.execute_reply": "2022-03-25T18:12:08.685326Z",
     "shell.execute_reply.started": "2022-03-14T22:12:22.341676Z"
    },
    "papermill": {
     "duration": 37.201269,
     "end_time": "2022-03-25T18:12:08.685682",
     "exception": false,
     "start_time": "2022-03-25T18:11:31.484413",
     "status": "completed"
    },
    "tags": []
   },
   "outputs": [
    {
     "name": "stdout",
     "output_type": "stream",
     "text": [
      "              precision    recall  f1-score   support\n",
      "\n",
      "       False       0.95      0.93      0.94       842\n",
      "        True       0.72      0.78      0.75       200\n",
      "\n",
      "    accuracy                           0.90      1042\n",
      "   macro avg       0.83      0.85      0.84      1042\n",
      "weighted avg       0.90      0.90      0.90      1042\n",
      "\n",
      "0.6862359277481138\n"
     ]
    }
   ],
   "source": [
    "predictor=ktrain.get_predictor(learner.model, preproc=t_mod)\n",
    "predictions=predictor.predict((X_val))\n",
    "print(classification_report((y_val), predictions))\n",
    "print(matthews_corrcoef((y_val), predictions))"
   ]
  },
  {
   "cell_type": "code",
   "execution_count": 18,
   "id": "d984ca46",
   "metadata": {
    "execution": {
     "iopub.execute_input": "2022-03-25T18:12:10.023154Z",
     "iopub.status.busy": "2022-03-25T18:12:10.022003Z",
     "iopub.status.idle": "2022-03-25T18:12:12.665911Z",
     "shell.execute_reply": "2022-03-25T18:12:12.667508Z"
    },
    "papermill": {
     "duration": 3.30914,
     "end_time": "2022-03-25T18:12:12.667891",
     "exception": false,
     "start_time": "2022-03-25T18:12:09.358751",
     "status": "completed"
    },
    "tags": []
   },
   "outputs": [],
   "source": [
    "predictor.save('./')"
   ]
  }
 ],
 "metadata": {
  "kernelspec": {
   "display_name": "Python 3",
   "language": "python",
   "name": "python3"
  },
  "language_info": {
   "codemirror_mode": {
    "name": "ipython",
    "version": 3
   },
   "file_extension": ".py",
   "mimetype": "text/x-python",
   "name": "python",
   "nbconvert_exporter": "python",
   "pygments_lexer": "ipython3",
   "version": "3.7.12"
  },
  "papermill": {
   "default_parameters": {},
   "duration": 1930.629913,
   "end_time": "2022-03-25T18:12:17.164727",
   "environment_variables": {},
   "exception": null,
   "input_path": "__notebook__.ipynb",
   "output_path": "__notebook__.ipynb",
   "parameters": {},
   "start_time": "2022-03-25T17:40:06.534814",
   "version": "2.3.3"
  },
  "widgets": {
   "application/vnd.jupyter.widget-state+json": {
    "state": {
     "03c0250985e6496d8f84cba8922df070": {
      "model_module": "@jupyter-widgets/controls",
      "model_module_version": "1.5.0",
      "model_name": "FloatProgressModel",
      "state": {
       "_dom_classes": [],
       "_model_module": "@jupyter-widgets/controls",
       "_model_module_version": "1.5.0",
       "_model_name": "FloatProgressModel",
       "_view_count": null,
       "_view_module": "@jupyter-widgets/controls",
       "_view_module_version": "1.5.0",
       "_view_name": "ProgressView",
       "bar_style": "success",
       "description": "",
       "description_tooltip": null,
       "layout": "IPY_MODEL_20c317abab05455b8461bf709a99e3f5",
       "max": 28.0,
       "min": 0.0,
       "orientation": "horizontal",
       "style": "IPY_MODEL_2720ffee0b8d4ab0abc832486c326bce",
       "value": 28.0
      }
     },
     "0f39cf7521da4f2ebd4b4cb9996801d5": {
      "model_module": "@jupyter-widgets/base",
      "model_module_version": "1.2.0",
      "model_name": "LayoutModel",
      "state": {
       "_model_module": "@jupyter-widgets/base",
       "_model_module_version": "1.2.0",
       "_model_name": "LayoutModel",
       "_view_count": null,
       "_view_module": "@jupyter-widgets/base",
       "_view_module_version": "1.2.0",
       "_view_name": "LayoutView",
       "align_content": null,
       "align_items": null,
       "align_self": null,
       "border": null,
       "bottom": null,
       "display": null,
       "flex": null,
       "flex_flow": null,
       "grid_area": null,
       "grid_auto_columns": null,
       "grid_auto_flow": null,
       "grid_auto_rows": null,
       "grid_column": null,
       "grid_gap": null,
       "grid_row": null,
       "grid_template_areas": null,
       "grid_template_columns": null,
       "grid_template_rows": null,
       "height": null,
       "justify_content": null,
       "justify_items": null,
       "left": null,
       "margin": null,
       "max_height": null,
       "max_width": null,
       "min_height": null,
       "min_width": null,
       "object_fit": null,
       "object_position": null,
       "order": null,
       "overflow": null,
       "overflow_x": null,
       "overflow_y": null,
       "padding": null,
       "right": null,
       "top": null,
       "visibility": null,
       "width": null
      }
     },
     "0f682c0197fa4f6fb161ea7cbde3e2e5": {
      "model_module": "@jupyter-widgets/base",
      "model_module_version": "1.2.0",
      "model_name": "LayoutModel",
      "state": {
       "_model_module": "@jupyter-widgets/base",
       "_model_module_version": "1.2.0",
       "_model_name": "LayoutModel",
       "_view_count": null,
       "_view_module": "@jupyter-widgets/base",
       "_view_module_version": "1.2.0",
       "_view_name": "LayoutView",
       "align_content": null,
       "align_items": null,
       "align_self": null,
       "border": null,
       "bottom": null,
       "display": null,
       "flex": null,
       "flex_flow": null,
       "grid_area": null,
       "grid_auto_columns": null,
       "grid_auto_flow": null,
       "grid_auto_rows": null,
       "grid_column": null,
       "grid_gap": null,
       "grid_row": null,
       "grid_template_areas": null,
       "grid_template_columns": null,
       "grid_template_rows": null,
       "height": null,
       "justify_content": null,
       "justify_items": null,
       "left": null,
       "margin": null,
       "max_height": null,
       "max_width": null,
       "min_height": null,
       "min_width": null,
       "object_fit": null,
       "object_position": null,
       "order": null,
       "overflow": null,
       "overflow_x": null,
       "overflow_y": null,
       "padding": null,
       "right": null,
       "top": null,
       "visibility": null,
       "width": null
      }
     },
     "1119d634e49d4f8eb728642e8efb33de": {
      "model_module": "@jupyter-widgets/controls",
      "model_module_version": "1.5.0",
      "model_name": "DescriptionStyleModel",
      "state": {
       "_model_module": "@jupyter-widgets/controls",
       "_model_module_version": "1.5.0",
       "_model_name": "DescriptionStyleModel",
       "_view_count": null,
       "_view_module": "@jupyter-widgets/base",
       "_view_module_version": "1.2.0",
       "_view_name": "StyleView",
       "description_width": ""
      }
     },
     "1de5584c218b432a904693884f23ee11": {
      "model_module": "@jupyter-widgets/controls",
      "model_module_version": "1.5.0",
      "model_name": "ProgressStyleModel",
      "state": {
       "_model_module": "@jupyter-widgets/controls",
       "_model_module_version": "1.5.0",
       "_model_name": "ProgressStyleModel",
       "_view_count": null,
       "_view_module": "@jupyter-widgets/base",
       "_view_module_version": "1.2.0",
       "_view_name": "StyleView",
       "bar_color": null,
       "description_width": ""
      }
     },
     "20c317abab05455b8461bf709a99e3f5": {
      "model_module": "@jupyter-widgets/base",
      "model_module_version": "1.2.0",
      "model_name": "LayoutModel",
      "state": {
       "_model_module": "@jupyter-widgets/base",
       "_model_module_version": "1.2.0",
       "_model_name": "LayoutModel",
       "_view_count": null,
       "_view_module": "@jupyter-widgets/base",
       "_view_module_version": "1.2.0",
       "_view_name": "LayoutView",
       "align_content": null,
       "align_items": null,
       "align_self": null,
       "border": null,
       "bottom": null,
       "display": null,
       "flex": null,
       "flex_flow": null,
       "grid_area": null,
       "grid_auto_columns": null,
       "grid_auto_flow": null,
       "grid_auto_rows": null,
       "grid_column": null,
       "grid_gap": null,
       "grid_row": null,
       "grid_template_areas": null,
       "grid_template_columns": null,
       "grid_template_rows": null,
       "height": null,
       "justify_content": null,
       "justify_items": null,
       "left": null,
       "margin": null,
       "max_height": null,
       "max_width": null,
       "min_height": null,
       "min_width": null,
       "object_fit": null,
       "object_position": null,
       "order": null,
       "overflow": null,
       "overflow_x": null,
       "overflow_y": null,
       "padding": null,
       "right": null,
       "top": null,
       "visibility": null,
       "width": null
      }
     },
     "215cc2129de5455faaacf8e1199fe43e": {
      "model_module": "@jupyter-widgets/base",
      "model_module_version": "1.2.0",
      "model_name": "LayoutModel",
      "state": {
       "_model_module": "@jupyter-widgets/base",
       "_model_module_version": "1.2.0",
       "_model_name": "LayoutModel",
       "_view_count": null,
       "_view_module": "@jupyter-widgets/base",
       "_view_module_version": "1.2.0",
       "_view_name": "LayoutView",
       "align_content": null,
       "align_items": null,
       "align_self": null,
       "border": null,
       "bottom": null,
       "display": null,
       "flex": null,
       "flex_flow": null,
       "grid_area": null,
       "grid_auto_columns": null,
       "grid_auto_flow": null,
       "grid_auto_rows": null,
       "grid_column": null,
       "grid_gap": null,
       "grid_row": null,
       "grid_template_areas": null,
       "grid_template_columns": null,
       "grid_template_rows": null,
       "height": null,
       "justify_content": null,
       "justify_items": null,
       "left": null,
       "margin": null,
       "max_height": null,
       "max_width": null,
       "min_height": null,
       "min_width": null,
       "object_fit": null,
       "object_position": null,
       "order": null,
       "overflow": null,
       "overflow_x": null,
       "overflow_y": null,
       "padding": null,
       "right": null,
       "top": null,
       "visibility": null,
       "width": null
      }
     },
     "255f3be5f97b422d8f3c734b79f52e39": {
      "model_module": "@jupyter-widgets/controls",
      "model_module_version": "1.5.0",
      "model_name": "HBoxModel",
      "state": {
       "_dom_classes": [],
       "_model_module": "@jupyter-widgets/controls",
       "_model_module_version": "1.5.0",
       "_model_name": "HBoxModel",
       "_view_count": null,
       "_view_module": "@jupyter-widgets/controls",
       "_view_module_version": "1.5.0",
       "_view_name": "HBoxView",
       "box_style": "",
       "children": [
        "IPY_MODEL_7c904e572c824a4f81f58a26d25237d5",
        "IPY_MODEL_f4799caf20574b17a13c2ba2e7bdc332",
        "IPY_MODEL_2c1d24f4743a4697be7119361136ca3c"
       ],
       "layout": "IPY_MODEL_7554b43f84ba433a9ea7baefeaac9ecb"
      }
     },
     "2720ffee0b8d4ab0abc832486c326bce": {
      "model_module": "@jupyter-widgets/controls",
      "model_module_version": "1.5.0",
      "model_name": "ProgressStyleModel",
      "state": {
       "_model_module": "@jupyter-widgets/controls",
       "_model_module_version": "1.5.0",
       "_model_name": "ProgressStyleModel",
       "_view_count": null,
       "_view_module": "@jupyter-widgets/base",
       "_view_module_version": "1.2.0",
       "_view_name": "StyleView",
       "bar_color": null,
       "description_width": ""
      }
     },
     "27fb41d177994b8d88cb5d9a0038b4cf": {
      "model_module": "@jupyter-widgets/base",
      "model_module_version": "1.2.0",
      "model_name": "LayoutModel",
      "state": {
       "_model_module": "@jupyter-widgets/base",
       "_model_module_version": "1.2.0",
       "_model_name": "LayoutModel",
       "_view_count": null,
       "_view_module": "@jupyter-widgets/base",
       "_view_module_version": "1.2.0",
       "_view_name": "LayoutView",
       "align_content": null,
       "align_items": null,
       "align_self": null,
       "border": null,
       "bottom": null,
       "display": null,
       "flex": null,
       "flex_flow": null,
       "grid_area": null,
       "grid_auto_columns": null,
       "grid_auto_flow": null,
       "grid_auto_rows": null,
       "grid_column": null,
       "grid_gap": null,
       "grid_row": null,
       "grid_template_areas": null,
       "grid_template_columns": null,
       "grid_template_rows": null,
       "height": null,
       "justify_content": null,
       "justify_items": null,
       "left": null,
       "margin": null,
       "max_height": null,
       "max_width": null,
       "min_height": null,
       "min_width": null,
       "object_fit": null,
       "object_position": null,
       "order": null,
       "overflow": null,
       "overflow_x": null,
       "overflow_y": null,
       "padding": null,
       "right": null,
       "top": null,
       "visibility": null,
       "width": null
      }
     },
     "2c1d24f4743a4697be7119361136ca3c": {
      "model_module": "@jupyter-widgets/controls",
      "model_module_version": "1.5.0",
      "model_name": "HTMLModel",
      "state": {
       "_dom_classes": [],
       "_model_module": "@jupyter-widgets/controls",
       "_model_module_version": "1.5.0",
       "_model_name": "HTMLModel",
       "_view_count": null,
       "_view_module": "@jupyter-widgets/controls",
       "_view_module_version": "1.5.0",
       "_view_name": "HTMLView",
       "description": "",
       "description_tooltip": null,
       "layout": "IPY_MODEL_c0fbc1e6d9bd477b81adbcdf37c8b03e",
       "placeholder": "​",
       "style": "IPY_MODEL_5b52572a106c40eea09cf64e2ee996eb",
       "value": " 385/385 [00:00&lt;00:00, 7.04kB/s]"
      }
     },
     "418552c33ff2479cbf5313268f8a16fb": {
      "model_module": "@jupyter-widgets/controls",
      "model_module_version": "1.5.0",
      "model_name": "HTMLModel",
      "state": {
       "_dom_classes": [],
       "_model_module": "@jupyter-widgets/controls",
       "_model_module_version": "1.5.0",
       "_model_name": "HTMLModel",
       "_view_count": null,
       "_view_module": "@jupyter-widgets/controls",
       "_view_module_version": "1.5.0",
       "_view_name": "HTMLView",
       "description": "",
       "description_tooltip": null,
       "layout": "IPY_MODEL_90b3a403902342799ce9b75ead1cd470",
       "placeholder": "​",
       "style": "IPY_MODEL_8af6459094ab4a5ea22b192ba1e28d08",
       "value": "Downloading: 100%"
      }
     },
     "4411a94b8a6542a99eca708930b4f9b7": {
      "model_module": "@jupyter-widgets/base",
      "model_module_version": "1.2.0",
      "model_name": "LayoutModel",
      "state": {
       "_model_module": "@jupyter-widgets/base",
       "_model_module_version": "1.2.0",
       "_model_name": "LayoutModel",
       "_view_count": null,
       "_view_module": "@jupyter-widgets/base",
       "_view_module_version": "1.2.0",
       "_view_name": "LayoutView",
       "align_content": null,
       "align_items": null,
       "align_self": null,
       "border": null,
       "bottom": null,
       "display": null,
       "flex": null,
       "flex_flow": null,
       "grid_area": null,
       "grid_auto_columns": null,
       "grid_auto_flow": null,
       "grid_auto_rows": null,
       "grid_column": null,
       "grid_gap": null,
       "grid_row": null,
       "grid_template_areas": null,
       "grid_template_columns": null,
       "grid_template_rows": null,
       "height": null,
       "justify_content": null,
       "justify_items": null,
       "left": null,
       "margin": null,
       "max_height": null,
       "max_width": null,
       "min_height": null,
       "min_width": null,
       "object_fit": null,
       "object_position": null,
       "order": null,
       "overflow": null,
       "overflow_x": null,
       "overflow_y": null,
       "padding": null,
       "right": null,
       "top": null,
       "visibility": null,
       "width": null
      }
     },
     "4a6e0a7eb520418bbd688b23d600fc51": {
      "model_module": "@jupyter-widgets/controls",
      "model_module_version": "1.5.0",
      "model_name": "HTMLModel",
      "state": {
       "_dom_classes": [],
       "_model_module": "@jupyter-widgets/controls",
       "_model_module_version": "1.5.0",
       "_model_name": "HTMLModel",
       "_view_count": null,
       "_view_module": "@jupyter-widgets/controls",
       "_view_module_version": "1.5.0",
       "_view_name": "HTMLView",
       "description": "",
       "description_tooltip": null,
       "layout": "IPY_MODEL_c5fa50aee75d47418a977d04535a4f78",
       "placeholder": "​",
       "style": "IPY_MODEL_93e1832a60b64fd7afcb5ebe11c7e626",
       "value": " 226k/226k [00:00&lt;00:00, 2.88MB/s]"
      }
     },
     "4e18c17e54a044458492aba6cd558e0d": {
      "model_module": "@jupyter-widgets/controls",
      "model_module_version": "1.5.0",
      "model_name": "DescriptionStyleModel",
      "state": {
       "_model_module": "@jupyter-widgets/controls",
       "_model_module_version": "1.5.0",
       "_model_name": "DescriptionStyleModel",
       "_view_count": null,
       "_view_module": "@jupyter-widgets/base",
       "_view_module_version": "1.2.0",
       "_view_name": "StyleView",
       "description_width": ""
      }
     },
     "55340254c1984f169454af37fd6982b9": {
      "model_module": "@jupyter-widgets/base",
      "model_module_version": "1.2.0",
      "model_name": "LayoutModel",
      "state": {
       "_model_module": "@jupyter-widgets/base",
       "_model_module_version": "1.2.0",
       "_model_name": "LayoutModel",
       "_view_count": null,
       "_view_module": "@jupyter-widgets/base",
       "_view_module_version": "1.2.0",
       "_view_name": "LayoutView",
       "align_content": null,
       "align_items": null,
       "align_self": null,
       "border": null,
       "bottom": null,
       "display": null,
       "flex": null,
       "flex_flow": null,
       "grid_area": null,
       "grid_auto_columns": null,
       "grid_auto_flow": null,
       "grid_auto_rows": null,
       "grid_column": null,
       "grid_gap": null,
       "grid_row": null,
       "grid_template_areas": null,
       "grid_template_columns": null,
       "grid_template_rows": null,
       "height": null,
       "justify_content": null,
       "justify_items": null,
       "left": null,
       "margin": null,
       "max_height": null,
       "max_width": null,
       "min_height": null,
       "min_width": null,
       "object_fit": null,
       "object_position": null,
       "order": null,
       "overflow": null,
       "overflow_x": null,
       "overflow_y": null,
       "padding": null,
       "right": null,
       "top": null,
       "visibility": null,
       "width": null
      }
     },
     "5b52572a106c40eea09cf64e2ee996eb": {
      "model_module": "@jupyter-widgets/controls",
      "model_module_version": "1.5.0",
      "model_name": "DescriptionStyleModel",
      "state": {
       "_model_module": "@jupyter-widgets/controls",
       "_model_module_version": "1.5.0",
       "_model_name": "DescriptionStyleModel",
       "_view_count": null,
       "_view_module": "@jupyter-widgets/base",
       "_view_module_version": "1.2.0",
       "_view_name": "StyleView",
       "description_width": ""
      }
     },
     "5b76e7383585415e90e39e42469678b3": {
      "model_module": "@jupyter-widgets/controls",
      "model_module_version": "1.5.0",
      "model_name": "HTMLModel",
      "state": {
       "_dom_classes": [],
       "_model_module": "@jupyter-widgets/controls",
       "_model_module_version": "1.5.0",
       "_model_name": "HTMLModel",
       "_view_count": null,
       "_view_module": "@jupyter-widgets/controls",
       "_view_module_version": "1.5.0",
       "_view_name": "HTMLView",
       "description": "",
       "description_tooltip": null,
       "layout": "IPY_MODEL_215cc2129de5455faaacf8e1199fe43e",
       "placeholder": "​",
       "style": "IPY_MODEL_75cfdafa9d8447a8b4a6233b430dd4d7",
       "value": " 28.0/28.0 [00:00&lt;00:00, 967B/s]"
      }
     },
     "70babc69a0174cec941d3efacb233410": {
      "model_module": "@jupyter-widgets/controls",
      "model_module_version": "1.5.0",
      "model_name": "HBoxModel",
      "state": {
       "_dom_classes": [],
       "_model_module": "@jupyter-widgets/controls",
       "_model_module_version": "1.5.0",
       "_model_name": "HBoxModel",
       "_view_count": null,
       "_view_module": "@jupyter-widgets/controls",
       "_view_module_version": "1.5.0",
       "_view_name": "HBoxView",
       "box_style": "",
       "children": [
        "IPY_MODEL_bec2da9c4d3e4955ae12dc4131f64bfd",
        "IPY_MODEL_03c0250985e6496d8f84cba8922df070",
        "IPY_MODEL_5b76e7383585415e90e39e42469678b3"
       ],
       "layout": "IPY_MODEL_d5a71662cae244e191f5854a42fa2f00"
      }
     },
     "7554b43f84ba433a9ea7baefeaac9ecb": {
      "model_module": "@jupyter-widgets/base",
      "model_module_version": "1.2.0",
      "model_name": "LayoutModel",
      "state": {
       "_model_module": "@jupyter-widgets/base",
       "_model_module_version": "1.2.0",
       "_model_name": "LayoutModel",
       "_view_count": null,
       "_view_module": "@jupyter-widgets/base",
       "_view_module_version": "1.2.0",
       "_view_name": "LayoutView",
       "align_content": null,
       "align_items": null,
       "align_self": null,
       "border": null,
       "bottom": null,
       "display": null,
       "flex": null,
       "flex_flow": null,
       "grid_area": null,
       "grid_auto_columns": null,
       "grid_auto_flow": null,
       "grid_auto_rows": null,
       "grid_column": null,
       "grid_gap": null,
       "grid_row": null,
       "grid_template_areas": null,
       "grid_template_columns": null,
       "grid_template_rows": null,
       "height": null,
       "justify_content": null,
       "justify_items": null,
       "left": null,
       "margin": null,
       "max_height": null,
       "max_width": null,
       "min_height": null,
       "min_width": null,
       "object_fit": null,
       "object_position": null,
       "order": null,
       "overflow": null,
       "overflow_x": null,
       "overflow_y": null,
       "padding": null,
       "right": null,
       "top": null,
       "visibility": null,
       "width": null
      }
     },
     "75cfdafa9d8447a8b4a6233b430dd4d7": {
      "model_module": "@jupyter-widgets/controls",
      "model_module_version": "1.5.0",
      "model_name": "DescriptionStyleModel",
      "state": {
       "_model_module": "@jupyter-widgets/controls",
       "_model_module_version": "1.5.0",
       "_model_name": "DescriptionStyleModel",
       "_view_count": null,
       "_view_module": "@jupyter-widgets/base",
       "_view_module_version": "1.2.0",
       "_view_name": "StyleView",
       "description_width": ""
      }
     },
     "782e2446a1ad4e0391893a56750bcaa7": {
      "model_module": "@jupyter-widgets/controls",
      "model_module_version": "1.5.0",
      "model_name": "FloatProgressModel",
      "state": {
       "_dom_classes": [],
       "_model_module": "@jupyter-widgets/controls",
       "_model_module_version": "1.5.0",
       "_model_name": "FloatProgressModel",
       "_view_count": null,
       "_view_module": "@jupyter-widgets/controls",
       "_view_module_version": "1.5.0",
       "_view_name": "ProgressView",
       "bar_style": "success",
       "description": "",
       "description_tooltip": null,
       "layout": "IPY_MODEL_902b3c6f250348d9915d3f4101028b5d",
       "max": 226150.0,
       "min": 0.0,
       "orientation": "horizontal",
       "style": "IPY_MODEL_1de5584c218b432a904693884f23ee11",
       "value": 226150.0
      }
     },
     "7b72abf48ef44074a311be630c473e25": {
      "model_module": "@jupyter-widgets/base",
      "model_module_version": "1.2.0",
      "model_name": "LayoutModel",
      "state": {
       "_model_module": "@jupyter-widgets/base",
       "_model_module_version": "1.2.0",
       "_model_name": "LayoutModel",
       "_view_count": null,
       "_view_module": "@jupyter-widgets/base",
       "_view_module_version": "1.2.0",
       "_view_name": "LayoutView",
       "align_content": null,
       "align_items": null,
       "align_self": null,
       "border": null,
       "bottom": null,
       "display": null,
       "flex": null,
       "flex_flow": null,
       "grid_area": null,
       "grid_auto_columns": null,
       "grid_auto_flow": null,
       "grid_auto_rows": null,
       "grid_column": null,
       "grid_gap": null,
       "grid_row": null,
       "grid_template_areas": null,
       "grid_template_columns": null,
       "grid_template_rows": null,
       "height": null,
       "justify_content": null,
       "justify_items": null,
       "left": null,
       "margin": null,
       "max_height": null,
       "max_width": null,
       "min_height": null,
       "min_width": null,
       "object_fit": null,
       "object_position": null,
       "order": null,
       "overflow": null,
       "overflow_x": null,
       "overflow_y": null,
       "padding": null,
       "right": null,
       "top": null,
       "visibility": null,
       "width": null
      }
     },
     "7c904e572c824a4f81f58a26d25237d5": {
      "model_module": "@jupyter-widgets/controls",
      "model_module_version": "1.5.0",
      "model_name": "HTMLModel",
      "state": {
       "_dom_classes": [],
       "_model_module": "@jupyter-widgets/controls",
       "_model_module_version": "1.5.0",
       "_model_name": "HTMLModel",
       "_view_count": null,
       "_view_module": "@jupyter-widgets/controls",
       "_view_module_version": "1.5.0",
       "_view_name": "HTMLView",
       "description": "",
       "description_tooltip": null,
       "layout": "IPY_MODEL_cd3e88d643f74005829468f79ba96dc5",
       "placeholder": "​",
       "style": "IPY_MODEL_e930322174f541a8a96b4b54aaa875c5",
       "value": "Downloading: 100%"
      }
     },
     "89fb4bbd54d34210a5bfdac56c7eb220": {
      "model_module": "@jupyter-widgets/controls",
      "model_module_version": "1.5.0",
      "model_name": "DescriptionStyleModel",
      "state": {
       "_model_module": "@jupyter-widgets/controls",
       "_model_module_version": "1.5.0",
       "_model_name": "DescriptionStyleModel",
       "_view_count": null,
       "_view_module": "@jupyter-widgets/base",
       "_view_module_version": "1.2.0",
       "_view_name": "StyleView",
       "description_width": ""
      }
     },
     "8af6459094ab4a5ea22b192ba1e28d08": {
      "model_module": "@jupyter-widgets/controls",
      "model_module_version": "1.5.0",
      "model_name": "DescriptionStyleModel",
      "state": {
       "_model_module": "@jupyter-widgets/controls",
       "_model_module_version": "1.5.0",
       "_model_name": "DescriptionStyleModel",
       "_view_count": null,
       "_view_module": "@jupyter-widgets/base",
       "_view_module_version": "1.2.0",
       "_view_name": "StyleView",
       "description_width": ""
      }
     },
     "9021ac647ec24fe081cecae2cec9a323": {
      "model_module": "@jupyter-widgets/controls",
      "model_module_version": "1.5.0",
      "model_name": "HBoxModel",
      "state": {
       "_dom_classes": [],
       "_model_module": "@jupyter-widgets/controls",
       "_model_module_version": "1.5.0",
       "_model_name": "HBoxModel",
       "_view_count": null,
       "_view_module": "@jupyter-widgets/controls",
       "_view_module_version": "1.5.0",
       "_view_name": "HBoxView",
       "box_style": "",
       "children": [
        "IPY_MODEL_418552c33ff2479cbf5313268f8a16fb",
        "IPY_MODEL_782e2446a1ad4e0391893a56750bcaa7",
        "IPY_MODEL_4a6e0a7eb520418bbd688b23d600fc51"
       ],
       "layout": "IPY_MODEL_27fb41d177994b8d88cb5d9a0038b4cf"
      }
     },
     "902b3c6f250348d9915d3f4101028b5d": {
      "model_module": "@jupyter-widgets/base",
      "model_module_version": "1.2.0",
      "model_name": "LayoutModel",
      "state": {
       "_model_module": "@jupyter-widgets/base",
       "_model_module_version": "1.2.0",
       "_model_name": "LayoutModel",
       "_view_count": null,
       "_view_module": "@jupyter-widgets/base",
       "_view_module_version": "1.2.0",
       "_view_name": "LayoutView",
       "align_content": null,
       "align_items": null,
       "align_self": null,
       "border": null,
       "bottom": null,
       "display": null,
       "flex": null,
       "flex_flow": null,
       "grid_area": null,
       "grid_auto_columns": null,
       "grid_auto_flow": null,
       "grid_auto_rows": null,
       "grid_column": null,
       "grid_gap": null,
       "grid_row": null,
       "grid_template_areas": null,
       "grid_template_columns": null,
       "grid_template_rows": null,
       "height": null,
       "justify_content": null,
       "justify_items": null,
       "left": null,
       "margin": null,
       "max_height": null,
       "max_width": null,
       "min_height": null,
       "min_width": null,
       "object_fit": null,
       "object_position": null,
       "order": null,
       "overflow": null,
       "overflow_x": null,
       "overflow_y": null,
       "padding": null,
       "right": null,
       "top": null,
       "visibility": null,
       "width": null
      }
     },
     "90b3a403902342799ce9b75ead1cd470": {
      "model_module": "@jupyter-widgets/base",
      "model_module_version": "1.2.0",
      "model_name": "LayoutModel",
      "state": {
       "_model_module": "@jupyter-widgets/base",
       "_model_module_version": "1.2.0",
       "_model_name": "LayoutModel",
       "_view_count": null,
       "_view_module": "@jupyter-widgets/base",
       "_view_module_version": "1.2.0",
       "_view_name": "LayoutView",
       "align_content": null,
       "align_items": null,
       "align_self": null,
       "border": null,
       "bottom": null,
       "display": null,
       "flex": null,
       "flex_flow": null,
       "grid_area": null,
       "grid_auto_columns": null,
       "grid_auto_flow": null,
       "grid_auto_rows": null,
       "grid_column": null,
       "grid_gap": null,
       "grid_row": null,
       "grid_template_areas": null,
       "grid_template_columns": null,
       "grid_template_rows": null,
       "height": null,
       "justify_content": null,
       "justify_items": null,
       "left": null,
       "margin": null,
       "max_height": null,
       "max_width": null,
       "min_height": null,
       "min_width": null,
       "object_fit": null,
       "object_position": null,
       "order": null,
       "overflow": null,
       "overflow_x": null,
       "overflow_y": null,
       "padding": null,
       "right": null,
       "top": null,
       "visibility": null,
       "width": null
      }
     },
     "93e1832a60b64fd7afcb5ebe11c7e626": {
      "model_module": "@jupyter-widgets/controls",
      "model_module_version": "1.5.0",
      "model_name": "DescriptionStyleModel",
      "state": {
       "_model_module": "@jupyter-widgets/controls",
       "_model_module_version": "1.5.0",
       "_model_name": "DescriptionStyleModel",
       "_view_count": null,
       "_view_module": "@jupyter-widgets/base",
       "_view_module_version": "1.2.0",
       "_view_name": "StyleView",
       "description_width": ""
      }
     },
     "9685be1bb9a845a0ad9b74286553c165": {
      "model_module": "@jupyter-widgets/controls",
      "model_module_version": "1.5.0",
      "model_name": "FloatProgressModel",
      "state": {
       "_dom_classes": [],
       "_model_module": "@jupyter-widgets/controls",
       "_model_module_version": "1.5.0",
       "_model_name": "FloatProgressModel",
       "_view_count": null,
       "_view_module": "@jupyter-widgets/controls",
       "_view_module_version": "1.5.0",
       "_view_name": "ProgressView",
       "bar_style": "success",
       "description": "",
       "description_tooltip": null,
       "layout": "IPY_MODEL_0f39cf7521da4f2ebd4b4cb9996801d5",
       "max": 440474434.0,
       "min": 0.0,
       "orientation": "horizontal",
       "style": "IPY_MODEL_ca7daaa255394ba4a4f4393b68ba0579",
       "value": 440474434.0
      }
     },
     "b300fcddd1d8434b80a1b0e01b2d7ff4": {
      "model_module": "@jupyter-widgets/controls",
      "model_module_version": "1.5.0",
      "model_name": "HBoxModel",
      "state": {
       "_dom_classes": [],
       "_model_module": "@jupyter-widgets/controls",
       "_model_module_version": "1.5.0",
       "_model_name": "HBoxModel",
       "_view_count": null,
       "_view_module": "@jupyter-widgets/controls",
       "_view_module_version": "1.5.0",
       "_view_name": "HBoxView",
       "box_style": "",
       "children": [
        "IPY_MODEL_cfb5a9f1edd54002a26b9a1662ad7db1",
        "IPY_MODEL_9685be1bb9a845a0ad9b74286553c165",
        "IPY_MODEL_d829707705f948a3bd52f84b9d6b9c5e"
       ],
       "layout": "IPY_MODEL_7b72abf48ef44074a311be630c473e25"
      }
     },
     "bec2da9c4d3e4955ae12dc4131f64bfd": {
      "model_module": "@jupyter-widgets/controls",
      "model_module_version": "1.5.0",
      "model_name": "HTMLModel",
      "state": {
       "_dom_classes": [],
       "_model_module": "@jupyter-widgets/controls",
       "_model_module_version": "1.5.0",
       "_model_name": "HTMLModel",
       "_view_count": null,
       "_view_module": "@jupyter-widgets/controls",
       "_view_module_version": "1.5.0",
       "_view_name": "HTMLView",
       "description": "",
       "description_tooltip": null,
       "layout": "IPY_MODEL_0f682c0197fa4f6fb161ea7cbde3e2e5",
       "placeholder": "​",
       "style": "IPY_MODEL_4e18c17e54a044458492aba6cd558e0d",
       "value": "Downloading: 100%"
      }
     },
     "c0fbc1e6d9bd477b81adbcdf37c8b03e": {
      "model_module": "@jupyter-widgets/base",
      "model_module_version": "1.2.0",
      "model_name": "LayoutModel",
      "state": {
       "_model_module": "@jupyter-widgets/base",
       "_model_module_version": "1.2.0",
       "_model_name": "LayoutModel",
       "_view_count": null,
       "_view_module": "@jupyter-widgets/base",
       "_view_module_version": "1.2.0",
       "_view_name": "LayoutView",
       "align_content": null,
       "align_items": null,
       "align_self": null,
       "border": null,
       "bottom": null,
       "display": null,
       "flex": null,
       "flex_flow": null,
       "grid_area": null,
       "grid_auto_columns": null,
       "grid_auto_flow": null,
       "grid_auto_rows": null,
       "grid_column": null,
       "grid_gap": null,
       "grid_row": null,
       "grid_template_areas": null,
       "grid_template_columns": null,
       "grid_template_rows": null,
       "height": null,
       "justify_content": null,
       "justify_items": null,
       "left": null,
       "margin": null,
       "max_height": null,
       "max_width": null,
       "min_height": null,
       "min_width": null,
       "object_fit": null,
       "object_position": null,
       "order": null,
       "overflow": null,
       "overflow_x": null,
       "overflow_y": null,
       "padding": null,
       "right": null,
       "top": null,
       "visibility": null,
       "width": null
      }
     },
     "c5fa50aee75d47418a977d04535a4f78": {
      "model_module": "@jupyter-widgets/base",
      "model_module_version": "1.2.0",
      "model_name": "LayoutModel",
      "state": {
       "_model_module": "@jupyter-widgets/base",
       "_model_module_version": "1.2.0",
       "_model_name": "LayoutModel",
       "_view_count": null,
       "_view_module": "@jupyter-widgets/base",
       "_view_module_version": "1.2.0",
       "_view_name": "LayoutView",
       "align_content": null,
       "align_items": null,
       "align_self": null,
       "border": null,
       "bottom": null,
       "display": null,
       "flex": null,
       "flex_flow": null,
       "grid_area": null,
       "grid_auto_columns": null,
       "grid_auto_flow": null,
       "grid_auto_rows": null,
       "grid_column": null,
       "grid_gap": null,
       "grid_row": null,
       "grid_template_areas": null,
       "grid_template_columns": null,
       "grid_template_rows": null,
       "height": null,
       "justify_content": null,
       "justify_items": null,
       "left": null,
       "margin": null,
       "max_height": null,
       "max_width": null,
       "min_height": null,
       "min_width": null,
       "object_fit": null,
       "object_position": null,
       "order": null,
       "overflow": null,
       "overflow_x": null,
       "overflow_y": null,
       "padding": null,
       "right": null,
       "top": null,
       "visibility": null,
       "width": null
      }
     },
     "c7a39be0abac4d189a42a7e70ca3bc69": {
      "model_module": "@jupyter-widgets/controls",
      "model_module_version": "1.5.0",
      "model_name": "ProgressStyleModel",
      "state": {
       "_model_module": "@jupyter-widgets/controls",
       "_model_module_version": "1.5.0",
       "_model_name": "ProgressStyleModel",
       "_view_count": null,
       "_view_module": "@jupyter-widgets/base",
       "_view_module_version": "1.2.0",
       "_view_name": "StyleView",
       "bar_color": null,
       "description_width": ""
      }
     },
     "ca7daaa255394ba4a4f4393b68ba0579": {
      "model_module": "@jupyter-widgets/controls",
      "model_module_version": "1.5.0",
      "model_name": "ProgressStyleModel",
      "state": {
       "_model_module": "@jupyter-widgets/controls",
       "_model_module_version": "1.5.0",
       "_model_name": "ProgressStyleModel",
       "_view_count": null,
       "_view_module": "@jupyter-widgets/base",
       "_view_module_version": "1.2.0",
       "_view_name": "StyleView",
       "bar_color": null,
       "description_width": ""
      }
     },
     "cd3e88d643f74005829468f79ba96dc5": {
      "model_module": "@jupyter-widgets/base",
      "model_module_version": "1.2.0",
      "model_name": "LayoutModel",
      "state": {
       "_model_module": "@jupyter-widgets/base",
       "_model_module_version": "1.2.0",
       "_model_name": "LayoutModel",
       "_view_count": null,
       "_view_module": "@jupyter-widgets/base",
       "_view_module_version": "1.2.0",
       "_view_name": "LayoutView",
       "align_content": null,
       "align_items": null,
       "align_self": null,
       "border": null,
       "bottom": null,
       "display": null,
       "flex": null,
       "flex_flow": null,
       "grid_area": null,
       "grid_auto_columns": null,
       "grid_auto_flow": null,
       "grid_auto_rows": null,
       "grid_column": null,
       "grid_gap": null,
       "grid_row": null,
       "grid_template_areas": null,
       "grid_template_columns": null,
       "grid_template_rows": null,
       "height": null,
       "justify_content": null,
       "justify_items": null,
       "left": null,
       "margin": null,
       "max_height": null,
       "max_width": null,
       "min_height": null,
       "min_width": null,
       "object_fit": null,
       "object_position": null,
       "order": null,
       "overflow": null,
       "overflow_x": null,
       "overflow_y": null,
       "padding": null,
       "right": null,
       "top": null,
       "visibility": null,
       "width": null
      }
     },
     "cfb5a9f1edd54002a26b9a1662ad7db1": {
      "model_module": "@jupyter-widgets/controls",
      "model_module_version": "1.5.0",
      "model_name": "HTMLModel",
      "state": {
       "_dom_classes": [],
       "_model_module": "@jupyter-widgets/controls",
       "_model_module_version": "1.5.0",
       "_model_name": "HTMLModel",
       "_view_count": null,
       "_view_module": "@jupyter-widgets/controls",
       "_view_module_version": "1.5.0",
       "_view_name": "HTMLView",
       "description": "",
       "description_tooltip": null,
       "layout": "IPY_MODEL_55340254c1984f169454af37fd6982b9",
       "placeholder": "​",
       "style": "IPY_MODEL_1119d634e49d4f8eb728642e8efb33de",
       "value": "Downloading: 100%"
      }
     },
     "d5a71662cae244e191f5854a42fa2f00": {
      "model_module": "@jupyter-widgets/base",
      "model_module_version": "1.2.0",
      "model_name": "LayoutModel",
      "state": {
       "_model_module": "@jupyter-widgets/base",
       "_model_module_version": "1.2.0",
       "_model_name": "LayoutModel",
       "_view_count": null,
       "_view_module": "@jupyter-widgets/base",
       "_view_module_version": "1.2.0",
       "_view_name": "LayoutView",
       "align_content": null,
       "align_items": null,
       "align_self": null,
       "border": null,
       "bottom": null,
       "display": null,
       "flex": null,
       "flex_flow": null,
       "grid_area": null,
       "grid_auto_columns": null,
       "grid_auto_flow": null,
       "grid_auto_rows": null,
       "grid_column": null,
       "grid_gap": null,
       "grid_row": null,
       "grid_template_areas": null,
       "grid_template_columns": null,
       "grid_template_rows": null,
       "height": null,
       "justify_content": null,
       "justify_items": null,
       "left": null,
       "margin": null,
       "max_height": null,
       "max_width": null,
       "min_height": null,
       "min_width": null,
       "object_fit": null,
       "object_position": null,
       "order": null,
       "overflow": null,
       "overflow_x": null,
       "overflow_y": null,
       "padding": null,
       "right": null,
       "top": null,
       "visibility": null,
       "width": null
      }
     },
     "d829707705f948a3bd52f84b9d6b9c5e": {
      "model_module": "@jupyter-widgets/controls",
      "model_module_version": "1.5.0",
      "model_name": "HTMLModel",
      "state": {
       "_dom_classes": [],
       "_model_module": "@jupyter-widgets/controls",
       "_model_module_version": "1.5.0",
       "_model_name": "HTMLModel",
       "_view_count": null,
       "_view_module": "@jupyter-widgets/controls",
       "_view_module_version": "1.5.0",
       "_view_name": "HTMLView",
       "description": "",
       "description_tooltip": null,
       "layout": "IPY_MODEL_dc00be5494f64acf80efe7e13f534aa1",
       "placeholder": "​",
       "style": "IPY_MODEL_89fb4bbd54d34210a5bfdac56c7eb220",
       "value": " 440M/440M [00:09&lt;00:00, 49.8MB/s]"
      }
     },
     "dc00be5494f64acf80efe7e13f534aa1": {
      "model_module": "@jupyter-widgets/base",
      "model_module_version": "1.2.0",
      "model_name": "LayoutModel",
      "state": {
       "_model_module": "@jupyter-widgets/base",
       "_model_module_version": "1.2.0",
       "_model_name": "LayoutModel",
       "_view_count": null,
       "_view_module": "@jupyter-widgets/base",
       "_view_module_version": "1.2.0",
       "_view_name": "LayoutView",
       "align_content": null,
       "align_items": null,
       "align_self": null,
       "border": null,
       "bottom": null,
       "display": null,
       "flex": null,
       "flex_flow": null,
       "grid_area": null,
       "grid_auto_columns": null,
       "grid_auto_flow": null,
       "grid_auto_rows": null,
       "grid_column": null,
       "grid_gap": null,
       "grid_row": null,
       "grid_template_areas": null,
       "grid_template_columns": null,
       "grid_template_rows": null,
       "height": null,
       "justify_content": null,
       "justify_items": null,
       "left": null,
       "margin": null,
       "max_height": null,
       "max_width": null,
       "min_height": null,
       "min_width": null,
       "object_fit": null,
       "object_position": null,
       "order": null,
       "overflow": null,
       "overflow_x": null,
       "overflow_y": null,
       "padding": null,
       "right": null,
       "top": null,
       "visibility": null,
       "width": null
      }
     },
     "e930322174f541a8a96b4b54aaa875c5": {
      "model_module": "@jupyter-widgets/controls",
      "model_module_version": "1.5.0",
      "model_name": "DescriptionStyleModel",
      "state": {
       "_model_module": "@jupyter-widgets/controls",
       "_model_module_version": "1.5.0",
       "_model_name": "DescriptionStyleModel",
       "_view_count": null,
       "_view_module": "@jupyter-widgets/base",
       "_view_module_version": "1.2.0",
       "_view_name": "StyleView",
       "description_width": ""
      }
     },
     "f4799caf20574b17a13c2ba2e7bdc332": {
      "model_module": "@jupyter-widgets/controls",
      "model_module_version": "1.5.0",
      "model_name": "FloatProgressModel",
      "state": {
       "_dom_classes": [],
       "_model_module": "@jupyter-widgets/controls",
       "_model_module_version": "1.5.0",
       "_model_name": "FloatProgressModel",
       "_view_count": null,
       "_view_module": "@jupyter-widgets/controls",
       "_view_module_version": "1.5.0",
       "_view_name": "ProgressView",
       "bar_style": "success",
       "description": "",
       "description_tooltip": null,
       "layout": "IPY_MODEL_4411a94b8a6542a99eca708930b4f9b7",
       "max": 385.0,
       "min": 0.0,
       "orientation": "horizontal",
       "style": "IPY_MODEL_c7a39be0abac4d189a42a7e70ca3bc69",
       "value": 385.0
      }
     }
    },
    "version_major": 2,
    "version_minor": 0
   }
  }
 },
 "nbformat": 4,
 "nbformat_minor": 5
}
