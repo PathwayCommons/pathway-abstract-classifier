{
 "cells": [
  {
   "cell_type": "code",
   "execution_count": 1,
   "id": "d6da9549",
   "metadata": {
    "_cell_guid": "b1076dfc-b9ad-4769-8c92-a6c4dae69d19",
    "_uuid": "8f2839f25d086af736a60e9eeb907d3b93b6e0e5",
    "execution": {
     "iopub.execute_input": "2022-04-20T00:52:28.100770Z",
     "iopub.status.busy": "2022-04-20T00:52:28.098820Z",
     "iopub.status.idle": "2022-04-20T00:52:28.132202Z",
     "shell.execute_reply": "2022-04-20T00:52:28.133466Z",
     "shell.execute_reply.started": "2022-04-05T00:51:07.330763Z"
    },
    "papermill": {
     "duration": 0.080903,
     "end_time": "2022-04-20T00:52:28.133728",
     "exception": false,
     "start_time": "2022-04-20T00:52:28.052825",
     "status": "completed"
    },
    "tags": []
   },
   "outputs": [
    {
     "name": "stdout",
     "output_type": "stream",
     "text": [
      "/kaggle/input/bf-model-dev/config.json\n",
      "/kaggle/input/bf-model-dev/__results__.html\n",
      "/kaggle/input/bf-model-dev/tokenizer.json\n",
      "/kaggle/input/bf-model-dev/tf_model.h5\n",
      "/kaggle/input/bf-model-dev/tokenizer_config.json\n",
      "/kaggle/input/bf-model-dev/tf_model.preproc\n",
      "/kaggle/input/bf-model-dev/__notebook__.ipynb\n",
      "/kaggle/input/bf-model-dev/special_tokens_map.json\n",
      "/kaggle/input/bf-model-dev/__output__.json\n",
      "/kaggle/input/bf-model-dev/vocab.txt\n",
      "/kaggle/input/bf-model-dev/custom.css\n",
      "/kaggle/input/test-val/test_data.tsv\n",
      "/kaggle/input/test-val/val_data.tsv\n"
     ]
    }
   ],
   "source": [
    "# This Python 3 environment comes with many helpful analytics libraries installed\n",
    "# It is defined by the kaggle/python Docker image: https://github.com/kaggle/docker-python\n",
    "# For example, here's several helpful packages to load\n",
    "\n",
    "import numpy as np # linear algebra\n",
    "import pandas as pd # data processing, CSV file I/O (e.g. pd.read_csv)\n",
    "\n",
    "# Input data files are available in the read-only \"../input/\" directory\n",
    "# For example, running this (by clicking run or pressing Shift+Enter) will list all files under the input directory\n",
    "\n",
    "import os\n",
    "for dirname, _, filenames in os.walk('/kaggle/input'):\n",
    "    for filename in filenames:\n",
    "        print(os.path.join(dirname, filename))\n",
    "\n",
    "# You can write up to 20GB to the current directory (/kaggle/working/) that gets preserved as output when you create a version using \"Save & Run All\" \n",
    "# You can also write temporary files to /kaggle/temp/, but they won't be saved outside of the current session"
   ]
  },
  {
   "cell_type": "code",
   "execution_count": 2,
   "id": "c0d2d763",
   "metadata": {
    "execution": {
     "iopub.execute_input": "2022-04-20T00:52:28.173635Z",
     "iopub.status.busy": "2022-04-20T00:52:28.172674Z",
     "iopub.status.idle": "2022-04-20T00:53:19.917728Z",
     "shell.execute_reply": "2022-04-20T00:53:19.917028Z",
     "shell.execute_reply.started": "2022-04-05T00:51:07.389409Z"
    },
    "papermill": {
     "duration": 51.766614,
     "end_time": "2022-04-20T00:53:19.917940",
     "exception": false,
     "start_time": "2022-04-20T00:52:28.151326",
     "status": "completed"
    },
    "tags": []
   },
   "outputs": [
    {
     "name": "stdout",
     "output_type": "stream",
     "text": [
      "\u001b[31mERROR: pip's dependency resolver does not currently take into account all the packages that are installed. This behaviour is the source of the following dependency conflicts.\r\n",
      "yellowbrick 1.4 requires scikit-learn>=1.0.0, but you have scikit-learn 0.24.2 which is incompatible.\r\n",
      "pdpbox 0.2.1 requires matplotlib==3.1.1, but you have matplotlib 3.5.1 which is incompatible.\r\n",
      "imbalanced-learn 0.9.0 requires scikit-learn>=1.0.1, but you have scikit-learn 0.24.2 which is incompatible.\r\n",
      "featuretools 1.6.0 requires numpy>=1.21.0, but you have numpy 1.20.3 which is incompatible.\u001b[0m\r\n",
      "\u001b[33mWARNING: Running pip as the 'root' user can result in broken permissions and conflicting behaviour with the system package manager. It is recommended to use a virtual environment instead: https://pip.pypa.io/warnings/venv\u001b[0m\r\n"
     ]
    }
   ],
   "source": [
    "!pip install -q ktrain"
   ]
  },
  {
   "cell_type": "code",
   "execution_count": 3,
   "id": "11bdffbe",
   "metadata": {
    "execution": {
     "iopub.execute_input": "2022-04-20T00:53:19.956541Z",
     "iopub.status.busy": "2022-04-20T00:53:19.955422Z",
     "iopub.status.idle": "2022-04-20T00:53:41.220378Z",
     "shell.execute_reply": "2022-04-20T00:53:41.219378Z",
     "shell.execute_reply.started": "2022-04-05T00:51:58.961303Z"
    },
    "papermill": {
     "duration": 21.286737,
     "end_time": "2022-04-20T00:53:41.220543",
     "exception": false,
     "start_time": "2022-04-20T00:53:19.933806",
     "status": "completed"
    },
    "tags": []
   },
   "outputs": [],
   "source": [
    "# load model\n",
    "import tensorflow as tf\n",
    "import ktrain \n",
    "\n",
    "from tensorflow.keras.mixed_precision import experimental as mixed_precision\n",
    "policy = mixed_precision.Policy('mixed_float16')\n",
    "mixed_precision.set_policy(policy)\n",
    "\n",
    "\n",
    "predictor=ktrain.load_predictor('../input/bf-model-dev')"
   ]
  },
  {
   "cell_type": "code",
   "execution_count": 4,
   "id": "2506e961",
   "metadata": {
    "execution": {
     "iopub.execute_input": "2022-04-20T00:53:41.258006Z",
     "iopub.status.busy": "2022-04-20T00:53:41.257170Z",
     "iopub.status.idle": "2022-04-20T00:53:41.294700Z",
     "shell.execute_reply": "2022-04-20T00:53:41.294146Z",
     "shell.execute_reply.started": "2022-04-05T00:52:20.4175Z"
    },
    "papermill": {
     "duration": 0.058249,
     "end_time": "2022-04-20T00:53:41.294888",
     "exception": false,
     "start_time": "2022-04-20T00:53:41.236639",
     "status": "completed"
    },
    "tags": []
   },
   "outputs": [],
   "source": [
    "# load data \n",
    "df=pd.read_csv('../input/test-val/val_data.tsv', delimiter=\"\\t\")"
   ]
  },
  {
   "cell_type": "code",
   "execution_count": 5,
   "id": "365867c5",
   "metadata": {
    "execution": {
     "iopub.execute_input": "2022-04-20T00:53:41.335989Z",
     "iopub.status.busy": "2022-04-20T00:53:41.334932Z",
     "iopub.status.idle": "2022-04-20T00:53:41.353547Z",
     "shell.execute_reply": "2022-04-20T00:53:41.355094Z",
     "shell.execute_reply.started": "2022-04-05T00:52:20.463898Z"
    },
    "papermill": {
     "duration": 0.045135,
     "end_time": "2022-04-20T00:53:41.355356",
     "exception": false,
     "start_time": "2022-04-20T00:53:41.310221",
     "status": "completed"
    },
    "tags": []
   },
   "outputs": [],
   "source": [
    "#pre-process data \n",
    "df['class']=df['class'].astype('bool')\n",
    "X_val=(df['title'].str.strip() + ' [SEP] ' + df['abstract'].str.strip()).to_numpy()\n",
    "y_val=df['class'].to_numpy()"
   ]
  },
  {
   "cell_type": "code",
   "execution_count": 6,
   "id": "d295a025",
   "metadata": {
    "execution": {
     "iopub.execute_input": "2022-04-20T00:53:41.418791Z",
     "iopub.status.busy": "2022-04-20T00:53:41.417495Z",
     "iopub.status.idle": "2022-04-20T00:54:14.874435Z",
     "shell.execute_reply": "2022-04-20T00:54:14.875028Z",
     "shell.execute_reply.started": "2022-04-05T00:52:20.501833Z"
    },
    "papermill": {
     "duration": 33.492752,
     "end_time": "2022-04-20T00:54:14.875219",
     "exception": false,
     "start_time": "2022-04-20T00:53:41.382467",
     "status": "completed"
    },
    "tags": []
   },
   "outputs": [
    {
     "name": "stdout",
     "output_type": "stream",
     "text": [
      "              precision    recall  f1-score   support\n",
      "\n",
      "       False       0.95      0.94      0.94       842\n",
      "        True       0.76      0.77      0.76       200\n",
      "\n",
      "    accuracy                           0.91      1042\n",
      "   macro avg       0.85      0.86      0.85      1042\n",
      "weighted avg       0.91      0.91      0.91      1042\n",
      "\n",
      "0.7077880342050993\n"
     ]
    }
   ],
   "source": [
    "# Check performance (to see model was loaded properly)\n",
    "from sklearn.metrics import accuracy_score\n",
    "from sklearn.metrics import classification_report\n",
    "from sklearn.metrics import matthews_corrcoef\n",
    "\n",
    "\n",
    "predictions=predictor.predict((X_val))\n",
    "print(classification_report((y_val), predictions))\n",
    "print(matthews_corrcoef((y_val), predictions))"
   ]
  },
  {
   "cell_type": "code",
   "execution_count": 7,
   "id": "864e8844",
   "metadata": {
    "execution": {
     "iopub.execute_input": "2022-04-20T00:54:14.911636Z",
     "iopub.status.busy": "2022-04-20T00:54:14.910709Z",
     "iopub.status.idle": "2022-04-20T00:54:14.913657Z",
     "shell.execute_reply": "2022-04-20T00:54:14.914326Z",
     "shell.execute_reply.started": "2022-04-05T00:52:54.064437Z"
    },
    "papermill": {
     "duration": 0.023077,
     "end_time": "2022-04-20T00:54:14.914486",
     "exception": false,
     "start_time": "2022-04-20T00:54:14.891409",
     "status": "completed"
    },
    "tags": []
   },
   "outputs": [],
   "source": [
    "from numpy import argmax\n",
    "from sklearn.metrics import precision_recall_curve"
   ]
  },
  {
   "cell_type": "code",
   "execution_count": 8,
   "id": "2047d69e",
   "metadata": {
    "execution": {
     "iopub.execute_input": "2022-04-20T00:54:14.950396Z",
     "iopub.status.busy": "2022-04-20T00:54:14.949411Z",
     "iopub.status.idle": "2022-04-20T00:54:59.251580Z",
     "shell.execute_reply": "2022-04-20T00:54:59.250694Z",
     "shell.execute_reply.started": "2022-04-05T00:52:54.074606Z"
    },
    "papermill": {
     "duration": 44.322166,
     "end_time": "2022-04-20T00:54:59.251776",
     "exception": false,
     "start_time": "2022-04-20T00:54:14.929610",
     "status": "completed"
    },
    "tags": []
   },
   "outputs": [],
   "source": [
    "yhat=predictor.predict_proba((X_val))"
   ]
  },
  {
   "cell_type": "code",
   "execution_count": 9,
   "id": "9d51672e",
   "metadata": {
    "execution": {
     "iopub.execute_input": "2022-04-20T00:54:59.288919Z",
     "iopub.status.busy": "2022-04-20T00:54:59.287784Z",
     "iopub.status.idle": "2022-04-20T00:54:59.291044Z",
     "shell.execute_reply": "2022-04-20T00:54:59.290455Z",
     "shell.execute_reply.started": "2022-04-05T00:53:18.588658Z"
    },
    "papermill": {
     "duration": 0.023442,
     "end_time": "2022-04-20T00:54:59.291179",
     "exception": false,
     "start_time": "2022-04-20T00:54:59.267737",
     "status": "completed"
    },
    "tags": []
   },
   "outputs": [],
   "source": [
    "yhat=yhat[:,1]"
   ]
  },
  {
   "cell_type": "code",
   "execution_count": 10,
   "id": "423081e5",
   "metadata": {
    "execution": {
     "iopub.execute_input": "2022-04-20T00:54:59.326808Z",
     "iopub.status.busy": "2022-04-20T00:54:59.326152Z",
     "iopub.status.idle": "2022-04-20T00:54:59.332609Z",
     "shell.execute_reply": "2022-04-20T00:54:59.332039Z",
     "shell.execute_reply.started": "2022-04-05T00:53:18.596389Z"
    },
    "papermill": {
     "duration": 0.026322,
     "end_time": "2022-04-20T00:54:59.332748",
     "exception": false,
     "start_time": "2022-04-20T00:54:59.306426",
     "status": "completed"
    },
    "tags": []
   },
   "outputs": [],
   "source": [
    "precision, recall, thresholds = precision_recall_curve(y_val, yhat)"
   ]
  },
  {
   "cell_type": "code",
   "execution_count": 11,
   "id": "35fa4f7a",
   "metadata": {
    "execution": {
     "iopub.execute_input": "2022-04-20T00:54:59.376115Z",
     "iopub.status.busy": "2022-04-20T00:54:59.375083Z",
     "iopub.status.idle": "2022-04-20T00:54:59.671686Z",
     "shell.execute_reply": "2022-04-20T00:54:59.671014Z",
     "shell.execute_reply.started": "2022-04-05T00:53:18.61107Z"
    },
    "papermill": {
     "duration": 0.323365,
     "end_time": "2022-04-20T00:54:59.671916",
     "exception": false,
     "start_time": "2022-04-20T00:54:59.348551",
     "status": "completed"
    },
    "tags": []
   },
   "outputs": [
    {
     "data": {
      "text/plain": [
       "<matplotlib.legend.Legend at 0x7f5b2b22cc50>"
      ]
     },
     "execution_count": 11,
     "metadata": {},
     "output_type": "execute_result"
    },
    {
     "data": {
      "image/png": "[encoded data removed]",
      "text/plain": [
       "<Figure size 432x288 with 1 Axes>"
      ]
     },
     "metadata": {
      "needs_background": "light"
     },
     "output_type": "display_data"
    }
   ],
   "source": [
    "from matplotlib import pyplot\n",
    "pyplot.plot(recall, precision, marker='.', label='Model')\n",
    "pyplot.xlabel('Recall')\n",
    "pyplot.ylabel('Precision')\n",
    "pyplot.legend()"
   ]
  },
  {
   "cell_type": "code",
   "execution_count": null,
   "id": "1fb56df8",
   "metadata": {
    "papermill": {
     "duration": 0.019102,
     "end_time": "2022-04-20T00:54:59.708499",
     "exception": false,
     "start_time": "2022-04-20T00:54:59.689397",
     "status": "completed"
    },
    "tags": []
   },
   "outputs": [],
   "source": []
  }
 ],
 "metadata": {
  "kernelspec": {
   "display_name": "Python 3",
   "language": "python",
   "name": "python3"
  },
  "language_info": {
   "codemirror_mode": {
    "name": "ipython",
    "version": 3
   },
   "file_extension": ".py",
   "mimetype": "text/x-python",
   "name": "python",
   "nbconvert_exporter": "python",
   "pygments_lexer": "ipython3",
   "version": "3.7.12"
  },
  "papermill": {
   "default_parameters": {},
   "duration": 164.703465,
   "end_time": "2022-04-20T00:55:02.811565",
   "environment_variables": {},
   "exception": null,
   "input_path": "__notebook__.ipynb",
   "output_path": "__notebook__.ipynb",
   "parameters": {},
   "start_time": "2022-04-20T00:52:18.108100",
   "version": "2.3.3"
  }
 },
 "nbformat": 4,
 "nbformat_minor": 5
}
