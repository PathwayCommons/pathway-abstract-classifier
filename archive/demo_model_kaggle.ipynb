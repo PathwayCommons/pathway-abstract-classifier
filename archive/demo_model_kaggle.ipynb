{
 "cells": [
  {
   "cell_type": "code",
   "execution_count": 1,
   "id": "13760353",
   "metadata": {
    "_cell_guid": "b1076dfc-b9ad-4769-8c92-a6c4dae69d19",
    "_uuid": "8f2839f25d086af736a60e9eeb907d3b93b6e0e5",
    "execution": {
     "iopub.execute_input": "2022-04-19T22:09:07.050973Z",
     "iopub.status.busy": "2022-04-19T22:09:07.050603Z",
     "iopub.status.idle": "2022-04-19T22:09:07.083852Z",
     "shell.execute_reply": "2022-04-19T22:09:07.081996Z"
    },
    "papermill": {
     "duration": 0.066706,
     "end_time": "2022-04-19T22:09:07.087263",
     "exception": false,
     "start_time": "2022-04-19T22:09:07.020557",
     "status": "completed"
    },
    "tags": []
   },
   "outputs": [
    {
     "name": "stdout",
     "output_type": "stream",
     "text": [
      "/kaggle/input/top-losses-cl/top_losses_cl.tsv\n",
      "/kaggle/input/test-val/test_data.tsv\n",
      "/kaggle/input/test-val/val_data.tsv\n",
      "/kaggle/input/all-labelled/all_labelled.tsv\n"
     ]
    }
   ],
   "source": [
    "# This Python 3 environment comes with many helpful analytics libraries installed\n",
    "# It is defined by the kaggle/python Docker image: https://github.com/kaggle/docker-python\n",
    "# For example, here's several helpful packages to load\n",
    "\n",
    "import numpy as np # linear algebra\n",
    "import pandas as pd # data processing, CSV file I/O (e.g. pd.read_csv)\n",
    "\n",
    "# Input data files are available in the read-only \"../input/\" directory\n",
    "# For example, running this (by clicking run or pressing Shift+Enter) will list all files under the input directory\n",
    "\n",
    "import os\n",
    "for dirname, _, filenames in os.walk('/kaggle/input'):\n",
    "    for filename in filenames:\n",
    "        print(os.path.join(dirname, filename))\n",
    "\n",
    "# You can write up to 20GB to the current directory (/kaggle/working/) that gets preserved as output when you create a version using \"Save & Run All\" \n",
    "# You can also write temporary files to /kaggle/temp/, but they won't be saved outside of the current session"
   ]
  },
  {
   "cell_type": "code",
   "execution_count": 2,
   "id": "416b4bb0",
   "metadata": {
    "execution": {
     "iopub.execute_input": "2022-04-19T22:09:07.119780Z",
     "iopub.status.busy": "2022-04-19T22:09:07.119578Z",
     "iopub.status.idle": "2022-04-19T22:09:07.408197Z",
     "shell.execute_reply": "2022-04-19T22:09:07.407495Z"
    },
    "papermill": {
     "duration": 0.307405,
     "end_time": "2022-04-19T22:09:07.410641",
     "exception": false,
     "start_time": "2022-04-19T22:09:07.103236",
     "status": "completed"
    },
    "tags": []
   },
   "outputs": [],
   "source": [
    "train=pd.read_csv(\"../input/all-labelled/all_labelled.tsv\", delimiter=\"\\t\")\n",
    "validation=pd.read_csv(\"../input/test-val/val_data.tsv\", delimiter=\"\\t\")\n",
    "cl=pd.read_csv(\"../input/top-losses-cl/top_losses_cl.tsv\", delimiter= \"\\t\")"
   ]
  },
  {
   "cell_type": "code",
   "execution_count": 3,
   "id": "d735cd83",
   "metadata": {
    "execution": {
     "iopub.execute_input": "2022-04-19T22:09:07.444044Z",
     "iopub.status.busy": "2022-04-19T22:09:07.443837Z",
     "iopub.status.idle": "2022-04-19T22:09:07.453971Z",
     "shell.execute_reply": "2022-04-19T22:09:07.453322Z"
    },
    "papermill": {
     "duration": 0.028966,
     "end_time": "2022-04-19T22:09:07.455664",
     "exception": false,
     "start_time": "2022-04-19T22:09:07.426698",
     "status": "completed"
    },
    "tags": []
   },
   "outputs": [],
   "source": [
    "train['class']=train['class'].astype('bool')\n",
    "validation['class']=validation['class'].astype('bool')\n",
    "cl['class']=cl['class'].astype('bool')"
   ]
  },
  {
   "cell_type": "code",
   "execution_count": 4,
   "id": "262485ec",
   "metadata": {
    "execution": {
     "iopub.execute_input": "2022-04-19T22:09:07.488031Z",
     "iopub.status.busy": "2022-04-19T22:09:07.487828Z",
     "iopub.status.idle": "2022-04-19T22:09:07.504333Z",
     "shell.execute_reply": "2022-04-19T22:09:07.503559Z"
    },
    "papermill": {
     "duration": 0.035182,
     "end_time": "2022-04-19T22:09:07.506654",
     "exception": false,
     "start_time": "2022-04-19T22:09:07.471472",
     "status": "completed"
    },
    "tags": []
   },
   "outputs": [
    {
     "name": "stdout",
     "output_type": "stream",
     "text": [
      "           uid                                           abstract  \\\n",
      "7     31969690  Neonatal mammalian heart maintains a transient...   \n",
      "10    31959915  The identification of viability-associated lon...   \n",
      "20    32127658  Autophagy is a cellular catabolic process that...   \n",
      "33    32447347  Senescence is accompanied with histones level ...   \n",
      "50    32376875  We have previously reported that Monoglyceride...   \n",
      "...        ...                                                ...   \n",
      "8491  33555257  The Hippo (Hpo) pathway regulates tissue growt...   \n",
      "8613  33459596  Germline mutations in the Folliculin (FLCN) tu...   \n",
      "8643  33438577  The microphthalmia-associated transcription fa...   \n",
      "8648  33432928  Skeletal muscle possesses an outstanding capac...   \n",
      "8669  33416496  The oncoprotein transcription factor MYC is a ...   \n",
      "\n",
      "                                                  title  \\\n",
      "7     Targeting LncDACH1 promotes cardiac repair and...   \n",
      "10    LINC00662 promotes hepatocellular carcinoma pr...   \n",
      "20    Deleting key autophagy elongation proteins ind...   \n",
      "33    Arginine hypomethylation-mediated proteasomal ...   \n",
      "50    Monoglyceride lipase mediates tumor-suppressiv...   \n",
      "...                                                 ...   \n",
      "8491  Negative feedback couples Hippo pathway activa...   \n",
      "8613  Loss of FLCN-FNIP1/2 induces a non-canonical i...   \n",
      "8643  MITF reprograms the extracellular matrix and f...   \n",
      "8648  Epigenetic regulation of Wnt7b expression by t...   \n",
      "8669  MYC regulates ribosome biogenesis and mitochon...   \n",
      "\n",
      "                             journal  class  \n",
      "7     Cell death and differentiation  False  \n",
      "10    Cell death and differentiation   True  \n",
      "20    Cell death and differentiation  False  \n",
      "33    Cell death and differentiation  False  \n",
      "50    Cell death and differentiation  False  \n",
      "...                              ...    ...  \n",
      "8491                           eLife   True  \n",
      "8613                           eLife  False  \n",
      "8643                           eLife  False  \n",
      "8648                           eLife  False  \n",
      "8669                           eLife  False  \n",
      "\n",
      "[557 rows x 5 columns]\n"
     ]
    }
   ],
   "source": [
    "print(train[train['uid'].isin(cl['uid'])])"
   ]
  },
  {
   "cell_type": "code",
   "execution_count": 5,
   "id": "f7870662",
   "metadata": {
    "execution": {
     "iopub.execute_input": "2022-04-19T22:09:07.539756Z",
     "iopub.status.busy": "2022-04-19T22:09:07.539562Z",
     "iopub.status.idle": "2022-04-19T22:09:07.545912Z",
     "shell.execute_reply": "2022-04-19T22:09:07.545268Z"
    },
    "papermill": {
     "duration": 0.024734,
     "end_time": "2022-04-19T22:09:07.547622",
     "exception": false,
     "start_time": "2022-04-19T22:09:07.522888",
     "status": "completed"
    },
    "tags": []
   },
   "outputs": [],
   "source": [
    "train.loc[train['uid'].isin(cl['uid']), 'class'] = ~(train.loc[train['uid'].isin(cl['uid']), 'class'] )"
   ]
  },
  {
   "cell_type": "code",
   "execution_count": 6,
   "id": "20a12e92",
   "metadata": {
    "execution": {
     "iopub.execute_input": "2022-04-19T22:09:07.580587Z",
     "iopub.status.busy": "2022-04-19T22:09:07.580382Z",
     "iopub.status.idle": "2022-04-19T22:09:07.590406Z",
     "shell.execute_reply": "2022-04-19T22:09:07.589711Z"
    },
    "papermill": {
     "duration": 0.028551,
     "end_time": "2022-04-19T22:09:07.592071",
     "exception": false,
     "start_time": "2022-04-19T22:09:07.563520",
     "status": "completed"
    },
    "tags": []
   },
   "outputs": [
    {
     "name": "stdout",
     "output_type": "stream",
     "text": [
      "           uid                                           abstract  \\\n",
      "7     31969690  Neonatal mammalian heart maintains a transient...   \n",
      "10    31959915  The identification of viability-associated lon...   \n",
      "20    32127658  Autophagy is a cellular catabolic process that...   \n",
      "33    32447347  Senescence is accompanied with histones level ...   \n",
      "50    32376875  We have previously reported that Monoglyceride...   \n",
      "...        ...                                                ...   \n",
      "8491  33555257  The Hippo (Hpo) pathway regulates tissue growt...   \n",
      "8613  33459596  Germline mutations in the Folliculin (FLCN) tu...   \n",
      "8643  33438577  The microphthalmia-associated transcription fa...   \n",
      "8648  33432928  Skeletal muscle possesses an outstanding capac...   \n",
      "8669  33416496  The oncoprotein transcription factor MYC is a ...   \n",
      "\n",
      "                                                  title  \\\n",
      "7     Targeting LncDACH1 promotes cardiac repair and...   \n",
      "10    LINC00662 promotes hepatocellular carcinoma pr...   \n",
      "20    Deleting key autophagy elongation proteins ind...   \n",
      "33    Arginine hypomethylation-mediated proteasomal ...   \n",
      "50    Monoglyceride lipase mediates tumor-suppressiv...   \n",
      "...                                                 ...   \n",
      "8491  Negative feedback couples Hippo pathway activa...   \n",
      "8613  Loss of FLCN-FNIP1/2 induces a non-canonical i...   \n",
      "8643  MITF reprograms the extracellular matrix and f...   \n",
      "8648  Epigenetic regulation of Wnt7b expression by t...   \n",
      "8669  MYC regulates ribosome biogenesis and mitochon...   \n",
      "\n",
      "                             journal  class  \n",
      "7     Cell death and differentiation   True  \n",
      "10    Cell death and differentiation  False  \n",
      "20    Cell death and differentiation   True  \n",
      "33    Cell death and differentiation   True  \n",
      "50    Cell death and differentiation   True  \n",
      "...                              ...    ...  \n",
      "8491                           eLife  False  \n",
      "8613                           eLife   True  \n",
      "8643                           eLife   True  \n",
      "8648                           eLife   True  \n",
      "8669                           eLife   True  \n",
      "\n",
      "[557 rows x 5 columns]\n"
     ]
    }
   ],
   "source": [
    "print(train[train['uid'].isin(cl['uid'])])"
   ]
  },
  {
   "cell_type": "code",
   "execution_count": 7,
   "id": "47c72d99",
   "metadata": {
    "execution": {
     "iopub.execute_input": "2022-04-19T22:09:07.632665Z",
     "iopub.status.busy": "2022-04-19T22:09:07.632434Z",
     "iopub.status.idle": "2022-04-19T22:09:07.673791Z",
     "shell.execute_reply": "2022-04-19T22:09:07.673167Z"
    },
    "papermill": {
     "duration": 0.067455,
     "end_time": "2022-04-19T22:09:07.675531",
     "exception": false,
     "start_time": "2022-04-19T22:09:07.608076",
     "status": "completed"
    },
    "tags": []
   },
   "outputs": [],
   "source": [
    "# Pre-process train data \n",
    "train.dropna(inplace=True)\n",
    "train=train.drop_duplicates()"
   ]
  },
  {
   "cell_type": "code",
   "execution_count": 8,
   "id": "488821ba",
   "metadata": {
    "execution": {
     "iopub.execute_input": "2022-04-19T22:09:07.711455Z",
     "iopub.status.busy": "2022-04-19T22:09:07.710859Z",
     "iopub.status.idle": "2022-04-19T22:09:49.715830Z",
     "shell.execute_reply": "2022-04-19T22:09:49.714962Z"
    },
    "papermill": {
     "duration": 42.026659,
     "end_time": "2022-04-19T22:09:49.718681",
     "exception": false,
     "start_time": "2022-04-19T22:09:07.692022",
     "status": "completed"
    },
    "tags": []
   },
   "outputs": [
    {
     "name": "stdout",
     "output_type": "stream",
     "text": [
      "\u001b[31mERROR: pip's dependency resolver does not currently take into account all the packages that are installed. This behaviour is the source of the following dependency conflicts.\r\n",
      "yellowbrick 1.4 requires scikit-learn>=1.0.0, but you have scikit-learn 0.24.2 which is incompatible.\r\n",
      "pdpbox 0.2.1 requires matplotlib==3.1.1, but you have matplotlib 3.5.1 which is incompatible.\r\n",
      "imbalanced-learn 0.9.0 requires scikit-learn>=1.0.1, but you have scikit-learn 0.24.2 which is incompatible.\u001b[0m\u001b[31m\r\n",
      "\u001b[0m\u001b[33mWARNING: Running pip as the 'root' user can result in broken permissions and conflicting behaviour with the system package manager. It is recommended to use a virtual environment instead: https://pip.pypa.io/warnings/venv\u001b[0m\u001b[33m\r\n",
      "\u001b[0m"
     ]
    }
   ],
   "source": [
    "!pip install -q ktrain "
   ]
  },
  {
   "cell_type": "code",
   "execution_count": 9,
   "id": "2d3ddaf0",
   "metadata": {
    "execution": {
     "iopub.execute_input": "2022-04-19T22:09:49.754086Z",
     "iopub.status.busy": "2022-04-19T22:09:49.753832Z",
     "iopub.status.idle": "2022-04-19T22:10:03.096708Z",
     "shell.execute_reply": "2022-04-19T22:10:03.095952Z"
    },
    "papermill": {
     "duration": 13.363584,
     "end_time": "2022-04-19T22:10:03.099224",
     "exception": false,
     "start_time": "2022-04-19T22:09:49.735640",
     "status": "completed"
    },
    "tags": []
   },
   "outputs": [],
   "source": [
    "# Import required libraries \n",
    "import tensorflow as tf \n",
    "import ktrain \n",
    "from ktrain import text \n",
    "from sklearn.model_selection import train_test_split\n",
    "# Enable AMP\n",
    "from tensorflow.keras.mixed_precision import experimental as mixed_precision\n",
    "policy = mixed_precision.Policy('mixed_float16')\n",
    "mixed_precision.set_policy(policy)"
   ]
  },
  {
   "cell_type": "code",
   "execution_count": 10,
   "id": "fec50629",
   "metadata": {
    "execution": {
     "iopub.execute_input": "2022-04-19T22:10:03.138022Z",
     "iopub.status.busy": "2022-04-19T22:10:03.137743Z",
     "iopub.status.idle": "2022-04-19T22:10:03.143013Z",
     "shell.execute_reply": "2022-04-19T22:10:03.142333Z"
    },
    "papermill": {
     "duration": 0.027059,
     "end_time": "2022-04-19T22:10:03.144752",
     "exception": false,
     "start_time": "2022-04-19T22:10:03.117693",
     "status": "completed"
    },
    "tags": []
   },
   "outputs": [],
   "source": [
    "# Set random seed\n",
    "import os\n",
    "import random\n",
    "def reset_random_seeds(seed=3):\n",
    "    os.environ['PYTHONHASHSEED']=str(seed)\n",
    "    tf.random.set_seed(seed)\n",
    "    np.random.seed(seed)\n",
    "    random.seed(seed)\n",
    "reset_random_seeds() "
   ]
  },
  {
   "cell_type": "code",
   "execution_count": 11,
   "id": "15c2e358",
   "metadata": {
    "execution": {
     "iopub.execute_input": "2022-04-19T22:10:03.184344Z",
     "iopub.status.busy": "2022-04-19T22:10:03.184139Z",
     "iopub.status.idle": "2022-04-19T22:10:03.215016Z",
     "shell.execute_reply": "2022-04-19T22:10:03.214306Z"
    },
    "papermill": {
     "duration": 0.05117,
     "end_time": "2022-04-19T22:10:03.216700",
     "exception": false,
     "start_time": "2022-04-19T22:10:03.165530",
     "status": "completed"
    },
    "tags": []
   },
   "outputs": [
    {
     "name": "stdout",
     "output_type": "stream",
     "text": [
      "['Mutant GTF2I induces cell transformation and metabolic alterations in thymic epithelial cells. [SEP] The pathogenesis of thymic epithelial tumors (TETs) is poorly understood. Recently we reported the frequent occurrence of a missense mutation in the GTF2I gene in TETs and hypothesized that GTF2I mutation might contribute to thymic tumorigenesis. Expression of mutant TFII-I altered the transcriptome of normal thymic epithelial cells and upregulated several oncogenic genes. Gtf2i L424H knockin cells exhibited cell transformation, aneuploidy, and increase tumor growth and survival under glucose deprivation or DNA damage. Gtf2i mutation also increased the expression of several glycolytic enzymes, cyclooxygenase-2, and caused modifications of lipid metabolism. Elevated cyclooxygenase-2 expression by Gtf2i mutation was required for survival under metabolic stress and cellular transformation of thymic epithelial cells. Our findings identify GTF2I mutation as a new oncogenic driver that is responsible for transformation of thymic epithelial cells.'\n",
      " 'Roles of mTORC1 and mTORC2 in controlling gammadelta T1 and gammadelta T17 differentiation and function. [SEP] The metabolism-controlled differentiation of alphabeta T cells has been well documented; however, the role of a metabolism program in gammadelta T cell differentiation and function has not been clarified. Here, using CD2-cre; mTORC1 Raptor-f/f, and mTORC2 Rictor-f/f mice (KO mice), we found that mTORC1, but not mTORC2, was required for the proliferation and survival of peripheral gammadelta T cells, especially Vgamma4 gammadelta T cells. Moreover, mTORC1 was essential for both gammadelta T1 and gammadelta Tau17 differentiation, whereas mTORC2 was required for gammadelta T17, but not for gammadelta Tau1, differentiation. We further studied the underlying molecular mechanisms and found that depletion of mTORC1 resulted in the increased expression of SOCS1, which in turn suppressed the key transcription factor Eomes, consequentially reducing IFN-gamma production. Whereas the reduced glycolysis resulted in impaired gammadelta Tau17 differentiation in Raptor KO gammadelta T cells. In contrast, mTORC2 potentiated gammadelta Tau17 induction by suppressing mitochondrial ROS (mitoROS) production. Consistent with their cytokine production profiles, the Raptor KO gammadelta T cells lost their anti-tumor function both in vitro and in vivo, whereas both Raptor and Rictor KO mice were resistant to imiquimod (IMQ)-induced psoriasis-like skin pathogenesis. In summary, we identified previously unknown functions of mTORC1 and mTORC2 in gammadelta T cell differentiation and clarified their divergent roles in mediating the activity of gammadelta T cells in tumors and autoimmunity.'\n",
      " 'Pro-death signaling of cytoprotective heat shock factor 1: upregulation of NOXA leading to apoptosis in heat-sensitive cells. [SEP] Heat shock can induce either cytoprotective mechanisms or cell death. We found that in certain human and mouse cells, including spermatocytes, activated heat shock factor 1 (HSF1) binds to sequences located in the intron(s) of the PMAIP1 (NOXA) gene and upregulates its expression which induces apoptosis. Such a mode of PMAIP1 activation is not dependent on p53. Therefore, HSF1 not only can activate the expression of genes encoding cytoprotective heat shock proteins, which prevents apoptosis, but it can also positively regulate the proapoptotic PMAIP1 gene, which facilitates cell death. This could be the primary cause of hyperthermia-induced elimination of heat-sensitive cells, yet other pro-death mechanisms might also be involved.'\n",
      " ...\n",
      " 'Epithelial colonies in vitro elongate through collective effects. [SEP] Epithelial tissues of the developing embryos elongate by different mechanisms, such as neighbor exchange, cell elongation, and oriented cell division. Since autonomous tissue self-organization is influenced by external cues such as morphogen gradients or neighboring tissues, it is difficult to distinguish intrinsic from directed tissue behavior. The mesoscopic processes leading to the different mechanisms remain elusive. Here, we study the spontaneous elongation behavior of spreading circular epithelial colonies in vitro. By quantifying deformation kinematics at multiple scales, we report that global elongation happens primarily due to cell elongations, and its direction correlates with the anisotropy of the average cell elongation. By imposing an external time-periodic stretch, the axis of this global symmetry breaking can be modified and elongation occurs primarily due to orientated neighbor exchange. These different behaviors are confirmed using a vertex model for collective cell behavior, providing a framework for understanding autonomous tissue elongation and its origins.'\n",
      " 'Interplay of opposing fate choices stalls oncogenic growth in murine skin epithelium. [SEP] Skin epithelium can accumulate a high burden of oncogenic mutations without morphological or functional consequences. To investigate the mechanism of oncogenic tolerance, we induced Hras(G12V) in single murine epidermal cells and followed them long term. We observed that Hras(G12V) promotes an early and transient clonal expansion driven by increased progenitor renewal that is replaced with an increase in progenitor differentiation leading to reduced growth. We attribute this dynamic effect to emergence of two populations within oncogenic clones: renewing progenitors along the edge and differentiating ones within the central core. As clone expansion is accompanied by progressive enlargement of the core and diminishment of the edge compartment, the intraclonal competition between the two populations results in stabilized oncogenic growth. To identify the molecular mechanism of Hras(G12V)-driven differentiation, we screened known Ras-effector in vivo and identified Rassf5 as a novel regulator of progenitor fate choice that is necessary and sufficient for oncogene-specific differentiation.'\n",
      " 'Rapid adaptation to malaria facilitated by admixture in the human population of Cabo Verde. [SEP] Humans have undergone large migrations over the past hundreds to thousands of years, exposing ourselves to new environments and selective pressures. Yet, evidence of ongoing or recent selection in humans is difficult to detect. Many of these migrations also resulted in gene flow between previously separated populations. These recently admixed populations provide unique opportunities to study rapid evolution in humans. Developing methods based on distributions of local ancestry, we demonstrate that this sort of genetic exchange has facilitated detectable adaptation to a malaria parasite in the admixed population of Cabo Verde within the last ~20 generations. We estimate that the selection coefficient is approximately 0.08, one of the highest inferred in humans. Notably, we show that this strong selection at a single locus has likely affected patterns of ancestry genome-wide, potentially biasing demographic inference. Our study provides evidence of adaptation in a human population on historical timescales.']\n"
     ]
    }
   ],
   "source": [
    "X_train=(train['title'].str.strip() + ' [SEP] ' + train['abstract'].str.strip()).to_numpy()\n",
    "print(X_train)\n",
    "y_train=train['class'].to_numpy()"
   ]
  },
  {
   "cell_type": "code",
   "execution_count": 12,
   "id": "aa993c09",
   "metadata": {
    "execution": {
     "iopub.execute_input": "2022-04-19T22:10:03.251565Z",
     "iopub.status.busy": "2022-04-19T22:10:03.251033Z",
     "iopub.status.idle": "2022-04-19T22:10:03.259017Z",
     "shell.execute_reply": "2022-04-19T22:10:03.258346Z"
    },
    "papermill": {
     "duration": 0.027512,
     "end_time": "2022-04-19T22:10:03.260855",
     "exception": false,
     "start_time": "2022-04-19T22:10:03.233343",
     "status": "completed"
    },
    "tags": []
   },
   "outputs": [],
   "source": [
    "X_val=(validation['title'].str.strip() + ' [SEP] ' + validation['abstract'].str.strip()).to_numpy()\n",
    "y_val=validation['class'].to_numpy()"
   ]
  },
  {
   "cell_type": "code",
   "execution_count": 13,
   "id": "e43bb584",
   "metadata": {
    "execution": {
     "iopub.execute_input": "2022-04-19T22:10:03.295216Z",
     "iopub.status.busy": "2022-04-19T22:10:03.294970Z",
     "iopub.status.idle": "2022-04-19T22:10:04.037838Z",
     "shell.execute_reply": "2022-04-19T22:10:04.037012Z"
    },
    "papermill": {
     "duration": 0.764344,
     "end_time": "2022-04-19T22:10:04.041803",
     "exception": false,
     "start_time": "2022-04-19T22:10:03.277459",
     "status": "completed"
    },
    "tags": []
   },
   "outputs": [
    {
     "data": {
      "application/vnd.jupyter.widget-view+json": {
       "model_id": "2ebfdae9a6e64b0e8ae2f2b57537bd08",
       "version_major": 2,
       "version_minor": 0
      },
      "text/plain": [
       "Downloading:   0%|          | 0.00/385 [00:00<?, ?B/s]"
      ]
     },
     "metadata": {},
     "output_type": "display_data"
    }
   ],
   "source": [
    "t_mod = text.Transformer('microsoft/BiomedNLP-PubMedBERT-base-uncased-abstract-fulltext', maxlen=500, class_names = [0,1])"
   ]
  },
  {
   "cell_type": "code",
   "execution_count": 14,
   "id": "80793ae3",
   "metadata": {
    "execution": {
     "iopub.execute_input": "2022-04-19T22:10:04.082257Z",
     "iopub.status.busy": "2022-04-19T22:10:04.081769Z",
     "iopub.status.idle": "2022-04-19T22:10:04.085730Z",
     "shell.execute_reply": "2022-04-19T22:10:04.084975Z"
    },
    "papermill": {
     "duration": 0.02586,
     "end_time": "2022-04-19T22:10:04.087555",
     "exception": false,
     "start_time": "2022-04-19T22:10:04.061695",
     "status": "completed"
    },
    "tags": []
   },
   "outputs": [],
   "source": [
    "from sklearn.metrics import accuracy_score\n",
    "from sklearn.metrics import classification_report\n",
    "from sklearn.metrics import matthews_corrcoef"
   ]
  },
  {
   "cell_type": "code",
   "execution_count": 15,
   "id": "48cd750c",
   "metadata": {
    "execution": {
     "iopub.execute_input": "2022-04-19T22:10:04.128896Z",
     "iopub.status.busy": "2022-04-19T22:10:04.128705Z",
     "iopub.status.idle": "2022-04-19T22:10:38.187836Z",
     "shell.execute_reply": "2022-04-19T22:10:38.186991Z"
    },
    "papermill": {
     "duration": 34.084231,
     "end_time": "2022-04-19T22:10:38.189966",
     "exception": false,
     "start_time": "2022-04-19T22:10:04.105735",
     "status": "completed"
    },
    "tags": []
   },
   "outputs": [
    {
     "name": "stdout",
     "output_type": "stream",
     "text": [
      "preprocessing train...\n",
      "language: en\n",
      "train sequence lengths:\n",
      "\tmean : 184\n",
      "\t95percentile : 264\n",
      "\t99percentile : 285\n"
     ]
    },
    {
     "data": {
      "application/vnd.jupyter.widget-view+json": {
       "model_id": "b7e358fcd1dc4c18978a00cb08aea77e",
       "version_major": 2,
       "version_minor": 0
      },
      "text/plain": [
       "Downloading:   0%|          | 0.00/28.0 [00:00<?, ?B/s]"
      ]
     },
     "metadata": {},
     "output_type": "display_data"
    },
    {
     "data": {
      "application/vnd.jupyter.widget-view+json": {
       "model_id": "df71297da58346dba231ede38a673b09",
       "version_major": 2,
       "version_minor": 0
      },
      "text/plain": [
       "Downloading:   0%|          | 0.00/226k [00:00<?, ?B/s]"
      ]
     },
     "metadata": {},
     "output_type": "display_data"
    },
    {
     "data": {
      "text/html": [
       "\n",
       "<style>\n",
       "    /* Turns off some styling */\n",
       "    progress {\n",
       "        /* gets rid of default border in Firefox and Opera. */\n",
       "        border: none;\n",
       "        /* Needs to be in here for Safari polyfill so background images work as expected. */\n",
       "        background-size: auto;\n",
       "    }\n",
       "    .progress-bar-interrupted, .progress-bar-interrupted::-webkit-progress-bar {\n",
       "        background: #F44336;\n",
       "    }\n",
       "</style>\n"
      ],
      "text/plain": [
       "<IPython.core.display.HTML object>"
      ]
     },
     "metadata": {},
     "output_type": "display_data"
    },
    {
     "data": {
      "text/html": [],
      "text/plain": [
       "<IPython.core.display.HTML object>"
      ]
     },
     "metadata": {},
     "output_type": "display_data"
    },
    {
     "name": "stdout",
     "output_type": "stream",
     "text": [
      "Is Multi-Label? False\n",
      "preprocessing test...\n",
      "language: en\n",
      "test sequence lengths:\n",
      "\tmean : 181\n",
      "\t95percentile : 266\n",
      "\t99percentile : 277\n"
     ]
    },
    {
     "data": {
      "text/html": [
       "\n",
       "<style>\n",
       "    /* Turns off some styling */\n",
       "    progress {\n",
       "        /* gets rid of default border in Firefox and Opera. */\n",
       "        border: none;\n",
       "        /* Needs to be in here for Safari polyfill so background images work as expected. */\n",
       "        background-size: auto;\n",
       "    }\n",
       "    .progress-bar-interrupted, .progress-bar-interrupted::-webkit-progress-bar {\n",
       "        background: #F44336;\n",
       "    }\n",
       "</style>\n"
      ],
      "text/plain": [
       "<IPython.core.display.HTML object>"
      ]
     },
     "metadata": {},
     "output_type": "display_data"
    },
    {
     "data": {
      "text/html": [],
      "text/plain": [
       "<IPython.core.display.HTML object>"
      ]
     },
     "metadata": {},
     "output_type": "display_data"
    },
    {
     "name": "stderr",
     "output_type": "stream",
     "text": [
      "404 Client Error: Not Found for url: https://huggingface.co/microsoft/BiomedNLP-PubMedBERT-base-uncased-abstract-fulltext/resolve/main/tf_model.h5\n",
      "/opt/conda/lib/python3.7/site-packages/ktrain/text/preprocessor.py:1070: UserWarning: Could not find Tensorflow version of model.  Attempting to download/load PyTorch version as TensorFlow model using from_pt=True. You will need PyTorch installed for this.\n",
      "  warnings.warn('Could not find Tensorflow version of model.  Attempting to download/load PyTorch version as TensorFlow model using from_pt=True. ' +\\\n"
     ]
    },
    {
     "data": {
      "application/vnd.jupyter.widget-view+json": {
       "model_id": "c26dfe40c9c9473e9b943a14486b527e",
       "version_major": 2,
       "version_minor": 0
      },
      "text/plain": [
       "Downloading:   0%|          | 0.00/440M [00:00<?, ?B/s]"
      ]
     },
     "metadata": {},
     "output_type": "display_data"
    }
   ],
   "source": [
    "trn=t_mod.preprocess_train(X_train, y_train)\n",
    "val = t_mod.preprocess_test(X_val, y_val)\n",
    "model=t_mod.get_classifier()\n",
    "learner=ktrain.get_learner(model,train_data=trn, val_data=val, batch_size=16)"
   ]
  },
  {
   "cell_type": "code",
   "execution_count": 16,
   "id": "c39cdfd8",
   "metadata": {
    "execution": {
     "iopub.execute_input": "2022-04-19T22:10:38.236928Z",
     "iopub.status.busy": "2022-04-19T22:10:38.236279Z",
     "iopub.status.idle": "2022-04-19T22:39:22.980070Z",
     "shell.execute_reply": "2022-04-19T22:39:22.979374Z"
    },
    "papermill": {
     "duration": 1725.300214,
     "end_time": "2022-04-19T22:39:23.513092",
     "exception": false,
     "start_time": "2022-04-19T22:10:38.212878",
     "status": "completed"
    },
    "tags": []
   },
   "outputs": [
    {
     "name": "stdout",
     "output_type": "stream",
     "text": [
      "\n",
      "\n",
      "begin training using onecycle policy with max lr of 2e-05...\n",
      "Epoch 1/3\n",
      "541/541 [==============================] - 584s 1s/step - loss: 0.2204 - accuracy: 0.9107 - val_loss: 0.3307 - val_accuracy: 0.8608\n",
      "Epoch 2/3\n",
      "541/541 [==============================] - 559s 1s/step - loss: 0.1054 - accuracy: 0.9561 - val_loss: 0.2927 - val_accuracy: 0.8887\n",
      "Epoch 3/3\n",
      "541/541 [==============================] - 559s 1s/step - loss: 0.0326 - accuracy: 0.9891 - val_loss: 0.3754 - val_accuracy: 0.9088\n"
     ]
    },
    {
     "data": {
      "text/plain": [
       "<keras.callbacks.History at 0x7febaf43db10>"
      ]
     },
     "execution_count": 16,
     "metadata": {},
     "output_type": "execute_result"
    }
   ],
   "source": [
    "learning_rate= 2e-5 \n",
    "epochs=3 \n",
    "learner.fit_onecycle(learning_rate,epochs)"
   ]
  },
  {
   "cell_type": "code",
   "execution_count": 17,
   "id": "4eff00bf",
   "metadata": {
    "execution": {
     "iopub.execute_input": "2022-04-19T22:39:24.803011Z",
     "iopub.status.busy": "2022-04-19T22:39:24.802431Z",
     "iopub.status.idle": "2022-04-19T22:39:51.086287Z",
     "shell.execute_reply": "2022-04-19T22:39:51.084747Z"
    },
    "papermill": {
     "duration": 26.801451,
     "end_time": "2022-04-19T22:39:51.088130",
     "exception": false,
     "start_time": "2022-04-19T22:39:24.286679",
     "status": "completed"
    },
    "tags": []
   },
   "outputs": [
    {
     "name": "stdout",
     "output_type": "stream",
     "text": [
      "              precision    recall  f1-score   support\n",
      "\n",
      "       False       0.95      0.94      0.94       842\n",
      "        True       0.76      0.77      0.76       200\n",
      "\n",
      "    accuracy                           0.91      1042\n",
      "   macro avg       0.85      0.86      0.85      1042\n",
      "weighted avg       0.91      0.91      0.91      1042\n",
      "\n",
      "0.7077880342050993\n"
     ]
    }
   ],
   "source": [
    "predictor=ktrain.get_predictor(learner.model, preproc=t_mod)\n",
    "predictions=predictor.predict((X_val))\n",
    "print(classification_report((y_val), predictions))\n",
    "print(matthews_corrcoef((y_val), predictions))"
   ]
  },
  {
   "cell_type": "code",
   "execution_count": 18,
   "id": "1ce7ae3f",
   "metadata": {
    "execution": {
     "iopub.execute_input": "2022-04-19T22:39:52.122099Z",
     "iopub.status.busy": "2022-04-19T22:39:52.121845Z",
     "iopub.status.idle": "2022-04-19T22:39:52.915041Z",
     "shell.execute_reply": "2022-04-19T22:39:52.914309Z"
    },
    "papermill": {
     "duration": 1.308882,
     "end_time": "2022-04-19T22:39:52.917177",
     "exception": false,
     "start_time": "2022-04-19T22:39:51.608295",
     "status": "completed"
    },
    "tags": []
   },
   "outputs": [],
   "source": [
    "predictor.save('./')"
   ]
  }
 ],
 "metadata": {
  "kernelspec": {
   "display_name": "Python 3",
   "language": "python",
   "name": "python3"
  },
  "language_info": {
   "codemirror_mode": {
    "name": "ipython",
    "version": 3
   },
   "file_extension": ".py",
   "mimetype": "text/x-python",
   "name": "python",
   "nbconvert_exporter": "python",
   "pygments_lexer": "ipython3",
   "version": "3.7.12"
  },
  "papermill": {
   "default_parameters": {},
   "duration": 1857.343847,
   "end_time": "2022-04-19T22:39:56.326591",
   "environment_variables": {},
   "exception": null,
   "input_path": "__notebook__.ipynb",
   "output_path": "__notebook__.ipynb",
   "parameters": {},
   "start_time": "2022-04-19T22:08:58.982744",
   "version": "2.3.4"
  },
  "widgets": {
   "application/vnd.jupyter.widget-state+json": {
    "state": {
     "0346bbc96220440a8625f31cac01acfc": {
      "model_module": "@jupyter-widgets/base",
      "model_module_version": "1.2.0",
      "model_name": "LayoutModel",
      "state": {
       "_model_module": "@jupyter-widgets/base",
       "_model_module_version": "1.2.0",
       "_model_name": "LayoutModel",
       "_view_count": null,
       "_view_module": "@jupyter-widgets/base",
       "_view_module_version": "1.2.0",
       "_view_name": "LayoutView",
       "align_content": null,
       "align_items": null,
       "align_self": null,
       "border": null,
       "bottom": null,
       "display": null,
       "flex": null,
       "flex_flow": null,
       "grid_area": null,
       "grid_auto_columns": null,
       "grid_auto_flow": null,
       "grid_auto_rows": null,
       "grid_column": null,
       "grid_gap": null,
       "grid_row": null,
       "grid_template_areas": null,
       "grid_template_columns": null,
       "grid_template_rows": null,
       "height": null,
       "justify_content": null,
       "justify_items": null,
       "left": null,
       "margin": null,
       "max_height": null,
       "max_width": null,
       "min_height": null,
       "min_width": null,
       "object_fit": null,
       "object_position": null,
       "order": null,
       "overflow": null,
       "overflow_x": null,
       "overflow_y": null,
       "padding": null,
       "right": null,
       "top": null,
       "visibility": null,
       "width": null
      }
     },
     "0c1e3926e7084a37bfcaa8a0f59f25f6": {
      "model_module": "@jupyter-widgets/controls",
      "model_module_version": "1.5.0",
      "model_name": "DescriptionStyleModel",
      "state": {
       "_model_module": "@jupyter-widgets/controls",
       "_model_module_version": "1.5.0",
       "_model_name": "DescriptionStyleModel",
       "_view_count": null,
       "_view_module": "@jupyter-widgets/base",
       "_view_module_version": "1.2.0",
       "_view_name": "StyleView",
       "description_width": ""
      }
     },
     "145bbebf3ebd42eca3a52051d8b36866": {
      "model_module": "@jupyter-widgets/controls",
      "model_module_version": "1.5.0",
      "model_name": "HTMLModel",
      "state": {
       "_dom_classes": [],
       "_model_module": "@jupyter-widgets/controls",
       "_model_module_version": "1.5.0",
       "_model_name": "HTMLModel",
       "_view_count": null,
       "_view_module": "@jupyter-widgets/controls",
       "_view_module_version": "1.5.0",
       "_view_name": "HTMLView",
       "description": "",
       "description_tooltip": null,
       "layout": "IPY_MODEL_65dd0815567646f2891b6264d6e607a5",
       "placeholder": "​",
       "style": "IPY_MODEL_0c1e3926e7084a37bfcaa8a0f59f25f6",
       "value": " 440M/440M [00:10&lt;00:00, 50.6MB/s]"
      }
     },
     "179bda7eed6444bf9b69abbf8b66d15d": {
      "model_module": "@jupyter-widgets/controls",
      "model_module_version": "1.5.0",
      "model_name": "DescriptionStyleModel",
      "state": {
       "_model_module": "@jupyter-widgets/controls",
       "_model_module_version": "1.5.0",
       "_model_name": "DescriptionStyleModel",
       "_view_count": null,
       "_view_module": "@jupyter-widgets/base",
       "_view_module_version": "1.2.0",
       "_view_name": "StyleView",
       "description_width": ""
      }
     },
     "18e38ee09bad49e598d90668f1b567a0": {
      "model_module": "@jupyter-widgets/base",
      "model_module_version": "1.2.0",
      "model_name": "LayoutModel",
      "state": {
       "_model_module": "@jupyter-widgets/base",
       "_model_module_version": "1.2.0",
       "_model_name": "LayoutModel",
       "_view_count": null,
       "_view_module": "@jupyter-widgets/base",
       "_view_module_version": "1.2.0",
       "_view_name": "LayoutView",
       "align_content": null,
       "align_items": null,
       "align_self": null,
       "border": null,
       "bottom": null,
       "display": null,
       "flex": null,
       "flex_flow": null,
       "grid_area": null,
       "grid_auto_columns": null,
       "grid_auto_flow": null,
       "grid_auto_rows": null,
       "grid_column": null,
       "grid_gap": null,
       "grid_row": null,
       "grid_template_areas": null,
       "grid_template_columns": null,
       "grid_template_rows": null,
       "height": null,
       "justify_content": null,
       "justify_items": null,
       "left": null,
       "margin": null,
       "max_height": null,
       "max_width": null,
       "min_height": null,
       "min_width": null,
       "object_fit": null,
       "object_position": null,
       "order": null,
       "overflow": null,
       "overflow_x": null,
       "overflow_y": null,
       "padding": null,
       "right": null,
       "top": null,
       "visibility": null,
       "width": null
      }
     },
     "20e1ebc27d6340ef8eabfd8371f7ae8e": {
      "model_module": "@jupyter-widgets/base",
      "model_module_version": "1.2.0",
      "model_name": "LayoutModel",
      "state": {
       "_model_module": "@jupyter-widgets/base",
       "_model_module_version": "1.2.0",
       "_model_name": "LayoutModel",
       "_view_count": null,
       "_view_module": "@jupyter-widgets/base",
       "_view_module_version": "1.2.0",
       "_view_name": "LayoutView",
       "align_content": null,
       "align_items": null,
       "align_self": null,
       "border": null,
       "bottom": null,
       "display": null,
       "flex": null,
       "flex_flow": null,
       "grid_area": null,
       "grid_auto_columns": null,
       "grid_auto_flow": null,
       "grid_auto_rows": null,
       "grid_column": null,
       "grid_gap": null,
       "grid_row": null,
       "grid_template_areas": null,
       "grid_template_columns": null,
       "grid_template_rows": null,
       "height": null,
       "justify_content": null,
       "justify_items": null,
       "left": null,
       "margin": null,
       "max_height": null,
       "max_width": null,
       "min_height": null,
       "min_width": null,
       "object_fit": null,
       "object_position": null,
       "order": null,
       "overflow": null,
       "overflow_x": null,
       "overflow_y": null,
       "padding": null,
       "right": null,
       "top": null,
       "visibility": null,
       "width": null
      }
     },
     "244d99d7d0b343ecb972f9771174a1f4": {
      "model_module": "@jupyter-widgets/controls",
      "model_module_version": "1.5.0",
      "model_name": "FloatProgressModel",
      "state": {
       "_dom_classes": [],
       "_model_module": "@jupyter-widgets/controls",
       "_model_module_version": "1.5.0",
       "_model_name": "FloatProgressModel",
       "_view_count": null,
       "_view_module": "@jupyter-widgets/controls",
       "_view_module_version": "1.5.0",
       "_view_name": "ProgressView",
       "bar_style": "success",
       "description": "",
       "description_tooltip": null,
       "layout": "IPY_MODEL_4e1ec52d7eb146fab2440cbfc6d141b9",
       "max": 28.0,
       "min": 0.0,
       "orientation": "horizontal",
       "style": "IPY_MODEL_6a63365d4be14401a897816b4d73aaa4",
       "value": 28.0
      }
     },
     "264fb9ff29e948fe92bc558eab171c28": {
      "model_module": "@jupyter-widgets/controls",
      "model_module_version": "1.5.0",
      "model_name": "HTMLModel",
      "state": {
       "_dom_classes": [],
       "_model_module": "@jupyter-widgets/controls",
       "_model_module_version": "1.5.0",
       "_model_name": "HTMLModel",
       "_view_count": null,
       "_view_module": "@jupyter-widgets/controls",
       "_view_module_version": "1.5.0",
       "_view_name": "HTMLView",
       "description": "",
       "description_tooltip": null,
       "layout": "IPY_MODEL_a96d89a799a64b208a1b62bc0be0cd74",
       "placeholder": "​",
       "style": "IPY_MODEL_a5d07144155647b483ed4f96429e5a50",
       "value": "Downloading: 100%"
      }
     },
     "2cd089d5a7c7436a9a1475b01ff73884": {
      "model_module": "@jupyter-widgets/base",
      "model_module_version": "1.2.0",
      "model_name": "LayoutModel",
      "state": {
       "_model_module": "@jupyter-widgets/base",
       "_model_module_version": "1.2.0",
       "_model_name": "LayoutModel",
       "_view_count": null,
       "_view_module": "@jupyter-widgets/base",
       "_view_module_version": "1.2.0",
       "_view_name": "LayoutView",
       "align_content": null,
       "align_items": null,
       "align_self": null,
       "border": null,
       "bottom": null,
       "display": null,
       "flex": null,
       "flex_flow": null,
       "grid_area": null,
       "grid_auto_columns": null,
       "grid_auto_flow": null,
       "grid_auto_rows": null,
       "grid_column": null,
       "grid_gap": null,
       "grid_row": null,
       "grid_template_areas": null,
       "grid_template_columns": null,
       "grid_template_rows": null,
       "height": null,
       "justify_content": null,
       "justify_items": null,
       "left": null,
       "margin": null,
       "max_height": null,
       "max_width": null,
       "min_height": null,
       "min_width": null,
       "object_fit": null,
       "object_position": null,
       "order": null,
       "overflow": null,
       "overflow_x": null,
       "overflow_y": null,
       "padding": null,
       "right": null,
       "top": null,
       "visibility": null,
       "width": null
      }
     },
     "2ebfdae9a6e64b0e8ae2f2b57537bd08": {
      "model_module": "@jupyter-widgets/controls",
      "model_module_version": "1.5.0",
      "model_name": "HBoxModel",
      "state": {
       "_dom_classes": [],
       "_model_module": "@jupyter-widgets/controls",
       "_model_module_version": "1.5.0",
       "_model_name": "HBoxModel",
       "_view_count": null,
       "_view_module": "@jupyter-widgets/controls",
       "_view_module_version": "1.5.0",
       "_view_name": "HBoxView",
       "box_style": "",
       "children": [
        "IPY_MODEL_264fb9ff29e948fe92bc558eab171c28",
        "IPY_MODEL_f06003fb9bd549fbbee428a48a2bcc86",
        "IPY_MODEL_ff706a1b06c744f39fba4e1164eea049"
       ],
       "layout": "IPY_MODEL_20e1ebc27d6340ef8eabfd8371f7ae8e"
      }
     },
     "32883196caab487abe5b8934c856f086": {
      "model_module": "@jupyter-widgets/controls",
      "model_module_version": "1.5.0",
      "model_name": "HTMLModel",
      "state": {
       "_dom_classes": [],
       "_model_module": "@jupyter-widgets/controls",
       "_model_module_version": "1.5.0",
       "_model_name": "HTMLModel",
       "_view_count": null,
       "_view_module": "@jupyter-widgets/controls",
       "_view_module_version": "1.5.0",
       "_view_name": "HTMLView",
       "description": "",
       "description_tooltip": null,
       "layout": "IPY_MODEL_b0e2ab88e3a64e3b9f384c60c9faeabd",
       "placeholder": "​",
       "style": "IPY_MODEL_e19cb97a8f6d40028e94dbd85141683c",
       "value": " 28.0/28.0 [00:00&lt;00:00, 1.03kB/s]"
      }
     },
     "37de447573634119bfee5781253b193e": {
      "model_module": "@jupyter-widgets/controls",
      "model_module_version": "1.5.0",
      "model_name": "DescriptionStyleModel",
      "state": {
       "_model_module": "@jupyter-widgets/controls",
       "_model_module_version": "1.5.0",
       "_model_name": "DescriptionStyleModel",
       "_view_count": null,
       "_view_module": "@jupyter-widgets/base",
       "_view_module_version": "1.2.0",
       "_view_name": "StyleView",
       "description_width": ""
      }
     },
     "4e1ec52d7eb146fab2440cbfc6d141b9": {
      "model_module": "@jupyter-widgets/base",
      "model_module_version": "1.2.0",
      "model_name": "LayoutModel",
      "state": {
       "_model_module": "@jupyter-widgets/base",
       "_model_module_version": "1.2.0",
       "_model_name": "LayoutModel",
       "_view_count": null,
       "_view_module": "@jupyter-widgets/base",
       "_view_module_version": "1.2.0",
       "_view_name": "LayoutView",
       "align_content": null,
       "align_items": null,
       "align_self": null,
       "border": null,
       "bottom": null,
       "display": null,
       "flex": null,
       "flex_flow": null,
       "grid_area": null,
       "grid_auto_columns": null,
       "grid_auto_flow": null,
       "grid_auto_rows": null,
       "grid_column": null,
       "grid_gap": null,
       "grid_row": null,
       "grid_template_areas": null,
       "grid_template_columns": null,
       "grid_template_rows": null,
       "height": null,
       "justify_content": null,
       "justify_items": null,
       "left": null,
       "margin": null,
       "max_height": null,
       "max_width": null,
       "min_height": null,
       "min_width": null,
       "object_fit": null,
       "object_position": null,
       "order": null,
       "overflow": null,
       "overflow_x": null,
       "overflow_y": null,
       "padding": null,
       "right": null,
       "top": null,
       "visibility": null,
       "width": null
      }
     },
     "5b71e080bd26405fb979c9a9a589d3a2": {
      "model_module": "@jupyter-widgets/base",
      "model_module_version": "1.2.0",
      "model_name": "LayoutModel",
      "state": {
       "_model_module": "@jupyter-widgets/base",
       "_model_module_version": "1.2.0",
       "_model_name": "LayoutModel",
       "_view_count": null,
       "_view_module": "@jupyter-widgets/base",
       "_view_module_version": "1.2.0",
       "_view_name": "LayoutView",
       "align_content": null,
       "align_items": null,
       "align_self": null,
       "border": null,
       "bottom": null,
       "display": null,
       "flex": null,
       "flex_flow": null,
       "grid_area": null,
       "grid_auto_columns": null,
       "grid_auto_flow": null,
       "grid_auto_rows": null,
       "grid_column": null,
       "grid_gap": null,
       "grid_row": null,
       "grid_template_areas": null,
       "grid_template_columns": null,
       "grid_template_rows": null,
       "height": null,
       "justify_content": null,
       "justify_items": null,
       "left": null,
       "margin": null,
       "max_height": null,
       "max_width": null,
       "min_height": null,
       "min_width": null,
       "object_fit": null,
       "object_position": null,
       "order": null,
       "overflow": null,
       "overflow_x": null,
       "overflow_y": null,
       "padding": null,
       "right": null,
       "top": null,
       "visibility": null,
       "width": null
      }
     },
     "5e697cc9f5804f9fa0f60c026b1cdd9a": {
      "model_module": "@jupyter-widgets/controls",
      "model_module_version": "1.5.0",
      "model_name": "DescriptionStyleModel",
      "state": {
       "_model_module": "@jupyter-widgets/controls",
       "_model_module_version": "1.5.0",
       "_model_name": "DescriptionStyleModel",
       "_view_count": null,
       "_view_module": "@jupyter-widgets/base",
       "_view_module_version": "1.2.0",
       "_view_name": "StyleView",
       "description_width": ""
      }
     },
     "65dd0815567646f2891b6264d6e607a5": {
      "model_module": "@jupyter-widgets/base",
      "model_module_version": "1.2.0",
      "model_name": "LayoutModel",
      "state": {
       "_model_module": "@jupyter-widgets/base",
       "_model_module_version": "1.2.0",
       "_model_name": "LayoutModel",
       "_view_count": null,
       "_view_module": "@jupyter-widgets/base",
       "_view_module_version": "1.2.0",
       "_view_name": "LayoutView",
       "align_content": null,
       "align_items": null,
       "align_self": null,
       "border": null,
       "bottom": null,
       "display": null,
       "flex": null,
       "flex_flow": null,
       "grid_area": null,
       "grid_auto_columns": null,
       "grid_auto_flow": null,
       "grid_auto_rows": null,
       "grid_column": null,
       "grid_gap": null,
       "grid_row": null,
       "grid_template_areas": null,
       "grid_template_columns": null,
       "grid_template_rows": null,
       "height": null,
       "justify_content": null,
       "justify_items": null,
       "left": null,
       "margin": null,
       "max_height": null,
       "max_width": null,
       "min_height": null,
       "min_width": null,
       "object_fit": null,
       "object_position": null,
       "order": null,
       "overflow": null,
       "overflow_x": null,
       "overflow_y": null,
       "padding": null,
       "right": null,
       "top": null,
       "visibility": null,
       "width": null
      }
     },
     "6a63365d4be14401a897816b4d73aaa4": {
      "model_module": "@jupyter-widgets/controls",
      "model_module_version": "1.5.0",
      "model_name": "ProgressStyleModel",
      "state": {
       "_model_module": "@jupyter-widgets/controls",
       "_model_module_version": "1.5.0",
       "_model_name": "ProgressStyleModel",
       "_view_count": null,
       "_view_module": "@jupyter-widgets/base",
       "_view_module_version": "1.2.0",
       "_view_name": "StyleView",
       "bar_color": null,
       "description_width": ""
      }
     },
     "6a79237547174cefbb5f2cddce401198": {
      "model_module": "@jupyter-widgets/controls",
      "model_module_version": "1.5.0",
      "model_name": "FloatProgressModel",
      "state": {
       "_dom_classes": [],
       "_model_module": "@jupyter-widgets/controls",
       "_model_module_version": "1.5.0",
       "_model_name": "FloatProgressModel",
       "_view_count": null,
       "_view_module": "@jupyter-widgets/controls",
       "_view_module_version": "1.5.0",
       "_view_name": "ProgressView",
       "bar_style": "success",
       "description": "",
       "description_tooltip": null,
       "layout": "IPY_MODEL_db61de6b2f66489f844815ed9cdc63af",
       "max": 226150.0,
       "min": 0.0,
       "orientation": "horizontal",
       "style": "IPY_MODEL_7bf33f24da2142e8823cff559ad83316",
       "value": 226150.0
      }
     },
     "7bf33f24da2142e8823cff559ad83316": {
      "model_module": "@jupyter-widgets/controls",
      "model_module_version": "1.5.0",
      "model_name": "ProgressStyleModel",
      "state": {
       "_model_module": "@jupyter-widgets/controls",
       "_model_module_version": "1.5.0",
       "_model_name": "ProgressStyleModel",
       "_view_count": null,
       "_view_module": "@jupyter-widgets/base",
       "_view_module_version": "1.2.0",
       "_view_name": "StyleView",
       "bar_color": null,
       "description_width": ""
      }
     },
     "8a80372003f54e70a811260776b00729": {
      "model_module": "@jupyter-widgets/controls",
      "model_module_version": "1.5.0",
      "model_name": "DescriptionStyleModel",
      "state": {
       "_model_module": "@jupyter-widgets/controls",
       "_model_module_version": "1.5.0",
       "_model_name": "DescriptionStyleModel",
       "_view_count": null,
       "_view_module": "@jupyter-widgets/base",
       "_view_module_version": "1.2.0",
       "_view_name": "StyleView",
       "description_width": ""
      }
     },
     "95836190120f41c5a6bddc743fc9edb9": {
      "model_module": "@jupyter-widgets/base",
      "model_module_version": "1.2.0",
      "model_name": "LayoutModel",
      "state": {
       "_model_module": "@jupyter-widgets/base",
       "_model_module_version": "1.2.0",
       "_model_name": "LayoutModel",
       "_view_count": null,
       "_view_module": "@jupyter-widgets/base",
       "_view_module_version": "1.2.0",
       "_view_name": "LayoutView",
       "align_content": null,
       "align_items": null,
       "align_self": null,
       "border": null,
       "bottom": null,
       "display": null,
       "flex": null,
       "flex_flow": null,
       "grid_area": null,
       "grid_auto_columns": null,
       "grid_auto_flow": null,
       "grid_auto_rows": null,
       "grid_column": null,
       "grid_gap": null,
       "grid_row": null,
       "grid_template_areas": null,
       "grid_template_columns": null,
       "grid_template_rows": null,
       "height": null,
       "justify_content": null,
       "justify_items": null,
       "left": null,
       "margin": null,
       "max_height": null,
       "max_width": null,
       "min_height": null,
       "min_width": null,
       "object_fit": null,
       "object_position": null,
       "order": null,
       "overflow": null,
       "overflow_x": null,
       "overflow_y": null,
       "padding": null,
       "right": null,
       "top": null,
       "visibility": null,
       "width": null
      }
     },
     "a5d07144155647b483ed4f96429e5a50": {
      "model_module": "@jupyter-widgets/controls",
      "model_module_version": "1.5.0",
      "model_name": "DescriptionStyleModel",
      "state": {
       "_model_module": "@jupyter-widgets/controls",
       "_model_module_version": "1.5.0",
       "_model_name": "DescriptionStyleModel",
       "_view_count": null,
       "_view_module": "@jupyter-widgets/base",
       "_view_module_version": "1.2.0",
       "_view_name": "StyleView",
       "description_width": ""
      }
     },
     "a877a9eec68e4e3996f8f69174112120": {
      "model_module": "@jupyter-widgets/controls",
      "model_module_version": "1.5.0",
      "model_name": "HTMLModel",
      "state": {
       "_dom_classes": [],
       "_model_module": "@jupyter-widgets/controls",
       "_model_module_version": "1.5.0",
       "_model_name": "HTMLModel",
       "_view_count": null,
       "_view_module": "@jupyter-widgets/controls",
       "_view_module_version": "1.5.0",
       "_view_name": "HTMLView",
       "description": "",
       "description_tooltip": null,
       "layout": "IPY_MODEL_18e38ee09bad49e598d90668f1b567a0",
       "placeholder": "​",
       "style": "IPY_MODEL_8a80372003f54e70a811260776b00729",
       "value": "Downloading: 100%"
      }
     },
     "a96d89a799a64b208a1b62bc0be0cd74": {
      "model_module": "@jupyter-widgets/base",
      "model_module_version": "1.2.0",
      "model_name": "LayoutModel",
      "state": {
       "_model_module": "@jupyter-widgets/base",
       "_model_module_version": "1.2.0",
       "_model_name": "LayoutModel",
       "_view_count": null,
       "_view_module": "@jupyter-widgets/base",
       "_view_module_version": "1.2.0",
       "_view_name": "LayoutView",
       "align_content": null,
       "align_items": null,
       "align_self": null,
       "border": null,
       "bottom": null,
       "display": null,
       "flex": null,
       "flex_flow": null,
       "grid_area": null,
       "grid_auto_columns": null,
       "grid_auto_flow": null,
       "grid_auto_rows": null,
       "grid_column": null,
       "grid_gap": null,
       "grid_row": null,
       "grid_template_areas": null,
       "grid_template_columns": null,
       "grid_template_rows": null,
       "height": null,
       "justify_content": null,
       "justify_items": null,
       "left": null,
       "margin": null,
       "max_height": null,
       "max_width": null,
       "min_height": null,
       "min_width": null,
       "object_fit": null,
       "object_position": null,
       "order": null,
       "overflow": null,
       "overflow_x": null,
       "overflow_y": null,
       "padding": null,
       "right": null,
       "top": null,
       "visibility": null,
       "width": null
      }
     },
     "b0e2ab88e3a64e3b9f384c60c9faeabd": {
      "model_module": "@jupyter-widgets/base",
      "model_module_version": "1.2.0",
      "model_name": "LayoutModel",
      "state": {
       "_model_module": "@jupyter-widgets/base",
       "_model_module_version": "1.2.0",
       "_model_name": "LayoutModel",
       "_view_count": null,
       "_view_module": "@jupyter-widgets/base",
       "_view_module_version": "1.2.0",
       "_view_name": "LayoutView",
       "align_content": null,
       "align_items": null,
       "align_self": null,
       "border": null,
       "bottom": null,
       "display": null,
       "flex": null,
       "flex_flow": null,
       "grid_area": null,
       "grid_auto_columns": null,
       "grid_auto_flow": null,
       "grid_auto_rows": null,
       "grid_column": null,
       "grid_gap": null,
       "grid_row": null,
       "grid_template_areas": null,
       "grid_template_columns": null,
       "grid_template_rows": null,
       "height": null,
       "justify_content": null,
       "justify_items": null,
       "left": null,
       "margin": null,
       "max_height": null,
       "max_width": null,
       "min_height": null,
       "min_width": null,
       "object_fit": null,
       "object_position": null,
       "order": null,
       "overflow": null,
       "overflow_x": null,
       "overflow_y": null,
       "padding": null,
       "right": null,
       "top": null,
       "visibility": null,
       "width": null
      }
     },
     "b45c56c8a79243388c528f391dace654": {
      "model_module": "@jupyter-widgets/controls",
      "model_module_version": "1.5.0",
      "model_name": "HTMLModel",
      "state": {
       "_dom_classes": [],
       "_model_module": "@jupyter-widgets/controls",
       "_model_module_version": "1.5.0",
       "_model_name": "HTMLModel",
       "_view_count": null,
       "_view_module": "@jupyter-widgets/controls",
       "_view_module_version": "1.5.0",
       "_view_name": "HTMLView",
       "description": "",
       "description_tooltip": null,
       "layout": "IPY_MODEL_f3d5a2181f0148588026bebd704b0540",
       "placeholder": "​",
       "style": "IPY_MODEL_e6d0b311bab4491ba7c5de9dcd603eee",
       "value": "Downloading: 100%"
      }
     },
     "b702bf8a9152404783472230a9c9d2a9": {
      "model_module": "@jupyter-widgets/controls",
      "model_module_version": "1.5.0",
      "model_name": "HTMLModel",
      "state": {
       "_dom_classes": [],
       "_model_module": "@jupyter-widgets/controls",
       "_model_module_version": "1.5.0",
       "_model_name": "HTMLModel",
       "_view_count": null,
       "_view_module": "@jupyter-widgets/controls",
       "_view_module_version": "1.5.0",
       "_view_name": "HTMLView",
       "description": "",
       "description_tooltip": null,
       "layout": "IPY_MODEL_0346bbc96220440a8625f31cac01acfc",
       "placeholder": "​",
       "style": "IPY_MODEL_179bda7eed6444bf9b69abbf8b66d15d",
       "value": "Downloading: 100%"
      }
     },
     "b7e358fcd1dc4c18978a00cb08aea77e": {
      "model_module": "@jupyter-widgets/controls",
      "model_module_version": "1.5.0",
      "model_name": "HBoxModel",
      "state": {
       "_dom_classes": [],
       "_model_module": "@jupyter-widgets/controls",
       "_model_module_version": "1.5.0",
       "_model_name": "HBoxModel",
       "_view_count": null,
       "_view_module": "@jupyter-widgets/controls",
       "_view_module_version": "1.5.0",
       "_view_name": "HBoxView",
       "box_style": "",
       "children": [
        "IPY_MODEL_a877a9eec68e4e3996f8f69174112120",
        "IPY_MODEL_244d99d7d0b343ecb972f9771174a1f4",
        "IPY_MODEL_32883196caab487abe5b8934c856f086"
       ],
       "layout": "IPY_MODEL_5b71e080bd26405fb979c9a9a589d3a2"
      }
     },
     "b9be059c13df4556b5c1331536d2e37c": {
      "model_module": "@jupyter-widgets/base",
      "model_module_version": "1.2.0",
      "model_name": "LayoutModel",
      "state": {
       "_model_module": "@jupyter-widgets/base",
       "_model_module_version": "1.2.0",
       "_model_name": "LayoutModel",
       "_view_count": null,
       "_view_module": "@jupyter-widgets/base",
       "_view_module_version": "1.2.0",
       "_view_name": "LayoutView",
       "align_content": null,
       "align_items": null,
       "align_self": null,
       "border": null,
       "bottom": null,
       "display": null,
       "flex": null,
       "flex_flow": null,
       "grid_area": null,
       "grid_auto_columns": null,
       "grid_auto_flow": null,
       "grid_auto_rows": null,
       "grid_column": null,
       "grid_gap": null,
       "grid_row": null,
       "grid_template_areas": null,
       "grid_template_columns": null,
       "grid_template_rows": null,
       "height": null,
       "justify_content": null,
       "justify_items": null,
       "left": null,
       "margin": null,
       "max_height": null,
       "max_width": null,
       "min_height": null,
       "min_width": null,
       "object_fit": null,
       "object_position": null,
       "order": null,
       "overflow": null,
       "overflow_x": null,
       "overflow_y": null,
       "padding": null,
       "right": null,
       "top": null,
       "visibility": null,
       "width": null
      }
     },
     "c26dfe40c9c9473e9b943a14486b527e": {
      "model_module": "@jupyter-widgets/controls",
      "model_module_version": "1.5.0",
      "model_name": "HBoxModel",
      "state": {
       "_dom_classes": [],
       "_model_module": "@jupyter-widgets/controls",
       "_model_module_version": "1.5.0",
       "_model_name": "HBoxModel",
       "_view_count": null,
       "_view_module": "@jupyter-widgets/controls",
       "_view_module_version": "1.5.0",
       "_view_name": "HBoxView",
       "box_style": "",
       "children": [
        "IPY_MODEL_b702bf8a9152404783472230a9c9d2a9",
        "IPY_MODEL_ede50ce5f015489fa384f842877a3bba",
        "IPY_MODEL_145bbebf3ebd42eca3a52051d8b36866"
       ],
       "layout": "IPY_MODEL_2cd089d5a7c7436a9a1475b01ff73884"
      }
     },
     "c45079ee6d164bb4908ce1ad755d1c0c": {
      "model_module": "@jupyter-widgets/controls",
      "model_module_version": "1.5.0",
      "model_name": "HTMLModel",
      "state": {
       "_dom_classes": [],
       "_model_module": "@jupyter-widgets/controls",
       "_model_module_version": "1.5.0",
       "_model_name": "HTMLModel",
       "_view_count": null,
       "_view_module": "@jupyter-widgets/controls",
       "_view_module_version": "1.5.0",
       "_view_name": "HTMLView",
       "description": "",
       "description_tooltip": null,
       "layout": "IPY_MODEL_e0b863727c414acf8edb7451b36d81db",
       "placeholder": "​",
       "style": "IPY_MODEL_37de447573634119bfee5781253b193e",
       "value": " 226k/226k [00:00&lt;00:00, 663kB/s]"
      }
     },
     "cf2809bdaae546f1843f4cd714cec1a5": {
      "model_module": "@jupyter-widgets/base",
      "model_module_version": "1.2.0",
      "model_name": "LayoutModel",
      "state": {
       "_model_module": "@jupyter-widgets/base",
       "_model_module_version": "1.2.0",
       "_model_name": "LayoutModel",
       "_view_count": null,
       "_view_module": "@jupyter-widgets/base",
       "_view_module_version": "1.2.0",
       "_view_name": "LayoutView",
       "align_content": null,
       "align_items": null,
       "align_self": null,
       "border": null,
       "bottom": null,
       "display": null,
       "flex": null,
       "flex_flow": null,
       "grid_area": null,
       "grid_auto_columns": null,
       "grid_auto_flow": null,
       "grid_auto_rows": null,
       "grid_column": null,
       "grid_gap": null,
       "grid_row": null,
       "grid_template_areas": null,
       "grid_template_columns": null,
       "grid_template_rows": null,
       "height": null,
       "justify_content": null,
       "justify_items": null,
       "left": null,
       "margin": null,
       "max_height": null,
       "max_width": null,
       "min_height": null,
       "min_width": null,
       "object_fit": null,
       "object_position": null,
       "order": null,
       "overflow": null,
       "overflow_x": null,
       "overflow_y": null,
       "padding": null,
       "right": null,
       "top": null,
       "visibility": null,
       "width": null
      }
     },
     "da7d2749a1554df2973c5f8dbd66c719": {
      "model_module": "@jupyter-widgets/base",
      "model_module_version": "1.2.0",
      "model_name": "LayoutModel",
      "state": {
       "_model_module": "@jupyter-widgets/base",
       "_model_module_version": "1.2.0",
       "_model_name": "LayoutModel",
       "_view_count": null,
       "_view_module": "@jupyter-widgets/base",
       "_view_module_version": "1.2.0",
       "_view_name": "LayoutView",
       "align_content": null,
       "align_items": null,
       "align_self": null,
       "border": null,
       "bottom": null,
       "display": null,
       "flex": null,
       "flex_flow": null,
       "grid_area": null,
       "grid_auto_columns": null,
       "grid_auto_flow": null,
       "grid_auto_rows": null,
       "grid_column": null,
       "grid_gap": null,
       "grid_row": null,
       "grid_template_areas": null,
       "grid_template_columns": null,
       "grid_template_rows": null,
       "height": null,
       "justify_content": null,
       "justify_items": null,
       "left": null,
       "margin": null,
       "max_height": null,
       "max_width": null,
       "min_height": null,
       "min_width": null,
       "object_fit": null,
       "object_position": null,
       "order": null,
       "overflow": null,
       "overflow_x": null,
       "overflow_y": null,
       "padding": null,
       "right": null,
       "top": null,
       "visibility": null,
       "width": null
      }
     },
     "db61de6b2f66489f844815ed9cdc63af": {
      "model_module": "@jupyter-widgets/base",
      "model_module_version": "1.2.0",
      "model_name": "LayoutModel",
      "state": {
       "_model_module": "@jupyter-widgets/base",
       "_model_module_version": "1.2.0",
       "_model_name": "LayoutModel",
       "_view_count": null,
       "_view_module": "@jupyter-widgets/base",
       "_view_module_version": "1.2.0",
       "_view_name": "LayoutView",
       "align_content": null,
       "align_items": null,
       "align_self": null,
       "border": null,
       "bottom": null,
       "display": null,
       "flex": null,
       "flex_flow": null,
       "grid_area": null,
       "grid_auto_columns": null,
       "grid_auto_flow": null,
       "grid_auto_rows": null,
       "grid_column": null,
       "grid_gap": null,
       "grid_row": null,
       "grid_template_areas": null,
       "grid_template_columns": null,
       "grid_template_rows": null,
       "height": null,
       "justify_content": null,
       "justify_items": null,
       "left": null,
       "margin": null,
       "max_height": null,
       "max_width": null,
       "min_height": null,
       "min_width": null,
       "object_fit": null,
       "object_position": null,
       "order": null,
       "overflow": null,
       "overflow_x": null,
       "overflow_y": null,
       "padding": null,
       "right": null,
       "top": null,
       "visibility": null,
       "width": null
      }
     },
     "df71297da58346dba231ede38a673b09": {
      "model_module": "@jupyter-widgets/controls",
      "model_module_version": "1.5.0",
      "model_name": "HBoxModel",
      "state": {
       "_dom_classes": [],
       "_model_module": "@jupyter-widgets/controls",
       "_model_module_version": "1.5.0",
       "_model_name": "HBoxModel",
       "_view_count": null,
       "_view_module": "@jupyter-widgets/controls",
       "_view_module_version": "1.5.0",
       "_view_name": "HBoxView",
       "box_style": "",
       "children": [
        "IPY_MODEL_b45c56c8a79243388c528f391dace654",
        "IPY_MODEL_6a79237547174cefbb5f2cddce401198",
        "IPY_MODEL_c45079ee6d164bb4908ce1ad755d1c0c"
       ],
       "layout": "IPY_MODEL_b9be059c13df4556b5c1331536d2e37c"
      }
     },
     "e0b863727c414acf8edb7451b36d81db": {
      "model_module": "@jupyter-widgets/base",
      "model_module_version": "1.2.0",
      "model_name": "LayoutModel",
      "state": {
       "_model_module": "@jupyter-widgets/base",
       "_model_module_version": "1.2.0",
       "_model_name": "LayoutModel",
       "_view_count": null,
       "_view_module": "@jupyter-widgets/base",
       "_view_module_version": "1.2.0",
       "_view_name": "LayoutView",
       "align_content": null,
       "align_items": null,
       "align_self": null,
       "border": null,
       "bottom": null,
       "display": null,
       "flex": null,
       "flex_flow": null,
       "grid_area": null,
       "grid_auto_columns": null,
       "grid_auto_flow": null,
       "grid_auto_rows": null,
       "grid_column": null,
       "grid_gap": null,
       "grid_row": null,
       "grid_template_areas": null,
       "grid_template_columns": null,
       "grid_template_rows": null,
       "height": null,
       "justify_content": null,
       "justify_items": null,
       "left": null,
       "margin": null,
       "max_height": null,
       "max_width": null,
       "min_height": null,
       "min_width": null,
       "object_fit": null,
       "object_position": null,
       "order": null,
       "overflow": null,
       "overflow_x": null,
       "overflow_y": null,
       "padding": null,
       "right": null,
       "top": null,
       "visibility": null,
       "width": null
      }
     },
     "e19cb97a8f6d40028e94dbd85141683c": {
      "model_module": "@jupyter-widgets/controls",
      "model_module_version": "1.5.0",
      "model_name": "DescriptionStyleModel",
      "state": {
       "_model_module": "@jupyter-widgets/controls",
       "_model_module_version": "1.5.0",
       "_model_name": "DescriptionStyleModel",
       "_view_count": null,
       "_view_module": "@jupyter-widgets/base",
       "_view_module_version": "1.2.0",
       "_view_name": "StyleView",
       "description_width": ""
      }
     },
     "e6d0b311bab4491ba7c5de9dcd603eee": {
      "model_module": "@jupyter-widgets/controls",
      "model_module_version": "1.5.0",
      "model_name": "DescriptionStyleModel",
      "state": {
       "_model_module": "@jupyter-widgets/controls",
       "_model_module_version": "1.5.0",
       "_model_name": "DescriptionStyleModel",
       "_view_count": null,
       "_view_module": "@jupyter-widgets/base",
       "_view_module_version": "1.2.0",
       "_view_name": "StyleView",
       "description_width": ""
      }
     },
     "ea0c4fa8bc7e4374b3f113847118717c": {
      "model_module": "@jupyter-widgets/controls",
      "model_module_version": "1.5.0",
      "model_name": "ProgressStyleModel",
      "state": {
       "_model_module": "@jupyter-widgets/controls",
       "_model_module_version": "1.5.0",
       "_model_name": "ProgressStyleModel",
       "_view_count": null,
       "_view_module": "@jupyter-widgets/base",
       "_view_module_version": "1.2.0",
       "_view_name": "StyleView",
       "bar_color": null,
       "description_width": ""
      }
     },
     "ead1afd72056455cbdfc23e2efe39eec": {
      "model_module": "@jupyter-widgets/controls",
      "model_module_version": "1.5.0",
      "model_name": "ProgressStyleModel",
      "state": {
       "_model_module": "@jupyter-widgets/controls",
       "_model_module_version": "1.5.0",
       "_model_name": "ProgressStyleModel",
       "_view_count": null,
       "_view_module": "@jupyter-widgets/base",
       "_view_module_version": "1.2.0",
       "_view_name": "StyleView",
       "bar_color": null,
       "description_width": ""
      }
     },
     "ede50ce5f015489fa384f842877a3bba": {
      "model_module": "@jupyter-widgets/controls",
      "model_module_version": "1.5.0",
      "model_name": "FloatProgressModel",
      "state": {
       "_dom_classes": [],
       "_model_module": "@jupyter-widgets/controls",
       "_model_module_version": "1.5.0",
       "_model_name": "FloatProgressModel",
       "_view_count": null,
       "_view_module": "@jupyter-widgets/controls",
       "_view_module_version": "1.5.0",
       "_view_name": "ProgressView",
       "bar_style": "success",
       "description": "",
       "description_tooltip": null,
       "layout": "IPY_MODEL_da7d2749a1554df2973c5f8dbd66c719",
       "max": 440474434.0,
       "min": 0.0,
       "orientation": "horizontal",
       "style": "IPY_MODEL_ead1afd72056455cbdfc23e2efe39eec",
       "value": 440474434.0
      }
     },
     "f06003fb9bd549fbbee428a48a2bcc86": {
      "model_module": "@jupyter-widgets/controls",
      "model_module_version": "1.5.0",
      "model_name": "FloatProgressModel",
      "state": {
       "_dom_classes": [],
       "_model_module": "@jupyter-widgets/controls",
       "_model_module_version": "1.5.0",
       "_model_name": "FloatProgressModel",
       "_view_count": null,
       "_view_module": "@jupyter-widgets/controls",
       "_view_module_version": "1.5.0",
       "_view_name": "ProgressView",
       "bar_style": "success",
       "description": "",
       "description_tooltip": null,
       "layout": "IPY_MODEL_95836190120f41c5a6bddc743fc9edb9",
       "max": 385.0,
       "min": 0.0,
       "orientation": "horizontal",
       "style": "IPY_MODEL_ea0c4fa8bc7e4374b3f113847118717c",
       "value": 385.0
      }
     },
     "f3d5a2181f0148588026bebd704b0540": {
      "model_module": "@jupyter-widgets/base",
      "model_module_version": "1.2.0",
      "model_name": "LayoutModel",
      "state": {
       "_model_module": "@jupyter-widgets/base",
       "_model_module_version": "1.2.0",
       "_model_name": "LayoutModel",
       "_view_count": null,
       "_view_module": "@jupyter-widgets/base",
       "_view_module_version": "1.2.0",
       "_view_name": "LayoutView",
       "align_content": null,
       "align_items": null,
       "align_self": null,
       "border": null,
       "bottom": null,
       "display": null,
       "flex": null,
       "flex_flow": null,
       "grid_area": null,
       "grid_auto_columns": null,
       "grid_auto_flow": null,
       "grid_auto_rows": null,
       "grid_column": null,
       "grid_gap": null,
       "grid_row": null,
       "grid_template_areas": null,
       "grid_template_columns": null,
       "grid_template_rows": null,
       "height": null,
       "justify_content": null,
       "justify_items": null,
       "left": null,
       "margin": null,
       "max_height": null,
       "max_width": null,
       "min_height": null,
       "min_width": null,
       "object_fit": null,
       "object_position": null,
       "order": null,
       "overflow": null,
       "overflow_x": null,
       "overflow_y": null,
       "padding": null,
       "right": null,
       "top": null,
       "visibility": null,
       "width": null
      }
     },
     "ff706a1b06c744f39fba4e1164eea049": {
      "model_module": "@jupyter-widgets/controls",
      "model_module_version": "1.5.0",
      "model_name": "HTMLModel",
      "state": {
       "_dom_classes": [],
       "_model_module": "@jupyter-widgets/controls",
       "_model_module_version": "1.5.0",
       "_model_name": "HTMLModel",
       "_view_count": null,
       "_view_module": "@jupyter-widgets/controls",
       "_view_module_version": "1.5.0",
       "_view_name": "HTMLView",
       "description": "",
       "description_tooltip": null,
       "layout": "IPY_MODEL_cf2809bdaae546f1843f4cd714cec1a5",
       "placeholder": "​",
       "style": "IPY_MODEL_5e697cc9f5804f9fa0f60c026b1cdd9a",
       "value": " 385/385 [00:00&lt;00:00, 12.9kB/s]"
      }
     }
    },
    "version_major": 2,
    "version_minor": 0
   }
  }
 },
 "nbformat": 4,
 "nbformat_minor": 5
}
