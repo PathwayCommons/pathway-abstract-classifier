{
 "cells": [
  {
   "cell_type": "code",
   "execution_count": 1,
   "id": "b27c623e",
   "metadata": {
    "_cell_guid": "b1076dfc-b9ad-4769-8c92-a6c4dae69d19",
    "_uuid": "8f2839f25d086af736a60e9eeb907d3b93b6e0e5",
    "execution": {
     "iopub.execute_input": "2022-04-20T01:05:38.178364Z",
     "iopub.status.busy": "2022-04-20T01:05:38.177646Z",
     "iopub.status.idle": "2022-04-20T01:05:38.186597Z",
     "shell.execute_reply": "2022-04-20T01:05:38.187018Z",
     "shell.execute_reply.started": "2022-03-01T18:55:45.888113Z"
    },
    "papermill": {
     "duration": 0.036247,
     "end_time": "2022-04-20T01:05:38.187255",
     "exception": false,
     "start_time": "2022-04-20T01:05:38.151008",
     "status": "completed"
    },
    "tags": []
   },
   "outputs": [
    {
     "name": "stdout",
     "output_type": "stream",
     "text": [
      "/kaggle/input/all-labelled/all_labelled.tsv\n"
     ]
    }
   ],
   "source": [
    "# This Python 3 environment comes with many helpful analytics libraries installed\n",
    "# It is defined by the kaggle/python Docker image: https://github.com/kaggle/docker-python\n",
    "# For example, here's several helpful packages to load\n",
    "\n",
    "import numpy as np # linear algebra\n",
    "import pandas as pd # data processing, CSV file I/O (e.g. pd.read_csv)\n",
    "\n",
    "# Input data files are available in the read-only \"../input/\" directory\n",
    "# For example, running this (by clicking run or pressing Shift+Enter) will list all files under the input directory\n",
    "\n",
    "import os\n",
    "for dirname, _, filenames in os.walk('/kaggle/input'):\n",
    "    for filename in filenames:\n",
    "        print(os.path.join(dirname, filename))\n",
    "\n",
    "# You can write up to 20GB to the current directory (/kaggle/working/) that gets preserved as output when you create a version using \"Save & Run All\" \n",
    "# You can also write temporary files to /kaggle/temp/, but they won't be saved outside of the current session"
   ]
  },
  {
   "cell_type": "code",
   "execution_count": 2,
   "id": "e3b37d89",
   "metadata": {
    "execution": {
     "iopub.execute_input": "2022-04-20T01:05:38.224433Z",
     "iopub.status.busy": "2022-04-20T01:05:38.223791Z",
     "iopub.status.idle": "2022-04-20T01:05:38.434407Z",
     "shell.execute_reply": "2022-04-20T01:05:38.433867Z",
     "shell.execute_reply.started": "2022-03-01T18:55:45.899382Z"
    },
    "papermill": {
     "duration": 0.229358,
     "end_time": "2022-04-20T01:05:38.434537",
     "exception": false,
     "start_time": "2022-04-20T01:05:38.205179",
     "status": "completed"
    },
    "tags": []
   },
   "outputs": [],
   "source": [
    "# Read in data\n",
    "df=pd.read_csv(\"../input/all-labelled/all_labelled.tsv\", delimiter=\"\\t\")"
   ]
  },
  {
   "cell_type": "code",
   "execution_count": 3,
   "id": "110781c0",
   "metadata": {
    "execution": {
     "iopub.execute_input": "2022-04-20T01:05:38.469308Z",
     "iopub.status.busy": "2022-04-20T01:05:38.468729Z",
     "iopub.status.idle": "2022-04-20T01:06:16.527534Z",
     "shell.execute_reply": "2022-04-20T01:06:16.527984Z",
     "shell.execute_reply.started": "2022-03-01T18:55:46.027879Z"
    },
    "papermill": {
     "duration": 38.078098,
     "end_time": "2022-04-20T01:06:16.528132",
     "exception": false,
     "start_time": "2022-04-20T01:05:38.450034",
     "status": "completed"
    },
    "tags": []
   },
   "outputs": [
    {
     "name": "stdout",
     "output_type": "stream",
     "text": [
      "\u001b[31mERROR: pip's dependency resolver does not currently take into account all the packages that are installed. This behaviour is the source of the following dependency conflicts.\r\n",
      "yellowbrick 1.3.post1 requires numpy<1.20,>=1.16.0, but you have numpy 1.20.3 which is incompatible.\r\n",
      "pdpbox 0.2.1 requires matplotlib==3.1.1, but you have matplotlib 3.5.1 which is incompatible.\r\n",
      "imbalanced-learn 0.9.0 requires scikit-learn>=1.0.1, but you have scikit-learn 0.24.2 which is incompatible.\r\n",
      "hypertools 0.7.0 requires scikit-learn!=0.22,<0.24,>=0.19.1, but you have scikit-learn 0.24.2 which is incompatible.\r\n",
      "featuretools 1.4.1 requires numpy>=1.21.0, but you have numpy 1.20.3 which is incompatible.\u001b[0m\r\n",
      "\u001b[33mWARNING: Running pip as the 'root' user can result in broken permissions and conflicting behaviour with the system package manager. It is recommended to use a virtual environment instead: https://pip.pypa.io/warnings/venv\u001b[0m\r\n"
     ]
    }
   ],
   "source": [
    "!pip install -q ktrain "
   ]
  },
  {
   "cell_type": "code",
   "execution_count": 4,
   "id": "6a81fd6e",
   "metadata": {
    "execution": {
     "iopub.execute_input": "2022-04-20T01:06:16.578551Z",
     "iopub.status.busy": "2022-04-20T01:06:16.571040Z",
     "iopub.status.idle": "2022-04-20T01:06:16.613026Z",
     "shell.execute_reply": "2022-04-20T01:06:16.612592Z",
     "shell.execute_reply.started": "2022-03-01T18:55:53.421244Z"
    },
    "papermill": {
     "duration": 0.068693,
     "end_time": "2022-04-20T01:06:16.613134",
     "exception": false,
     "start_time": "2022-04-20T01:06:16.544441",
     "status": "completed"
    },
    "tags": []
   },
   "outputs": [],
   "source": [
    "df['text']=df['abstract']\n",
    "df['label']=df['class']\n",
    "df.drop(['abstract', 'journal', 'title', 'uid', 'class'], axis=1, inplace=True)\n",
    "df.dropna(inplace=True)\n",
    "df=df.drop_duplicates()"
   ]
  },
  {
   "cell_type": "code",
   "execution_count": 5,
   "id": "77695dd1",
   "metadata": {
    "execution": {
     "iopub.execute_input": "2022-04-20T01:06:16.648928Z",
     "iopub.status.busy": "2022-04-20T01:06:16.648086Z",
     "iopub.status.idle": "2022-04-20T01:06:28.972675Z",
     "shell.execute_reply": "2022-04-20T01:06:28.971706Z",
     "shell.execute_reply.started": "2022-03-01T18:55:53.469582Z"
    },
    "papermill": {
     "duration": 12.343829,
     "end_time": "2022-04-20T01:06:28.972850",
     "exception": false,
     "start_time": "2022-04-20T01:06:16.629021",
     "status": "completed"
    },
    "tags": []
   },
   "outputs": [],
   "source": [
    "import tensorflow as tf \n",
    "import ktrain \n",
    "from ktrain import text \n",
    "from sklearn.model_selection import train_test_split\n",
    "# Enable AMP\n",
    "from tensorflow.keras.mixed_precision import experimental as mixed_precision\n",
    "policy = mixed_precision.Policy('mixed_float16')\n",
    "mixed_precision.set_policy(policy)"
   ]
  },
  {
   "cell_type": "code",
   "execution_count": 6,
   "id": "db71eea3",
   "metadata": {
    "execution": {
     "iopub.execute_input": "2022-04-20T01:06:29.012673Z",
     "iopub.status.busy": "2022-04-20T01:06:29.011887Z",
     "iopub.status.idle": "2022-04-20T01:06:29.018978Z",
     "shell.execute_reply": "2022-04-20T01:06:29.019519Z",
     "shell.execute_reply.started": "2022-03-01T18:55:53.481393Z"
    },
    "papermill": {
     "duration": 0.030728,
     "end_time": "2022-04-20T01:06:29.019695",
     "exception": false,
     "start_time": "2022-04-20T01:06:28.988967",
     "status": "completed"
    },
    "tags": []
   },
   "outputs": [
    {
     "name": "stdout",
     "output_type": "stream",
     "text": [
      "988\n",
      "7640\n",
      "8628\n"
     ]
    }
   ],
   "source": [
    "df.dropna(inplace=True)\n",
    "X = df['text'].tolist()\n",
    "y = df['label'].tolist() \n",
    "pos = y.count(1)\n",
    "neg=y.count(0)\n",
    "total=len(y)\n",
    "print(pos)\n",
    "print(neg)\n",
    "print(total)"
   ]
  },
  {
   "cell_type": "code",
   "execution_count": 7,
   "id": "fd83646d",
   "metadata": {
    "execution": {
     "iopub.execute_input": "2022-04-20T01:06:29.058423Z",
     "iopub.status.busy": "2022-04-20T01:06:29.057653Z",
     "iopub.status.idle": "2022-04-20T01:06:29.310110Z",
     "shell.execute_reply": "2022-04-20T01:06:29.308727Z",
     "shell.execute_reply.started": "2022-03-01T18:55:53.500477Z"
    },
    "papermill": {
     "duration": 0.273744,
     "end_time": "2022-04-20T01:06:29.310258",
     "exception": false,
     "start_time": "2022-04-20T01:06:29.036514",
     "status": "completed"
    },
    "tags": []
   },
   "outputs": [
    {
     "data": {
      "application/vnd.jupyter.widget-view+json": {
       "model_id": "e414c3c5e7944281ad2d128ef8b77c9f",
       "version_major": 2,
       "version_minor": 0
      },
      "text/plain": [
       "Downloading:   0%|          | 0.00/385 [00:00<?, ?B/s]"
      ]
     },
     "metadata": {},
     "output_type": "display_data"
    }
   ],
   "source": [
    "t_mod = text.Transformer('microsoft/BiomedNLP-PubMedBERT-base-uncased-abstract-fulltext', maxlen=500, class_names = [0,1])"
   ]
  },
  {
   "cell_type": "code",
   "execution_count": 8,
   "id": "58f4bd3b",
   "metadata": {
    "execution": {
     "iopub.execute_input": "2022-04-20T01:06:29.349820Z",
     "iopub.status.busy": "2022-04-20T01:06:29.348142Z",
     "iopub.status.idle": "2022-04-20T01:06:29.350435Z",
     "shell.execute_reply": "2022-04-20T01:06:29.350838Z",
     "shell.execute_reply.started": "2022-03-01T18:55:53.854195Z"
    },
    "papermill": {
     "duration": 0.023875,
     "end_time": "2022-04-20T01:06:29.350959",
     "exception": false,
     "start_time": "2022-04-20T01:06:29.327084",
     "status": "completed"
    },
    "tags": []
   },
   "outputs": [],
   "source": [
    "from sklearn.model_selection import StratifiedKFold\n",
    "from sklearn.metrics import accuracy_score\n",
    "from sklearn.metrics import classification_report\n",
    "import copy"
   ]
  },
  {
   "cell_type": "code",
   "execution_count": 9,
   "id": "e35f537c",
   "metadata": {
    "execution": {
     "iopub.execute_input": "2022-04-20T01:06:29.459377Z",
     "iopub.status.busy": "2022-04-20T01:06:29.458447Z",
     "iopub.status.idle": "2022-04-20T01:06:29.460259Z",
     "shell.execute_reply": "2022-04-20T01:06:29.460665Z",
     "shell.execute_reply.started": "2022-03-01T18:55:53.864352Z"
    },
    "papermill": {
     "duration": 0.093546,
     "end_time": "2022-04-20T01:06:29.460817",
     "exception": false,
     "start_time": "2022-04-20T01:06:29.367271",
     "status": "completed"
    },
    "tags": []
   },
   "outputs": [],
   "source": [
    "#weight_for_0 = (1 / y.count(0)) * (len(y) / 2.0)\n",
    "#weight_for_1 = (1 / y.count(1)) * (len(y) / 2.0)\n",
    "\n",
    "#class_weight = {0: weight_for_0, 1: weight_for_1}\n",
    "kf = StratifiedKFold(n_splits=5, shuffle=True, random_state=10)\n",
    "y=np.asarray(y)\n",
    "X=np.asarray(X)"
   ]
  },
  {
   "cell_type": "code",
   "execution_count": 10,
   "id": "162e709d",
   "metadata": {
    "execution": {
     "iopub.execute_input": "2022-04-20T01:06:29.502393Z",
     "iopub.status.busy": "2022-04-20T01:06:29.501680Z",
     "iopub.status.idle": "2022-04-20T03:06:18.804416Z",
     "shell.execute_reply": "2022-04-20T03:06:18.803544Z",
     "shell.execute_reply.started": "2022-03-01T18:55:53.957797Z"
    },
    "papermill": {
     "duration": 7189.327131,
     "end_time": "2022-04-20T03:06:18.804565",
     "exception": false,
     "start_time": "2022-04-20T01:06:29.477434",
     "status": "completed"
    },
    "tags": []
   },
   "outputs": [
    {
     "name": "stdout",
     "output_type": "stream",
     "text": [
      "preprocessing train...\n",
      "language: en\n",
      "train sequence lengths:\n",
      "\tmean : 170\n",
      "\t95percentile : 249\n",
      "\t99percentile : 271\n"
     ]
    },
    {
     "data": {
      "application/vnd.jupyter.widget-view+json": {
       "model_id": "98a5403101c54211b6f50c59a1353821",
       "version_major": 2,
       "version_minor": 0
      },
      "text/plain": [
       "Downloading:   0%|          | 0.00/28.0 [00:00<?, ?B/s]"
      ]
     },
     "metadata": {},
     "output_type": "display_data"
    },
    {
     "data": {
      "application/vnd.jupyter.widget-view+json": {
       "model_id": "3dd45aa2446f4b8986aa6517f1475370",
       "version_major": 2,
       "version_minor": 0
      },
      "text/plain": [
       "Downloading:   0%|          | 0.00/226k [00:00<?, ?B/s]"
      ]
     },
     "metadata": {},
     "output_type": "display_data"
    },
    {
     "data": {
      "text/html": [],
      "text/plain": [
       "<IPython.core.display.HTML object>"
      ]
     },
     "metadata": {},
     "output_type": "display_data"
    },
    {
     "name": "stderr",
     "output_type": "stream",
     "text": [
      "404 Client Error: Not Found for url: https://huggingface.co/microsoft/BiomedNLP-PubMedBERT-base-uncased-abstract-fulltext/resolve/main/tf_model.h5\n"
     ]
    },
    {
     "name": "stdout",
     "output_type": "stream",
     "text": [
      "Is Multi-Label? False\n"
     ]
    },
    {
     "name": "stderr",
     "output_type": "stream",
     "text": [
      "/opt/conda/lib/python3.7/site-packages/ktrain/text/preprocessor.py:1070: UserWarning: Could not find Tensorflow version of model.  Attempting to download/load PyTorch version as TensorFlow model using from_pt=True. You will need PyTorch installed for this.\n",
      "  warnings.warn('Could not find Tensorflow version of model.  Attempting to download/load PyTorch version as TensorFlow model using from_pt=True. ' +\\\n"
     ]
    },
    {
     "data": {
      "application/vnd.jupyter.widget-view+json": {
       "model_id": "a8b4219282fa4ba384d69ab99f2a6f34",
       "version_major": 2,
       "version_minor": 0
      },
      "text/plain": [
       "Downloading:   0%|          | 0.00/440M [00:00<?, ?B/s]"
      ]
     },
     "metadata": {},
     "output_type": "display_data"
    },
    {
     "name": "stdout",
     "output_type": "stream",
     "text": [
      "\n",
      "\n",
      "begin training using onecycle policy with max lr of 5e-05...\n",
      "Epoch 1/3\n",
      "432/432 [==============================] - 452s 990ms/step - loss: 0.2434 - accuracy: 0.8979\n",
      "Epoch 2/3\n",
      "432/432 [==============================] - 429s 990ms/step - loss: 0.1779 - accuracy: 0.9205\n",
      "Epoch 3/3\n",
      "432/432 [==============================] - 429s 990ms/step - loss: 0.0933 - accuracy: 0.9629\n",
      "0.9194669756662804\n",
      "              precision    recall  f1-score   support\n",
      "\n",
      "           0       0.96      0.95      0.95      1528\n",
      "           1       0.64      0.68      0.66       198\n",
      "\n",
      "    accuracy                           0.92      1726\n",
      "   macro avg       0.80      0.81      0.81      1726\n",
      "weighted avg       0.92      0.92      0.92      1726\n",
      "\n",
      "preprocessing train...\n",
      "language: en\n",
      "train sequence lengths:\n",
      "\tmean : 170\n",
      "\t95percentile : 248\n",
      "\t99percentile : 265\n"
     ]
    },
    {
     "data": {
      "text/html": [],
      "text/plain": [
       "<IPython.core.display.HTML object>"
      ]
     },
     "metadata": {},
     "output_type": "display_data"
    },
    {
     "name": "stderr",
     "output_type": "stream",
     "text": [
      "404 Client Error: Not Found for url: https://huggingface.co/microsoft/BiomedNLP-PubMedBERT-base-uncased-abstract-fulltext/resolve/main/tf_model.h5\n"
     ]
    },
    {
     "name": "stdout",
     "output_type": "stream",
     "text": [
      "Is Multi-Label? False\n"
     ]
    },
    {
     "name": "stderr",
     "output_type": "stream",
     "text": [
      "/opt/conda/lib/python3.7/site-packages/ktrain/text/preprocessor.py:1070: UserWarning: Could not find Tensorflow version of model.  Attempting to download/load PyTorch version as TensorFlow model using from_pt=True. You will need PyTorch installed for this.\n",
      "  warnings.warn('Could not find Tensorflow version of model.  Attempting to download/load PyTorch version as TensorFlow model using from_pt=True. ' +\\\n"
     ]
    },
    {
     "name": "stdout",
     "output_type": "stream",
     "text": [
      "\n",
      "\n",
      "begin training using onecycle policy with max lr of 5e-05...\n",
      "Epoch 1/3\n",
      "432/432 [==============================] - 448s 992ms/step - loss: 0.2388 - accuracy: 0.9003\n",
      "Epoch 2/3\n",
      "432/432 [==============================] - 430s 991ms/step - loss: 0.1811 - accuracy: 0.9235\n",
      "Epoch 3/3\n",
      "432/432 [==============================] - 430s 992ms/step - loss: 0.0934 - accuracy: 0.9623\n",
      "0.9223638470451911\n",
      "              precision    recall  f1-score   support\n",
      "\n",
      "           0       0.95      0.96      0.96      1528\n",
      "           1       0.68      0.62      0.65       198\n",
      "\n",
      "    accuracy                           0.92      1726\n",
      "   macro avg       0.81      0.79      0.80      1726\n",
      "weighted avg       0.92      0.92      0.92      1726\n",
      "\n",
      "preprocessing train...\n",
      "language: en\n",
      "train sequence lengths:\n",
      "\tmean : 170\n",
      "\t95percentile : 249\n",
      "\t99percentile : 267\n"
     ]
    },
    {
     "data": {
      "text/html": [],
      "text/plain": [
       "<IPython.core.display.HTML object>"
      ]
     },
     "metadata": {},
     "output_type": "display_data"
    },
    {
     "name": "stderr",
     "output_type": "stream",
     "text": [
      "404 Client Error: Not Found for url: https://huggingface.co/microsoft/BiomedNLP-PubMedBERT-base-uncased-abstract-fulltext/resolve/main/tf_model.h5\n"
     ]
    },
    {
     "name": "stdout",
     "output_type": "stream",
     "text": [
      "Is Multi-Label? False\n"
     ]
    },
    {
     "name": "stderr",
     "output_type": "stream",
     "text": [
      "/opt/conda/lib/python3.7/site-packages/ktrain/text/preprocessor.py:1070: UserWarning: Could not find Tensorflow version of model.  Attempting to download/load PyTorch version as TensorFlow model using from_pt=True. You will need PyTorch installed for this.\n",
      "  warnings.warn('Could not find Tensorflow version of model.  Attempting to download/load PyTorch version as TensorFlow model using from_pt=True. ' +\\\n"
     ]
    },
    {
     "name": "stdout",
     "output_type": "stream",
     "text": [
      "\n",
      "\n",
      "begin training using onecycle policy with max lr of 5e-05...\n",
      "Epoch 1/3\n",
      "432/432 [==============================] - 448s 991ms/step - loss: 0.2430 - accuracy: 0.8952\n",
      "Epoch 2/3\n",
      "432/432 [==============================] - 430s 992ms/step - loss: 0.1879 - accuracy: 0.9152\n",
      "Epoch 3/3\n",
      "432/432 [==============================] - 430s 993ms/step - loss: 0.1010 - accuracy: 0.9594\n",
      "0.9212050984936269\n",
      "              precision    recall  f1-score   support\n",
      "\n",
      "           0       0.97      0.94      0.95      1528\n",
      "           1       0.63      0.76      0.69       198\n",
      "\n",
      "    accuracy                           0.92      1726\n",
      "   macro avg       0.80      0.85      0.82      1726\n",
      "weighted avg       0.93      0.92      0.92      1726\n",
      "\n",
      "preprocessing train...\n",
      "language: en\n",
      "train sequence lengths:\n",
      "\tmean : 171\n",
      "\t95percentile : 249\n",
      "\t99percentile : 268\n"
     ]
    },
    {
     "data": {
      "text/html": [],
      "text/plain": [
       "<IPython.core.display.HTML object>"
      ]
     },
     "metadata": {},
     "output_type": "display_data"
    },
    {
     "name": "stderr",
     "output_type": "stream",
     "text": [
      "404 Client Error: Not Found for url: https://huggingface.co/microsoft/BiomedNLP-PubMedBERT-base-uncased-abstract-fulltext/resolve/main/tf_model.h5\n"
     ]
    },
    {
     "name": "stdout",
     "output_type": "stream",
     "text": [
      "Is Multi-Label? False\n"
     ]
    },
    {
     "name": "stderr",
     "output_type": "stream",
     "text": [
      "/opt/conda/lib/python3.7/site-packages/ktrain/text/preprocessor.py:1070: UserWarning: Could not find Tensorflow version of model.  Attempting to download/load PyTorch version as TensorFlow model using from_pt=True. You will need PyTorch installed for this.\n",
      "  warnings.warn('Could not find Tensorflow version of model.  Attempting to download/load PyTorch version as TensorFlow model using from_pt=True. ' +\\\n"
     ]
    },
    {
     "name": "stdout",
     "output_type": "stream",
     "text": [
      "\n",
      "\n",
      "begin training using onecycle policy with max lr of 5e-05...\n",
      "Epoch 1/3\n",
      "432/432 [==============================] - 450s 993ms/step - loss: 0.2406 - accuracy: 0.8977\n",
      "Epoch 2/3\n",
      "432/432 [==============================] - 431s 993ms/step - loss: 0.1827 - accuracy: 0.9179\n",
      "Epoch 3/3\n",
      "432/432 [==============================] - 430s 993ms/step - loss: 0.0961 - accuracy: 0.9613\n",
      "0.9153623188405797\n",
      "              precision    recall  f1-score   support\n",
      "\n",
      "           0       0.96      0.95      0.95      1528\n",
      "           1       0.62      0.66      0.64       197\n",
      "\n",
      "    accuracy                           0.92      1725\n",
      "   macro avg       0.79      0.80      0.80      1725\n",
      "weighted avg       0.92      0.92      0.92      1725\n",
      "\n",
      "preprocessing train...\n",
      "language: en\n",
      "train sequence lengths:\n",
      "\tmean : 171\n",
      "\t95percentile : 249\n",
      "\t99percentile : 266\n"
     ]
    },
    {
     "data": {
      "text/html": [],
      "text/plain": [
       "<IPython.core.display.HTML object>"
      ]
     },
     "metadata": {},
     "output_type": "display_data"
    },
    {
     "name": "stderr",
     "output_type": "stream",
     "text": [
      "404 Client Error: Not Found for url: https://huggingface.co/microsoft/BiomedNLP-PubMedBERT-base-uncased-abstract-fulltext/resolve/main/tf_model.h5\n"
     ]
    },
    {
     "name": "stdout",
     "output_type": "stream",
     "text": [
      "Is Multi-Label? False\n"
     ]
    },
    {
     "name": "stderr",
     "output_type": "stream",
     "text": [
      "/opt/conda/lib/python3.7/site-packages/ktrain/text/preprocessor.py:1070: UserWarning: Could not find Tensorflow version of model.  Attempting to download/load PyTorch version as TensorFlow model using from_pt=True. You will need PyTorch installed for this.\n",
      "  warnings.warn('Could not find Tensorflow version of model.  Attempting to download/load PyTorch version as TensorFlow model using from_pt=True. ' +\\\n"
     ]
    },
    {
     "name": "stdout",
     "output_type": "stream",
     "text": [
      "\n",
      "\n",
      "begin training using onecycle policy with max lr of 5e-05...\n",
      "Epoch 1/3\n",
      "432/432 [==============================] - 451s 992ms/step - loss: 0.2476 - accuracy: 0.8942\n",
      "Epoch 2/3\n",
      "432/432 [==============================] - 430s 992ms/step - loss: 0.1829 - accuracy: 0.9124\n",
      "Epoch 3/3\n",
      "432/432 [==============================] - 431s 993ms/step - loss: 0.1102 - accuracy: 0.9507\n",
      "0.9147826086956522\n",
      "              precision    recall  f1-score   support\n",
      "\n",
      "           0       0.96      0.94      0.95      1528\n",
      "           1       0.61      0.72      0.66       197\n",
      "\n",
      "    accuracy                           0.91      1725\n",
      "   macro avg       0.78      0.83      0.81      1725\n",
      "weighted avg       0.92      0.91      0.92      1725\n",
      "\n"
     ]
    }
   ],
   "source": [
    "# Re-run cell if one of the classifiers predicts all 0s\n",
    "\n",
    "# Initialize empty array for prediction probabilities/confidence\n",
    "psx = np.zeros((len(y), 2))\n",
    "\n",
    "# Fill in this array using k fold cross validation \n",
    "for k, (cv_train_idx, cv_holdout_idx) in enumerate(kf.split(X, y)):\n",
    "    t_mod = text.Transformer('microsoft/BiomedNLP-PubMedBERT-base-uncased-abstract-fulltext', maxlen=500, class_names = [0,1])\n",
    "\n",
    "    # Select the training and holdout cross-validated sets.\n",
    "    X_train_cv, X_holdout_cv = X[cv_train_idx], X[cv_holdout_idx]\n",
    "    y_train_cv, y_holdout_cv = y[cv_train_idx], y[cv_holdout_idx]\n",
    "    # Preprocess train \n",
    "    data= t_mod.preprocess_train(X_train_cv,y_train_cv)\n",
    "    \n",
    "    # Get new classifier for each iteration\n",
    "    model = t_mod.get_classifier()\n",
    "    \n",
    "    # Fit model\n",
    "    learner = ktrain.get_learner(model, train_data=data, batch_size=16)\n",
    "    learning_rate= 5e-5\n",
    "    epochs=3\n",
    "    learner.fit_onecycle(learning_rate, epochs)\n",
    "    predictor=ktrain.get_predictor(learner.model, preproc=t_mod)\n",
    "    \n",
    "    \n",
    "    # Check performance of model \n",
    "    predictions=predictor.predict((X_holdout_cv))\n",
    "    print(accuracy_score((y_holdout_cv), predictions))\n",
    "    print(classification_report((y_holdout_cv), predictions))\n",
    "\n",
    "    \n",
    "    # Get probabilities\n",
    "    psx_cv = predictor.predict_proba(X_holdout_cv)  # P(s = k|x) # [:,1]\n",
    "    psx[cv_holdout_idx] = psx_cv\n"
   ]
  },
  {
   "cell_type": "code",
   "execution_count": 11,
   "id": "d875ee38",
   "metadata": {
    "execution": {
     "iopub.execute_input": "2022-04-20T03:06:23.025557Z",
     "iopub.status.busy": "2022-04-20T03:06:23.024750Z",
     "iopub.status.idle": "2022-04-20T03:06:31.827532Z",
     "shell.execute_reply": "2022-04-20T03:06:31.826972Z",
     "shell.execute_reply.started": "2022-03-01T20:55:00.633068Z"
    },
    "papermill": {
     "duration": 10.909436,
     "end_time": "2022-04-20T03:06:31.827667",
     "exception": false,
     "start_time": "2022-04-20T03:06:20.918231",
     "status": "completed"
    },
    "tags": []
   },
   "outputs": [
    {
     "name": "stdout",
     "output_type": "stream",
     "text": [
      "huggingface/tokenizers: The current process just got forked, after parallelism has already been used. Disabling parallelism to avoid deadlocks...\n",
      "To disable this warning, you can either:\n",
      "\t- Avoid using `tokenizers` before the fork if possible\n",
      "\t- Explicitly set the environment variable TOKENIZERS_PARALLELISM=(true | false)\n",
      "\u001b[33mWARNING: Running pip as the 'root' user can result in broken permissions and conflicting behaviour with the system package manager. It is recommended to use a virtual environment instead: https://pip.pypa.io/warnings/venv\u001b[0m\r\n"
     ]
    }
   ],
   "source": [
    "!pip install -q cleanlab"
   ]
  },
  {
   "cell_type": "code",
   "execution_count": 12,
   "id": "67c34fc9",
   "metadata": {
    "execution": {
     "iopub.execute_input": "2022-04-20T03:06:36.002321Z",
     "iopub.status.busy": "2022-04-20T03:06:36.001503Z",
     "iopub.status.idle": "2022-04-20T03:06:36.345808Z",
     "shell.execute_reply": "2022-04-20T03:06:36.345251Z",
     "shell.execute_reply.started": "2022-03-01T20:55:08.652459Z"
    },
    "papermill": {
     "duration": 2.460926,
     "end_time": "2022-04-20T03:06:36.345969",
     "exception": false,
     "start_time": "2022-04-20T03:06:33.885043",
     "status": "completed"
    },
    "tags": []
   },
   "outputs": [
    {
     "name": "stdout",
     "output_type": "stream",
     "text": [
      "huggingface/tokenizers: The current process just got forked, after parallelism has already been used. Disabling parallelism to avoid deadlocks...\n",
      "To disable this warning, you can either:\n",
      "\t- Avoid using `tokenizers` before the fork if possible\n",
      "\t- Explicitly set the environment variable TOKENIZERS_PARALLELISM=(true | false)\n",
      "huggingface/tokenizers: The current process just got forked, after parallelism has already been used. Disabling parallelism to avoid deadlocks...\n",
      "To disable this warning, you can either:\n",
      "\t- Avoid using `tokenizers` before the fork if possible\n",
      "\t- Explicitly set the environment variable TOKENIZERS_PARALLELISM=(true | false)\n"
     ]
    }
   ],
   "source": [
    "from cleanlab.pruning import get_noise_indices\n",
    "\n",
    "ordered_label_errors = get_noise_indices(\n",
    "    s=y,\n",
    "    psx=psx,\n",
    "    sorted_index_method='normalized_margin', # Orders label errors\n",
    " )"
   ]
  },
  {
   "cell_type": "code",
   "execution_count": 13,
   "id": "4421eeab",
   "metadata": {
    "execution": {
     "iopub.execute_input": "2022-04-20T03:06:41.273330Z",
     "iopub.status.busy": "2022-04-20T03:06:41.272674Z",
     "iopub.status.idle": "2022-04-20T03:06:41.275910Z",
     "shell.execute_reply": "2022-04-20T03:06:41.276326Z",
     "shell.execute_reply.started": "2022-03-01T20:55:09.046552Z"
    },
    "papermill": {
     "duration": 2.31095,
     "end_time": "2022-04-20T03:06:41.276467",
     "exception": false,
     "start_time": "2022-04-20T03:06:38.965517",
     "status": "completed"
    },
    "tags": []
   },
   "outputs": [
    {
     "name": "stdout",
     "output_type": "stream",
     "text": [
      "509\n",
      "[7562 2752  165 4701 3843 1857 2800 1404 3650 4125 2499 5258 2751 1542\n",
      "  492 7515 3799 2766 3662 4565 3375 2724 4136   57 2886 3818 1321 2097\n",
      " 4713 1515 4690 7586 1821  557 8156 8305 2632 8342 7920 3991 1226 3773\n",
      " 4124 4018 1041 1302 4193 3794 3699  976  205 3802 1735 3944 2662 1015\n",
      " 2656 1629 1964 7923 1728  951 6426  987 5554 2120 1928 4564  325 5118\n",
      " 3174 2787 6450 3803 5490 2697 3518 7078 1068 1002 5530 1307 4148 4471\n",
      " 4536 1759 2767 2378 3865 1413 1552 3630  994 8386 7786 4418 4827 3187\n",
      " 8146 1174 4681 4375  849 2599 1854  190 5138 2224 1230 4469 1613 3471\n",
      " 1914  107  700 4722 3327 4260 2758 5322 2208 1416 4446  114 3258 2940\n",
      " 2400 5585 3018 1282 1272 2056 5408 2199 1705 2107 2467 1711 4555  710\n",
      " 2139 1284  397  250 1704 3738  152 1156  461 5946 5489 4918 7567   63\n",
      " 5292 2567 3517 1968  401  835 2765 4752  241 1582 1421 3084 5360 4712\n",
      " 2368 2187 3550  318  255 2277 1179  433 2449  436  352 3221 1676 4494\n",
      " 4627  749  883 2821 2900 6456  599 6432 5392  274  664   77  296  782\n",
      "  625  409  853  661 1604 1479  644 1102 3768 1138 5122  573   19  171\n",
      "   28 5283 5326 1349  658 6492 4123 4938 4453 7379 6449 3591 4417 1576\n",
      " 4090 2273 3231  704  355  358  230  581  411  615 1235  432 7269  222\n",
      " 1760 3284   47  373 3501  334  297 3894  628 3441 4465 2253  467 1488\n",
      "  102 3362 4629 1754  261 3367 5610 4645  345 4660 1960  598 4501  692\n",
      " 2096 4703 1992 3088 2232 4529  116 1185 6349  886 2265  524  349  687\n",
      " 1752  516 2055 1526 6287 8188  136  323 1395  968 1040  588  696 7222\n",
      " 8071  100 5486 3520 6412  179  670 3529 7155  368 5513  272 2118 3825\n",
      " 1989 5864 3412 1659 4764 5144  726 7928 8419 1346   93  786 3031 4680\n",
      "   59 8597 2398  601  277  587  681 2678 2269 3185  603 4414 2292 2562\n",
      " 2684 3620 6062 5290  387 4710 1675  988  202 3207    7  602 4524  752\n",
      "  861  120 4091  150  112 7417  204 4456  705 4112 1696 6685 1448 3990\n",
      "  420  683   89 1995  348  514  388  317 1599 3387 5128 3353 5936  708\n",
      " 8541 2052 5830  300 8364 1919 3754  429 2393 1424   74   79  426 1807\n",
      " 7309 3049  402  372 3325  488  180 1761  901 2537 3319  104 2201  564\n",
      " 3331 1736  279 4628 6746  773  630 2676 7290 1334 8230  577 2205  580\n",
      " 5638 1149 3302 3824 7675 6626  366  416 2836 6853  379 3197 7550  306\n",
      " 2341  478 2264 5022 3137  138   90 5852 6123  536  106 4962 2679  985\n",
      " 3334  534 1672 4094 2937 1370 3003 2479 2418 7738 5948  160 5076 5877\n",
      " 1381 4878 5062 2009 1216  568 2335 2685 2125 3460   96 1858 2425  362\n",
      " 8370 1165 6124  405 7207 2793 5311 3988 1298 4613 3200 1318  103 5865\n",
      " 7424 1596  790 7889  149 2029  224  217 5616  789  693 3842 4864 3942\n",
      "  132  636  832 3544 1932]\n"
     ]
    }
   ],
   "source": [
    "print(len(ordered_label_errors))\n",
    "print(ordered_label_errors)"
   ]
  },
  {
   "cell_type": "code",
   "execution_count": 14,
   "id": "7936381a",
   "metadata": {
    "execution": {
     "iopub.execute_input": "2022-04-20T03:06:45.512310Z",
     "iopub.status.busy": "2022-04-20T03:06:45.511438Z",
     "iopub.status.idle": "2022-04-20T03:06:45.514194Z",
     "shell.execute_reply": "2022-04-20T03:06:45.514600Z",
     "shell.execute_reply.started": "2022-03-01T20:55:09.060645Z"
    },
    "papermill": {
     "duration": 2.103852,
     "end_time": "2022-04-20T03:06:45.514737",
     "exception": false,
     "start_time": "2022-04-20T03:06:43.410885",
     "status": "completed"
    },
    "tags": []
   },
   "outputs": [
    {
     "name": "stdout",
     "output_type": "stream",
     "text": [
      "509\n"
     ]
    }
   ],
   "source": [
    "list_abs=[]\n",
    "for i in ordered_label_errors: \n",
    "    list_abs.append(X[i])\n",
    "print(len(list_abs))"
   ]
  },
  {
   "cell_type": "code",
   "execution_count": 15,
   "id": "df77770a",
   "metadata": {
    "execution": {
     "iopub.execute_input": "2022-04-20T03:06:49.639598Z",
     "iopub.status.busy": "2022-04-20T03:06:49.638645Z",
     "iopub.status.idle": "2022-04-20T03:06:49.901765Z",
     "shell.execute_reply": "2022-04-20T03:06:49.902187Z",
     "shell.execute_reply.started": "2022-03-01T20:55:09.085406Z"
    },
    "papermill": {
     "duration": 2.316076,
     "end_time": "2022-04-20T03:06:49.902349",
     "exception": false,
     "start_time": "2022-04-20T03:06:47.586273",
     "status": "completed"
    },
    "tags": []
   },
   "outputs": [
    {
     "name": "stdout",
     "output_type": "stream",
     "text": [
      "529\n"
     ]
    }
   ],
   "source": [
    "df_o=pd.read_csv(\"../input/all-labelled/all_labelled.tsv\", delimiter=\"\\t\")\n",
    "df_o.dropna(inplace=True)\n",
    "df_o=df_o.drop_duplicates()\n",
    "df_top_errors= df_o[df_o['abstract'].isin(list_abs)]\n",
    "print(len(df_top_errors))"
   ]
  },
  {
   "cell_type": "code",
   "execution_count": 16,
   "id": "e0ab6b51",
   "metadata": {
    "execution": {
     "iopub.execute_input": "2022-04-20T03:06:54.260948Z",
     "iopub.status.busy": "2022-04-20T03:06:54.260351Z",
     "iopub.status.idle": "2022-04-20T03:06:54.268820Z",
     "shell.execute_reply": "2022-04-20T03:06:54.269252Z",
     "shell.execute_reply.started": "2022-03-01T20:55:09.298313Z"
    },
    "papermill": {
     "duration": 2.052533,
     "end_time": "2022-04-20T03:06:54.269409",
     "exception": false,
     "start_time": "2022-04-20T03:06:52.216876",
     "status": "completed"
    },
    "tags": []
   },
   "outputs": [
    {
     "name": "stdout",
     "output_type": "stream",
     "text": [
      "           uid                                           abstract  \\\n",
      "7     31969690  Neonatal mammalian heart maintains a transient...   \n",
      "20    32127658  Autophagy is a cellular catabolic process that...   \n",
      "29    32015503  Cells experiencing delays in mitotic progressi...   \n",
      "50    32376875  We have previously reported that Monoglyceride...   \n",
      "60    32332916  Although the roles of the Hippo pathway in org...   \n",
      "...        ...                                                ...   \n",
      "8442  33591274  Chromosome segregation during cell division re...   \n",
      "8458  33587037  Piwi-interacting RNAs (piRNAs) play essential ...   \n",
      "8491  33555257  The Hippo (Hpo) pathway regulates tissue growt...   \n",
      "8613  33459596  Germline mutations in the Folliculin (FLCN) tu...   \n",
      "8669  33416496  The oncoprotein transcription factor MYC is a ...   \n",
      "\n",
      "                                                  title  \\\n",
      "7     Targeting LncDACH1 promotes cardiac repair and...   \n",
      "20    Deleting key autophagy elongation proteins ind...   \n",
      "29    MARCH5-dependent degradation of MCL1/NOXA comp...   \n",
      "50    Monoglyceride lipase mediates tumor-suppressiv...   \n",
      "60    Hippo kinases MST1 and MST2 control the differ...   \n",
      "...                                                 ...   \n",
      "8442  Structural basis of Stu2 recruitment to yeast ...   \n",
      "8458  SNPC-1.3 is a sex-specific transcription facto...   \n",
      "8491  Negative feedback couples Hippo pathway activa...   \n",
      "8613  Loss of FLCN-FNIP1/2 induces a non-canonical i...   \n",
      "8669  MYC regulates ribosome biogenesis and mitochon...   \n",
      "\n",
      "                             journal  class  \n",
      "7     Cell death and differentiation      0  \n",
      "20    Cell death and differentiation      0  \n",
      "29    Cell death and differentiation      0  \n",
      "50    Cell death and differentiation      0  \n",
      "60    Cell death and differentiation      1  \n",
      "...                              ...    ...  \n",
      "8442                           eLife      0  \n",
      "8458                           eLife      1  \n",
      "8491                           eLife      1  \n",
      "8613                           eLife      0  \n",
      "8669                           eLife      0  \n",
      "\n",
      "[529 rows x 5 columns]\n"
     ]
    }
   ],
   "source": [
    "print(df_top_errors)\n"
   ]
  },
  {
   "cell_type": "code",
   "execution_count": 17,
   "id": "e69591fe",
   "metadata": {
    "execution": {
     "iopub.execute_input": "2022-04-20T03:06:58.436396Z",
     "iopub.status.busy": "2022-04-20T03:06:58.435732Z",
     "iopub.status.idle": "2022-04-20T03:06:58.468776Z",
     "shell.execute_reply": "2022-04-20T03:06:58.468299Z",
     "shell.execute_reply.started": "2022-03-01T20:55:09.31185Z"
    },
    "papermill": {
     "duration": 2.159412,
     "end_time": "2022-04-20T03:06:58.468903",
     "exception": false,
     "start_time": "2022-04-20T03:06:56.309491",
     "status": "completed"
    },
    "tags": []
   },
   "outputs": [],
   "source": [
    "df_top_errors.to_csv('top_losses_cl.tsv', sep= \"\\t\", index=False)"
   ]
  }
 ],
 "metadata": {
  "kernelspec": {
   "display_name": "Python 3",
   "language": "python",
   "name": "python3"
  },
  "language_info": {
   "codemirror_mode": {
    "name": "ipython",
    "version": 3
   },
   "file_extension": ".py",
   "mimetype": "text/x-python",
   "name": "python",
   "nbconvert_exporter": "python",
   "pygments_lexer": "ipython3",
   "version": "3.7.12"
  },
  "papermill": {
   "default_parameters": {},
   "duration": 7293.839254,
   "end_time": "2022-04-20T03:07:03.808062",
   "environment_variables": {},
   "exception": null,
   "input_path": "__notebook__.ipynb",
   "output_path": "__notebook__.ipynb",
   "parameters": {},
   "start_time": "2022-04-20T01:05:29.968808",
   "version": "2.3.3"
  },
  "widgets": {
   "application/vnd.jupyter.widget-state+json": {
    "state": {
     "00240cc0d05048d8b6699b824dadda65": {
      "model_module": "@jupyter-widgets/controls",
      "model_module_version": "1.5.0",
      "model_name": "HTMLModel",
      "state": {
       "_dom_classes": [],
       "_model_module": "@jupyter-widgets/controls",
       "_model_module_version": "1.5.0",
       "_model_name": "HTMLModel",
       "_view_count": null,
       "_view_module": "@jupyter-widgets/controls",
       "_view_module_version": "1.5.0",
       "_view_name": "HTMLView",
       "description": "",
       "description_tooltip": null,
       "layout": "IPY_MODEL_caeec60ce2c8447fb17ffe4cc8303446",
       "placeholder": "​",
       "style": "IPY_MODEL_acfb272e691640bb883667b3cd281351",
       "value": "Downloading: 100%"
      }
     },
     "12621e15e1844da9a7fdf217a80319b5": {
      "model_module": "@jupyter-widgets/base",
      "model_module_version": "1.2.0",
      "model_name": "LayoutModel",
      "state": {
       "_model_module": "@jupyter-widgets/base",
       "_model_module_version": "1.2.0",
       "_model_name": "LayoutModel",
       "_view_count": null,
       "_view_module": "@jupyter-widgets/base",
       "_view_module_version": "1.2.0",
       "_view_name": "LayoutView",
       "align_content": null,
       "align_items": null,
       "align_self": null,
       "border": null,
       "bottom": null,
       "display": null,
       "flex": null,
       "flex_flow": null,
       "grid_area": null,
       "grid_auto_columns": null,
       "grid_auto_flow": null,
       "grid_auto_rows": null,
       "grid_column": null,
       "grid_gap": null,
       "grid_row": null,
       "grid_template_areas": null,
       "grid_template_columns": null,
       "grid_template_rows": null,
       "height": null,
       "justify_content": null,
       "justify_items": null,
       "left": null,
       "margin": null,
       "max_height": null,
       "max_width": null,
       "min_height": null,
       "min_width": null,
       "object_fit": null,
       "object_position": null,
       "order": null,
       "overflow": null,
       "overflow_x": null,
       "overflow_y": null,
       "padding": null,
       "right": null,
       "top": null,
       "visibility": null,
       "width": null
      }
     },
     "2dab30399ba24c81aad575c47281634c": {
      "model_module": "@jupyter-widgets/controls",
      "model_module_version": "1.5.0",
      "model_name": "ProgressStyleModel",
      "state": {
       "_model_module": "@jupyter-widgets/controls",
       "_model_module_version": "1.5.0",
       "_model_name": "ProgressStyleModel",
       "_view_count": null,
       "_view_module": "@jupyter-widgets/base",
       "_view_module_version": "1.2.0",
       "_view_name": "StyleView",
       "bar_color": null,
       "description_width": ""
      }
     },
     "33486f3faa9348fea6ecb46d375c2bc2": {
      "model_module": "@jupyter-widgets/base",
      "model_module_version": "1.2.0",
      "model_name": "LayoutModel",
      "state": {
       "_model_module": "@jupyter-widgets/base",
       "_model_module_version": "1.2.0",
       "_model_name": "LayoutModel",
       "_view_count": null,
       "_view_module": "@jupyter-widgets/base",
       "_view_module_version": "1.2.0",
       "_view_name": "LayoutView",
       "align_content": null,
       "align_items": null,
       "align_self": null,
       "border": null,
       "bottom": null,
       "display": null,
       "flex": null,
       "flex_flow": null,
       "grid_area": null,
       "grid_auto_columns": null,
       "grid_auto_flow": null,
       "grid_auto_rows": null,
       "grid_column": null,
       "grid_gap": null,
       "grid_row": null,
       "grid_template_areas": null,
       "grid_template_columns": null,
       "grid_template_rows": null,
       "height": null,
       "justify_content": null,
       "justify_items": null,
       "left": null,
       "margin": null,
       "max_height": null,
       "max_width": null,
       "min_height": null,
       "min_width": null,
       "object_fit": null,
       "object_position": null,
       "order": null,
       "overflow": null,
       "overflow_x": null,
       "overflow_y": null,
       "padding": null,
       "right": null,
       "top": null,
       "visibility": null,
       "width": null
      }
     },
     "3677a694c8ae4e10b57cc124a1036302": {
      "model_module": "@jupyter-widgets/controls",
      "model_module_version": "1.5.0",
      "model_name": "DescriptionStyleModel",
      "state": {
       "_model_module": "@jupyter-widgets/controls",
       "_model_module_version": "1.5.0",
       "_model_name": "DescriptionStyleModel",
       "_view_count": null,
       "_view_module": "@jupyter-widgets/base",
       "_view_module_version": "1.2.0",
       "_view_name": "StyleView",
       "description_width": ""
      }
     },
     "378704bc227f4147a5b1e3a4b8a709e4": {
      "model_module": "@jupyter-widgets/base",
      "model_module_version": "1.2.0",
      "model_name": "LayoutModel",
      "state": {
       "_model_module": "@jupyter-widgets/base",
       "_model_module_version": "1.2.0",
       "_model_name": "LayoutModel",
       "_view_count": null,
       "_view_module": "@jupyter-widgets/base",
       "_view_module_version": "1.2.0",
       "_view_name": "LayoutView",
       "align_content": null,
       "align_items": null,
       "align_self": null,
       "border": null,
       "bottom": null,
       "display": null,
       "flex": null,
       "flex_flow": null,
       "grid_area": null,
       "grid_auto_columns": null,
       "grid_auto_flow": null,
       "grid_auto_rows": null,
       "grid_column": null,
       "grid_gap": null,
       "grid_row": null,
       "grid_template_areas": null,
       "grid_template_columns": null,
       "grid_template_rows": null,
       "height": null,
       "justify_content": null,
       "justify_items": null,
       "left": null,
       "margin": null,
       "max_height": null,
       "max_width": null,
       "min_height": null,
       "min_width": null,
       "object_fit": null,
       "object_position": null,
       "order": null,
       "overflow": null,
       "overflow_x": null,
       "overflow_y": null,
       "padding": null,
       "right": null,
       "top": null,
       "visibility": null,
       "width": null
      }
     },
     "3887f2ef6fa84a968c64ee7149392dff": {
      "model_module": "@jupyter-widgets/controls",
      "model_module_version": "1.5.0",
      "model_name": "DescriptionStyleModel",
      "state": {
       "_model_module": "@jupyter-widgets/controls",
       "_model_module_version": "1.5.0",
       "_model_name": "DescriptionStyleModel",
       "_view_count": null,
       "_view_module": "@jupyter-widgets/base",
       "_view_module_version": "1.2.0",
       "_view_name": "StyleView",
       "description_width": ""
      }
     },
     "3c874b75e19f4bd98485cf78f5d2b6dd": {
      "model_module": "@jupyter-widgets/controls",
      "model_module_version": "1.5.0",
      "model_name": "HTMLModel",
      "state": {
       "_dom_classes": [],
       "_model_module": "@jupyter-widgets/controls",
       "_model_module_version": "1.5.0",
       "_model_name": "HTMLModel",
       "_view_count": null,
       "_view_module": "@jupyter-widgets/controls",
       "_view_module_version": "1.5.0",
       "_view_name": "HTMLView",
       "description": "",
       "description_tooltip": null,
       "layout": "IPY_MODEL_c15c01fc07c34462aec87c2800fad525",
       "placeholder": "​",
       "style": "IPY_MODEL_61375cfa94a04a5f95e0b358d8fddeb2",
       "value": " 440M/440M [00:09&lt;00:00, 49.3MB/s]"
      }
     },
     "3dd45aa2446f4b8986aa6517f1475370": {
      "model_module": "@jupyter-widgets/controls",
      "model_module_version": "1.5.0",
      "model_name": "HBoxModel",
      "state": {
       "_dom_classes": [],
       "_model_module": "@jupyter-widgets/controls",
       "_model_module_version": "1.5.0",
       "_model_name": "HBoxModel",
       "_view_count": null,
       "_view_module": "@jupyter-widgets/controls",
       "_view_module_version": "1.5.0",
       "_view_name": "HBoxView",
       "box_style": "",
       "children": [
        "IPY_MODEL_9bcb7e81224c427cb78a8b01ae0900a6",
        "IPY_MODEL_a7c1a7c5c1934cb297bab82e46631725",
        "IPY_MODEL_a10bdb6eeb4148d9a20dd74563c04c7e"
       ],
       "layout": "IPY_MODEL_3fe0b538c8a64e6099f503a7fd68842f"
      }
     },
     "3fe0b538c8a64e6099f503a7fd68842f": {
      "model_module": "@jupyter-widgets/base",
      "model_module_version": "1.2.0",
      "model_name": "LayoutModel",
      "state": {
       "_model_module": "@jupyter-widgets/base",
       "_model_module_version": "1.2.0",
       "_model_name": "LayoutModel",
       "_view_count": null,
       "_view_module": "@jupyter-widgets/base",
       "_view_module_version": "1.2.0",
       "_view_name": "LayoutView",
       "align_content": null,
       "align_items": null,
       "align_self": null,
       "border": null,
       "bottom": null,
       "display": null,
       "flex": null,
       "flex_flow": null,
       "grid_area": null,
       "grid_auto_columns": null,
       "grid_auto_flow": null,
       "grid_auto_rows": null,
       "grid_column": null,
       "grid_gap": null,
       "grid_row": null,
       "grid_template_areas": null,
       "grid_template_columns": null,
       "grid_template_rows": null,
       "height": null,
       "justify_content": null,
       "justify_items": null,
       "left": null,
       "margin": null,
       "max_height": null,
       "max_width": null,
       "min_height": null,
       "min_width": null,
       "object_fit": null,
       "object_position": null,
       "order": null,
       "overflow": null,
       "overflow_x": null,
       "overflow_y": null,
       "padding": null,
       "right": null,
       "top": null,
       "visibility": null,
       "width": null
      }
     },
     "61375cfa94a04a5f95e0b358d8fddeb2": {
      "model_module": "@jupyter-widgets/controls",
      "model_module_version": "1.5.0",
      "model_name": "DescriptionStyleModel",
      "state": {
       "_model_module": "@jupyter-widgets/controls",
       "_model_module_version": "1.5.0",
       "_model_name": "DescriptionStyleModel",
       "_view_count": null,
       "_view_module": "@jupyter-widgets/base",
       "_view_module_version": "1.2.0",
       "_view_name": "StyleView",
       "description_width": ""
      }
     },
     "6782e006569a4f92bf2bfba08feb0401": {
      "model_module": "@jupyter-widgets/controls",
      "model_module_version": "1.5.0",
      "model_name": "DescriptionStyleModel",
      "state": {
       "_model_module": "@jupyter-widgets/controls",
       "_model_module_version": "1.5.0",
       "_model_name": "DescriptionStyleModel",
       "_view_count": null,
       "_view_module": "@jupyter-widgets/base",
       "_view_module_version": "1.2.0",
       "_view_name": "StyleView",
       "description_width": ""
      }
     },
     "6abe310e70f24bc6bcb260d30217d57e": {
      "model_module": "@jupyter-widgets/base",
      "model_module_version": "1.2.0",
      "model_name": "LayoutModel",
      "state": {
       "_model_module": "@jupyter-widgets/base",
       "_model_module_version": "1.2.0",
       "_model_name": "LayoutModel",
       "_view_count": null,
       "_view_module": "@jupyter-widgets/base",
       "_view_module_version": "1.2.0",
       "_view_name": "LayoutView",
       "align_content": null,
       "align_items": null,
       "align_self": null,
       "border": null,
       "bottom": null,
       "display": null,
       "flex": null,
       "flex_flow": null,
       "grid_area": null,
       "grid_auto_columns": null,
       "grid_auto_flow": null,
       "grid_auto_rows": null,
       "grid_column": null,
       "grid_gap": null,
       "grid_row": null,
       "grid_template_areas": null,
       "grid_template_columns": null,
       "grid_template_rows": null,
       "height": null,
       "justify_content": null,
       "justify_items": null,
       "left": null,
       "margin": null,
       "max_height": null,
       "max_width": null,
       "min_height": null,
       "min_width": null,
       "object_fit": null,
       "object_position": null,
       "order": null,
       "overflow": null,
       "overflow_x": null,
       "overflow_y": null,
       "padding": null,
       "right": null,
       "top": null,
       "visibility": null,
       "width": null
      }
     },
     "6f7ee16651ad43d38fcbf084c5fd133f": {
      "model_module": "@jupyter-widgets/base",
      "model_module_version": "1.2.0",
      "model_name": "LayoutModel",
      "state": {
       "_model_module": "@jupyter-widgets/base",
       "_model_module_version": "1.2.0",
       "_model_name": "LayoutModel",
       "_view_count": null,
       "_view_module": "@jupyter-widgets/base",
       "_view_module_version": "1.2.0",
       "_view_name": "LayoutView",
       "align_content": null,
       "align_items": null,
       "align_self": null,
       "border": null,
       "bottom": null,
       "display": null,
       "flex": null,
       "flex_flow": null,
       "grid_area": null,
       "grid_auto_columns": null,
       "grid_auto_flow": null,
       "grid_auto_rows": null,
       "grid_column": null,
       "grid_gap": null,
       "grid_row": null,
       "grid_template_areas": null,
       "grid_template_columns": null,
       "grid_template_rows": null,
       "height": null,
       "justify_content": null,
       "justify_items": null,
       "left": null,
       "margin": null,
       "max_height": null,
       "max_width": null,
       "min_height": null,
       "min_width": null,
       "object_fit": null,
       "object_position": null,
       "order": null,
       "overflow": null,
       "overflow_x": null,
       "overflow_y": null,
       "padding": null,
       "right": null,
       "top": null,
       "visibility": null,
       "width": null
      }
     },
     "70962e4fb2d3436d8d839cea9235129f": {
      "model_module": "@jupyter-widgets/controls",
      "model_module_version": "1.5.0",
      "model_name": "HTMLModel",
      "state": {
       "_dom_classes": [],
       "_model_module": "@jupyter-widgets/controls",
       "_model_module_version": "1.5.0",
       "_model_name": "HTMLModel",
       "_view_count": null,
       "_view_module": "@jupyter-widgets/controls",
       "_view_module_version": "1.5.0",
       "_view_name": "HTMLView",
       "description": "",
       "description_tooltip": null,
       "layout": "IPY_MODEL_d8aa8e1d6a9e42fa975cbb341ddc39c8",
       "placeholder": "​",
       "style": "IPY_MODEL_ed65f470e2ff488e99f34c9e3b76f5a7",
       "value": "Downloading: 100%"
      }
     },
     "98a5403101c54211b6f50c59a1353821": {
      "model_module": "@jupyter-widgets/controls",
      "model_module_version": "1.5.0",
      "model_name": "HBoxModel",
      "state": {
       "_dom_classes": [],
       "_model_module": "@jupyter-widgets/controls",
       "_model_module_version": "1.5.0",
       "_model_name": "HBoxModel",
       "_view_count": null,
       "_view_module": "@jupyter-widgets/controls",
       "_view_module_version": "1.5.0",
       "_view_name": "HBoxView",
       "box_style": "",
       "children": [
        "IPY_MODEL_70962e4fb2d3436d8d839cea9235129f",
        "IPY_MODEL_e5f9734b8a3f4c20bc982ac4f5b8c12a",
        "IPY_MODEL_fc719076b5f34ce5a287f26599e9c418"
       ],
       "layout": "IPY_MODEL_f3f7ad2b2d384259adc1f4dd10040438"
      }
     },
     "9bcb7e81224c427cb78a8b01ae0900a6": {
      "model_module": "@jupyter-widgets/controls",
      "model_module_version": "1.5.0",
      "model_name": "HTMLModel",
      "state": {
       "_dom_classes": [],
       "_model_module": "@jupyter-widgets/controls",
       "_model_module_version": "1.5.0",
       "_model_name": "HTMLModel",
       "_view_count": null,
       "_view_module": "@jupyter-widgets/controls",
       "_view_module_version": "1.5.0",
       "_view_name": "HTMLView",
       "description": "",
       "description_tooltip": null,
       "layout": "IPY_MODEL_6abe310e70f24bc6bcb260d30217d57e",
       "placeholder": "​",
       "style": "IPY_MODEL_3677a694c8ae4e10b57cc124a1036302",
       "value": "Downloading: 100%"
      }
     },
     "a10bdb6eeb4148d9a20dd74563c04c7e": {
      "model_module": "@jupyter-widgets/controls",
      "model_module_version": "1.5.0",
      "model_name": "HTMLModel",
      "state": {
       "_dom_classes": [],
       "_model_module": "@jupyter-widgets/controls",
       "_model_module_version": "1.5.0",
       "_model_name": "HTMLModel",
       "_view_count": null,
       "_view_module": "@jupyter-widgets/controls",
       "_view_module_version": "1.5.0",
       "_view_name": "HTMLView",
       "description": "",
       "description_tooltip": null,
       "layout": "IPY_MODEL_fb271199699a45caa2b9586c6f81fd7b",
       "placeholder": "​",
       "style": "IPY_MODEL_3887f2ef6fa84a968c64ee7149392dff",
       "value": " 226k/226k [00:00&lt;00:00, 3.01MB/s]"
      }
     },
     "a7c1a7c5c1934cb297bab82e46631725": {
      "model_module": "@jupyter-widgets/controls",
      "model_module_version": "1.5.0",
      "model_name": "FloatProgressModel",
      "state": {
       "_dom_classes": [],
       "_model_module": "@jupyter-widgets/controls",
       "_model_module_version": "1.5.0",
       "_model_name": "FloatProgressModel",
       "_view_count": null,
       "_view_module": "@jupyter-widgets/controls",
       "_view_module_version": "1.5.0",
       "_view_name": "ProgressView",
       "bar_style": "success",
       "description": "",
       "description_tooltip": null,
       "layout": "IPY_MODEL_b0a62bd7ecce440c84abf51c37bb7178",
       "max": 226150.0,
       "min": 0.0,
       "orientation": "horizontal",
       "style": "IPY_MODEL_b524cf0f790e43e5b95a52a3dbbbbf0b",
       "value": 226150.0
      }
     },
     "a8b4219282fa4ba384d69ab99f2a6f34": {
      "model_module": "@jupyter-widgets/controls",
      "model_module_version": "1.5.0",
      "model_name": "HBoxModel",
      "state": {
       "_dom_classes": [],
       "_model_module": "@jupyter-widgets/controls",
       "_model_module_version": "1.5.0",
       "_model_name": "HBoxModel",
       "_view_count": null,
       "_view_module": "@jupyter-widgets/controls",
       "_view_module_version": "1.5.0",
       "_view_name": "HBoxView",
       "box_style": "",
       "children": [
        "IPY_MODEL_b4faa8ee498a412499931aded81df831",
        "IPY_MODEL_e31f58478aac482d8c8bd65c01f2e005",
        "IPY_MODEL_3c874b75e19f4bd98485cf78f5d2b6dd"
       ],
       "layout": "IPY_MODEL_ae5d93a3de6f43cc853deb1287cc60e2"
      }
     },
     "a8f7d13705f6472893359e23de39a97b": {
      "model_module": "@jupyter-widgets/controls",
      "model_module_version": "1.5.0",
      "model_name": "HTMLModel",
      "state": {
       "_dom_classes": [],
       "_model_module": "@jupyter-widgets/controls",
       "_model_module_version": "1.5.0",
       "_model_name": "HTMLModel",
       "_view_count": null,
       "_view_module": "@jupyter-widgets/controls",
       "_view_module_version": "1.5.0",
       "_view_name": "HTMLView",
       "description": "",
       "description_tooltip": null,
       "layout": "IPY_MODEL_ee207f80e45849449a1ea19071115d98",
       "placeholder": "​",
       "style": "IPY_MODEL_ca5d8ab1e69841e58b230b423f1e20f3",
       "value": " 385/385 [00:00&lt;00:00, 13.4kB/s]"
      }
     },
     "acfb272e691640bb883667b3cd281351": {
      "model_module": "@jupyter-widgets/controls",
      "model_module_version": "1.5.0",
      "model_name": "DescriptionStyleModel",
      "state": {
       "_model_module": "@jupyter-widgets/controls",
       "_model_module_version": "1.5.0",
       "_model_name": "DescriptionStyleModel",
       "_view_count": null,
       "_view_module": "@jupyter-widgets/base",
       "_view_module_version": "1.2.0",
       "_view_name": "StyleView",
       "description_width": ""
      }
     },
     "ae5d93a3de6f43cc853deb1287cc60e2": {
      "model_module": "@jupyter-widgets/base",
      "model_module_version": "1.2.0",
      "model_name": "LayoutModel",
      "state": {
       "_model_module": "@jupyter-widgets/base",
       "_model_module_version": "1.2.0",
       "_model_name": "LayoutModel",
       "_view_count": null,
       "_view_module": "@jupyter-widgets/base",
       "_view_module_version": "1.2.0",
       "_view_name": "LayoutView",
       "align_content": null,
       "align_items": null,
       "align_self": null,
       "border": null,
       "bottom": null,
       "display": null,
       "flex": null,
       "flex_flow": null,
       "grid_area": null,
       "grid_auto_columns": null,
       "grid_auto_flow": null,
       "grid_auto_rows": null,
       "grid_column": null,
       "grid_gap": null,
       "grid_row": null,
       "grid_template_areas": null,
       "grid_template_columns": null,
       "grid_template_rows": null,
       "height": null,
       "justify_content": null,
       "justify_items": null,
       "left": null,
       "margin": null,
       "max_height": null,
       "max_width": null,
       "min_height": null,
       "min_width": null,
       "object_fit": null,
       "object_position": null,
       "order": null,
       "overflow": null,
       "overflow_x": null,
       "overflow_y": null,
       "padding": null,
       "right": null,
       "top": null,
       "visibility": null,
       "width": null
      }
     },
     "af297ff71fe24a4c851cb7365598d077": {
      "model_module": "@jupyter-widgets/controls",
      "model_module_version": "1.5.0",
      "model_name": "ProgressStyleModel",
      "state": {
       "_model_module": "@jupyter-widgets/controls",
       "_model_module_version": "1.5.0",
       "_model_name": "ProgressStyleModel",
       "_view_count": null,
       "_view_module": "@jupyter-widgets/base",
       "_view_module_version": "1.2.0",
       "_view_name": "StyleView",
       "bar_color": null,
       "description_width": ""
      }
     },
     "b0a62bd7ecce440c84abf51c37bb7178": {
      "model_module": "@jupyter-widgets/base",
      "model_module_version": "1.2.0",
      "model_name": "LayoutModel",
      "state": {
       "_model_module": "@jupyter-widgets/base",
       "_model_module_version": "1.2.0",
       "_model_name": "LayoutModel",
       "_view_count": null,
       "_view_module": "@jupyter-widgets/base",
       "_view_module_version": "1.2.0",
       "_view_name": "LayoutView",
       "align_content": null,
       "align_items": null,
       "align_self": null,
       "border": null,
       "bottom": null,
       "display": null,
       "flex": null,
       "flex_flow": null,
       "grid_area": null,
       "grid_auto_columns": null,
       "grid_auto_flow": null,
       "grid_auto_rows": null,
       "grid_column": null,
       "grid_gap": null,
       "grid_row": null,
       "grid_template_areas": null,
       "grid_template_columns": null,
       "grid_template_rows": null,
       "height": null,
       "justify_content": null,
       "justify_items": null,
       "left": null,
       "margin": null,
       "max_height": null,
       "max_width": null,
       "min_height": null,
       "min_width": null,
       "object_fit": null,
       "object_position": null,
       "order": null,
       "overflow": null,
       "overflow_x": null,
       "overflow_y": null,
       "padding": null,
       "right": null,
       "top": null,
       "visibility": null,
       "width": null
      }
     },
     "b4faa8ee498a412499931aded81df831": {
      "model_module": "@jupyter-widgets/controls",
      "model_module_version": "1.5.0",
      "model_name": "HTMLModel",
      "state": {
       "_dom_classes": [],
       "_model_module": "@jupyter-widgets/controls",
       "_model_module_version": "1.5.0",
       "_model_name": "HTMLModel",
       "_view_count": null,
       "_view_module": "@jupyter-widgets/controls",
       "_view_module_version": "1.5.0",
       "_view_name": "HTMLView",
       "description": "",
       "description_tooltip": null,
       "layout": "IPY_MODEL_c70fc287d1be4551a90fe3ee7c00a743",
       "placeholder": "​",
       "style": "IPY_MODEL_da76bbee48504e1c8bc812495f11f3fe",
       "value": "Downloading: 100%"
      }
     },
     "b524cf0f790e43e5b95a52a3dbbbbf0b": {
      "model_module": "@jupyter-widgets/controls",
      "model_module_version": "1.5.0",
      "model_name": "ProgressStyleModel",
      "state": {
       "_model_module": "@jupyter-widgets/controls",
       "_model_module_version": "1.5.0",
       "_model_name": "ProgressStyleModel",
       "_view_count": null,
       "_view_module": "@jupyter-widgets/base",
       "_view_module_version": "1.2.0",
       "_view_name": "StyleView",
       "bar_color": null,
       "description_width": ""
      }
     },
     "c15c01fc07c34462aec87c2800fad525": {
      "model_module": "@jupyter-widgets/base",
      "model_module_version": "1.2.0",
      "model_name": "LayoutModel",
      "state": {
       "_model_module": "@jupyter-widgets/base",
       "_model_module_version": "1.2.0",
       "_model_name": "LayoutModel",
       "_view_count": null,
       "_view_module": "@jupyter-widgets/base",
       "_view_module_version": "1.2.0",
       "_view_name": "LayoutView",
       "align_content": null,
       "align_items": null,
       "align_self": null,
       "border": null,
       "bottom": null,
       "display": null,
       "flex": null,
       "flex_flow": null,
       "grid_area": null,
       "grid_auto_columns": null,
       "grid_auto_flow": null,
       "grid_auto_rows": null,
       "grid_column": null,
       "grid_gap": null,
       "grid_row": null,
       "grid_template_areas": null,
       "grid_template_columns": null,
       "grid_template_rows": null,
       "height": null,
       "justify_content": null,
       "justify_items": null,
       "left": null,
       "margin": null,
       "max_height": null,
       "max_width": null,
       "min_height": null,
       "min_width": null,
       "object_fit": null,
       "object_position": null,
       "order": null,
       "overflow": null,
       "overflow_x": null,
       "overflow_y": null,
       "padding": null,
       "right": null,
       "top": null,
       "visibility": null,
       "width": null
      }
     },
     "c70fc287d1be4551a90fe3ee7c00a743": {
      "model_module": "@jupyter-widgets/base",
      "model_module_version": "1.2.0",
      "model_name": "LayoutModel",
      "state": {
       "_model_module": "@jupyter-widgets/base",
       "_model_module_version": "1.2.0",
       "_model_name": "LayoutModel",
       "_view_count": null,
       "_view_module": "@jupyter-widgets/base",
       "_view_module_version": "1.2.0",
       "_view_name": "LayoutView",
       "align_content": null,
       "align_items": null,
       "align_self": null,
       "border": null,
       "bottom": null,
       "display": null,
       "flex": null,
       "flex_flow": null,
       "grid_area": null,
       "grid_auto_columns": null,
       "grid_auto_flow": null,
       "grid_auto_rows": null,
       "grid_column": null,
       "grid_gap": null,
       "grid_row": null,
       "grid_template_areas": null,
       "grid_template_columns": null,
       "grid_template_rows": null,
       "height": null,
       "justify_content": null,
       "justify_items": null,
       "left": null,
       "margin": null,
       "max_height": null,
       "max_width": null,
       "min_height": null,
       "min_width": null,
       "object_fit": null,
       "object_position": null,
       "order": null,
       "overflow": null,
       "overflow_x": null,
       "overflow_y": null,
       "padding": null,
       "right": null,
       "top": null,
       "visibility": null,
       "width": null
      }
     },
     "ca5d8ab1e69841e58b230b423f1e20f3": {
      "model_module": "@jupyter-widgets/controls",
      "model_module_version": "1.5.0",
      "model_name": "DescriptionStyleModel",
      "state": {
       "_model_module": "@jupyter-widgets/controls",
       "_model_module_version": "1.5.0",
       "_model_name": "DescriptionStyleModel",
       "_view_count": null,
       "_view_module": "@jupyter-widgets/base",
       "_view_module_version": "1.2.0",
       "_view_name": "StyleView",
       "description_width": ""
      }
     },
     "caeec60ce2c8447fb17ffe4cc8303446": {
      "model_module": "@jupyter-widgets/base",
      "model_module_version": "1.2.0",
      "model_name": "LayoutModel",
      "state": {
       "_model_module": "@jupyter-widgets/base",
       "_model_module_version": "1.2.0",
       "_model_name": "LayoutModel",
       "_view_count": null,
       "_view_module": "@jupyter-widgets/base",
       "_view_module_version": "1.2.0",
       "_view_name": "LayoutView",
       "align_content": null,
       "align_items": null,
       "align_self": null,
       "border": null,
       "bottom": null,
       "display": null,
       "flex": null,
       "flex_flow": null,
       "grid_area": null,
       "grid_auto_columns": null,
       "grid_auto_flow": null,
       "grid_auto_rows": null,
       "grid_column": null,
       "grid_gap": null,
       "grid_row": null,
       "grid_template_areas": null,
       "grid_template_columns": null,
       "grid_template_rows": null,
       "height": null,
       "justify_content": null,
       "justify_items": null,
       "left": null,
       "margin": null,
       "max_height": null,
       "max_width": null,
       "min_height": null,
       "min_width": null,
       "object_fit": null,
       "object_position": null,
       "order": null,
       "overflow": null,
       "overflow_x": null,
       "overflow_y": null,
       "padding": null,
       "right": null,
       "top": null,
       "visibility": null,
       "width": null
      }
     },
     "d3e7cbd43f044e10a40a4e14fc54e9d8": {
      "model_module": "@jupyter-widgets/controls",
      "model_module_version": "1.5.0",
      "model_name": "FloatProgressModel",
      "state": {
       "_dom_classes": [],
       "_model_module": "@jupyter-widgets/controls",
       "_model_module_version": "1.5.0",
       "_model_name": "FloatProgressModel",
       "_view_count": null,
       "_view_module": "@jupyter-widgets/controls",
       "_view_module_version": "1.5.0",
       "_view_name": "ProgressView",
       "bar_style": "success",
       "description": "",
       "description_tooltip": null,
       "layout": "IPY_MODEL_378704bc227f4147a5b1e3a4b8a709e4",
       "max": 385.0,
       "min": 0.0,
       "orientation": "horizontal",
       "style": "IPY_MODEL_af297ff71fe24a4c851cb7365598d077",
       "value": 385.0
      }
     },
     "d8aa8e1d6a9e42fa975cbb341ddc39c8": {
      "model_module": "@jupyter-widgets/base",
      "model_module_version": "1.2.0",
      "model_name": "LayoutModel",
      "state": {
       "_model_module": "@jupyter-widgets/base",
       "_model_module_version": "1.2.0",
       "_model_name": "LayoutModel",
       "_view_count": null,
       "_view_module": "@jupyter-widgets/base",
       "_view_module_version": "1.2.0",
       "_view_name": "LayoutView",
       "align_content": null,
       "align_items": null,
       "align_self": null,
       "border": null,
       "bottom": null,
       "display": null,
       "flex": null,
       "flex_flow": null,
       "grid_area": null,
       "grid_auto_columns": null,
       "grid_auto_flow": null,
       "grid_auto_rows": null,
       "grid_column": null,
       "grid_gap": null,
       "grid_row": null,
       "grid_template_areas": null,
       "grid_template_columns": null,
       "grid_template_rows": null,
       "height": null,
       "justify_content": null,
       "justify_items": null,
       "left": null,
       "margin": null,
       "max_height": null,
       "max_width": null,
       "min_height": null,
       "min_width": null,
       "object_fit": null,
       "object_position": null,
       "order": null,
       "overflow": null,
       "overflow_x": null,
       "overflow_y": null,
       "padding": null,
       "right": null,
       "top": null,
       "visibility": null,
       "width": null
      }
     },
     "da76bbee48504e1c8bc812495f11f3fe": {
      "model_module": "@jupyter-widgets/controls",
      "model_module_version": "1.5.0",
      "model_name": "DescriptionStyleModel",
      "state": {
       "_model_module": "@jupyter-widgets/controls",
       "_model_module_version": "1.5.0",
       "_model_name": "DescriptionStyleModel",
       "_view_count": null,
       "_view_module": "@jupyter-widgets/base",
       "_view_module_version": "1.2.0",
       "_view_name": "StyleView",
       "description_width": ""
      }
     },
     "e31f58478aac482d8c8bd65c01f2e005": {
      "model_module": "@jupyter-widgets/controls",
      "model_module_version": "1.5.0",
      "model_name": "FloatProgressModel",
      "state": {
       "_dom_classes": [],
       "_model_module": "@jupyter-widgets/controls",
       "_model_module_version": "1.5.0",
       "_model_name": "FloatProgressModel",
       "_view_count": null,
       "_view_module": "@jupyter-widgets/controls",
       "_view_module_version": "1.5.0",
       "_view_name": "ProgressView",
       "bar_style": "success",
       "description": "",
       "description_tooltip": null,
       "layout": "IPY_MODEL_12621e15e1844da9a7fdf217a80319b5",
       "max": 440474434.0,
       "min": 0.0,
       "orientation": "horizontal",
       "style": "IPY_MODEL_2dab30399ba24c81aad575c47281634c",
       "value": 440474434.0
      }
     },
     "e414c3c5e7944281ad2d128ef8b77c9f": {
      "model_module": "@jupyter-widgets/controls",
      "model_module_version": "1.5.0",
      "model_name": "HBoxModel",
      "state": {
       "_dom_classes": [],
       "_model_module": "@jupyter-widgets/controls",
       "_model_module_version": "1.5.0",
       "_model_name": "HBoxModel",
       "_view_count": null,
       "_view_module": "@jupyter-widgets/controls",
       "_view_module_version": "1.5.0",
       "_view_name": "HBoxView",
       "box_style": "",
       "children": [
        "IPY_MODEL_00240cc0d05048d8b6699b824dadda65",
        "IPY_MODEL_d3e7cbd43f044e10a40a4e14fc54e9d8",
        "IPY_MODEL_a8f7d13705f6472893359e23de39a97b"
       ],
       "layout": "IPY_MODEL_e8906a70049f4d749530965fdf5ea366"
      }
     },
     "e5f9734b8a3f4c20bc982ac4f5b8c12a": {
      "model_module": "@jupyter-widgets/controls",
      "model_module_version": "1.5.0",
      "model_name": "FloatProgressModel",
      "state": {
       "_dom_classes": [],
       "_model_module": "@jupyter-widgets/controls",
       "_model_module_version": "1.5.0",
       "_model_name": "FloatProgressModel",
       "_view_count": null,
       "_view_module": "@jupyter-widgets/controls",
       "_view_module_version": "1.5.0",
       "_view_name": "ProgressView",
       "bar_style": "success",
       "description": "",
       "description_tooltip": null,
       "layout": "IPY_MODEL_33486f3faa9348fea6ecb46d375c2bc2",
       "max": 28.0,
       "min": 0.0,
       "orientation": "horizontal",
       "style": "IPY_MODEL_fc181329fa7045aba15acfd576f4d1d7",
       "value": 28.0
      }
     },
     "e8906a70049f4d749530965fdf5ea366": {
      "model_module": "@jupyter-widgets/base",
      "model_module_version": "1.2.0",
      "model_name": "LayoutModel",
      "state": {
       "_model_module": "@jupyter-widgets/base",
       "_model_module_version": "1.2.0",
       "_model_name": "LayoutModel",
       "_view_count": null,
       "_view_module": "@jupyter-widgets/base",
       "_view_module_version": "1.2.0",
       "_view_name": "LayoutView",
       "align_content": null,
       "align_items": null,
       "align_self": null,
       "border": null,
       "bottom": null,
       "display": null,
       "flex": null,
       "flex_flow": null,
       "grid_area": null,
       "grid_auto_columns": null,
       "grid_auto_flow": null,
       "grid_auto_rows": null,
       "grid_column": null,
       "grid_gap": null,
       "grid_row": null,
       "grid_template_areas": null,
       "grid_template_columns": null,
       "grid_template_rows": null,
       "height": null,
       "justify_content": null,
       "justify_items": null,
       "left": null,
       "margin": null,
       "max_height": null,
       "max_width": null,
       "min_height": null,
       "min_width": null,
       "object_fit": null,
       "object_position": null,
       "order": null,
       "overflow": null,
       "overflow_x": null,
       "overflow_y": null,
       "padding": null,
       "right": null,
       "top": null,
       "visibility": null,
       "width": null
      }
     },
     "ed65f470e2ff488e99f34c9e3b76f5a7": {
      "model_module": "@jupyter-widgets/controls",
      "model_module_version": "1.5.0",
      "model_name": "DescriptionStyleModel",
      "state": {
       "_model_module": "@jupyter-widgets/controls",
       "_model_module_version": "1.5.0",
       "_model_name": "DescriptionStyleModel",
       "_view_count": null,
       "_view_module": "@jupyter-widgets/base",
       "_view_module_version": "1.2.0",
       "_view_name": "StyleView",
       "description_width": ""
      }
     },
     "ee207f80e45849449a1ea19071115d98": {
      "model_module": "@jupyter-widgets/base",
      "model_module_version": "1.2.0",
      "model_name": "LayoutModel",
      "state": {
       "_model_module": "@jupyter-widgets/base",
       "_model_module_version": "1.2.0",
       "_model_name": "LayoutModel",
       "_view_count": null,
       "_view_module": "@jupyter-widgets/base",
       "_view_module_version": "1.2.0",
       "_view_name": "LayoutView",
       "align_content": null,
       "align_items": null,
       "align_self": null,
       "border": null,
       "bottom": null,
       "display": null,
       "flex": null,
       "flex_flow": null,
       "grid_area": null,
       "grid_auto_columns": null,
       "grid_auto_flow": null,
       "grid_auto_rows": null,
       "grid_column": null,
       "grid_gap": null,
       "grid_row": null,
       "grid_template_areas": null,
       "grid_template_columns": null,
       "grid_template_rows": null,
       "height": null,
       "justify_content": null,
       "justify_items": null,
       "left": null,
       "margin": null,
       "max_height": null,
       "max_width": null,
       "min_height": null,
       "min_width": null,
       "object_fit": null,
       "object_position": null,
       "order": null,
       "overflow": null,
       "overflow_x": null,
       "overflow_y": null,
       "padding": null,
       "right": null,
       "top": null,
       "visibility": null,
       "width": null
      }
     },
     "f3f7ad2b2d384259adc1f4dd10040438": {
      "model_module": "@jupyter-widgets/base",
      "model_module_version": "1.2.0",
      "model_name": "LayoutModel",
      "state": {
       "_model_module": "@jupyter-widgets/base",
       "_model_module_version": "1.2.0",
       "_model_name": "LayoutModel",
       "_view_count": null,
       "_view_module": "@jupyter-widgets/base",
       "_view_module_version": "1.2.0",
       "_view_name": "LayoutView",
       "align_content": null,
       "align_items": null,
       "align_self": null,
       "border": null,
       "bottom": null,
       "display": null,
       "flex": null,
       "flex_flow": null,
       "grid_area": null,
       "grid_auto_columns": null,
       "grid_auto_flow": null,
       "grid_auto_rows": null,
       "grid_column": null,
       "grid_gap": null,
       "grid_row": null,
       "grid_template_areas": null,
       "grid_template_columns": null,
       "grid_template_rows": null,
       "height": null,
       "justify_content": null,
       "justify_items": null,
       "left": null,
       "margin": null,
       "max_height": null,
       "max_width": null,
       "min_height": null,
       "min_width": null,
       "object_fit": null,
       "object_position": null,
       "order": null,
       "overflow": null,
       "overflow_x": null,
       "overflow_y": null,
       "padding": null,
       "right": null,
       "top": null,
       "visibility": null,
       "width": null
      }
     },
     "fb271199699a45caa2b9586c6f81fd7b": {
      "model_module": "@jupyter-widgets/base",
      "model_module_version": "1.2.0",
      "model_name": "LayoutModel",
      "state": {
       "_model_module": "@jupyter-widgets/base",
       "_model_module_version": "1.2.0",
       "_model_name": "LayoutModel",
       "_view_count": null,
       "_view_module": "@jupyter-widgets/base",
       "_view_module_version": "1.2.0",
       "_view_name": "LayoutView",
       "align_content": null,
       "align_items": null,
       "align_self": null,
       "border": null,
       "bottom": null,
       "display": null,
       "flex": null,
       "flex_flow": null,
       "grid_area": null,
       "grid_auto_columns": null,
       "grid_auto_flow": null,
       "grid_auto_rows": null,
       "grid_column": null,
       "grid_gap": null,
       "grid_row": null,
       "grid_template_areas": null,
       "grid_template_columns": null,
       "grid_template_rows": null,
       "height": null,
       "justify_content": null,
       "justify_items": null,
       "left": null,
       "margin": null,
       "max_height": null,
       "max_width": null,
       "min_height": null,
       "min_width": null,
       "object_fit": null,
       "object_position": null,
       "order": null,
       "overflow": null,
       "overflow_x": null,
       "overflow_y": null,
       "padding": null,
       "right": null,
       "top": null,
       "visibility": null,
       "width": null
      }
     },
     "fc181329fa7045aba15acfd576f4d1d7": {
      "model_module": "@jupyter-widgets/controls",
      "model_module_version": "1.5.0",
      "model_name": "ProgressStyleModel",
      "state": {
       "_model_module": "@jupyter-widgets/controls",
       "_model_module_version": "1.5.0",
       "_model_name": "ProgressStyleModel",
       "_view_count": null,
       "_view_module": "@jupyter-widgets/base",
       "_view_module_version": "1.2.0",
       "_view_name": "StyleView",
       "bar_color": null,
       "description_width": ""
      }
     },
     "fc719076b5f34ce5a287f26599e9c418": {
      "model_module": "@jupyter-widgets/controls",
      "model_module_version": "1.5.0",
      "model_name": "HTMLModel",
      "state": {
       "_dom_classes": [],
       "_model_module": "@jupyter-widgets/controls",
       "_model_module_version": "1.5.0",
       "_model_name": "HTMLModel",
       "_view_count": null,
       "_view_module": "@jupyter-widgets/controls",
       "_view_module_version": "1.5.0",
       "_view_name": "HTMLView",
       "description": "",
       "description_tooltip": null,
       "layout": "IPY_MODEL_6f7ee16651ad43d38fcbf084c5fd133f",
       "placeholder": "​",
       "style": "IPY_MODEL_6782e006569a4f92bf2bfba08feb0401",
       "value": " 28.0/28.0 [00:00&lt;00:00, 1.14kB/s]"
      }
     }
    },
    "version_major": 2,
    "version_minor": 0
   }
  }
 },
 "nbformat": 4,
 "nbformat_minor": 5
}
