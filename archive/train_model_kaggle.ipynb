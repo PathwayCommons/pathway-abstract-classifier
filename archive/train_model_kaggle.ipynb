{
 "cells": [
  {
   "cell_type": "code",
   "execution_count": 1,
   "id": "3dd68216",
   "metadata": {
    "_cell_guid": "b1076dfc-b9ad-4769-8c92-a6c4dae69d19",
    "_uuid": "8f2839f25d086af736a60e9eeb907d3b93b6e0e5",
    "execution": {
     "iopub.execute_input": "2022-04-20T19:43:40.178482Z",
     "iopub.status.busy": "2022-04-20T19:43:40.178084Z",
     "iopub.status.idle": "2022-04-20T19:43:40.213368Z",
     "shell.execute_reply": "2022-04-20T19:43:40.212625Z"
    },
    "papermill": {
     "duration": 0.065213,
     "end_time": "2022-04-20T19:43:40.217895",
     "exception": false,
     "start_time": "2022-04-20T19:43:40.152682",
     "status": "completed"
    },
    "tags": []
   },
   "outputs": [
    {
     "name": "stdout",
     "output_type": "stream",
     "text": [
      "/kaggle/input/all-labelled/all_labelled.tsv\n",
      "/kaggle/input/test-val/test_data.tsv\n",
      "/kaggle/input/test-val/val_data.tsv\n",
      "/kaggle/input/top-losses-cl/top_losses_cl.tsv\n"
     ]
    }
   ],
   "source": [
    "# This Python 3 environment comes with many helpful analytics libraries installed\n",
    "# It is defined by the kaggle/python Docker image: https://github.com/kaggle/docker-python\n",
    "# For example, here's several helpful packages to load\n",
    "\n",
    "import numpy as np # linear algebra\n",
    "import pandas as pd # data processing, CSV file I/O (e.g. pd.read_csv)\n",
    "\n",
    "# Input data files are available in the read-only \"../input/\" directory\n",
    "# For example, running this (by clicking run or pressing Shift+Enter) will list all files under the input directory\n",
    "\n",
    "import os\n",
    "for dirname, _, filenames in os.walk('/kaggle/input'):\n",
    "    for filename in filenames:\n",
    "        print(os.path.join(dirname, filename))\n",
    "\n",
    "# You can write up to 20GB to the current directory (/kaggle/working/) that gets preserved as output when you create a version using \"Save & Run All\" \n",
    "# You can also write temporary files to /kaggle/temp/, but they won't be saved outside of the current session"
   ]
  },
  {
   "cell_type": "code",
   "execution_count": 2,
   "id": "98bda19a",
   "metadata": {
    "execution": {
     "iopub.execute_input": "2022-04-20T19:43:40.252194Z",
     "iopub.status.busy": "2022-04-20T19:43:40.251851Z",
     "iopub.status.idle": "2022-04-20T19:43:40.558084Z",
     "shell.execute_reply": "2022-04-20T19:43:40.557364Z"
    },
    "papermill": {
     "duration": 0.32467,
     "end_time": "2022-04-20T19:43:40.560106",
     "exception": false,
     "start_time": "2022-04-20T19:43:40.235436",
     "status": "completed"
    },
    "tags": []
   },
   "outputs": [],
   "source": [
    "# Load in train, validation data along with data flagged by Cleanlab as being mislabelled \n",
    "train=pd.read_csv(\"../input/all-labelled/all_labelled.tsv\", delimiter=\"\\t\")\n",
    "validation=pd.read_csv(\"../input/test-val/val_data.tsv\", delimiter=\"\\t\")\n",
    "cl=pd.read_csv(\"../input/top-losses-cl/top_losses_cl.tsv\", delimiter= \"\\t\")"
   ]
  },
  {
   "cell_type": "code",
   "execution_count": 3,
   "id": "5261798e",
   "metadata": {
    "execution": {
     "iopub.execute_input": "2022-04-20T19:43:40.593569Z",
     "iopub.status.busy": "2022-04-20T19:43:40.593350Z",
     "iopub.status.idle": "2022-04-20T19:43:40.614545Z",
     "shell.execute_reply": "2022-04-20T19:43:40.613891Z"
    },
    "papermill": {
     "duration": 0.039432,
     "end_time": "2022-04-20T19:43:40.616404",
     "exception": false,
     "start_time": "2022-04-20T19:43:40.576972",
     "status": "completed"
    },
    "tags": []
   },
   "outputs": [],
   "source": [
    "# Switch class type to bool to facilitate preprocessing \n",
    "train['class']=train['class'].astype('bool')\n",
    "validation['class']=validation['class'].astype('bool')\n",
    "cl['class']=cl['class'].astype('bool')"
   ]
  },
  {
   "cell_type": "code",
   "execution_count": 4,
   "id": "4b8617b4",
   "metadata": {
    "execution": {
     "iopub.execute_input": "2022-04-20T19:43:40.648708Z",
     "iopub.status.busy": "2022-04-20T19:43:40.648492Z",
     "iopub.status.idle": "2022-04-20T19:43:40.665880Z",
     "shell.execute_reply": "2022-04-20T19:43:40.664311Z"
    },
    "papermill": {
     "duration": 0.035567,
     "end_time": "2022-04-20T19:43:40.667637",
     "exception": false,
     "start_time": "2022-04-20T19:43:40.632070",
     "status": "completed"
    },
    "tags": []
   },
   "outputs": [
    {
     "name": "stdout",
     "output_type": "stream",
     "text": [
      "           uid                                           abstract  \\\n",
      "7     31969690  Neonatal mammalian heart maintains a transient...   \n",
      "10    31959915  The identification of viability-associated lon...   \n",
      "20    32127658  Autophagy is a cellular catabolic process that...   \n",
      "33    32447347  Senescence is accompanied with histones level ...   \n",
      "50    32376875  We have previously reported that Monoglyceride...   \n",
      "...        ...                                                ...   \n",
      "8491  33555257  The Hippo (Hpo) pathway regulates tissue growt...   \n",
      "8613  33459596  Germline mutations in the Folliculin (FLCN) tu...   \n",
      "8643  33438577  The microphthalmia-associated transcription fa...   \n",
      "8648  33432928  Skeletal muscle possesses an outstanding capac...   \n",
      "8669  33416496  The oncoprotein transcription factor MYC is a ...   \n",
      "\n",
      "                                                  title  \\\n",
      "7     Targeting LncDACH1 promotes cardiac repair and...   \n",
      "10    LINC00662 promotes hepatocellular carcinoma pr...   \n",
      "20    Deleting key autophagy elongation proteins ind...   \n",
      "33    Arginine hypomethylation-mediated proteasomal ...   \n",
      "50    Monoglyceride lipase mediates tumor-suppressiv...   \n",
      "...                                                 ...   \n",
      "8491  Negative feedback couples Hippo pathway activa...   \n",
      "8613  Loss of FLCN-FNIP1/2 induces a non-canonical i...   \n",
      "8643  MITF reprograms the extracellular matrix and f...   \n",
      "8648  Epigenetic regulation of Wnt7b expression by t...   \n",
      "8669  MYC regulates ribosome biogenesis and mitochon...   \n",
      "\n",
      "                             journal  class  \n",
      "7     Cell death and differentiation  False  \n",
      "10    Cell death and differentiation   True  \n",
      "20    Cell death and differentiation  False  \n",
      "33    Cell death and differentiation  False  \n",
      "50    Cell death and differentiation  False  \n",
      "...                              ...    ...  \n",
      "8491                           eLife   True  \n",
      "8613                           eLife  False  \n",
      "8643                           eLife  False  \n",
      "8648                           eLife  False  \n",
      "8669                           eLife  False  \n",
      "\n",
      "[557 rows x 5 columns]\n"
     ]
    }
   ],
   "source": [
    "# Inspect intersection of train data and data Cleanlab flagged as being mislabelled (to aid in preprocessing)\n",
    "print(train[train['uid'].isin(cl['uid'])])"
   ]
  },
  {
   "cell_type": "code",
   "execution_count": 5,
   "id": "dde9fc3a",
   "metadata": {
    "execution": {
     "iopub.execute_input": "2022-04-20T19:43:40.701670Z",
     "iopub.status.busy": "2022-04-20T19:43:40.701131Z",
     "iopub.status.idle": "2022-04-20T19:43:40.709159Z",
     "shell.execute_reply": "2022-04-20T19:43:40.708515Z"
    },
    "papermill": {
     "duration": 0.027027,
     "end_time": "2022-04-20T19:43:40.710729",
     "exception": false,
     "start_time": "2022-04-20T19:43:40.683702",
     "status": "completed"
    },
    "tags": []
   },
   "outputs": [],
   "source": [
    "# Flip labels Cleanlab flagged as being incorrect\n",
    "train.loc[train['uid'].isin(cl['uid']), 'class'] = ~(train.loc[train['uid'].isin(cl['uid']), 'class'] )"
   ]
  },
  {
   "cell_type": "code",
   "execution_count": 6,
   "id": "9382d5e6",
   "metadata": {
    "execution": {
     "iopub.execute_input": "2022-04-20T19:43:40.743962Z",
     "iopub.status.busy": "2022-04-20T19:43:40.743738Z",
     "iopub.status.idle": "2022-04-20T19:43:40.754465Z",
     "shell.execute_reply": "2022-04-20T19:43:40.753675Z"
    },
    "papermill": {
     "duration": 0.029793,
     "end_time": "2022-04-20T19:43:40.756453",
     "exception": false,
     "start_time": "2022-04-20T19:43:40.726660",
     "status": "completed"
    },
    "tags": []
   },
   "outputs": [
    {
     "name": "stdout",
     "output_type": "stream",
     "text": [
      "           uid                                           abstract  \\\n",
      "7     31969690  Neonatal mammalian heart maintains a transient...   \n",
      "10    31959915  The identification of viability-associated lon...   \n",
      "20    32127658  Autophagy is a cellular catabolic process that...   \n",
      "33    32447347  Senescence is accompanied with histones level ...   \n",
      "50    32376875  We have previously reported that Monoglyceride...   \n",
      "...        ...                                                ...   \n",
      "8491  33555257  The Hippo (Hpo) pathway regulates tissue growt...   \n",
      "8613  33459596  Germline mutations in the Folliculin (FLCN) tu...   \n",
      "8643  33438577  The microphthalmia-associated transcription fa...   \n",
      "8648  33432928  Skeletal muscle possesses an outstanding capac...   \n",
      "8669  33416496  The oncoprotein transcription factor MYC is a ...   \n",
      "\n",
      "                                                  title  \\\n",
      "7     Targeting LncDACH1 promotes cardiac repair and...   \n",
      "10    LINC00662 promotes hepatocellular carcinoma pr...   \n",
      "20    Deleting key autophagy elongation proteins ind...   \n",
      "33    Arginine hypomethylation-mediated proteasomal ...   \n",
      "50    Monoglyceride lipase mediates tumor-suppressiv...   \n",
      "...                                                 ...   \n",
      "8491  Negative feedback couples Hippo pathway activa...   \n",
      "8613  Loss of FLCN-FNIP1/2 induces a non-canonical i...   \n",
      "8643  MITF reprograms the extracellular matrix and f...   \n",
      "8648  Epigenetic regulation of Wnt7b expression by t...   \n",
      "8669  MYC regulates ribosome biogenesis and mitochon...   \n",
      "\n",
      "                             journal  class  \n",
      "7     Cell death and differentiation   True  \n",
      "10    Cell death and differentiation  False  \n",
      "20    Cell death and differentiation   True  \n",
      "33    Cell death and differentiation   True  \n",
      "50    Cell death and differentiation   True  \n",
      "...                              ...    ...  \n",
      "8491                           eLife  False  \n",
      "8613                           eLife   True  \n",
      "8643                           eLife   True  \n",
      "8648                           eLife   True  \n",
      "8669                           eLife   True  \n",
      "\n",
      "[557 rows x 5 columns]\n"
     ]
    }
   ],
   "source": [
    "print(train[train['uid'].isin(cl['uid'])])"
   ]
  },
  {
   "cell_type": "code",
   "execution_count": 7,
   "id": "e1c8bee9",
   "metadata": {
    "execution": {
     "iopub.execute_input": "2022-04-20T19:43:40.790065Z",
     "iopub.status.busy": "2022-04-20T19:43:40.789826Z",
     "iopub.status.idle": "2022-04-20T19:43:40.831098Z",
     "shell.execute_reply": "2022-04-20T19:43:40.830404Z"
    },
    "papermill": {
     "duration": 0.060536,
     "end_time": "2022-04-20T19:43:40.833076",
     "exception": false,
     "start_time": "2022-04-20T19:43:40.772540",
     "status": "completed"
    },
    "tags": []
   },
   "outputs": [],
   "source": [
    "# Pre-process train data \n",
    "train.dropna(inplace=True)\n",
    "train=train.drop_duplicates()"
   ]
  },
  {
   "cell_type": "code",
   "execution_count": 8,
   "id": "f6fd0630",
   "metadata": {
    "execution": {
     "iopub.execute_input": "2022-04-20T19:43:40.869786Z",
     "iopub.status.busy": "2022-04-20T19:43:40.869282Z",
     "iopub.status.idle": "2022-04-20T19:44:22.219433Z",
     "shell.execute_reply": "2022-04-20T19:44:22.218539Z"
    },
    "papermill": {
     "duration": 41.371754,
     "end_time": "2022-04-20T19:44:22.221623",
     "exception": false,
     "start_time": "2022-04-20T19:43:40.849869",
     "status": "completed"
    },
    "tags": []
   },
   "outputs": [
    {
     "name": "stdout",
     "output_type": "stream",
     "text": [
      "\u001b[31mERROR: pip's dependency resolver does not currently take into account all the packages that are installed. This behaviour is the source of the following dependency conflicts.\r\n",
      "yellowbrick 1.4 requires scikit-learn>=1.0.0, but you have scikit-learn 0.24.2 which is incompatible.\r\n",
      "pdpbox 0.2.1 requires matplotlib==3.1.1, but you have matplotlib 3.5.1 which is incompatible.\r\n",
      "imbalanced-learn 0.9.0 requires scikit-learn>=1.0.1, but you have scikit-learn 0.24.2 which is incompatible.\u001b[0m\u001b[31m\r\n",
      "\u001b[0m\u001b[33mWARNING: Running pip as the 'root' user can result in broken permissions and conflicting behaviour with the system package manager. It is recommended to use a virtual environment instead: https://pip.pypa.io/warnings/venv\u001b[0m\u001b[33m\r\n",
      "\u001b[0m"
     ]
    }
   ],
   "source": [
    "!pip install -q ktrain "
   ]
  },
  {
   "cell_type": "code",
   "execution_count": 9,
   "id": "e614dd12",
   "metadata": {
    "execution": {
     "iopub.execute_input": "2022-04-20T19:44:22.257358Z",
     "iopub.status.busy": "2022-04-20T19:44:22.256610Z",
     "iopub.status.idle": "2022-04-20T19:44:34.495815Z",
     "shell.execute_reply": "2022-04-20T19:44:34.495073Z"
    },
    "papermill": {
     "duration": 12.259199,
     "end_time": "2022-04-20T19:44:34.497885",
     "exception": false,
     "start_time": "2022-04-20T19:44:22.238686",
     "status": "completed"
    },
    "tags": []
   },
   "outputs": [],
   "source": [
    "import tensorflow as tf \n",
    "import ktrain \n",
    "from ktrain import text \n",
    "from sklearn.model_selection import train_test_split\n",
    "# Enable AMP\n",
    "from tensorflow.keras.mixed_precision import experimental as mixed_precision\n",
    "policy = mixed_precision.Policy('mixed_float16')\n",
    "mixed_precision.set_policy(policy)"
   ]
  },
  {
   "cell_type": "code",
   "execution_count": 10,
   "id": "2a08424e",
   "metadata": {
    "execution": {
     "iopub.execute_input": "2022-04-20T19:44:34.532131Z",
     "iopub.status.busy": "2022-04-20T19:44:34.531903Z",
     "iopub.status.idle": "2022-04-20T19:44:34.536768Z",
     "shell.execute_reply": "2022-04-20T19:44:34.536003Z"
    },
    "papermill": {
     "duration": 0.02406,
     "end_time": "2022-04-20T19:44:34.538634",
     "exception": false,
     "start_time": "2022-04-20T19:44:34.514574",
     "status": "completed"
    },
    "tags": []
   },
   "outputs": [],
   "source": [
    "# Set random seed for reproducibility \n",
    "import os\n",
    "import random\n",
    "def reset_random_seeds(seed=3):\n",
    "    os.environ['PYTHONHASHSEED']=str(seed)\n",
    "    tf.random.set_seed(seed)\n",
    "    np.random.seed(seed)\n",
    "    random.seed(seed)\n",
    "reset_random_seeds() "
   ]
  },
  {
   "cell_type": "code",
   "execution_count": 11,
   "id": "b9e605e6",
   "metadata": {
    "execution": {
     "iopub.execute_input": "2022-04-20T19:44:34.572780Z",
     "iopub.status.busy": "2022-04-20T19:44:34.572569Z",
     "iopub.status.idle": "2022-04-20T19:44:34.601194Z",
     "shell.execute_reply": "2022-04-20T19:44:34.600481Z"
    },
    "papermill": {
     "duration": 0.04845,
     "end_time": "2022-04-20T19:44:34.603873",
     "exception": false,
     "start_time": "2022-04-20T19:44:34.555423",
     "status": "completed"
    },
    "tags": []
   },
   "outputs": [
    {
     "name": "stdout",
     "output_type": "stream",
     "text": [
      "['Mutant GTF2I induces cell transformation and metabolic alterations in thymic epithelial cells. [SEP] The pathogenesis of thymic epithelial tumors (TETs) is poorly understood. Recently we reported the frequent occurrence of a missense mutation in the GTF2I gene in TETs and hypothesized that GTF2I mutation might contribute to thymic tumorigenesis. Expression of mutant TFII-I altered the transcriptome of normal thymic epithelial cells and upregulated several oncogenic genes. Gtf2i L424H knockin cells exhibited cell transformation, aneuploidy, and increase tumor growth and survival under glucose deprivation or DNA damage. Gtf2i mutation also increased the expression of several glycolytic enzymes, cyclooxygenase-2, and caused modifications of lipid metabolism. Elevated cyclooxygenase-2 expression by Gtf2i mutation was required for survival under metabolic stress and cellular transformation of thymic epithelial cells. Our findings identify GTF2I mutation as a new oncogenic driver that is responsible for transformation of thymic epithelial cells.'\n",
      " 'Roles of mTORC1 and mTORC2 in controlling gammadelta T1 and gammadelta T17 differentiation and function. [SEP] The metabolism-controlled differentiation of alphabeta T cells has been well documented; however, the role of a metabolism program in gammadelta T cell differentiation and function has not been clarified. Here, using CD2-cre; mTORC1 Raptor-f/f, and mTORC2 Rictor-f/f mice (KO mice), we found that mTORC1, but not mTORC2, was required for the proliferation and survival of peripheral gammadelta T cells, especially Vgamma4 gammadelta T cells. Moreover, mTORC1 was essential for both gammadelta T1 and gammadelta Tau17 differentiation, whereas mTORC2 was required for gammadelta T17, but not for gammadelta Tau1, differentiation. We further studied the underlying molecular mechanisms and found that depletion of mTORC1 resulted in the increased expression of SOCS1, which in turn suppressed the key transcription factor Eomes, consequentially reducing IFN-gamma production. Whereas the reduced glycolysis resulted in impaired gammadelta Tau17 differentiation in Raptor KO gammadelta T cells. In contrast, mTORC2 potentiated gammadelta Tau17 induction by suppressing mitochondrial ROS (mitoROS) production. Consistent with their cytokine production profiles, the Raptor KO gammadelta T cells lost their anti-tumor function both in vitro and in vivo, whereas both Raptor and Rictor KO mice were resistant to imiquimod (IMQ)-induced psoriasis-like skin pathogenesis. In summary, we identified previously unknown functions of mTORC1 and mTORC2 in gammadelta T cell differentiation and clarified their divergent roles in mediating the activity of gammadelta T cells in tumors and autoimmunity.'\n",
      " 'Pro-death signaling of cytoprotective heat shock factor 1: upregulation of NOXA leading to apoptosis in heat-sensitive cells. [SEP] Heat shock can induce either cytoprotective mechanisms or cell death. We found that in certain human and mouse cells, including spermatocytes, activated heat shock factor 1 (HSF1) binds to sequences located in the intron(s) of the PMAIP1 (NOXA) gene and upregulates its expression which induces apoptosis. Such a mode of PMAIP1 activation is not dependent on p53. Therefore, HSF1 not only can activate the expression of genes encoding cytoprotective heat shock proteins, which prevents apoptosis, but it can also positively regulate the proapoptotic PMAIP1 gene, which facilitates cell death. This could be the primary cause of hyperthermia-induced elimination of heat-sensitive cells, yet other pro-death mechanisms might also be involved.'\n",
      " ...\n",
      " 'Epithelial colonies in vitro elongate through collective effects. [SEP] Epithelial tissues of the developing embryos elongate by different mechanisms, such as neighbor exchange, cell elongation, and oriented cell division. Since autonomous tissue self-organization is influenced by external cues such as morphogen gradients or neighboring tissues, it is difficult to distinguish intrinsic from directed tissue behavior. The mesoscopic processes leading to the different mechanisms remain elusive. Here, we study the spontaneous elongation behavior of spreading circular epithelial colonies in vitro. By quantifying deformation kinematics at multiple scales, we report that global elongation happens primarily due to cell elongations, and its direction correlates with the anisotropy of the average cell elongation. By imposing an external time-periodic stretch, the axis of this global symmetry breaking can be modified and elongation occurs primarily due to orientated neighbor exchange. These different behaviors are confirmed using a vertex model for collective cell behavior, providing a framework for understanding autonomous tissue elongation and its origins.'\n",
      " 'Interplay of opposing fate choices stalls oncogenic growth in murine skin epithelium. [SEP] Skin epithelium can accumulate a high burden of oncogenic mutations without morphological or functional consequences. To investigate the mechanism of oncogenic tolerance, we induced Hras(G12V) in single murine epidermal cells and followed them long term. We observed that Hras(G12V) promotes an early and transient clonal expansion driven by increased progenitor renewal that is replaced with an increase in progenitor differentiation leading to reduced growth. We attribute this dynamic effect to emergence of two populations within oncogenic clones: renewing progenitors along the edge and differentiating ones within the central core. As clone expansion is accompanied by progressive enlargement of the core and diminishment of the edge compartment, the intraclonal competition between the two populations results in stabilized oncogenic growth. To identify the molecular mechanism of Hras(G12V)-driven differentiation, we screened known Ras-effector in vivo and identified Rassf5 as a novel regulator of progenitor fate choice that is necessary and sufficient for oncogene-specific differentiation.'\n",
      " 'Rapid adaptation to malaria facilitated by admixture in the human population of Cabo Verde. [SEP] Humans have undergone large migrations over the past hundreds to thousands of years, exposing ourselves to new environments and selective pressures. Yet, evidence of ongoing or recent selection in humans is difficult to detect. Many of these migrations also resulted in gene flow between previously separated populations. These recently admixed populations provide unique opportunities to study rapid evolution in humans. Developing methods based on distributions of local ancestry, we demonstrate that this sort of genetic exchange has facilitated detectable adaptation to a malaria parasite in the admixed population of Cabo Verde within the last ~20 generations. We estimate that the selection coefficient is approximately 0.08, one of the highest inferred in humans. Notably, we show that this strong selection at a single locus has likely affected patterns of ancestry genome-wide, potentially biasing demographic inference. Our study provides evidence of adaptation in a human population on historical timescales.']\n"
     ]
    }
   ],
   "source": [
    "# Extract input and labels from train data \n",
    "X_train=(train['title'].str.strip() + ' [SEP] ' + train['abstract'].str.strip()).to_numpy()\n",
    "print(X_train)\n",
    "y_train=train['class'].to_numpy()"
   ]
  },
  {
   "cell_type": "code",
   "execution_count": 12,
   "id": "1410bae6",
   "metadata": {
    "execution": {
     "iopub.execute_input": "2022-04-20T19:44:34.640162Z",
     "iopub.status.busy": "2022-04-20T19:44:34.639555Z",
     "iopub.status.idle": "2022-04-20T19:44:34.649287Z",
     "shell.execute_reply": "2022-04-20T19:44:34.648638Z"
    },
    "papermill": {
     "duration": 0.029277,
     "end_time": "2022-04-20T19:44:34.650988",
     "exception": false,
     "start_time": "2022-04-20T19:44:34.621711",
     "status": "completed"
    },
    "tags": []
   },
   "outputs": [],
   "source": [
    "# Extract input and labels from validation data\n",
    "X_val=(validation['title'].str.strip() + ' [SEP] ' + validation['abstract'].str.strip()).to_numpy()\n",
    "y_val=validation['class'].to_numpy()"
   ]
  },
  {
   "cell_type": "code",
   "execution_count": 13,
   "id": "02649374",
   "metadata": {
    "execution": {
     "iopub.execute_input": "2022-04-20T19:44:34.686225Z",
     "iopub.status.busy": "2022-04-20T19:44:34.685583Z",
     "iopub.status.idle": "2022-04-20T19:44:35.411290Z",
     "shell.execute_reply": "2022-04-20T19:44:35.410627Z"
    },
    "papermill": {
     "duration": 0.748147,
     "end_time": "2022-04-20T19:44:35.416135",
     "exception": false,
     "start_time": "2022-04-20T19:44:34.667988",
     "status": "completed"
    },
    "tags": []
   },
   "outputs": [
    {
     "data": {
      "application/vnd.jupyter.widget-view+json": {
       "model_id": "6e5b4985ad194ff58e8ed29d619c5c6c",
       "version_major": 2,
       "version_minor": 0
      },
      "text/plain": [
       "Downloading:   0%|          | 0.00/385 [00:00<?, ?B/s]"
      ]
     },
     "metadata": {},
     "output_type": "display_data"
    }
   ],
   "source": [
    "t_mod = text.Transformer('microsoft/BiomedNLP-PubMedBERT-base-uncased-abstract-fulltext', maxlen=500, class_names = [0,1])"
   ]
  },
  {
   "cell_type": "code",
   "execution_count": 14,
   "id": "89ad3410",
   "metadata": {
    "execution": {
     "iopub.execute_input": "2022-04-20T19:44:35.452388Z",
     "iopub.status.busy": "2022-04-20T19:44:35.451863Z",
     "iopub.status.idle": "2022-04-20T19:44:35.455577Z",
     "shell.execute_reply": "2022-04-20T19:44:35.454932Z"
    },
    "papermill": {
     "duration": 0.023568,
     "end_time": "2022-04-20T19:44:35.457185",
     "exception": false,
     "start_time": "2022-04-20T19:44:35.433617",
     "status": "completed"
    },
    "tags": []
   },
   "outputs": [],
   "source": [
    "from sklearn.metrics import accuracy_score\n",
    "from sklearn.metrics import classification_report\n",
    "from sklearn.metrics import matthews_corrcoef"
   ]
  },
  {
   "cell_type": "code",
   "execution_count": 15,
   "id": "f30d6901",
   "metadata": {
    "execution": {
     "iopub.execute_input": "2022-04-20T19:44:35.493051Z",
     "iopub.status.busy": "2022-04-20T19:44:35.492512Z",
     "iopub.status.idle": "2022-04-20T19:45:10.265304Z",
     "shell.execute_reply": "2022-04-20T19:45:10.264509Z"
    },
    "papermill": {
     "duration": 34.793678,
     "end_time": "2022-04-20T19:45:10.268114",
     "exception": false,
     "start_time": "2022-04-20T19:44:35.474436",
     "status": "completed"
    },
    "tags": []
   },
   "outputs": [
    {
     "name": "stdout",
     "output_type": "stream",
     "text": [
      "preprocessing train...\n",
      "language: en\n",
      "train sequence lengths:\n",
      "\tmean : 184\n",
      "\t95percentile : 264\n",
      "\t99percentile : 285\n"
     ]
    },
    {
     "data": {
      "application/vnd.jupyter.widget-view+json": {
       "model_id": "682851bbb33e4463a7894eae702304e2",
       "version_major": 2,
       "version_minor": 0
      },
      "text/plain": [
       "Downloading:   0%|          | 0.00/28.0 [00:00<?, ?B/s]"
      ]
     },
     "metadata": {},
     "output_type": "display_data"
    },
    {
     "data": {
      "application/vnd.jupyter.widget-view+json": {
       "model_id": "5aae75867ac2406db75000b242c40318",
       "version_major": 2,
       "version_minor": 0
      },
      "text/plain": [
       "Downloading:   0%|          | 0.00/226k [00:00<?, ?B/s]"
      ]
     },
     "metadata": {},
     "output_type": "display_data"
    },
    {
     "data": {
      "text/html": [
       "\n",
       "<style>\n",
       "    /* Turns off some styling */\n",
       "    progress {\n",
       "        /* gets rid of default border in Firefox and Opera. */\n",
       "        border: none;\n",
       "        /* Needs to be in here for Safari polyfill so background images work as expected. */\n",
       "        background-size: auto;\n",
       "    }\n",
       "    .progress-bar-interrupted, .progress-bar-interrupted::-webkit-progress-bar {\n",
       "        background: #F44336;\n",
       "    }\n",
       "</style>\n"
      ],
      "text/plain": [
       "<IPython.core.display.HTML object>"
      ]
     },
     "metadata": {},
     "output_type": "display_data"
    },
    {
     "data": {
      "text/html": [],
      "text/plain": [
       "<IPython.core.display.HTML object>"
      ]
     },
     "metadata": {},
     "output_type": "display_data"
    },
    {
     "name": "stdout",
     "output_type": "stream",
     "text": [
      "Is Multi-Label? False\n",
      "preprocessing test...\n",
      "language: en\n",
      "test sequence lengths:\n",
      "\tmean : 181\n",
      "\t95percentile : 266\n",
      "\t99percentile : 277\n"
     ]
    },
    {
     "data": {
      "text/html": [
       "\n",
       "<style>\n",
       "    /* Turns off some styling */\n",
       "    progress {\n",
       "        /* gets rid of default border in Firefox and Opera. */\n",
       "        border: none;\n",
       "        /* Needs to be in here for Safari polyfill so background images work as expected. */\n",
       "        background-size: auto;\n",
       "    }\n",
       "    .progress-bar-interrupted, .progress-bar-interrupted::-webkit-progress-bar {\n",
       "        background: #F44336;\n",
       "    }\n",
       "</style>\n"
      ],
      "text/plain": [
       "<IPython.core.display.HTML object>"
      ]
     },
     "metadata": {},
     "output_type": "display_data"
    },
    {
     "data": {
      "text/html": [],
      "text/plain": [
       "<IPython.core.display.HTML object>"
      ]
     },
     "metadata": {},
     "output_type": "display_data"
    },
    {
     "name": "stderr",
     "output_type": "stream",
     "text": [
      "404 Client Error: Not Found for url: https://huggingface.co/microsoft/BiomedNLP-PubMedBERT-base-uncased-abstract-fulltext/resolve/main/tf_model.h5\n",
      "/opt/conda/lib/python3.7/site-packages/ktrain/text/preprocessor.py:1070: UserWarning: Could not find Tensorflow version of model.  Attempting to download/load PyTorch version as TensorFlow model using from_pt=True. You will need PyTorch installed for this.\n",
      "  warnings.warn('Could not find Tensorflow version of model.  Attempting to download/load PyTorch version as TensorFlow model using from_pt=True. ' +\\\n"
     ]
    },
    {
     "data": {
      "application/vnd.jupyter.widget-view+json": {
       "model_id": "154f4c841c954f02b44b6b22d6d73625",
       "version_major": 2,
       "version_minor": 0
      },
      "text/plain": [
       "Downloading:   0%|          | 0.00/440M [00:00<?, ?B/s]"
      ]
     },
     "metadata": {},
     "output_type": "display_data"
    }
   ],
   "source": [
    "trn=t_mod.preprocess_train(X_train, y_train)\n",
    "val = t_mod.preprocess_test(X_val, y_val)\n",
    "model=t_mod.get_classifier()\n",
    "learner=ktrain.get_learner(model,train_data=trn, val_data=val, batch_size=16)"
   ]
  },
  {
   "cell_type": "code",
   "execution_count": 16,
   "id": "e2017ecb",
   "metadata": {
    "execution": {
     "iopub.execute_input": "2022-04-20T19:45:10.343228Z",
     "iopub.status.busy": "2022-04-20T19:45:10.342804Z",
     "iopub.status.idle": "2022-04-20T20:13:35.121422Z",
     "shell.execute_reply": "2022-04-20T20:13:35.118426Z"
    },
    "papermill": {
     "duration": 1704.818809,
     "end_time": "2022-04-20T20:13:35.123812",
     "exception": false,
     "start_time": "2022-04-20T19:45:10.305003",
     "status": "completed"
    },
    "tags": []
   },
   "outputs": [
    {
     "name": "stdout",
     "output_type": "stream",
     "text": [
      "\n",
      "\n",
      "begin training using onecycle policy with max lr of 2e-05...\n",
      "Epoch 1/3\n",
      "541/541 [==============================] - 586s 1s/step - loss: 0.2210 - accuracy: 0.9092 - val_loss: 0.3277 - val_accuracy: 0.8676\n",
      "Epoch 2/3\n",
      "541/541 [==============================] - 559s 1s/step - loss: 0.1059 - accuracy: 0.9544 - val_loss: 0.2856 - val_accuracy: 0.8944\n",
      "Epoch 3/3\n",
      "541/541 [==============================] - 560s 1s/step - loss: 0.0322 - accuracy: 0.9892 - val_loss: 0.3813 - val_accuracy: 0.9098\n"
     ]
    },
    {
     "data": {
      "text/plain": [
       "<keras.callbacks.History at 0x7f49fc6d45d0>"
      ]
     },
     "execution_count": 16,
     "metadata": {},
     "output_type": "execute_result"
    }
   ],
   "source": [
    "# Fine tune transformer on data (final hyperparameters here were chosen through grid-search)\n",
    "learning_rate= 2e-5 \n",
    "epochs=3 \n",
    "learner.fit_onecycle(learning_rate,epochs)"
   ]
  },
  {
   "cell_type": "code",
   "execution_count": 17,
   "id": "813db35d",
   "metadata": {
    "execution": {
     "iopub.execute_input": "2022-04-20T20:13:36.454268Z",
     "iopub.status.busy": "2022-04-20T20:13:36.453634Z",
     "iopub.status.idle": "2022-04-20T20:14:03.009075Z",
     "shell.execute_reply": "2022-04-20T20:14:03.008083Z"
    },
    "papermill": {
     "duration": 27.128236,
     "end_time": "2022-04-20T20:14:03.011065",
     "exception": false,
     "start_time": "2022-04-20T20:13:35.882829",
     "status": "completed"
    },
    "tags": []
   },
   "outputs": [
    {
     "name": "stdout",
     "output_type": "stream",
     "text": [
      "              precision    recall  f1-score   support\n",
      "\n",
      "       False       0.94      0.95      0.94       842\n",
      "        True       0.77      0.76      0.76       200\n",
      "\n",
      "    accuracy                           0.91      1042\n",
      "   macro avg       0.86      0.85      0.85      1042\n",
      "weighted avg       0.91      0.91      0.91      1042\n",
      "\n",
      "0.7080812327590811\n"
     ]
    }
   ],
   "source": [
    "# Assess model on validation data \n",
    "predictor=ktrain.get_predictor(learner.model, preproc=t_mod)\n",
    "predictions=predictor.predict((X_val))\n",
    "print(classification_report((y_val), predictions))\n",
    "print(matthews_corrcoef((y_val), predictions))"
   ]
  },
  {
   "cell_type": "code",
   "execution_count": 18,
   "id": "3bfba3e4",
   "metadata": {
    "execution": {
     "iopub.execute_input": "2022-04-20T20:14:04.167876Z",
     "iopub.status.busy": "2022-04-20T20:14:04.167599Z",
     "iopub.status.idle": "2022-04-20T20:14:05.008340Z",
     "shell.execute_reply": "2022-04-20T20:14:05.007635Z"
    },
    "papermill": {
     "duration": 1.421845,
     "end_time": "2022-04-20T20:14:05.010733",
     "exception": false,
     "start_time": "2022-04-20T20:14:03.588888",
     "status": "completed"
    },
    "tags": []
   },
   "outputs": [],
   "source": [
    "predictor.save('./')"
   ]
  }
 ],
 "metadata": {
  "kernelspec": {
   "display_name": "Python 3",
   "language": "python",
   "name": "python3"
  },
  "language_info": {
   "codemirror_mode": {
    "name": "ipython",
    "version": 3
   },
   "file_extension": ".py",
   "mimetype": "text/x-python",
   "name": "python",
   "nbconvert_exporter": "python",
   "pygments_lexer": "ipython3",
   "version": "3.7.12"
  },
  "papermill": {
   "default_parameters": {},
   "duration": 1836.34899,
   "end_time": "2022-04-20T20:14:08.616555",
   "environment_variables": {},
   "exception": null,
   "input_path": "__notebook__.ipynb",
   "output_path": "__notebook__.ipynb",
   "parameters": {},
   "start_time": "2022-04-20T19:43:32.267565",
   "version": "2.3.4"
  },
  "widgets": {
   "application/vnd.jupyter.widget-state+json": {
    "state": {
     "0a9f11c17fe84c008dea2331c316a4fd": {
      "model_module": "@jupyter-widgets/controls",
      "model_module_version": "1.5.0",
      "model_name": "HTMLModel",
      "state": {
       "_dom_classes": [],
       "_model_module": "@jupyter-widgets/controls",
       "_model_module_version": "1.5.0",
       "_model_name": "HTMLModel",
       "_view_count": null,
       "_view_module": "@jupyter-widgets/controls",
       "_view_module_version": "1.5.0",
       "_view_name": "HTMLView",
       "description": "",
       "description_tooltip": null,
       "layout": "IPY_MODEL_aa7da20024f044db8fcd9fc29ee691c1",
       "placeholder": "​",
       "style": "IPY_MODEL_29ed958dcb784096ae419bc686ce9d6d",
       "value": " 440M/440M [00:11&lt;00:00, 50.6MB/s]"
      }
     },
     "0e61914b13144c18b13d8cf86aa67098": {
      "model_module": "@jupyter-widgets/controls",
      "model_module_version": "1.5.0",
      "model_name": "ProgressStyleModel",
      "state": {
       "_model_module": "@jupyter-widgets/controls",
       "_model_module_version": "1.5.0",
       "_model_name": "ProgressStyleModel",
       "_view_count": null,
       "_view_module": "@jupyter-widgets/base",
       "_view_module_version": "1.2.0",
       "_view_name": "StyleView",
       "bar_color": null,
       "description_width": ""
      }
     },
     "1291d2fb844e458fb1e9b29d169a3c1e": {
      "model_module": "@jupyter-widgets/controls",
      "model_module_version": "1.5.0",
      "model_name": "HTMLModel",
      "state": {
       "_dom_classes": [],
       "_model_module": "@jupyter-widgets/controls",
       "_model_module_version": "1.5.0",
       "_model_name": "HTMLModel",
       "_view_count": null,
       "_view_module": "@jupyter-widgets/controls",
       "_view_module_version": "1.5.0",
       "_view_name": "HTMLView",
       "description": "",
       "description_tooltip": null,
       "layout": "IPY_MODEL_b7a05c78e60343d0b87f60a10b62b033",
       "placeholder": "​",
       "style": "IPY_MODEL_28c84060b8e1470fac11e7e596857573",
       "value": " 226k/226k [00:00&lt;00:00, 819kB/s]"
      }
     },
     "154f4c841c954f02b44b6b22d6d73625": {
      "model_module": "@jupyter-widgets/controls",
      "model_module_version": "1.5.0",
      "model_name": "HBoxModel",
      "state": {
       "_dom_classes": [],
       "_model_module": "@jupyter-widgets/controls",
       "_model_module_version": "1.5.0",
       "_model_name": "HBoxModel",
       "_view_count": null,
       "_view_module": "@jupyter-widgets/controls",
       "_view_module_version": "1.5.0",
       "_view_name": "HBoxView",
       "box_style": "",
       "children": [
        "IPY_MODEL_73a27c9194c5482bb614a23c57d1b9e6",
        "IPY_MODEL_4dd7f40a9c564a06a8da455f6a672a3f",
        "IPY_MODEL_0a9f11c17fe84c008dea2331c316a4fd"
       ],
       "layout": "IPY_MODEL_d926941483d44e51888d09ef4678ef6a"
      }
     },
     "1fbfbb6dbd0643979f4dcbe49dba0358": {
      "model_module": "@jupyter-widgets/controls",
      "model_module_version": "1.5.0",
      "model_name": "ProgressStyleModel",
      "state": {
       "_model_module": "@jupyter-widgets/controls",
       "_model_module_version": "1.5.0",
       "_model_name": "ProgressStyleModel",
       "_view_count": null,
       "_view_module": "@jupyter-widgets/base",
       "_view_module_version": "1.2.0",
       "_view_name": "StyleView",
       "bar_color": null,
       "description_width": ""
      }
     },
     "24587b9540e84b8b9a789126faaf030f": {
      "model_module": "@jupyter-widgets/controls",
      "model_module_version": "1.5.0",
      "model_name": "ProgressStyleModel",
      "state": {
       "_model_module": "@jupyter-widgets/controls",
       "_model_module_version": "1.5.0",
       "_model_name": "ProgressStyleModel",
       "_view_count": null,
       "_view_module": "@jupyter-widgets/base",
       "_view_module_version": "1.2.0",
       "_view_name": "StyleView",
       "bar_color": null,
       "description_width": ""
      }
     },
     "28c84060b8e1470fac11e7e596857573": {
      "model_module": "@jupyter-widgets/controls",
      "model_module_version": "1.5.0",
      "model_name": "DescriptionStyleModel",
      "state": {
       "_model_module": "@jupyter-widgets/controls",
       "_model_module_version": "1.5.0",
       "_model_name": "DescriptionStyleModel",
       "_view_count": null,
       "_view_module": "@jupyter-widgets/base",
       "_view_module_version": "1.2.0",
       "_view_name": "StyleView",
       "description_width": ""
      }
     },
     "28e0a239a82544fca4eab7bf17529b8e": {
      "model_module": "@jupyter-widgets/controls",
      "model_module_version": "1.5.0",
      "model_name": "HTMLModel",
      "state": {
       "_dom_classes": [],
       "_model_module": "@jupyter-widgets/controls",
       "_model_module_version": "1.5.0",
       "_model_name": "HTMLModel",
       "_view_count": null,
       "_view_module": "@jupyter-widgets/controls",
       "_view_module_version": "1.5.0",
       "_view_name": "HTMLView",
       "description": "",
       "description_tooltip": null,
       "layout": "IPY_MODEL_37db0aa78b354b9fa856ad2eda8d130e",
       "placeholder": "​",
       "style": "IPY_MODEL_4eaf93ab419b4fac89ae0bb13c2adcd7",
       "value": "Downloading: 100%"
      }
     },
     "29ed958dcb784096ae419bc686ce9d6d": {
      "model_module": "@jupyter-widgets/controls",
      "model_module_version": "1.5.0",
      "model_name": "DescriptionStyleModel",
      "state": {
       "_model_module": "@jupyter-widgets/controls",
       "_model_module_version": "1.5.0",
       "_model_name": "DescriptionStyleModel",
       "_view_count": null,
       "_view_module": "@jupyter-widgets/base",
       "_view_module_version": "1.2.0",
       "_view_name": "StyleView",
       "description_width": ""
      }
     },
     "2a2f5eb2dd294f789f400db049cde169": {
      "model_module": "@jupyter-widgets/controls",
      "model_module_version": "1.5.0",
      "model_name": "HTMLModel",
      "state": {
       "_dom_classes": [],
       "_model_module": "@jupyter-widgets/controls",
       "_model_module_version": "1.5.0",
       "_model_name": "HTMLModel",
       "_view_count": null,
       "_view_module": "@jupyter-widgets/controls",
       "_view_module_version": "1.5.0",
       "_view_name": "HTMLView",
       "description": "",
       "description_tooltip": null,
       "layout": "IPY_MODEL_d40b23c07df044b38a80f83c5d45d820",
       "placeholder": "​",
       "style": "IPY_MODEL_6b5d853d2d7c423d9c1159626038c29f",
       "value": "Downloading: 100%"
      }
     },
     "37db0aa78b354b9fa856ad2eda8d130e": {
      "model_module": "@jupyter-widgets/base",
      "model_module_version": "1.2.0",
      "model_name": "LayoutModel",
      "state": {
       "_model_module": "@jupyter-widgets/base",
       "_model_module_version": "1.2.0",
       "_model_name": "LayoutModel",
       "_view_count": null,
       "_view_module": "@jupyter-widgets/base",
       "_view_module_version": "1.2.0",
       "_view_name": "LayoutView",
       "align_content": null,
       "align_items": null,
       "align_self": null,
       "border": null,
       "bottom": null,
       "display": null,
       "flex": null,
       "flex_flow": null,
       "grid_area": null,
       "grid_auto_columns": null,
       "grid_auto_flow": null,
       "grid_auto_rows": null,
       "grid_column": null,
       "grid_gap": null,
       "grid_row": null,
       "grid_template_areas": null,
       "grid_template_columns": null,
       "grid_template_rows": null,
       "height": null,
       "justify_content": null,
       "justify_items": null,
       "left": null,
       "margin": null,
       "max_height": null,
       "max_width": null,
       "min_height": null,
       "min_width": null,
       "object_fit": null,
       "object_position": null,
       "order": null,
       "overflow": null,
       "overflow_x": null,
       "overflow_y": null,
       "padding": null,
       "right": null,
       "top": null,
       "visibility": null,
       "width": null
      }
     },
     "419249db04644622a265e2c270a37b78": {
      "model_module": "@jupyter-widgets/controls",
      "model_module_version": "1.5.0",
      "model_name": "HTMLModel",
      "state": {
       "_dom_classes": [],
       "_model_module": "@jupyter-widgets/controls",
       "_model_module_version": "1.5.0",
       "_model_name": "HTMLModel",
       "_view_count": null,
       "_view_module": "@jupyter-widgets/controls",
       "_view_module_version": "1.5.0",
       "_view_name": "HTMLView",
       "description": "",
       "description_tooltip": null,
       "layout": "IPY_MODEL_8c06d1a763df41729e8b2bc2108a6399",
       "placeholder": "​",
       "style": "IPY_MODEL_dc382e96131c4631bab41b89908202b9",
       "value": " 385/385 [00:00&lt;00:00, 15.0kB/s]"
      }
     },
     "4a1bbcf434e444b18308532301a35354": {
      "model_module": "@jupyter-widgets/base",
      "model_module_version": "1.2.0",
      "model_name": "LayoutModel",
      "state": {
       "_model_module": "@jupyter-widgets/base",
       "_model_module_version": "1.2.0",
       "_model_name": "LayoutModel",
       "_view_count": null,
       "_view_module": "@jupyter-widgets/base",
       "_view_module_version": "1.2.0",
       "_view_name": "LayoutView",
       "align_content": null,
       "align_items": null,
       "align_self": null,
       "border": null,
       "bottom": null,
       "display": null,
       "flex": null,
       "flex_flow": null,
       "grid_area": null,
       "grid_auto_columns": null,
       "grid_auto_flow": null,
       "grid_auto_rows": null,
       "grid_column": null,
       "grid_gap": null,
       "grid_row": null,
       "grid_template_areas": null,
       "grid_template_columns": null,
       "grid_template_rows": null,
       "height": null,
       "justify_content": null,
       "justify_items": null,
       "left": null,
       "margin": null,
       "max_height": null,
       "max_width": null,
       "min_height": null,
       "min_width": null,
       "object_fit": null,
       "object_position": null,
       "order": null,
       "overflow": null,
       "overflow_x": null,
       "overflow_y": null,
       "padding": null,
       "right": null,
       "top": null,
       "visibility": null,
       "width": null
      }
     },
     "4dd7f40a9c564a06a8da455f6a672a3f": {
      "model_module": "@jupyter-widgets/controls",
      "model_module_version": "1.5.0",
      "model_name": "FloatProgressModel",
      "state": {
       "_dom_classes": [],
       "_model_module": "@jupyter-widgets/controls",
       "_model_module_version": "1.5.0",
       "_model_name": "FloatProgressModel",
       "_view_count": null,
       "_view_module": "@jupyter-widgets/controls",
       "_view_module_version": "1.5.0",
       "_view_name": "ProgressView",
       "bar_style": "success",
       "description": "",
       "description_tooltip": null,
       "layout": "IPY_MODEL_6c1aba20213d44d691106f3154275371",
       "max": 440474434.0,
       "min": 0.0,
       "orientation": "horizontal",
       "style": "IPY_MODEL_1fbfbb6dbd0643979f4dcbe49dba0358",
       "value": 440474434.0
      }
     },
     "4eaf93ab419b4fac89ae0bb13c2adcd7": {
      "model_module": "@jupyter-widgets/controls",
      "model_module_version": "1.5.0",
      "model_name": "DescriptionStyleModel",
      "state": {
       "_model_module": "@jupyter-widgets/controls",
       "_model_module_version": "1.5.0",
       "_model_name": "DescriptionStyleModel",
       "_view_count": null,
       "_view_module": "@jupyter-widgets/base",
       "_view_module_version": "1.2.0",
       "_view_name": "StyleView",
       "description_width": ""
      }
     },
     "5025b1e47172460381115964fc91a887": {
      "model_module": "@jupyter-widgets/controls",
      "model_module_version": "1.5.0",
      "model_name": "ProgressStyleModel",
      "state": {
       "_model_module": "@jupyter-widgets/controls",
       "_model_module_version": "1.5.0",
       "_model_name": "ProgressStyleModel",
       "_view_count": null,
       "_view_module": "@jupyter-widgets/base",
       "_view_module_version": "1.2.0",
       "_view_name": "StyleView",
       "bar_color": null,
       "description_width": ""
      }
     },
     "515a424cc9ae418e929aea952fa135de": {
      "model_module": "@jupyter-widgets/controls",
      "model_module_version": "1.5.0",
      "model_name": "HTMLModel",
      "state": {
       "_dom_classes": [],
       "_model_module": "@jupyter-widgets/controls",
       "_model_module_version": "1.5.0",
       "_model_name": "HTMLModel",
       "_view_count": null,
       "_view_module": "@jupyter-widgets/controls",
       "_view_module_version": "1.5.0",
       "_view_name": "HTMLView",
       "description": "",
       "description_tooltip": null,
       "layout": "IPY_MODEL_c865fffbae4f4cbe88944ee6f1e2539c",
       "placeholder": "​",
       "style": "IPY_MODEL_eabc6bd77bcc4c1db3a9390f2390dcc3",
       "value": "Downloading: 100%"
      }
     },
     "5a276fc52ec74aefbdd1c843f83c5d41": {
      "model_module": "@jupyter-widgets/controls",
      "model_module_version": "1.5.0",
      "model_name": "DescriptionStyleModel",
      "state": {
       "_model_module": "@jupyter-widgets/controls",
       "_model_module_version": "1.5.0",
       "_model_name": "DescriptionStyleModel",
       "_view_count": null,
       "_view_module": "@jupyter-widgets/base",
       "_view_module_version": "1.2.0",
       "_view_name": "StyleView",
       "description_width": ""
      }
     },
     "5aae75867ac2406db75000b242c40318": {
      "model_module": "@jupyter-widgets/controls",
      "model_module_version": "1.5.0",
      "model_name": "HBoxModel",
      "state": {
       "_dom_classes": [],
       "_model_module": "@jupyter-widgets/controls",
       "_model_module_version": "1.5.0",
       "_model_name": "HBoxModel",
       "_view_count": null,
       "_view_module": "@jupyter-widgets/controls",
       "_view_module_version": "1.5.0",
       "_view_name": "HBoxView",
       "box_style": "",
       "children": [
        "IPY_MODEL_28e0a239a82544fca4eab7bf17529b8e",
        "IPY_MODEL_a100c6fe108948239139240a16648c9f",
        "IPY_MODEL_1291d2fb844e458fb1e9b29d169a3c1e"
       ],
       "layout": "IPY_MODEL_72ed7ca475c548b0a7c1916eab952aa4"
      }
     },
     "63e8335cc2a542c5b9b736bf825caa94": {
      "model_module": "@jupyter-widgets/controls",
      "model_module_version": "1.5.0",
      "model_name": "DescriptionStyleModel",
      "state": {
       "_model_module": "@jupyter-widgets/controls",
       "_model_module_version": "1.5.0",
       "_model_name": "DescriptionStyleModel",
       "_view_count": null,
       "_view_module": "@jupyter-widgets/base",
       "_view_module_version": "1.2.0",
       "_view_name": "StyleView",
       "description_width": ""
      }
     },
     "6644780710244de6bd59554a8ffb72e2": {
      "model_module": "@jupyter-widgets/controls",
      "model_module_version": "1.5.0",
      "model_name": "FloatProgressModel",
      "state": {
       "_dom_classes": [],
       "_model_module": "@jupyter-widgets/controls",
       "_model_module_version": "1.5.0",
       "_model_name": "FloatProgressModel",
       "_view_count": null,
       "_view_module": "@jupyter-widgets/controls",
       "_view_module_version": "1.5.0",
       "_view_name": "ProgressView",
       "bar_style": "success",
       "description": "",
       "description_tooltip": null,
       "layout": "IPY_MODEL_73c760c7aa8a4808808faa54ebfd7515",
       "max": 28.0,
       "min": 0.0,
       "orientation": "horizontal",
       "style": "IPY_MODEL_0e61914b13144c18b13d8cf86aa67098",
       "value": 28.0
      }
     },
     "682851bbb33e4463a7894eae702304e2": {
      "model_module": "@jupyter-widgets/controls",
      "model_module_version": "1.5.0",
      "model_name": "HBoxModel",
      "state": {
       "_dom_classes": [],
       "_model_module": "@jupyter-widgets/controls",
       "_model_module_version": "1.5.0",
       "_model_name": "HBoxModel",
       "_view_count": null,
       "_view_module": "@jupyter-widgets/controls",
       "_view_module_version": "1.5.0",
       "_view_name": "HBoxView",
       "box_style": "",
       "children": [
        "IPY_MODEL_2a2f5eb2dd294f789f400db049cde169",
        "IPY_MODEL_6644780710244de6bd59554a8ffb72e2",
        "IPY_MODEL_72a0384b30da493ea82b4e0745a873da"
       ],
       "layout": "IPY_MODEL_aedf37d4f4ba4e78afa6fd1feacf6595"
      }
     },
     "6b5d853d2d7c423d9c1159626038c29f": {
      "model_module": "@jupyter-widgets/controls",
      "model_module_version": "1.5.0",
      "model_name": "DescriptionStyleModel",
      "state": {
       "_model_module": "@jupyter-widgets/controls",
       "_model_module_version": "1.5.0",
       "_model_name": "DescriptionStyleModel",
       "_view_count": null,
       "_view_module": "@jupyter-widgets/base",
       "_view_module_version": "1.2.0",
       "_view_name": "StyleView",
       "description_width": ""
      }
     },
     "6c1aba20213d44d691106f3154275371": {
      "model_module": "@jupyter-widgets/base",
      "model_module_version": "1.2.0",
      "model_name": "LayoutModel",
      "state": {
       "_model_module": "@jupyter-widgets/base",
       "_model_module_version": "1.2.0",
       "_model_name": "LayoutModel",
       "_view_count": null,
       "_view_module": "@jupyter-widgets/base",
       "_view_module_version": "1.2.0",
       "_view_name": "LayoutView",
       "align_content": null,
       "align_items": null,
       "align_self": null,
       "border": null,
       "bottom": null,
       "display": null,
       "flex": null,
       "flex_flow": null,
       "grid_area": null,
       "grid_auto_columns": null,
       "grid_auto_flow": null,
       "grid_auto_rows": null,
       "grid_column": null,
       "grid_gap": null,
       "grid_row": null,
       "grid_template_areas": null,
       "grid_template_columns": null,
       "grid_template_rows": null,
       "height": null,
       "justify_content": null,
       "justify_items": null,
       "left": null,
       "margin": null,
       "max_height": null,
       "max_width": null,
       "min_height": null,
       "min_width": null,
       "object_fit": null,
       "object_position": null,
       "order": null,
       "overflow": null,
       "overflow_x": null,
       "overflow_y": null,
       "padding": null,
       "right": null,
       "top": null,
       "visibility": null,
       "width": null
      }
     },
     "6e5b4985ad194ff58e8ed29d619c5c6c": {
      "model_module": "@jupyter-widgets/controls",
      "model_module_version": "1.5.0",
      "model_name": "HBoxModel",
      "state": {
       "_dom_classes": [],
       "_model_module": "@jupyter-widgets/controls",
       "_model_module_version": "1.5.0",
       "_model_name": "HBoxModel",
       "_view_count": null,
       "_view_module": "@jupyter-widgets/controls",
       "_view_module_version": "1.5.0",
       "_view_name": "HBoxView",
       "box_style": "",
       "children": [
        "IPY_MODEL_515a424cc9ae418e929aea952fa135de",
        "IPY_MODEL_8c91cf6bfd714258a6407f244977ea73",
        "IPY_MODEL_419249db04644622a265e2c270a37b78"
       ],
       "layout": "IPY_MODEL_7ccc45b7381d4596a06f9c9fcbda513d"
      }
     },
     "6eeb21669a084cbbb3b223a426c64e99": {
      "model_module": "@jupyter-widgets/base",
      "model_module_version": "1.2.0",
      "model_name": "LayoutModel",
      "state": {
       "_model_module": "@jupyter-widgets/base",
       "_model_module_version": "1.2.0",
       "_model_name": "LayoutModel",
       "_view_count": null,
       "_view_module": "@jupyter-widgets/base",
       "_view_module_version": "1.2.0",
       "_view_name": "LayoutView",
       "align_content": null,
       "align_items": null,
       "align_self": null,
       "border": null,
       "bottom": null,
       "display": null,
       "flex": null,
       "flex_flow": null,
       "grid_area": null,
       "grid_auto_columns": null,
       "grid_auto_flow": null,
       "grid_auto_rows": null,
       "grid_column": null,
       "grid_gap": null,
       "grid_row": null,
       "grid_template_areas": null,
       "grid_template_columns": null,
       "grid_template_rows": null,
       "height": null,
       "justify_content": null,
       "justify_items": null,
       "left": null,
       "margin": null,
       "max_height": null,
       "max_width": null,
       "min_height": null,
       "min_width": null,
       "object_fit": null,
       "object_position": null,
       "order": null,
       "overflow": null,
       "overflow_x": null,
       "overflow_y": null,
       "padding": null,
       "right": null,
       "top": null,
       "visibility": null,
       "width": null
      }
     },
     "72a0384b30da493ea82b4e0745a873da": {
      "model_module": "@jupyter-widgets/controls",
      "model_module_version": "1.5.0",
      "model_name": "HTMLModel",
      "state": {
       "_dom_classes": [],
       "_model_module": "@jupyter-widgets/controls",
       "_model_module_version": "1.5.0",
       "_model_name": "HTMLModel",
       "_view_count": null,
       "_view_module": "@jupyter-widgets/controls",
       "_view_module_version": "1.5.0",
       "_view_name": "HTMLView",
       "description": "",
       "description_tooltip": null,
       "layout": "IPY_MODEL_f80945563a5d4f618377de2fdd08c293",
       "placeholder": "​",
       "style": "IPY_MODEL_63e8335cc2a542c5b9b736bf825caa94",
       "value": " 28.0/28.0 [00:00&lt;00:00, 611B/s]"
      }
     },
     "72ed7ca475c548b0a7c1916eab952aa4": {
      "model_module": "@jupyter-widgets/base",
      "model_module_version": "1.2.0",
      "model_name": "LayoutModel",
      "state": {
       "_model_module": "@jupyter-widgets/base",
       "_model_module_version": "1.2.0",
       "_model_name": "LayoutModel",
       "_view_count": null,
       "_view_module": "@jupyter-widgets/base",
       "_view_module_version": "1.2.0",
       "_view_name": "LayoutView",
       "align_content": null,
       "align_items": null,
       "align_self": null,
       "border": null,
       "bottom": null,
       "display": null,
       "flex": null,
       "flex_flow": null,
       "grid_area": null,
       "grid_auto_columns": null,
       "grid_auto_flow": null,
       "grid_auto_rows": null,
       "grid_column": null,
       "grid_gap": null,
       "grid_row": null,
       "grid_template_areas": null,
       "grid_template_columns": null,
       "grid_template_rows": null,
       "height": null,
       "justify_content": null,
       "justify_items": null,
       "left": null,
       "margin": null,
       "max_height": null,
       "max_width": null,
       "min_height": null,
       "min_width": null,
       "object_fit": null,
       "object_position": null,
       "order": null,
       "overflow": null,
       "overflow_x": null,
       "overflow_y": null,
       "padding": null,
       "right": null,
       "top": null,
       "visibility": null,
       "width": null
      }
     },
     "73a27c9194c5482bb614a23c57d1b9e6": {
      "model_module": "@jupyter-widgets/controls",
      "model_module_version": "1.5.0",
      "model_name": "HTMLModel",
      "state": {
       "_dom_classes": [],
       "_model_module": "@jupyter-widgets/controls",
       "_model_module_version": "1.5.0",
       "_model_name": "HTMLModel",
       "_view_count": null,
       "_view_module": "@jupyter-widgets/controls",
       "_view_module_version": "1.5.0",
       "_view_name": "HTMLView",
       "description": "",
       "description_tooltip": null,
       "layout": "IPY_MODEL_887e6e2a1b744ad3bbe73b65473a9c08",
       "placeholder": "​",
       "style": "IPY_MODEL_5a276fc52ec74aefbdd1c843f83c5d41",
       "value": "Downloading: 100%"
      }
     },
     "73c760c7aa8a4808808faa54ebfd7515": {
      "model_module": "@jupyter-widgets/base",
      "model_module_version": "1.2.0",
      "model_name": "LayoutModel",
      "state": {
       "_model_module": "@jupyter-widgets/base",
       "_model_module_version": "1.2.0",
       "_model_name": "LayoutModel",
       "_view_count": null,
       "_view_module": "@jupyter-widgets/base",
       "_view_module_version": "1.2.0",
       "_view_name": "LayoutView",
       "align_content": null,
       "align_items": null,
       "align_self": null,
       "border": null,
       "bottom": null,
       "display": null,
       "flex": null,
       "flex_flow": null,
       "grid_area": null,
       "grid_auto_columns": null,
       "grid_auto_flow": null,
       "grid_auto_rows": null,
       "grid_column": null,
       "grid_gap": null,
       "grid_row": null,
       "grid_template_areas": null,
       "grid_template_columns": null,
       "grid_template_rows": null,
       "height": null,
       "justify_content": null,
       "justify_items": null,
       "left": null,
       "margin": null,
       "max_height": null,
       "max_width": null,
       "min_height": null,
       "min_width": null,
       "object_fit": null,
       "object_position": null,
       "order": null,
       "overflow": null,
       "overflow_x": null,
       "overflow_y": null,
       "padding": null,
       "right": null,
       "top": null,
       "visibility": null,
       "width": null
      }
     },
     "7ccc45b7381d4596a06f9c9fcbda513d": {
      "model_module": "@jupyter-widgets/base",
      "model_module_version": "1.2.0",
      "model_name": "LayoutModel",
      "state": {
       "_model_module": "@jupyter-widgets/base",
       "_model_module_version": "1.2.0",
       "_model_name": "LayoutModel",
       "_view_count": null,
       "_view_module": "@jupyter-widgets/base",
       "_view_module_version": "1.2.0",
       "_view_name": "LayoutView",
       "align_content": null,
       "align_items": null,
       "align_self": null,
       "border": null,
       "bottom": null,
       "display": null,
       "flex": null,
       "flex_flow": null,
       "grid_area": null,
       "grid_auto_columns": null,
       "grid_auto_flow": null,
       "grid_auto_rows": null,
       "grid_column": null,
       "grid_gap": null,
       "grid_row": null,
       "grid_template_areas": null,
       "grid_template_columns": null,
       "grid_template_rows": null,
       "height": null,
       "justify_content": null,
       "justify_items": null,
       "left": null,
       "margin": null,
       "max_height": null,
       "max_width": null,
       "min_height": null,
       "min_width": null,
       "object_fit": null,
       "object_position": null,
       "order": null,
       "overflow": null,
       "overflow_x": null,
       "overflow_y": null,
       "padding": null,
       "right": null,
       "top": null,
       "visibility": null,
       "width": null
      }
     },
     "887e6e2a1b744ad3bbe73b65473a9c08": {
      "model_module": "@jupyter-widgets/base",
      "model_module_version": "1.2.0",
      "model_name": "LayoutModel",
      "state": {
       "_model_module": "@jupyter-widgets/base",
       "_model_module_version": "1.2.0",
       "_model_name": "LayoutModel",
       "_view_count": null,
       "_view_module": "@jupyter-widgets/base",
       "_view_module_version": "1.2.0",
       "_view_name": "LayoutView",
       "align_content": null,
       "align_items": null,
       "align_self": null,
       "border": null,
       "bottom": null,
       "display": null,
       "flex": null,
       "flex_flow": null,
       "grid_area": null,
       "grid_auto_columns": null,
       "grid_auto_flow": null,
       "grid_auto_rows": null,
       "grid_column": null,
       "grid_gap": null,
       "grid_row": null,
       "grid_template_areas": null,
       "grid_template_columns": null,
       "grid_template_rows": null,
       "height": null,
       "justify_content": null,
       "justify_items": null,
       "left": null,
       "margin": null,
       "max_height": null,
       "max_width": null,
       "min_height": null,
       "min_width": null,
       "object_fit": null,
       "object_position": null,
       "order": null,
       "overflow": null,
       "overflow_x": null,
       "overflow_y": null,
       "padding": null,
       "right": null,
       "top": null,
       "visibility": null,
       "width": null
      }
     },
     "8c06d1a763df41729e8b2bc2108a6399": {
      "model_module": "@jupyter-widgets/base",
      "model_module_version": "1.2.0",
      "model_name": "LayoutModel",
      "state": {
       "_model_module": "@jupyter-widgets/base",
       "_model_module_version": "1.2.0",
       "_model_name": "LayoutModel",
       "_view_count": null,
       "_view_module": "@jupyter-widgets/base",
       "_view_module_version": "1.2.0",
       "_view_name": "LayoutView",
       "align_content": null,
       "align_items": null,
       "align_self": null,
       "border": null,
       "bottom": null,
       "display": null,
       "flex": null,
       "flex_flow": null,
       "grid_area": null,
       "grid_auto_columns": null,
       "grid_auto_flow": null,
       "grid_auto_rows": null,
       "grid_column": null,
       "grid_gap": null,
       "grid_row": null,
       "grid_template_areas": null,
       "grid_template_columns": null,
       "grid_template_rows": null,
       "height": null,
       "justify_content": null,
       "justify_items": null,
       "left": null,
       "margin": null,
       "max_height": null,
       "max_width": null,
       "min_height": null,
       "min_width": null,
       "object_fit": null,
       "object_position": null,
       "order": null,
       "overflow": null,
       "overflow_x": null,
       "overflow_y": null,
       "padding": null,
       "right": null,
       "top": null,
       "visibility": null,
       "width": null
      }
     },
     "8c91cf6bfd714258a6407f244977ea73": {
      "model_module": "@jupyter-widgets/controls",
      "model_module_version": "1.5.0",
      "model_name": "FloatProgressModel",
      "state": {
       "_dom_classes": [],
       "_model_module": "@jupyter-widgets/controls",
       "_model_module_version": "1.5.0",
       "_model_name": "FloatProgressModel",
       "_view_count": null,
       "_view_module": "@jupyter-widgets/controls",
       "_view_module_version": "1.5.0",
       "_view_name": "ProgressView",
       "bar_style": "success",
       "description": "",
       "description_tooltip": null,
       "layout": "IPY_MODEL_6eeb21669a084cbbb3b223a426c64e99",
       "max": 385.0,
       "min": 0.0,
       "orientation": "horizontal",
       "style": "IPY_MODEL_5025b1e47172460381115964fc91a887",
       "value": 385.0
      }
     },
     "a100c6fe108948239139240a16648c9f": {
      "model_module": "@jupyter-widgets/controls",
      "model_module_version": "1.5.0",
      "model_name": "FloatProgressModel",
      "state": {
       "_dom_classes": [],
       "_model_module": "@jupyter-widgets/controls",
       "_model_module_version": "1.5.0",
       "_model_name": "FloatProgressModel",
       "_view_count": null,
       "_view_module": "@jupyter-widgets/controls",
       "_view_module_version": "1.5.0",
       "_view_name": "ProgressView",
       "bar_style": "success",
       "description": "",
       "description_tooltip": null,
       "layout": "IPY_MODEL_4a1bbcf434e444b18308532301a35354",
       "max": 226150.0,
       "min": 0.0,
       "orientation": "horizontal",
       "style": "IPY_MODEL_24587b9540e84b8b9a789126faaf030f",
       "value": 226150.0
      }
     },
     "aa7da20024f044db8fcd9fc29ee691c1": {
      "model_module": "@jupyter-widgets/base",
      "model_module_version": "1.2.0",
      "model_name": "LayoutModel",
      "state": {
       "_model_module": "@jupyter-widgets/base",
       "_model_module_version": "1.2.0",
       "_model_name": "LayoutModel",
       "_view_count": null,
       "_view_module": "@jupyter-widgets/base",
       "_view_module_version": "1.2.0",
       "_view_name": "LayoutView",
       "align_content": null,
       "align_items": null,
       "align_self": null,
       "border": null,
       "bottom": null,
       "display": null,
       "flex": null,
       "flex_flow": null,
       "grid_area": null,
       "grid_auto_columns": null,
       "grid_auto_flow": null,
       "grid_auto_rows": null,
       "grid_column": null,
       "grid_gap": null,
       "grid_row": null,
       "grid_template_areas": null,
       "grid_template_columns": null,
       "grid_template_rows": null,
       "height": null,
       "justify_content": null,
       "justify_items": null,
       "left": null,
       "margin": null,
       "max_height": null,
       "max_width": null,
       "min_height": null,
       "min_width": null,
       "object_fit": null,
       "object_position": null,
       "order": null,
       "overflow": null,
       "overflow_x": null,
       "overflow_y": null,
       "padding": null,
       "right": null,
       "top": null,
       "visibility": null,
       "width": null
      }
     },
     "aedf37d4f4ba4e78afa6fd1feacf6595": {
      "model_module": "@jupyter-widgets/base",
      "model_module_version": "1.2.0",
      "model_name": "LayoutModel",
      "state": {
       "_model_module": "@jupyter-widgets/base",
       "_model_module_version": "1.2.0",
       "_model_name": "LayoutModel",
       "_view_count": null,
       "_view_module": "@jupyter-widgets/base",
       "_view_module_version": "1.2.0",
       "_view_name": "LayoutView",
       "align_content": null,
       "align_items": null,
       "align_self": null,
       "border": null,
       "bottom": null,
       "display": null,
       "flex": null,
       "flex_flow": null,
       "grid_area": null,
       "grid_auto_columns": null,
       "grid_auto_flow": null,
       "grid_auto_rows": null,
       "grid_column": null,
       "grid_gap": null,
       "grid_row": null,
       "grid_template_areas": null,
       "grid_template_columns": null,
       "grid_template_rows": null,
       "height": null,
       "justify_content": null,
       "justify_items": null,
       "left": null,
       "margin": null,
       "max_height": null,
       "max_width": null,
       "min_height": null,
       "min_width": null,
       "object_fit": null,
       "object_position": null,
       "order": null,
       "overflow": null,
       "overflow_x": null,
       "overflow_y": null,
       "padding": null,
       "right": null,
       "top": null,
       "visibility": null,
       "width": null
      }
     },
     "b7a05c78e60343d0b87f60a10b62b033": {
      "model_module": "@jupyter-widgets/base",
      "model_module_version": "1.2.0",
      "model_name": "LayoutModel",
      "state": {
       "_model_module": "@jupyter-widgets/base",
       "_model_module_version": "1.2.0",
       "_model_name": "LayoutModel",
       "_view_count": null,
       "_view_module": "@jupyter-widgets/base",
       "_view_module_version": "1.2.0",
       "_view_name": "LayoutView",
       "align_content": null,
       "align_items": null,
       "align_self": null,
       "border": null,
       "bottom": null,
       "display": null,
       "flex": null,
       "flex_flow": null,
       "grid_area": null,
       "grid_auto_columns": null,
       "grid_auto_flow": null,
       "grid_auto_rows": null,
       "grid_column": null,
       "grid_gap": null,
       "grid_row": null,
       "grid_template_areas": null,
       "grid_template_columns": null,
       "grid_template_rows": null,
       "height": null,
       "justify_content": null,
       "justify_items": null,
       "left": null,
       "margin": null,
       "max_height": null,
       "max_width": null,
       "min_height": null,
       "min_width": null,
       "object_fit": null,
       "object_position": null,
       "order": null,
       "overflow": null,
       "overflow_x": null,
       "overflow_y": null,
       "padding": null,
       "right": null,
       "top": null,
       "visibility": null,
       "width": null
      }
     },
     "c865fffbae4f4cbe88944ee6f1e2539c": {
      "model_module": "@jupyter-widgets/base",
      "model_module_version": "1.2.0",
      "model_name": "LayoutModel",
      "state": {
       "_model_module": "@jupyter-widgets/base",
       "_model_module_version": "1.2.0",
       "_model_name": "LayoutModel",
       "_view_count": null,
       "_view_module": "@jupyter-widgets/base",
       "_view_module_version": "1.2.0",
       "_view_name": "LayoutView",
       "align_content": null,
       "align_items": null,
       "align_self": null,
       "border": null,
       "bottom": null,
       "display": null,
       "flex": null,
       "flex_flow": null,
       "grid_area": null,
       "grid_auto_columns": null,
       "grid_auto_flow": null,
       "grid_auto_rows": null,
       "grid_column": null,
       "grid_gap": null,
       "grid_row": null,
       "grid_template_areas": null,
       "grid_template_columns": null,
       "grid_template_rows": null,
       "height": null,
       "justify_content": null,
       "justify_items": null,
       "left": null,
       "margin": null,
       "max_height": null,
       "max_width": null,
       "min_height": null,
       "min_width": null,
       "object_fit": null,
       "object_position": null,
       "order": null,
       "overflow": null,
       "overflow_x": null,
       "overflow_y": null,
       "padding": null,
       "right": null,
       "top": null,
       "visibility": null,
       "width": null
      }
     },
     "d40b23c07df044b38a80f83c5d45d820": {
      "model_module": "@jupyter-widgets/base",
      "model_module_version": "1.2.0",
      "model_name": "LayoutModel",
      "state": {
       "_model_module": "@jupyter-widgets/base",
       "_model_module_version": "1.2.0",
       "_model_name": "LayoutModel",
       "_view_count": null,
       "_view_module": "@jupyter-widgets/base",
       "_view_module_version": "1.2.0",
       "_view_name": "LayoutView",
       "align_content": null,
       "align_items": null,
       "align_self": null,
       "border": null,
       "bottom": null,
       "display": null,
       "flex": null,
       "flex_flow": null,
       "grid_area": null,
       "grid_auto_columns": null,
       "grid_auto_flow": null,
       "grid_auto_rows": null,
       "grid_column": null,
       "grid_gap": null,
       "grid_row": null,
       "grid_template_areas": null,
       "grid_template_columns": null,
       "grid_template_rows": null,
       "height": null,
       "justify_content": null,
       "justify_items": null,
       "left": null,
       "margin": null,
       "max_height": null,
       "max_width": null,
       "min_height": null,
       "min_width": null,
       "object_fit": null,
       "object_position": null,
       "order": null,
       "overflow": null,
       "overflow_x": null,
       "overflow_y": null,
       "padding": null,
       "right": null,
       "top": null,
       "visibility": null,
       "width": null
      }
     },
     "d926941483d44e51888d09ef4678ef6a": {
      "model_module": "@jupyter-widgets/base",
      "model_module_version": "1.2.0",
      "model_name": "LayoutModel",
      "state": {
       "_model_module": "@jupyter-widgets/base",
       "_model_module_version": "1.2.0",
       "_model_name": "LayoutModel",
       "_view_count": null,
       "_view_module": "@jupyter-widgets/base",
       "_view_module_version": "1.2.0",
       "_view_name": "LayoutView",
       "align_content": null,
       "align_items": null,
       "align_self": null,
       "border": null,
       "bottom": null,
       "display": null,
       "flex": null,
       "flex_flow": null,
       "grid_area": null,
       "grid_auto_columns": null,
       "grid_auto_flow": null,
       "grid_auto_rows": null,
       "grid_column": null,
       "grid_gap": null,
       "grid_row": null,
       "grid_template_areas": null,
       "grid_template_columns": null,
       "grid_template_rows": null,
       "height": null,
       "justify_content": null,
       "justify_items": null,
       "left": null,
       "margin": null,
       "max_height": null,
       "max_width": null,
       "min_height": null,
       "min_width": null,
       "object_fit": null,
       "object_position": null,
       "order": null,
       "overflow": null,
       "overflow_x": null,
       "overflow_y": null,
       "padding": null,
       "right": null,
       "top": null,
       "visibility": null,
       "width": null
      }
     },
     "dc382e96131c4631bab41b89908202b9": {
      "model_module": "@jupyter-widgets/controls",
      "model_module_version": "1.5.0",
      "model_name": "DescriptionStyleModel",
      "state": {
       "_model_module": "@jupyter-widgets/controls",
       "_model_module_version": "1.5.0",
       "_model_name": "DescriptionStyleModel",
       "_view_count": null,
       "_view_module": "@jupyter-widgets/base",
       "_view_module_version": "1.2.0",
       "_view_name": "StyleView",
       "description_width": ""
      }
     },
     "eabc6bd77bcc4c1db3a9390f2390dcc3": {
      "model_module": "@jupyter-widgets/controls",
      "model_module_version": "1.5.0",
      "model_name": "DescriptionStyleModel",
      "state": {
       "_model_module": "@jupyter-widgets/controls",
       "_model_module_version": "1.5.0",
       "_model_name": "DescriptionStyleModel",
       "_view_count": null,
       "_view_module": "@jupyter-widgets/base",
       "_view_module_version": "1.2.0",
       "_view_name": "StyleView",
       "description_width": ""
      }
     },
     "f80945563a5d4f618377de2fdd08c293": {
      "model_module": "@jupyter-widgets/base",
      "model_module_version": "1.2.0",
      "model_name": "LayoutModel",
      "state": {
       "_model_module": "@jupyter-widgets/base",
       "_model_module_version": "1.2.0",
       "_model_name": "LayoutModel",
       "_view_count": null,
       "_view_module": "@jupyter-widgets/base",
       "_view_module_version": "1.2.0",
       "_view_name": "LayoutView",
       "align_content": null,
       "align_items": null,
       "align_self": null,
       "border": null,
       "bottom": null,
       "display": null,
       "flex": null,
       "flex_flow": null,
       "grid_area": null,
       "grid_auto_columns": null,
       "grid_auto_flow": null,
       "grid_auto_rows": null,
       "grid_column": null,
       "grid_gap": null,
       "grid_row": null,
       "grid_template_areas": null,
       "grid_template_columns": null,
       "grid_template_rows": null,
       "height": null,
       "justify_content": null,
       "justify_items": null,
       "left": null,
       "margin": null,
       "max_height": null,
       "max_width": null,
       "min_height": null,
       "min_width": null,
       "object_fit": null,
       "object_position": null,
       "order": null,
       "overflow": null,
       "overflow_x": null,
       "overflow_y": null,
       "padding": null,
       "right": null,
       "top": null,
       "visibility": null,
       "width": null
      }
     }
    },
    "version_major": 2,
    "version_minor": 0
   }
  }
 },
 "nbformat": 4,
 "nbformat_minor": 5
}
